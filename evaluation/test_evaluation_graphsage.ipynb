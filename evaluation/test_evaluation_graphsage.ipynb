{
 "cells": [
  {
   "cell_type": "code",
   "execution_count": 1,
   "metadata": {},
   "outputs": [
    {
     "name": "stderr",
     "output_type": "stream",
     "text": [
      "/Users/jackson/.pyenv/versions/3.11.3/envs/ml_project_3.11.3/lib/python3.11/site-packages/tqdm/auto.py:21: TqdmWarning: IProgress not found. Please update jupyter and ipywidgets. See https://ipywidgets.readthedocs.io/en/stable/user_install.html\n",
      "  from .autonotebook import tqdm as notebook_tqdm\n"
     ]
    }
   ],
   "source": [
    "import sys\n",
    "import os\n",
    "sys.path.append(os.path.join(os.path.abspath(''), '../'))\n",
    "\n",
    "from evaluation.evaluation_harness import TrainEvaluator\n",
    "from pprint import pprint\n",
    "\n",
    "from dataset.data_loader import DataLoader, playtime_forever_users_games_edge_scoring_function, LinearNormalizer, GaussianNormalizer, PercentileNormalizer, never_remove_edge, remove_zero_playtime_edge\n",
    "from models.graphsage_model import GraphSAGE"
   ]
  },
  {
   "cell_type": "code",
   "execution_count": 2,
   "metadata": {},
   "outputs": [],
   "source": [
    "def get_evaluator_metrics(evaluator):\n",
    "    evaluator.plot_top_N_recall_percentiles(10)\n",
    "    evaluator.plot_log_user_percentile_positional_error()\n",
    "    evaluator.compute_mean_positional_error()\n",
    "    evaluator.compute_top_N_recall(10)\n",
    "    evaluator.plot_roc_curve()\n",
    "    evaluator.compute_auc_roc()\n",
    "    evaluator.plot_user_rank_roc_curve()\n",
    "    evaluator.compute_user_rank_auc_roc()\n",
    "    evaluator.plot_top_N_hit_percentage_percentiles(10)\n",
    "    evaluator.compute_top_N_hit_percentage(10)\n",
    "    evaluator.plot_top_N_hit_percentage_percentiles(50)\n",
    "    evaluator.compute_top_N_hit_percentage(50)\n",
    "    evaluator.compute_top_N_recall(50)\n",
    "    evaluator.plot_top_N_recall_percentiles(50)"
   ]
  },
  {
   "cell_type": "code",
   "execution_count": 3,
   "metadata": {},
   "outputs": [],
   "source": [
    "# data_loader = DataLoader(users_games_edge_scoring_function=playtime_forever_users_games_edge_scoring_function,user_game_edge_embeddings=['playtime_forever'], users_games_edge_score_normalizers = [GaussianNormalizer(1.0, 1.0)], interactions_score_normalizers = [GaussianNormalizer(0.0, 1.0)], cache_local_dataset=True, game_embeddings=['name'])\n",
    "data_loader = DataLoader(users_games_edge_scoring_function=playtime_forever_users_games_edge_scoring_function, user_game_edge_embeddings=['playtime_forever'], users_games_edge_score_normalizers = [GaussianNormalizer(1.0, 1.0)], interactions_score_normalizers = [GaussianNormalizer(0.0, 1.0)], cache_local_dataset=True, game_embeddings=['numReviews', 'avgReviewScore', 'price', 'numFollowers', 'name'])\n",
    "# data_loader = DataLoader(users_games_edge_scoring_function=playtime_forever_users_games_edge_scoring_function, user_game_edge_embeddings=['playtime_forever'], users_games_edge_score_normalizers = [GaussianNormalizer(1.0, 1.0)], interactions_score_normalizers = [GaussianNormalizer(0.0, 1.0)], cache_local_dataset=True, game_embeddings=['numReviews', 'avgReviewScore', 'price', 'numFollowers', 'genres', 'tags', 'name'])\n",
    "data_loader.load_random_edge_train_test_split(train_percentage=0.8, test_percentage=0.2, seed=0)\n",
    "data_loader.save_data_loader_parameters('test_evaluation_data_loader_graphsage', overwrite=True)\n",
    "evaluator = TrainEvaluator(data_loader, top_N_games_to_eval = 500, num_users_to_eval=2000, seed=0, debug=True)"
   ]
  },
  {
   "cell_type": "code",
   "execution_count": 4,
   "metadata": {},
   "outputs": [
    {
     "name": "stdout",
     "output_type": "stream",
     "text": [
      "Preparing model.\n",
      "Total Learnable Parameters: 1730200\n"
     ]
    },
    {
     "name": "stderr",
     "output_type": "stream",
     "text": [
      "Training: 100%|██████████| 50/50 [44:51<00:00, 53.83s/it]\n"
     ]
    },
    {
     "name": "stdout",
     "output_type": "stream",
     "text": [
      "Done preparing model.\n",
      "Loading model: TEMP_evaluation_test_graphsage_dot_product_decoder_custom_neighbor_sampler_with_learned_game_embeddings_some_known_game_embeddings\n",
      "Doen loading model. TEMP_evaluation_test_graphsage_dot_product_decoder_custom_neighbor_sampler_with_learned_game_embeddings_some_known_game_embeddings\n",
      "Getting predictions.\n"
     ]
    },
    {
     "name": "stderr",
     "output_type": "stream",
     "text": [
      "User Predictions: 100%|██████████| 2000/2000 [05:24<00:00,  6.16it/s]\n"
     ]
    },
    {
     "name": "stdout",
     "output_type": "stream",
     "text": [
      "Done getting predictions.\n",
      "Appending dataframe information.\n",
      "Ranking top N.\n",
      "Done getting edge results.\n",
      "graphsage\n",
      "{'auc_roc': 0.37087772519402773,\n",
      " 'log_positional_error_percentiles_figure': <Figure size 640x480 with 1 Axes>,\n",
      " 'mean_positional_error': 21.24165799967712,\n",
      " 'roc_figure': <Figure size 640x480 with 1 Axes>,\n",
      " 'top_10_hit_percentage': 0.022426095820591234,\n",
      " 'top_10_hit_percentage_user_percentiles_figure': <Figure size 640x480 with 1 Axes>,\n",
      " 'top_10_hit_percentage_variance': 0.004721339212950088,\n",
      " 'top_10_recall': nan,\n",
      " 'top_10_recall_user_percentiles_figure': <Figure size 640x480 with 1 Axes>,\n",
      " 'top_10_recall_variance': nan,\n",
      " 'top_50_hit_percentage': 0.024067353752358835,\n",
      " 'top_50_hit_percentage_user_percentiles_figure': <Figure size 640x480 with 1 Axes>,\n",
      " 'top_50_hit_percentage_variance': 0.0032490310868831594,\n",
      " 'top_50_recall': nan,\n",
      " 'top_50_recall_user_percentiles_figure': <Figure size 640x480 with 1 Axes>,\n",
      " 'top_50_recall_variance': nan,\n",
      " 'user_rank_auc_roc': 0.2042476455626699,\n",
      " 'user_rank_auc_roc_variance': 1.0143109283554536e-06,\n",
      " 'user_rank_roc_figure': <Figure size 640x480 with 1 Axes>}\n",
      "\n"
     ]
    }
   ],
   "source": [
    "save_file_name = 'TEMP_evaluation_test_graphsage_dot_product_decoder_custom_neighbor_sampler_with_learned_game_embeddings_some_known_game_embeddings'\n",
    "graphsage_initializer = lambda: GraphSAGE(hidden_channels=50, game_embedding_size=50, aggr='mean', save_file_name=save_file_name, nn_save_name='best', num_epochs=50, batch_percent=0.1, learning_rate=1e-3, weight_decay=1e-10, seed=12412)\n",
    "evaluator.reset(graphsage_initializer, network_save_file = save_file_name)\n",
    "get_evaluator_metrics(evaluator)\n",
    "evaluator.save_metrics(save_file_name, overwrite=True)\n",
    "print(evaluator.model.name())\n",
    "pprint(evaluator.metrics)\n",
    "print()"
   ]
  },
  {
   "cell_type": "code",
   "execution_count": null,
   "metadata": {},
   "outputs": [],
   "source": []
  },
  {
   "cell_type": "code",
   "execution_count": null,
   "metadata": {},
   "outputs": [],
   "source": []
  }
 ],
 "metadata": {
  "kernelspec": {
   "display_name": "Python 3",
   "language": "python",
   "name": "python3"
  },
  "language_info": {
   "codemirror_mode": {
    "name": "ipython",
    "version": 3
   },
   "file_extension": ".py",
   "mimetype": "text/x-python",
   "name": "python",
   "nbconvert_exporter": "python",
   "pygments_lexer": "ipython3",
   "version": "3.11.3"
  }
 },
 "nbformat": 4,
 "nbformat_minor": 2
}
