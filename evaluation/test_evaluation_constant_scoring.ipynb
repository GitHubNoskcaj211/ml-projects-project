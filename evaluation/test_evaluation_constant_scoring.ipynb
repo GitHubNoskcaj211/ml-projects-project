{
 "cells": [
  {
   "cell_type": "code",
   "execution_count": 1,
   "metadata": {},
   "outputs": [],
   "source": [
    "import sys\n",
    "import os\n",
    "sys.path.append(os.path.join(os.path.abspath(''), '../'))\n",
    "\n",
    "from evaluation.evaluation_harness import TrainEvaluator\n",
    "from pprint import pprint\n",
    "\n",
    "from dataset.data_loader import DataLoader, constant_users_games_edge_scoring_function, playtime_forever_users_games_edge_scoring_function, LinearNormalizer, GaussianNormalizer, PercentileNormalizer, never_remove_edge, remove_zero_playtime_edge\n",
    "from models.random_model import RandomModel\n",
    "from models.common_neighbors_model import CommonNeighbors\n",
    "from models.popularity_model import GamePopularityModel\n",
    "from models.ncf_model import NCFModel"
   ]
  },
  {
   "cell_type": "code",
   "execution_count": 2,
   "metadata": {},
   "outputs": [],
   "source": [
    "data_loader = DataLoader(cache_local_dataset=True, users_games_edge_scoring_function = constant_users_games_edge_scoring_function, user_game_edge_embeddings = ['playtime_forever'], users_games_edge_score_normalizers = [], interactions_score_normalizers = [])\n",
    "data_loader.load_random_edge_train_test_split(train_percentage=0.8, test_percentage=0.2, seed=0)\n",
    "data_loader.save_data_loader_parameters('test_evaluation_constant_scoring', overwrite=True)\n",
    "evaluator = TrainEvaluator(data_loader, top_N_games_to_eval = 500, num_users_to_eval=10000, seed=0, debug=True)"
   ]
  },
  {
   "cell_type": "code",
   "execution_count": 3,
   "metadata": {},
   "outputs": [
    {
     "name": "stdout",
     "output_type": "stream",
     "text": [
      "Loading model: evaluation_test_random_model_constant_scoring\n",
      "Doen loading model. evaluation_test_random_model_constant_scoring\n",
      "Getting predictions.\n"
     ]
    },
    {
     "name": "stderr",
     "output_type": "stream",
     "text": [
      "User Predictions:   0%|          | 0/10000 [00:00<?, ?it/s]"
     ]
    },
    {
     "name": "stderr",
     "output_type": "stream",
     "text": [
      "User Predictions:   1%|▏         | 132/10000 [00:03<03:25, 48.00it/s]"
     ]
    }
   ],
   "source": [
    "random_model_initializer = lambda: RandomModel()\n",
    "evaluator.reset(random_model_initializer, network_save_file = 'evaluation_test_random_model_constant_scoring')\n",
    "evaluator.plot_top_N_recall_percentiles(10)\n",
    "evaluator.plot_log_user_percentile_positional_error()\n",
    "evaluator.compute_mean_positional_error()\n",
    "evaluator.compute_top_N_recall(10)\n",
    "evaluator.plot_roc_curve()\n",
    "evaluator.compute_auc_roc()\n",
    "evaluator.plot_user_rank_roc_curve()\n",
    "evaluator.compute_user_rank_auc_roc()\n",
    "evaluator.plot_top_N_hit_percentage_percentiles(10)\n",
    "evaluator.compute_top_N_hit_percentage(10)\n",
    "evaluator.plot_top_N_hit_percentage_percentiles(50)\n",
    "evaluator.compute_top_N_hit_percentage(50)\n",
    "evaluator.plot_top_N_recall_percentiles(50)\n",
    "evaluator.compute_top_N_recall(50)\n",
    "evaluator.save_metrics('test_random_model_constant_scoring', overwrite=True)\n",
    "print(evaluator.model.name())\n",
    "pprint(evaluator.metrics)\n",
    "print()"
   ]
  },
  {
   "cell_type": "code",
   "execution_count": null,
   "metadata": {},
   "outputs": [
    {
     "name": "stdout",
     "output_type": "stream",
     "text": [
      "Preparing model.\n",
      "Done preparing model.\n",
      "Getting predictions.\n"
     ]
    },
    {
     "name": "stderr",
     "output_type": "stream",
     "text": [
      "User Predictions: 100%|██████████| 10000/10000 [01:59<00:00, 83.42it/s]\n"
     ]
    },
    {
     "name": "stdout",
     "output_type": "stream",
     "text": [
      "Done getting predictions.\n",
      "Appending dataframe information.\n",
      "Ranking top N.\n",
      "Done getting edge results.\n",
      "game_popularity\n",
      "{'auc_roc': 0.5515575916825022,\n",
      " 'log_positional_error_percentiles_figure': <Figure size 640x480 with 1 Axes>,\n",
      " 'mean_positional_error': 20.082544640956726,\n",
      " 'roc_figure': <Figure size 640x480 with 1 Axes>,\n",
      " 'top_10_hit_percentage': 0.18882,\n",
      " 'top_10_hit_percentage_user_percentiles_figure': <Figure size 640x480 with 1 Axes>,\n",
      " 'top_10_recall': 0.03173301379601262,\n",
      " 'top_10_recall_user_percentiles_figure': <Figure size 640x480 with 1 Axes>,\n",
      " 'top_50_hit_percentage': 0.096736,\n",
      " 'top_50_hit_percentage_user_percentiles_figure': <Figure size 640x480 with 1 Axes>,\n",
      " 'top_50_recall': 0.08128706764566986,\n",
      " 'top_50_recall_user_percentiles_figure': <Figure size 640x480 with 1 Axes>,\n",
      " 'user_rank_auc_roc': 0.6601328958203395,\n",
      " 'user_rank_roc_figure': <Figure size 640x480 with 1 Axes>}\n",
      "\n"
     ]
    }
   ],
   "source": [
    "popularity_model_initializer = lambda: GamePopularityModel()\n",
    "evaluator.reset(popularity_model_initializer, network_save_file = 'evaluation_test_popularity_model_constant_scoring')\n",
    "evaluator.plot_top_N_recall_percentiles(10)\n",
    "evaluator.plot_log_user_percentile_positional_error()\n",
    "evaluator.compute_mean_positional_error()\n",
    "evaluator.compute_top_N_recall(10)\n",
    "evaluator.plot_roc_curve()\n",
    "evaluator.compute_auc_roc()\n",
    "evaluator.plot_user_rank_roc_curve()\n",
    "evaluator.compute_user_rank_auc_roc()\n",
    "evaluator.plot_top_N_hit_percentage_percentiles(10)\n",
    "evaluator.compute_top_N_hit_percentage(10)\n",
    "evaluator.plot_top_N_hit_percentage_percentiles(50)\n",
    "evaluator.compute_top_N_hit_percentage(50)\n",
    "evaluator.plot_top_N_recall_percentiles(50)\n",
    "evaluator.compute_top_N_recall(50)\n",
    "evaluator.save_metrics('test_popularity_model_constant_scoring', overwrite=True)\n",
    "print(evaluator.model.name())\n",
    "pprint(evaluator.metrics)\n",
    "print()"
   ]
  },
  {
   "cell_type": "code",
   "execution_count": null,
   "metadata": {},
   "outputs": [
    {
     "name": "stdout",
     "output_type": "stream",
     "text": [
      "Preparing model.\n",
      "Done preparing model.\n",
      "Getting predictions.\n"
     ]
    },
    {
     "name": "stderr",
     "output_type": "stream",
     "text": [
      "User Predictions: 100%|██████████| 10000/10000 [13:26<00:00, 12.40it/s]\n"
     ]
    },
    {
     "name": "stdout",
     "output_type": "stream",
     "text": [
      "Done getting predictions.\n",
      "Appending dataframe information.\n",
      "Ranking top N.\n",
      "Done getting edge results.\n",
      "common_neighbors\n",
      "{'auc_roc': 0.8799265782069502,\n",
      " 'log_positional_error_percentiles_figure': <Figure size 640x480 with 1 Axes>,\n",
      " 'mean_positional_error': 20.07915895684656,\n",
      " 'roc_figure': <Figure size 640x480 with 1 Axes>,\n",
      " 'top_10_hit_percentage': 0.2179069137462251,\n",
      " 'top_10_hit_percentage_user_percentiles_figure': <Figure size 640x480 with 1 Axes>,\n",
      " 'top_10_recall': 0.03650086466664538,\n",
      " 'top_10_recall_user_percentiles_figure': <Figure size 640x480 with 1 Axes>,\n",
      " 'top_50_hit_percentage': 0.11550331287949626,\n",
      " 'top_50_hit_percentage_user_percentiles_figure': <Figure size 640x480 with 1 Axes>,\n",
      " 'top_50_recall': 0.09673846733005394,\n",
      " 'top_50_recall_user_percentiles_figure': <Figure size 640x480 with 1 Axes>,\n",
      " 'user_rank_auc_roc': 0.6686303888129947,\n",
      " 'user_rank_roc_figure': <Figure size 640x480 with 1 Axes>}\n",
      "\n"
     ]
    }
   ],
   "source": [
    "common_neighbors_initializer = lambda: CommonNeighbors()\n",
    "evaluator.reset(common_neighbors_initializer, network_save_file = 'evaluation_test_common_neighbors_constant_scoring')\n",
    "evaluator.plot_top_N_recall_percentiles(10)\n",
    "evaluator.plot_log_user_percentile_positional_error()\n",
    "evaluator.compute_mean_positional_error()\n",
    "evaluator.compute_top_N_recall(10)\n",
    "evaluator.plot_roc_curve()\n",
    "evaluator.compute_auc_roc()\n",
    "evaluator.plot_user_rank_roc_curve()\n",
    "evaluator.compute_user_rank_auc_roc()\n",
    "evaluator.plot_top_N_hit_percentage_percentiles(10)\n",
    "evaluator.compute_top_N_hit_percentage(10)\n",
    "evaluator.plot_top_N_hit_percentage_percentiles(50)\n",
    "evaluator.compute_top_N_hit_percentage(50)\n",
    "evaluator.plot_top_N_recall_percentiles(50)\n",
    "evaluator.compute_top_N_recall(50)\n",
    "evaluator.save_metrics('test_common_neighbors_constant_scoring', overwrite=True)\n",
    "print(evaluator.model.name())\n",
    "pprint(evaluator.metrics)\n",
    "print()"
   ]
  },
  {
   "cell_type": "code",
   "execution_count": null,
   "metadata": {},
   "outputs": [
    {
     "name": "stdout",
     "output_type": "stream",
     "text": [
      "Preparing model.\n",
      "Known Game Embeddings:  []\n",
      "Known User Embeddings:  []\n",
      "Total Learnable Parameters: 11340200\n"
     ]
    },
    {
     "name": "stderr",
     "output_type": "stream",
     "text": [
      "Training: 100%|██████████| 40/40 [04:05<00:00,  6.14s/it]\n"
     ]
    },
    {
     "name": "stdout",
     "output_type": "stream",
     "text": [
      "Done preparing model.\n",
      "Getting predictions.\n"
     ]
    },
    {
     "name": "stderr",
     "output_type": "stream",
     "text": [
      "User Predictions: 100%|██████████| 10000/10000 [10:54<00:00, 15.28it/s]\n"
     ]
    },
    {
     "name": "stdout",
     "output_type": "stream",
     "text": [
      "Done getting predictions.\n",
      "Appending dataframe information.\n",
      "Ranking top N.\n",
      "Done getting edge results.\n",
      "neural_collborative_filtering_cf\n",
      "{'auc_roc': 0.4623767901098482,\n",
      " 'log_positional_error_percentiles_figure': <Figure size 640x480 with 1 Axes>,\n",
      " 'mean_positional_error': 20.078981029572148,\n",
      " 'roc_figure': <Figure size 640x480 with 1 Axes>,\n",
      " 'top_10_hit_percentage': 0.00219,\n",
      " 'top_10_hit_percentage_user_percentiles_figure': <Figure size 640x480 with 1 Axes>,\n",
      " 'top_10_recall': 0.00036805052543834147,\n",
      " 'top_10_recall_user_percentiles_figure': <Figure size 640x480 with 1 Axes>,\n",
      " 'top_50_hit_percentage': 0.002054,\n",
      " 'top_50_hit_percentage_user_percentiles_figure': <Figure size 640x480 with 1 Axes>,\n",
      " 'top_50_recall': 0.001725972098745099,\n",
      " 'top_50_recall_user_percentiles_figure': <Figure size 640x480 with 1 Axes>,\n",
      " 'user_rank_auc_roc': 0.5021355295771153,\n",
      " 'user_rank_roc_figure': <Figure size 640x480 with 1 Axes>}\n",
      "\n"
     ]
    }
   ],
   "source": [
    "cf_initializer = lambda: NCFModel(num_epochs = 40, embedding_size = 100, batch_percent = 0.1, learning_rate = 1e-2, weight_decay=1e-3, mlp_hidden_layer_sizes = [], seed=0, model_type='cf', fine_tune_num_epochs=1, fine_tune_learning_rate=1e-1, fine_tune_weight_decay=1e-5)\n",
    "evaluator.reset(cf_initializer, network_save_file = 'evaluation_test_cf_constant_scoring')\n",
    "evaluator.plot_top_N_recall_percentiles(10)\n",
    "evaluator.plot_log_user_percentile_positional_error()\n",
    "evaluator.compute_mean_positional_error()\n",
    "evaluator.compute_top_N_recall(10)\n",
    "evaluator.plot_roc_curve()\n",
    "evaluator.compute_auc_roc()\n",
    "evaluator.plot_user_rank_roc_curve()\n",
    "evaluator.compute_user_rank_auc_roc()\n",
    "evaluator.plot_top_N_hit_percentage_percentiles(10)\n",
    "evaluator.compute_top_N_hit_percentage(10)\n",
    "evaluator.plot_top_N_hit_percentage_percentiles(50)\n",
    "evaluator.compute_top_N_hit_percentage(50)\n",
    "evaluator.plot_top_N_recall_percentiles(50)\n",
    "evaluator.compute_top_N_recall(50)\n",
    "evaluator.save_metrics('test_cf_constant_scoring', overwrite=True)\n",
    "print(evaluator.model.name())\n",
    "pprint(evaluator.metrics)\n",
    "print()"
   ]
  },
  {
   "cell_type": "code",
   "execution_count": null,
   "metadata": {},
   "outputs": [
    {
     "name": "stdout",
     "output_type": "stream",
     "text": [
      "Preparing model.\n",
      "Known Game Embeddings:  []\n",
      "Known User Embeddings:  []\n",
      "Total Learnable Parameters: 11340301\n"
     ]
    },
    {
     "name": "stderr",
     "output_type": "stream",
     "text": [
      "Training: 100%|██████████| 40/40 [14:48<00:00, 22.22s/it]\n"
     ]
    },
    {
     "name": "stdout",
     "output_type": "stream",
     "text": [
      "Done preparing model.\n",
      "Getting predictions.\n"
     ]
    },
    {
     "name": "stderr",
     "output_type": "stream",
     "text": [
      "User Predictions: 100%|██████████| 10000/10000 [15:31<00:00, 10.74it/s]\n"
     ]
    },
    {
     "name": "stdout",
     "output_type": "stream",
     "text": [
      "Done getting predictions.\n",
      "Appending dataframe information.\n",
      "Ranking top N.\n",
      "Done getting edge results.\n",
      "neural_collborative_filtering_gcf\n",
      "{'auc_roc': 0.5293704980804106,\n",
      " 'log_positional_error_percentiles_figure': <Figure size 640x480 with 1 Axes>,\n",
      " 'mean_positional_error': 20.078980348385315,\n",
      " 'roc_figure': <Figure size 640x480 with 1 Axes>,\n",
      " 'top_10_hit_percentage': 0.00235,\n",
      " 'top_10_hit_percentage_user_percentiles_figure': <Figure size 640x480 with 1 Axes>,\n",
      " 'top_10_recall': 0.0003949400615434258,\n",
      " 'top_10_recall_user_percentiles_figure': <Figure size 640x480 with 1 Axes>,\n",
      " 'top_50_hit_percentage': 0.002225995548008904,\n",
      " 'top_50_hit_percentage_user_percentiles_figure': <Figure size 640x480 with 1 Axes>,\n",
      " 'top_50_recall': 0.001870503355309927,\n",
      " 'top_50_recall_user_percentiles_figure': <Figure size 640x480 with 1 Axes>,\n",
      " 'user_rank_auc_roc': 0.4991146466817826,\n",
      " 'user_rank_roc_figure': <Figure size 640x480 with 1 Axes>}\n",
      "\n"
     ]
    }
   ],
   "source": [
    "gcf_initializer = lambda: NCFModel(num_epochs = 40, embedding_size = 100, batch_percent = 0.1, learning_rate = 1e-3, mlp_hidden_layer_sizes = [], seed=0, model_type='gcf', fine_tune_num_epochs=1, fine_tune_learning_rate=1e-1, fine_tune_weight_decay=1e-5)\n",
    "evaluator.reset(gcf_initializer, network_save_file = 'evaluation_test_gcf_constant_scoring')\n",
    "evaluator.plot_top_N_recall_percentiles(10)\n",
    "evaluator.plot_log_user_percentile_positional_error()\n",
    "evaluator.compute_mean_positional_error()\n",
    "evaluator.compute_top_N_recall(10)\n",
    "evaluator.plot_roc_curve()\n",
    "evaluator.compute_auc_roc()\n",
    "evaluator.plot_user_rank_roc_curve()\n",
    "evaluator.compute_user_rank_auc_roc()\n",
    "evaluator.plot_top_N_hit_percentage_percentiles(10)\n",
    "evaluator.compute_top_N_hit_percentage(10)\n",
    "evaluator.plot_top_N_hit_percentage_percentiles(50)\n",
    "evaluator.compute_top_N_hit_percentage(50)\n",
    "evaluator.plot_top_N_recall_percentiles(50)\n",
    "evaluator.compute_top_N_recall(50)\n",
    "evaluator.save_metrics('test_gcf_constant_scoring', overwrite=True)\n",
    "print(evaluator.model.name())\n",
    "pprint(evaluator.metrics)\n",
    "print()"
   ]
  },
  {
   "cell_type": "code",
   "execution_count": null,
   "metadata": {},
   "outputs": [
    {
     "name": "stdout",
     "output_type": "stream",
     "text": [
      "Preparing model.\n",
      "Known Game Embeddings:  []\n",
      "Known User Embeddings:  []\n",
      "Total Learnable Parameters: 11399081\n"
     ]
    },
    {
     "name": "stderr",
     "output_type": "stream",
     "text": [
      "Training: 100%|██████████| 40/40 [45:57<00:00, 68.93s/it]\n"
     ]
    },
    {
     "name": "stdout",
     "output_type": "stream",
     "text": [
      "Done preparing model.\n",
      "Getting predictions.\n"
     ]
    },
    {
     "name": "stderr",
     "output_type": "stream",
     "text": [
      "User Predictions: 100%|██████████| 10000/10000 [18:44<00:00,  8.89it/s] \n"
     ]
    },
    {
     "name": "stdout",
     "output_type": "stream",
     "text": [
      "Done getting predictions.\n",
      "Appending dataframe information.\n",
      "Ranking top N.\n",
      "Done getting edge results.\n",
      "neural_collborative_filtering_mlp\n",
      "{'auc_roc': 0.506976310877968,\n",
      " 'log_positional_error_percentiles_figure': <Figure size 640x480 with 1 Axes>,\n",
      " 'mean_positional_error': 20.07897074725487,\n",
      " 'roc_figure': <Figure size 640x480 with 1 Axes>,\n",
      " 'top_10_hit_percentage': 0.0008699130086991301,\n",
      " 'top_10_hit_percentage_user_percentiles_figure': <Figure size 640x480 with 1 Axes>,\n",
      " 'top_10_recall': 0.00014621185257139593,\n",
      " 'top_10_recall_user_percentiles_figure': <Figure size 640x480 with 1 Axes>,\n",
      " 'top_50_hit_percentage': 0.0010659509662555523,\n",
      " 'top_50_hit_percentage_user_percentiles_figure': <Figure size 640x480 with 1 Axes>,\n",
      " 'top_50_recall': 0.000895757671500621,\n",
      " 'top_50_recall_user_percentiles_figure': <Figure size 640x480 with 1 Axes>,\n",
      " 'user_rank_auc_roc': 0.4733045404530881,\n",
      " 'user_rank_roc_figure': <Figure size 640x480 with 1 Axes>}\n",
      "\n"
     ]
    }
   ],
   "source": [
    "mlp_initializer = lambda: NCFModel(num_epochs = 40, embedding_size = 100, batch_percent = 0.1, learning_rate = 1e-3, weight_decay=1e-3, mlp_hidden_layer_sizes = [128, 128, 128], seed=0, model_type='mlp', fine_tune_num_epochs=1, fine_tune_learning_rate=1e-1, fine_tune_weight_decay=1e-5)\n",
    "evaluator.reset(mlp_initializer, network_save_file = 'evaluation_test_mlp_constant_scoring')\n",
    "evaluator.plot_top_N_recall_percentiles(10)\n",
    "evaluator.plot_log_user_percentile_positional_error()\n",
    "evaluator.compute_mean_positional_error()\n",
    "evaluator.compute_top_N_recall(10)\n",
    "evaluator.plot_roc_curve()\n",
    "evaluator.compute_auc_roc()\n",
    "evaluator.plot_user_rank_roc_curve()\n",
    "evaluator.compute_user_rank_auc_roc()\n",
    "evaluator.plot_top_N_hit_percentage_percentiles(10)\n",
    "evaluator.compute_top_N_hit_percentage(10)\n",
    "evaluator.plot_top_N_hit_percentage_percentiles(50)\n",
    "evaluator.compute_top_N_hit_percentage(50)\n",
    "evaluator.plot_top_N_recall_percentiles(50)\n",
    "evaluator.compute_top_N_recall(50)\n",
    "evaluator.save_metrics('test_mlp_constant_scoring', overwrite=True)\n",
    "print(evaluator.model.name())\n",
    "pprint(evaluator.metrics)\n",
    "print()"
   ]
  },
  {
   "cell_type": "code",
   "execution_count": null,
   "metadata": {},
   "outputs": [
    {
     "name": "stdout",
     "output_type": "stream",
     "text": [
      "Preparing model.\n",
      "Known Game Embeddings:  []\n",
      "Known User Embeddings:  []\n",
      "Total Learnable Parameters: 22739381\n"
     ]
    },
    {
     "name": "stderr",
     "output_type": "stream",
     "text": [
      "Training: 100%|██████████| 40/40 [1:38:23<00:00, 147.59s/it]\n"
     ]
    },
    {
     "name": "stdout",
     "output_type": "stream",
     "text": [
      "Done preparing model.\n",
      "Getting predictions.\n"
     ]
    },
    {
     "name": "stderr",
     "output_type": "stream",
     "text": [
      "User Predictions: 100%|██████████| 10000/10000 [20:47<00:00,  8.02it/s] \n"
     ]
    },
    {
     "name": "stdout",
     "output_type": "stream",
     "text": [
      "Done getting predictions.\n",
      "Appending dataframe information.\n",
      "Ranking top N.\n",
      "Done getting edge results.\n",
      "neural_collborative_filtering_ncf\n",
      "{'auc_roc': 0.46652350597084175,\n",
      " 'log_positional_error_percentiles_figure': <Figure size 640x480 with 1 Axes>,\n",
      " 'mean_positional_error': 20.078987452838017,\n",
      " 'roc_figure': <Figure size 640x480 with 1 Axes>,\n",
      " 'top_10_hit_percentage': 0.0018199818001819982,\n",
      " 'top_10_hit_percentage_user_percentiles_figure': <Figure size 640x480 with 1 Axes>,\n",
      " 'top_10_recall': 0.000305868473195334,\n",
      " 'top_10_recall_user_percentiles_figure': <Figure size 640x480 with 1 Axes>,\n",
      " 'top_50_hit_percentage': 0.0018179781842617888,\n",
      " 'top_50_hit_percentage_user_percentiles_figure': <Figure size 640x480 with 1 Axes>,\n",
      " 'top_50_recall': 0.0015276617699701023,\n",
      " 'top_50_recall_user_percentiles_figure': <Figure size 640x480 with 1 Axes>,\n",
      " 'user_rank_auc_roc': 0.4958534567425242,\n",
      " 'user_rank_roc_figure': <Figure size 640x480 with 1 Axes>}\n",
      "\n"
     ]
    }
   ],
   "source": [
    "ncf_initializer = lambda: NCFModel(num_epochs = 40, embedding_size = 100, batch_percent = 0.1, learning_rate = 1e-3, weight_decay=1e-3, mlp_hidden_layer_sizes = [128, 128, 128], seed=0, model_type='ncf', fine_tune_num_epochs=1, fine_tune_learning_rate=1e-1, fine_tune_weight_decay=1e-5)\n",
    "evaluator.reset(ncf_initializer, network_save_file = 'evaluation_test_ncf_constant_scoring')\n",
    "evaluator.plot_top_N_recall_percentiles(10)\n",
    "evaluator.plot_log_user_percentile_positional_error()\n",
    "evaluator.compute_mean_positional_error()\n",
    "evaluator.compute_top_N_recall(10)\n",
    "evaluator.plot_roc_curve()\n",
    "evaluator.compute_auc_roc()\n",
    "evaluator.plot_user_rank_roc_curve()\n",
    "evaluator.compute_user_rank_auc_roc()\n",
    "evaluator.plot_top_N_hit_percentage_percentiles(10)\n",
    "evaluator.compute_top_N_hit_percentage(10)\n",
    "evaluator.plot_top_N_hit_percentage_percentiles(50)\n",
    "evaluator.compute_top_N_hit_percentage(50)\n",
    "evaluator.plot_top_N_recall_percentiles(50)\n",
    "evaluator.compute_top_N_recall(50)\n",
    "evaluator.save_metrics('test_ncf_constant_scoring', overwrite=True)\n",
    "print(evaluator.model.name())\n",
    "pprint(evaluator.metrics)\n",
    "print()"
   ]
  },
  {
   "cell_type": "code",
   "execution_count": null,
   "metadata": {},
   "outputs": [],
   "source": []
  }
 ],
 "metadata": {
  "kernelspec": {
   "display_name": "Python 3",
   "language": "python",
   "name": "python3"
  },
  "language_info": {
   "codemirror_mode": {
    "name": "ipython",
    "version": 3
   },
   "file_extension": ".py",
   "mimetype": "text/x-python",
   "name": "python",
   "nbconvert_exporter": "python",
   "pygments_lexer": "ipython3",
   "version": "3.11.3"
  }
 },
 "nbformat": 4,
 "nbformat_minor": 2
}
