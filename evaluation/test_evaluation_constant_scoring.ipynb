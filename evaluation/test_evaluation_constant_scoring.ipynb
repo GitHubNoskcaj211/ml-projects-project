{
 "cells": [
  {
   "cell_type": "code",
   "execution_count": 1,
   "metadata": {},
   "outputs": [],
   "source": [
    "import sys\n",
    "import os\n",
    "sys.path.append(os.path.join(os.path.abspath(''), '../'))\n",
    "\n",
    "from evaluation.evaluation_harness import TrainEvaluator\n",
    "from pprint import pprint\n",
    "\n",
    "from dataset.data_loader import DataLoader, constant_users_games_edge_scoring_function, playtime_forever_users_games_edge_scoring_function, LinearNormalizer, GaussianNormalizer, PercentileNormalizer, never_remove_edge, remove_zero_playtime_edge\n",
    "from models.random_model import RandomModel\n",
    "from models.common_neighbors_model import CommonNeighbors\n",
    "from models.popularity_model import GamePopularityModel\n",
    "from models.ncf_model import NCFModel"
   ]
  },
  {
   "cell_type": "code",
   "execution_count": 2,
   "metadata": {},
   "outputs": [],
   "source": [
    "data_loader = DataLoader(cache_local_dataset=True, users_games_edge_scoring_function = constant_users_games_edge_scoring_function, score_normalizers = [GaussianNormalizer(1.0, 1.0)])\n",
    "data_loader.load_random_edge_train_test_split(train_percentage=0.8, test_percentage=0.2, seed=0)\n",
    "\n",
    "evaluator = TrainEvaluator(data_loader, top_N_games_to_eval = 500, num_users_to_eval=10000, seed=0, debug=True)"
   ]
  },
  {
   "cell_type": "code",
   "execution_count": 4,
   "metadata": {},
   "outputs": [
    {
     "name": "stdout",
     "output_type": "stream",
     "text": [
      "Loading model: evaluation_test_random_model\n",
      "Doen loading model. evaluation_test_random_model\n",
      "Getting predictions.\n"
     ]
    },
    {
     "name": "stderr",
     "output_type": "stream",
     "text": [
      "User Predictions: 100%|██████████| 10000/10000 [03:02<00:00, 54.90it/s]\n"
     ]
    },
    {
     "name": "stdout",
     "output_type": "stream",
     "text": [
      "Done getting predictions.\n",
      "Appending dataframe information.\n",
      "Ranking top N.\n",
      "Done getting edge results.\n",
      "random\n",
      "{'auc_roc': 0.43892371584260326,\n",
      " 'log_positional_error_percentiles_figure': <Figure size 640x480 with 1 Axes>,\n",
      " 'mean_positional_error': 20.88192135711662,\n",
      " 'roc_figure': <Figure size 640x480 with 1 Axes>,\n",
      " 'top_10_recall': 0.0003529251613792315,\n",
      " 'top_10_recall_user_percentiles_figure': <Figure size 640x480 with 1 Axes>,\n",
      " 'user_rank_auc_roc': 0.5003802848169288,\n",
      " 'user_rank_roc_figure': <Figure size 640x480 with 1 Axes>}\n",
      "\n"
     ]
    }
   ],
   "source": [
    "random_model_initializer = lambda: RandomModel()\n",
    "evaluator.reset(random_model_initializer, network_save_file = 'evaluation_test_random_model_constant_scoring')\n",
    "evaluator.plot_top_N_recall_percentiles(10)\n",
    "evaluator.plot_log_user_percentile_positional_error()\n",
    "evaluator.compute_mean_positional_error()\n",
    "evaluator.compute_top_N_recall(10)\n",
    "evaluator.plot_roc_curve()\n",
    "evaluator.compute_auc_roc()\n",
    "evaluator.plot_user_rank_roc_curve()\n",
    "evaluator.compute_user_rank_auc_roc()\n",
    "evaluator.plot_top_N_hit_percentage_percentiles(10)\n",
    "evaluator.compute_top_N_hit_percentage(10)\n",
    "evaluator.plot_top_N_hit_percentage_percentiles(50)\n",
    "evaluator.compute_top_N_hit_percentage(50)\n",
    "evaluator.plot_top_N_recall_percentiles(50)\n",
    "evaluator.compute_top_N_recall(50)\n",
    "evaluator.save_metrics('test_random_model_constant_scoring', overwrite=True)\n",
    "print(evaluator.model.name())\n",
    "pprint(evaluator.metrics)\n",
    "print()"
   ]
  },
  {
   "cell_type": "code",
   "execution_count": 3,
   "metadata": {},
   "outputs": [
    {
     "name": "stdout",
     "output_type": "stream",
     "text": [
      "Loading model: evaluation_test_popularity_model\n",
      "Doen loading model. evaluation_test_popularity_model\n",
      "Getting predictions.\n"
     ]
    },
    {
     "name": "stderr",
     "output_type": "stream",
     "text": [
      "User Predictions:   0%|          | 0/10000 [00:00<?, ?it/s]"
     ]
    },
    {
     "name": "stderr",
     "output_type": "stream",
     "text": [
      "User Predictions: 100%|██████████| 10000/10000 [01:24<00:00, 117.69it/s]\n"
     ]
    },
    {
     "name": "stdout",
     "output_type": "stream",
     "text": [
      "Done getting predictions.\n",
      "Appending dataframe information.\n",
      "Ranking top N.\n",
      "Done getting edge results.\n",
      "game_popularity\n",
      "{'auc_roc': 0.5515575916825022,\n",
      " 'log_positional_error_percentiles_figure': <Figure size 640x480 with 1 Axes>,\n",
      " 'mean_positional_error': 18.282347335138635,\n",
      " 'roc_figure': <Figure size 640x480 with 1 Axes>,\n",
      " 'top_10_recall': 0.03173301379601262,\n",
      " 'top_10_recall_user_percentiles_figure': <Figure size 640x480 with 1 Axes>,\n",
      " 'user_rank_auc_roc': 0.6601328958203395,\n",
      " 'user_rank_roc_figure': <Figure size 640x480 with 1 Axes>}\n",
      "\n"
     ]
    }
   ],
   "source": [
    "popularity_model_initializer = lambda: GamePopularityModel()\n",
    "evaluator.reset(popularity_model_initializer, network_save_file = 'evaluation_test_popularity_model_constant_scoring')\n",
    "evaluator.plot_top_N_recall_percentiles(10)\n",
    "evaluator.plot_log_user_percentile_positional_error()\n",
    "evaluator.compute_mean_positional_error()\n",
    "evaluator.compute_top_N_recall(10)\n",
    "evaluator.plot_roc_curve()\n",
    "evaluator.compute_auc_roc()\n",
    "evaluator.plot_user_rank_roc_curve()\n",
    "evaluator.compute_user_rank_auc_roc()\n",
    "evaluator.plot_top_N_hit_percentage_percentiles(10)\n",
    "evaluator.compute_top_N_hit_percentage(10)\n",
    "evaluator.plot_top_N_hit_percentage_percentiles(50)\n",
    "evaluator.compute_top_N_hit_percentage(50)\n",
    "evaluator.plot_top_N_recall_percentiles(50)\n",
    "evaluator.compute_top_N_recall(50)\n",
    "evaluator.save_metrics('test_popularity_model_constant_scoring', overwrite=True)\n",
    "print(evaluator.model.name())\n",
    "pprint(evaluator.metrics)\n",
    "print()"
   ]
  },
  {
   "cell_type": "code",
   "execution_count": 5,
   "metadata": {},
   "outputs": [
    {
     "name": "stdout",
     "output_type": "stream",
     "text": [
      "Loading model: evaluation_test_common_neighbors\n",
      "Doen loading model. evaluation_test_common_neighbors\n",
      "Getting predictions.\n"
     ]
    },
    {
     "name": "stderr",
     "output_type": "stream",
     "text": [
      "User Predictions: 100%|██████████| 10000/10000 [11:49<00:00, 14.09it/s]\n"
     ]
    },
    {
     "name": "stdout",
     "output_type": "stream",
     "text": [
      "Done getting predictions.\n",
      "Appending dataframe information.\n",
      "Ranking top N.\n",
      "Done getting edge results.\n",
      "common_neighbors\n",
      "{'auc_roc': 0.8613416577261556,\n",
      " 'log_positional_error_percentiles_figure': <Figure size 640x480 with 1 Axes>,\n",
      " 'mean_positional_error': 17.23173562413738,\n",
      " 'roc_figure': <Figure size 640x480 with 1 Axes>,\n",
      " 'top_10_recall': 0.029543197199454814,\n",
      " 'top_10_recall_user_percentiles_figure': <Figure size 640x480 with 1 Axes>,\n",
      " 'user_rank_auc_roc': 0.6511261844784793,\n",
      " 'user_rank_roc_figure': <Figure size 640x480 with 1 Axes>}\n",
      "\n"
     ]
    }
   ],
   "source": [
    "common_neighbors_initializer = lambda: CommonNeighbors()\n",
    "evaluator.reset(common_neighbors_initializer, network_save_file = 'evaluation_test_common_neighbors_constant_scoring')\n",
    "evaluator.plot_top_N_recall_percentiles(10)\n",
    "evaluator.plot_log_user_percentile_positional_error()\n",
    "evaluator.compute_mean_positional_error()\n",
    "evaluator.compute_top_N_recall(10)\n",
    "evaluator.plot_roc_curve()\n",
    "evaluator.compute_auc_roc()\n",
    "evaluator.plot_user_rank_roc_curve()\n",
    "evaluator.compute_user_rank_auc_roc()\n",
    "evaluator.plot_top_N_hit_percentage_percentiles(10)\n",
    "evaluator.compute_top_N_hit_percentage(10)\n",
    "evaluator.plot_top_N_hit_percentage_percentiles(50)\n",
    "evaluator.compute_top_N_hit_percentage(50)\n",
    "evaluator.plot_top_N_recall_percentiles(50)\n",
    "evaluator.compute_top_N_recall(50)\n",
    "evaluator.save_metrics('test_common_neighbors_constant_scoring', overwrite=True)\n",
    "print(evaluator.model.name())\n",
    "pprint(evaluator.metrics)\n",
    "print()"
   ]
  },
  {
   "cell_type": "code",
   "execution_count": 3,
   "metadata": {},
   "outputs": [
    {
     "name": "stdout",
     "output_type": "stream",
     "text": [
      "Loading model: evaluation_test_cf\n",
      "Doen loading model. evaluation_test_cf\n",
      "Getting predictions.\n"
     ]
    },
    {
     "name": "stderr",
     "output_type": "stream",
     "text": [
      "User Predictions: 100%|██████████| 10000/10000 [10:50<00:00, 15.38it/s]\n"
     ]
    },
    {
     "name": "stdout",
     "output_type": "stream",
     "text": [
      "Done getting predictions.\n",
      "Appending dataframe information.\n",
      "Ranking top N.\n",
      "Done getting edge results.\n",
      "neural_collborative_filtering_cf\n",
      "{'auc_roc': 0.46228022941499874,\n",
      " 'log_positional_error_percentiles_figure': <Figure size 640x480 with 1 Axes>,\n",
      " 'mean_positional_error': 21.01569287080213,\n",
      " 'roc_figure': <Figure size 640x480 with 1 Axes>,\n",
      " 'top_10_hit_percentage': 0.00218,\n",
      " 'top_10_hit_percentage_user_percentiles_figure': <Figure size 640x480 with 1 Axes>,\n",
      " 'top_10_recall': 0.0003663699294317737,\n",
      " 'top_10_recall_user_percentiles_figure': <Figure size 640x480 with 1 Axes>,\n",
      " 'user_rank_auc_roc': 0.5022202157374727,\n",
      " 'user_rank_roc_figure': <Figure size 640x480 with 1 Axes>}\n",
      "\n"
     ]
    }
   ],
   "source": [
    "cf_initializer = lambda: NCFModel(num_epochs = 40, embedding_size = 100, batch_percent = 0.1, learning_rate = 1e-2, weight_decay=1e-3, mlp_hidden_layer_sizes = [], seed=0, model_type='cf', fine_tune_num_epochs=1, fine_tune_learning_rate=1e-1, fine_tune_weight_decay=1e-5)\n",
    "evaluator.reset(cf_initializer, network_save_file = 'evaluation_test_cf_constant_scoring')\n",
    "evaluator.plot_top_N_recall_percentiles(10)\n",
    "evaluator.plot_log_user_percentile_positional_error()\n",
    "evaluator.compute_mean_positional_error()\n",
    "evaluator.compute_top_N_recall(10)\n",
    "evaluator.plot_roc_curve()\n",
    "evaluator.compute_auc_roc()\n",
    "evaluator.plot_user_rank_roc_curve()\n",
    "evaluator.compute_user_rank_auc_roc()\n",
    "evaluator.plot_top_N_hit_percentage_percentiles(10)\n",
    "evaluator.compute_top_N_hit_percentage(10)\n",
    "evaluator.plot_top_N_hit_percentage_percentiles(50)\n",
    "evaluator.compute_top_N_hit_percentage(50)\n",
    "evaluator.plot_top_N_recall_percentiles(50)\n",
    "evaluator.compute_top_N_recall(50)\n",
    "evaluator.save_metrics('test_cf_constant_scoring', overwrite=True)\n",
    "print(evaluator.model.name())\n",
    "pprint(evaluator.metrics)\n",
    "print()"
   ]
  },
  {
   "cell_type": "code",
   "execution_count": 4,
   "metadata": {},
   "outputs": [
    {
     "name": "stdout",
     "output_type": "stream",
     "text": [
      "Loading model: evaluation_test_gcf\n",
      "Doen loading model. evaluation_test_gcf\n",
      "Getting predictions.\n"
     ]
    },
    {
     "name": "stderr",
     "output_type": "stream",
     "text": [
      "User Predictions: 100%|██████████| 10000/10000 [10:57<00:00, 15.20it/s]\n"
     ]
    },
    {
     "name": "stdout",
     "output_type": "stream",
     "text": [
      "Done getting predictions.\n",
      "Appending dataframe information.\n",
      "Ranking top N.\n",
      "Done getting edge results.\n",
      "neural_collborative_filtering_gcf\n",
      "{'auc_roc': 0.5625053326342386,\n",
      " 'log_positional_error_percentiles_figure': <Figure size 640x480 with 1 Axes>,\n",
      " 'mean_positional_error': 20.241462146565713,\n",
      " 'roc_figure': <Figure size 640x480 with 1 Axes>,\n",
      " 'top_10_hit_percentage': 0.00662,\n",
      " 'top_10_hit_percentage_user_percentiles_figure': <Figure size 640x480 with 1 Axes>,\n",
      " 'top_10_recall': 0.0011125545563478632,\n",
      " 'top_10_recall_user_percentiles_figure': <Figure size 640x480 with 1 Axes>,\n",
      " 'user_rank_auc_roc': 0.5346854907618972,\n",
      " 'user_rank_roc_figure': <Figure size 640x480 with 1 Axes>}\n",
      "\n"
     ]
    }
   ],
   "source": [
    "gcf_initializer = lambda: NCFModel(num_epochs = 40, embedding_size = 100, batch_percent = 0.1, learning_rate = 1e-3, mlp_hidden_layer_sizes = [], seed=0, model_type='gcf', fine_tune_num_epochs=1, fine_tune_learning_rate=1e-1, fine_tune_weight_decay=1e-5)\n",
    "evaluator.reset(gcf_initializer, network_save_file = 'evaluation_test_gcf_constant_scoring')\n",
    "evaluator.plot_top_N_recall_percentiles(10)\n",
    "evaluator.plot_log_user_percentile_positional_error()\n",
    "evaluator.compute_mean_positional_error()\n",
    "evaluator.compute_top_N_recall(10)\n",
    "evaluator.plot_roc_curve()\n",
    "evaluator.compute_auc_roc()\n",
    "evaluator.plot_user_rank_roc_curve()\n",
    "evaluator.compute_user_rank_auc_roc()\n",
    "evaluator.plot_top_N_hit_percentage_percentiles(10)\n",
    "evaluator.compute_top_N_hit_percentage(10)\n",
    "evaluator.plot_top_N_hit_percentage_percentiles(50)\n",
    "evaluator.compute_top_N_hit_percentage(50)\n",
    "evaluator.plot_top_N_recall_percentiles(50)\n",
    "evaluator.compute_top_N_recall(50)\n",
    "evaluator.save_metrics('test_gcf_constant_scoring', overwrite=True)\n",
    "print(evaluator.model.name())\n",
    "pprint(evaluator.metrics)\n",
    "print()"
   ]
  },
  {
   "cell_type": "code",
   "execution_count": 5,
   "metadata": {},
   "outputs": [
    {
     "name": "stdout",
     "output_type": "stream",
     "text": [
      "Loading model: evaluation_test_mlp\n",
      "Doen loading model. evaluation_test_mlp\n",
      "Getting predictions.\n"
     ]
    },
    {
     "name": "stderr",
     "output_type": "stream",
     "text": [
      "User Predictions: 100%|██████████| 10000/10000 [12:30<00:00, 13.33it/s]\n"
     ]
    },
    {
     "name": "stdout",
     "output_type": "stream",
     "text": [
      "Done getting predictions.\n",
      "Appending dataframe information.\n",
      "Ranking top N.\n",
      "Done getting edge results.\n",
      "neural_collborative_filtering_mlp\n",
      "{'auc_roc': 0.6555369412735634,\n",
      " 'log_positional_error_percentiles_figure': <Figure size 640x480 with 1 Axes>,\n",
      " 'mean_positional_error': 17.94989293175528,\n",
      " 'roc_figure': <Figure size 640x480 with 1 Axes>,\n",
      " 'top_10_hit_percentage': 0.02677,\n",
      " 'top_10_hit_percentage_user_percentiles_figure': <Figure size 640x480 with 1 Axes>,\n",
      " 'top_10_recall': 0.004498955509581918,\n",
      " 'top_10_recall_user_percentiles_figure': <Figure size 640x480 with 1 Axes>,\n",
      " 'user_rank_auc_roc': 0.6194537205180499,\n",
      " 'user_rank_roc_figure': <Figure size 640x480 with 1 Axes>}\n",
      "\n"
     ]
    }
   ],
   "source": [
    "mlp_initializer = lambda: NCFModel(num_epochs = 40, embedding_size = 100, batch_percent = 0.1, learning_rate = 1e-3, weight_decay=1e-3, mlp_hidden_layer_sizes = [128, 128, 128], seed=0, model_type='mlp', fine_tune_num_epochs=1, fine_tune_learning_rate=1e-1, fine_tune_weight_decay=1e-5)\n",
    "evaluator.reset(mlp_initializer, network_save_file = 'evaluation_test_mlp_constant_scoring')\n",
    "evaluator.plot_top_N_recall_percentiles(10)\n",
    "evaluator.plot_log_user_percentile_positional_error()\n",
    "evaluator.compute_mean_positional_error()\n",
    "evaluator.compute_top_N_recall(10)\n",
    "evaluator.plot_roc_curve()\n",
    "evaluator.compute_auc_roc()\n",
    "evaluator.plot_user_rank_roc_curve()\n",
    "evaluator.compute_user_rank_auc_roc()\n",
    "evaluator.plot_top_N_hit_percentage_percentiles(10)\n",
    "evaluator.compute_top_N_hit_percentage(10)\n",
    "evaluator.plot_top_N_hit_percentage_percentiles(50)\n",
    "evaluator.compute_top_N_hit_percentage(50)\n",
    "evaluator.plot_top_N_recall_percentiles(50)\n",
    "evaluator.compute_top_N_recall(50)\n",
    "evaluator.save_metrics('test_mlp_constant_scoring', overwrite=True)\n",
    "print(evaluator.model.name())\n",
    "pprint(evaluator.metrics)\n",
    "print()"
   ]
  },
  {
   "cell_type": "code",
   "execution_count": 6,
   "metadata": {},
   "outputs": [
    {
     "name": "stdout",
     "output_type": "stream",
     "text": [
      "Loading model: evaluation_test_ncf\n",
      "Doen loading model. evaluation_test_ncf\n",
      "Getting predictions.\n"
     ]
    },
    {
     "name": "stderr",
     "output_type": "stream",
     "text": [
      "User Predictions: 100%|██████████| 10000/10000 [14:10<00:00, 11.76it/s]\n"
     ]
    },
    {
     "name": "stdout",
     "output_type": "stream",
     "text": [
      "Done getting predictions.\n",
      "Appending dataframe information.\n",
      "Ranking top N.\n",
      "Done getting edge results.\n",
      "neural_collborative_filtering_ncf\n",
      "{'auc_roc': 0.6255716952146155,\n",
      " 'log_positional_error_percentiles_figure': <Figure size 640x480 with 1 Axes>,\n",
      " 'mean_positional_error': 17.28677737901789,\n",
      " 'roc_figure': <Figure size 640x480 with 1 Axes>,\n",
      " 'top_10_hit_percentage': 0.02886,\n",
      " 'top_10_hit_percentage_user_percentiles_figure': <Figure size 640x480 with 1 Axes>,\n",
      " 'top_10_recall': 0.004850200074954582,\n",
      " 'top_10_recall_user_percentiles_figure': <Figure size 640x480 with 1 Axes>,\n",
      " 'user_rank_auc_roc': 0.5967019395728169,\n",
      " 'user_rank_roc_figure': <Figure size 640x480 with 1 Axes>}\n",
      "\n"
     ]
    }
   ],
   "source": [
    "ncf_initializer = lambda: NCFModel(num_epochs = 40, embedding_size = 100, batch_percent = 0.1, learning_rate = 1e-3, weight_decay=1e-3, mlp_hidden_layer_sizes = [128, 128, 128], seed=0, model_type='ncf', fine_tune_num_epochs=1, fine_tune_learning_rate=1e-1, fine_tune_weight_decay=1e-5)\n",
    "evaluator.reset(ncf_initializer, network_save_file = 'evaluation_test_ncf_constant_scoring')\n",
    "evaluator.plot_top_N_recall_percentiles(10)\n",
    "evaluator.plot_log_user_percentile_positional_error()\n",
    "evaluator.compute_mean_positional_error()\n",
    "evaluator.compute_top_N_recall(10)\n",
    "evaluator.plot_roc_curve()\n",
    "evaluator.compute_auc_roc()\n",
    "evaluator.plot_user_rank_roc_curve()\n",
    "evaluator.compute_user_rank_auc_roc()\n",
    "evaluator.plot_top_N_hit_percentage_percentiles(10)\n",
    "evaluator.compute_top_N_hit_percentage(10)\n",
    "evaluator.plot_top_N_hit_percentage_percentiles(50)\n",
    "evaluator.compute_top_N_hit_percentage(50)\n",
    "evaluator.plot_top_N_recall_percentiles(50)\n",
    "evaluator.compute_top_N_recall(50)\n",
    "evaluator.save_metrics('test_ncf_constant_scoring', overwrite=True)\n",
    "print(evaluator.model.name())\n",
    "pprint(evaluator.metrics)\n",
    "print()"
   ]
  },
  {
   "cell_type": "code",
   "execution_count": null,
   "metadata": {},
   "outputs": [],
   "source": []
  }
 ],
 "metadata": {
  "kernelspec": {
   "display_name": "Python 3",
   "language": "python",
   "name": "python3"
  },
  "language_info": {
   "codemirror_mode": {
    "name": "ipython",
    "version": 3
   },
   "file_extension": ".py",
   "mimetype": "text/x-python",
   "name": "python",
   "nbconvert_exporter": "python",
   "pygments_lexer": "ipython3",
   "version": "3.11.3"
  }
 },
 "nbformat": 4,
 "nbformat_minor": 2
}
