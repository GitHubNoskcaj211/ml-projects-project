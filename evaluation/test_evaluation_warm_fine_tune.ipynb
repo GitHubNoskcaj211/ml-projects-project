{
 "cells": [
  {
   "cell_type": "code",
   "execution_count": 1,
   "metadata": {},
   "outputs": [],
   "source": [
    "import sys\n",
    "import os\n",
    "sys.path.append(os.path.join(os.path.abspath(''), '../'))\n",
    "\n",
    "from evaluation.evaluation_harness import WarmFineTuneEvaluator\n",
    "from pprint import pprint\n",
    "\n",
    "from dataset.data_loader import DataLoader, playtime_forever_users_games_edge_scoring_function, LinearNormalizer, GaussianNormalizer, PercentileNormalizer, never_remove_edge, remove_zero_playtime_edge\n",
    "from models.random_model import RandomModel\n",
    "from models.common_neighbors_model import CommonNeighbors\n",
    "from models.popularity_model import GamePopularityModel\n",
    "from models.ncf_model import NCFModel"
   ]
  },
  {
   "cell_type": "code",
   "execution_count": null,
   "metadata": {},
   "outputs": [],
   "source": [
    "def get_evaluator_metrics(evaluator):\n",
    "    evaluator.plot_top_N_recall_percentiles(10)\n",
    "    evaluator.plot_log_user_percentile_positional_error()\n",
    "    evaluator.compute_mean_positional_error()\n",
    "    evaluator.compute_top_N_recall(10)\n",
    "    evaluator.plot_roc_curve()\n",
    "    evaluator.compute_auc_roc()\n",
    "    evaluator.plot_user_rank_roc_curve()\n",
    "    evaluator.compute_user_rank_auc_roc()\n",
    "    evaluator.plot_top_N_hit_percentage_percentiles(10)\n",
    "    evaluator.compute_top_N_hit_percentage(10)\n",
    "    evaluator.plot_top_N_hit_percentage_percentiles(50)\n",
    "    evaluator.compute_top_N_hit_percentage(50)\n",
    "    evaluator.compute_top_N_recall(50)\n",
    "    evaluator.plot_top_N_recall_percentiles(50)"
   ]
  },
  {
   "cell_type": "code",
   "execution_count": 2,
   "metadata": {},
   "outputs": [],
   "source": [
    "data_loader = DataLoader(cache_local_dataset=True, users_games_edge_scoring_function = playtime_forever_users_games_edge_scoring_function, user_game_edge_embeddings = ['playtime_forever'], score_normalizers = [GaussianNormalizer(1.0, 1.0)])\n",
    "data_loader.load_random_edge_train_tune_test_split(train_percentage=0.6, fine_tune_percentage=0.2, test_percentage=0.2, seed=0)\n",
    "data_loader.save_data_loader_parameters('test_evaluation_warm_fine_tune_data_loader', overwrite=True)\n",
    "evaluator = WarmFineTuneEvaluator(data_loader, top_N_games_to_eval = 500, num_users_to_eval=10000, seed=0, debug=True)"
   ]
  },
  {
   "cell_type": "code",
   "execution_count": 3,
   "metadata": {},
   "outputs": [
    {
     "name": "stdout",
     "output_type": "stream",
     "text": [
      "Loading model: evaluation_warm_fine_tune_test_random_model\n",
      "Doen loading model. evaluation_warm_fine_tune_test_random_model\n",
      "Getting predictions.\n"
     ]
    },
    {
     "name": "stderr",
     "output_type": "stream",
     "text": [
      "User Predictions:   8%|▊         | 789/10000 [00:30<05:00, 30.70it/s]"
     ]
    }
   ],
   "source": [
    "random_model_initializer = lambda: RandomModel()\n",
    "evaluator.reset(random_model_initializer, network_save_file = 'evaluation_warm_fine_tune_test_random_model')\n",
    "get_evaluator_metrics(evaluator)\n",
    "evaluator.save_metrics('evaluation_warm_fine_tune_test_random_model', overwrite=True)\n",
    "print(evaluator.model.name())\n",
    "pprint(evaluator.metrics)\n",
    "print()"
   ]
  },
  {
   "cell_type": "code",
   "execution_count": null,
   "metadata": {},
   "outputs": [],
   "source": [
    "popularity_model_initializer = lambda: GamePopularityModel()\n",
    "evaluator.reset(popularity_model_initializer, network_save_file = 'evaluation_warm_fine_tune_test_popularity_model')\n",
    "get_evaluator_metrics(evaluator)\n",
    "evaluator.save_metrics('evaluation_warm_fine_tune_test_popularity_model', overwrite=True)\n",
    "print(evaluator.model.name())\n",
    "pprint(evaluator.metrics)\n",
    "print()"
   ]
  },
  {
   "cell_type": "code",
   "execution_count": null,
   "metadata": {},
   "outputs": [],
   "source": [
    "common_neighbors_initializer = lambda: CommonNeighbors()\n",
    "evaluator.reset(common_neighbors_initializer, network_save_file = 'evaluation_warm_fine_tune_test_common_neighbors')\n",
    "get_evaluator_metrics(evaluator)\n",
    "evaluator.save_metrics('evaluation_warm_fine_tune_test_common_neighbors', overwrite=True)\n",
    "print(evaluator.model.name())\n",
    "pprint(evaluator.metrics)\n",
    "print()"
   ]
  },
  {
   "cell_type": "code",
   "execution_count": 3,
   "metadata": {},
   "outputs": [
    {
     "name": "stdout",
     "output_type": "stream",
     "text": [
      "Loading model: evaluation_warm_fine_tune_test_cf\n",
      "Doen loading model. evaluation_warm_fine_tune_test_cf\n",
      "Getting predictions.\n"
     ]
    },
    {
     "name": "stderr",
     "output_type": "stream",
     "text": [
      "User Predictions: 100%|██████████| 10000/10000 [4:53:30<00:00,  1.76s/it] \n"
     ]
    },
    {
     "name": "stdout",
     "output_type": "stream",
     "text": [
      "Done getting predictions.\n",
      "Appending dataframe information.\n",
      "Ranking top N.\n",
      "Done getting edge results.\n",
      "neural_collborative_filtering_cf\n",
      "{'auc_roc': 0.6901322410818453,\n",
      " 'log_positional_error_percentiles_figure': <Figure size 640x480 with 1 Axes>,\n",
      " 'mean_positional_error': 14.134260204240249,\n",
      " 'roc_figure': <Figure size 640x480 with 1 Axes>,\n",
      " 'top_10_hit_percentage': 0.05916,\n",
      " 'top_10_hit_percentage_user_percentiles_figure': <Figure size 640x480 with 1 Axes>,\n",
      " 'top_10_hit_percentage_variance': 0.0064661590615896665,\n",
      " 'top_10_recall': nan,\n",
      " 'top_10_recall_user_percentiles_figure': <Figure size 640x480 with 1 Axes>,\n",
      " 'top_10_recall_variance': nan,\n",
      " 'top_50_hit_percentage': 0.02303195393609213,\n",
      " 'top_50_hit_percentage_user_percentiles_figure': <Figure size 640x480 with 1 Axes>,\n",
      " 'top_50_hit_percentage_variance': 0.0011308080369440644,\n",
      " 'top_50_recall': nan,\n",
      " 'top_50_recall_user_percentiles_figure': <Figure size 640x480 with 1 Axes>,\n",
      " 'top_50_recall_variance': nan,\n",
      " 'user_rank_auc_roc': 0.590743761123705,\n",
      " 'user_rank_auc_roc_variance': 1.8788783232020262e-06,\n",
      " 'user_rank_roc_figure': <Figure size 640x480 with 1 Axes>}\n",
      "\n"
     ]
    }
   ],
   "source": [
    "save_file_name = 'evaluation_warm_fine_tune_test_cf'\n",
    "cf_initializer = lambda: NCFModel(num_epochs = 40, embedding_size = 50, batch_percent = 0.1, learning_rate = 1e-2, weight_decay=1e-6, mlp_hidden_layer_sizes = [], seed=0, model_type='cf', fine_tune_num_epochs=1, fine_tune_learning_rate=1e-1, fine_tune_weight_decay=1e-5, save_file_name=save_file_name, nn_save_name='best')\n",
    "evaluator.reset(cf_initializer, network_save_file = save_file_name)\n",
    "get_evaluator_metrics(evaluator)\n",
    "evaluator.save_metrics(f'TEMP_{save_file_name}_200ep_1e-2_lr_1e-2_decay_batched_dropout', overwrite=True)\n",
    "print(evaluator.model.name())\n",
    "pprint(evaluator.metrics)\n",
    "print()"
   ]
  },
  {
   "cell_type": "code",
   "execution_count": 4,
   "metadata": {},
   "outputs": [
    {
     "name": "stdout",
     "output_type": "stream",
     "text": [
      "Loading model: evaluation_warm_fine_tune_test_gcf\n",
      "Doen loading model. evaluation_warm_fine_tune_test_gcf\n",
      "Getting predictions.\n"
     ]
    },
    {
     "name": "stderr",
     "output_type": "stream",
     "text": [
      "User Predictions:   0%|          | 0/10000 [00:00<?, ?it/s]"
     ]
    },
    {
     "name": "stderr",
     "output_type": "stream",
     "text": [
      "User Predictions: 100%|██████████| 10000/10000 [5:18:33<00:00,  1.91s/it]  \n"
     ]
    },
    {
     "name": "stdout",
     "output_type": "stream",
     "text": [
      "Done getting predictions.\n",
      "Appending dataframe information.\n",
      "Ranking top N.\n",
      "Done getting edge results.\n",
      "neural_collborative_filtering_gcf\n",
      "{'auc_roc': 0.5677182891090459,\n",
      " 'log_positional_error_percentiles_figure': <Figure size 640x480 with 1 Axes>,\n",
      " 'mean_positional_error': 14.390401697770708,\n",
      " 'roc_figure': <Figure size 640x480 with 1 Axes>,\n",
      " 'top_10_hit_percentage': 0.08648,\n",
      " 'top_10_hit_percentage_user_percentiles_figure': <Figure size 640x480 with 1 Axes>,\n",
      " 'top_10_hit_percentage_variance': 0.011623325833259252,\n",
      " 'top_10_recall': nan,\n",
      " 'top_10_recall_user_percentiles_figure': <Figure size 640x480 with 1 Axes>,\n",
      " 'top_10_recall_variance': nan,\n",
      " 'top_50_hit_percentage': 0.038052,\n",
      " 'top_50_hit_percentage_user_percentiles_figure': <Figure size 640x480 with 1 Axes>,\n",
      " 'top_50_hit_percentage_variance': 0.003333971963943243,\n",
      " 'top_50_recall': nan,\n",
      " 'top_50_recall_user_percentiles_figure': <Figure size 640x480 with 1 Axes>,\n",
      " 'top_50_recall_variance': nan,\n",
      " 'user_rank_auc_roc': 0.6255213123565234,\n",
      " 'user_rank_auc_roc_variance': 1.3210892828060503e-06,\n",
      " 'user_rank_roc_figure': <Figure size 640x480 with 1 Axes>}\n",
      "\n"
     ]
    }
   ],
   "source": [
    "save_file_name = 'evaluation_warm_fine_tune_test_gcf'\n",
    "gcf_initializer = lambda: NCFModel(num_epochs = 40, embedding_size = 50, batch_percent = 0.1, learning_rate = 1e-2, weight_decay=1e-6, mlp_hidden_layer_sizes = [], seed=0, model_type='gcf', fine_tune_num_epochs=1, fine_tune_learning_rate=1e-1, fine_tune_weight_decay=1e-5, save_file_name=save_file_name, nn_save_name='best')\n",
    "evaluator.reset(gcf_initializer, network_save_file = save_file_name)\n",
    "get_evaluator_metrics(evaluator)\n",
    "evaluator.save_metrics(f'TEMP_{save_file_name}_200ep_1e-2_lr_1e-2_decay_batched_dropout', overwrite=True)\n",
    "print(evaluator.model.name())\n",
    "pprint(evaluator.metrics)\n",
    "print()"
   ]
  },
  {
   "cell_type": "code",
   "execution_count": 5,
   "metadata": {},
   "outputs": [
    {
     "name": "stdout",
     "output_type": "stream",
     "text": [
      "Loading model: evaluation_warm_fine_tune_test_mlp\n",
      "Doen loading model. evaluation_warm_fine_tune_test_mlp\n",
      "Getting predictions.\n"
     ]
    },
    {
     "name": "stderr",
     "output_type": "stream",
     "text": [
      "User Predictions:   0%|          | 22/10000 [00:56<7:03:28,  2.55s/it]\n"
     ]
    },
    {
     "ename": "KeyboardInterrupt",
     "evalue": "",
     "output_type": "error",
     "traceback": [
      "\u001b[0;31m---------------------------------------------------------------------------\u001b[0m",
      "\u001b[0;31mKeyboardInterrupt\u001b[0m                         Traceback (most recent call last)",
      "Cell \u001b[0;32mIn[5], line 3\u001b[0m\n\u001b[1;32m      1\u001b[0m save_file_name \u001b[38;5;241m=\u001b[39m \u001b[38;5;124m'\u001b[39m\u001b[38;5;124mevaluation_warm_fine_tune_test_mlp\u001b[39m\u001b[38;5;124m'\u001b[39m\n\u001b[1;32m      2\u001b[0m mlp_initializer \u001b[38;5;241m=\u001b[39m \u001b[38;5;28;01mlambda\u001b[39;00m: NCFModel(num_epochs \u001b[38;5;241m=\u001b[39m \u001b[38;5;241m40\u001b[39m, embedding_size \u001b[38;5;241m=\u001b[39m \u001b[38;5;241m50\u001b[39m, batch_percent \u001b[38;5;241m=\u001b[39m \u001b[38;5;241m0.1\u001b[39m, learning_rate \u001b[38;5;241m=\u001b[39m \u001b[38;5;241m1e-2\u001b[39m, weight_decay\u001b[38;5;241m=\u001b[39m\u001b[38;5;241m1e-6\u001b[39m, mlp_hidden_layer_sizes \u001b[38;5;241m=\u001b[39m [\u001b[38;5;241m128\u001b[39m, \u001b[38;5;241m128\u001b[39m, \u001b[38;5;241m128\u001b[39m], seed\u001b[38;5;241m=\u001b[39m\u001b[38;5;241m0\u001b[39m, model_type\u001b[38;5;241m=\u001b[39m\u001b[38;5;124m'\u001b[39m\u001b[38;5;124mmlp\u001b[39m\u001b[38;5;124m'\u001b[39m, fine_tune_num_epochs\u001b[38;5;241m=\u001b[39m\u001b[38;5;241m1\u001b[39m, fine_tune_learning_rate\u001b[38;5;241m=\u001b[39m\u001b[38;5;241m1e-1\u001b[39m, fine_tune_weight_decay\u001b[38;5;241m=\u001b[39m\u001b[38;5;241m1e-5\u001b[39m, save_file_name\u001b[38;5;241m=\u001b[39msave_file_name, nn_save_name\u001b[38;5;241m=\u001b[39m\u001b[38;5;124m'\u001b[39m\u001b[38;5;124mbest\u001b[39m\u001b[38;5;124m'\u001b[39m)\n\u001b[0;32m----> 3\u001b[0m \u001b[43mevaluator\u001b[49m\u001b[38;5;241;43m.\u001b[39;49m\u001b[43mreset\u001b[49m\u001b[43m(\u001b[49m\u001b[43mmlp_initializer\u001b[49m\u001b[43m,\u001b[49m\u001b[43m \u001b[49m\u001b[43mnetwork_save_file\u001b[49m\u001b[43m \u001b[49m\u001b[38;5;241;43m=\u001b[39;49m\u001b[43m \u001b[49m\u001b[43msave_file_name\u001b[49m\u001b[43m)\u001b[49m\n\u001b[1;32m      4\u001b[0m evaluator\u001b[38;5;241m.\u001b[39mplot_top_N_recall_percentiles(\u001b[38;5;241m10\u001b[39m)\n\u001b[1;32m      5\u001b[0m evaluator\u001b[38;5;241m.\u001b[39mplot_log_user_percentile_positional_error()\n",
      "File \u001b[0;32m~/Desktop/Classes/2024 Spring/ML Projects/ml-projects-project/evaluation/../evaluation/evaluation_harness.py:323\u001b[0m, in \u001b[0;36mOfflineEvaluator.reset\u001b[0;34m(self, network_initializer, network_save_file)\u001b[0m\n\u001b[1;32m    320\u001b[0m \u001b[38;5;28;01mif\u001b[39;00m \u001b[38;5;28mself\u001b[39m\u001b[38;5;241m.\u001b[39mdebug:\n\u001b[1;32m    321\u001b[0m     \u001b[38;5;28mprint\u001b[39m(\u001b[38;5;124m'\u001b[39m\u001b[38;5;124mGetting predictions.\u001b[39m\u001b[38;5;124m'\u001b[39m)\n\u001b[0;32m--> 323\u001b[0m user_ids, game_ids, predicted_scores \u001b[38;5;241m=\u001b[39m \u001b[38;5;28;43mself\u001b[39;49m\u001b[38;5;241;43m.\u001b[39;49m\u001b[43mget_all_user_predictions\u001b[49m\u001b[43m(\u001b[49m\u001b[43mnetwork_initializer\u001b[49m\u001b[43m,\u001b[49m\u001b[43m \u001b[49m\u001b[43mnetwork_save_file\u001b[49m\u001b[43m)\u001b[49m\n\u001b[1;32m    324\u001b[0m \u001b[38;5;28mself\u001b[39m\u001b[38;5;241m.\u001b[39mresults_df \u001b[38;5;241m=\u001b[39m pd\u001b[38;5;241m.\u001b[39mDataFrame({\n\u001b[1;32m    325\u001b[0m     \u001b[38;5;124m'\u001b[39m\u001b[38;5;124muser\u001b[39m\u001b[38;5;124m'\u001b[39m: user_ids,\n\u001b[1;32m    326\u001b[0m     \u001b[38;5;124m'\u001b[39m\u001b[38;5;124mgame\u001b[39m\u001b[38;5;124m'\u001b[39m: game_ids,\n\u001b[1;32m    327\u001b[0m     \u001b[38;5;124m'\u001b[39m\u001b[38;5;124mpredicted_score\u001b[39m\u001b[38;5;124m'\u001b[39m: predicted_scores\n\u001b[1;32m    328\u001b[0m })\n\u001b[1;32m    330\u001b[0m \u001b[38;5;28;01mif\u001b[39;00m \u001b[38;5;28mself\u001b[39m\u001b[38;5;241m.\u001b[39mdebug:\n",
      "File \u001b[0;32m~/Desktop/Classes/2024 Spring/ML Projects/ml-projects-project/evaluation/../evaluation/evaluation_harness.py:393\u001b[0m, in \u001b[0;36mWarmFineTuneEvaluator.get_all_user_predictions\u001b[0;34m(self, network_initializer, network_save_file)\u001b[0m\n\u001b[1;32m    391\u001b[0m     user_model\u001b[38;5;241m.\u001b[39mset_data_loader(\u001b[38;5;28mself\u001b[39m\u001b[38;5;241m.\u001b[39mdata_loader)\n\u001b[1;32m    392\u001b[0m     user_model\u001b[38;5;241m.\u001b[39mload(network_save_file)\n\u001b[0;32m--> 393\u001b[0m     \u001b[43muser_model\u001b[49m\u001b[38;5;241;43m.\u001b[39;49m\u001b[43m_fine_tune\u001b[49m\u001b[43m(\u001b[49m\u001b[43muser\u001b[49m\u001b[43m,\u001b[49m\u001b[43m \u001b[49m\u001b[43mnew_users_games_df\u001b[49m\u001b[43m,\u001b[49m\u001b[43m \u001b[49m\u001b[43mfake_interactions\u001b[49m\u001b[43m,\u001b[49m\u001b[43m \u001b[49m\u001b[43mall_users_games_df_without_test\u001b[49m\u001b[43m,\u001b[49m\u001b[43m \u001b[49m\u001b[43mfake_interactions\u001b[49m\u001b[43m)\u001b[49m\n\u001b[1;32m    394\u001b[0m \u001b[38;5;28;01melse\u001b[39;00m:\n\u001b[1;32m    395\u001b[0m     user_model \u001b[38;5;241m=\u001b[39m \u001b[38;5;28mself\u001b[39m\u001b[38;5;241m.\u001b[39mmodel\n",
      "File \u001b[0;32m~/Desktop/Classes/2024 Spring/ML Projects/ml-projects-project/evaluation/../models/ncf_model.py:133\u001b[0m, in \u001b[0;36mNCFModel._fine_tune\u001b[0;34m(self, user_id, new_user_games_df, new_interactions_df, all_user_games_df, all_interactions_df, debug)\u001b[0m\n\u001b[1;32m    130\u001b[0m     test_scores_tensor \u001b[38;5;241m=\u001b[39m test_scores_tensor\u001b[38;5;241m.\u001b[39mtype(torch\u001b[38;5;241m.\u001b[39mFloatTensor)\n\u001b[1;32m    131\u001b[0m     test_scores_tensor \u001b[38;5;241m=\u001b[39m torch\u001b[38;5;241m.\u001b[39mreshape(test_scores_tensor, (\u001b[38;5;241m-\u001b[39m\u001b[38;5;241m1\u001b[39m, \u001b[38;5;241m1\u001b[39m))\n\u001b[0;32m--> 133\u001b[0m \u001b[38;5;28;43mself\u001b[39;49m\u001b[38;5;241;43m.\u001b[39;49m\u001b[43mncf\u001b[49m\u001b[38;5;241;43m.\u001b[39;49m\u001b[43mfine_tune\u001b[49m\u001b[43m(\u001b[49m\u001b[38;5;28;43mself\u001b[39;49m\u001b[38;5;241;43m.\u001b[39;49m\u001b[43muser_to_index\u001b[49m\u001b[43m[\u001b[49m\u001b[43muser_id\u001b[49m\u001b[43m]\u001b[49m\u001b[43m,\u001b[49m\u001b[43m \u001b[49m\u001b[43muser_indices\u001b[49m\u001b[43m,\u001b[49m\u001b[43m \u001b[49m\u001b[43mgame_indices\u001b[49m\u001b[43m,\u001b[49m\u001b[43m \u001b[49m\u001b[43mscores_tensor\u001b[49m\u001b[43m,\u001b[49m\u001b[43m \u001b[49m\u001b[38;5;28;43mself\u001b[39;49m\u001b[38;5;241;43m.\u001b[39;49m\u001b[43mfine_tune_num_epochs\u001b[49m\u001b[43m,\u001b[49m\u001b[43m \u001b[49m\u001b[38;5;28;43mself\u001b[39;49m\u001b[38;5;241;43m.\u001b[39;49m\u001b[43mfine_tune_learning_rate\u001b[49m\u001b[43m,\u001b[49m\u001b[43m \u001b[49m\u001b[38;5;28;43mself\u001b[39;49m\u001b[38;5;241;43m.\u001b[39;49m\u001b[43mfine_tune_weight_decay\u001b[49m\u001b[43m,\u001b[49m\u001b[43m \u001b[49m\u001b[43mdebug\u001b[49m\u001b[38;5;241;43m=\u001b[39;49m\u001b[43mdebug\u001b[49m\u001b[43m,\u001b[49m\u001b[43m \u001b[49m\u001b[43mwriter\u001b[49m\u001b[38;5;241;43m=\u001b[39;49m\u001b[43mwriter\u001b[49m\u001b[43m,\u001b[49m\u001b[43m \u001b[49m\u001b[43mtest_user_indices\u001b[49m\u001b[38;5;241;43m=\u001b[39;49m\u001b[43mtest_user_indices\u001b[49m\u001b[43m,\u001b[49m\u001b[43m \u001b[49m\u001b[43mtest_game_indices\u001b[49m\u001b[38;5;241;43m=\u001b[39;49m\u001b[43mtest_game_indices\u001b[49m\u001b[43m,\u001b[49m\u001b[43m \u001b[49m\u001b[43mtest_scores\u001b[49m\u001b[38;5;241;43m=\u001b[39;49m\u001b[43mtest_scores_tensor\u001b[49m\u001b[43m)\u001b[49m\n",
      "File \u001b[0;32m~/Desktop/Classes/2024 Spring/ML Projects/ml-projects-project/evaluation/../models/ncf_singlenode.py:226\u001b[0m, in \u001b[0;36mNCF.fine_tune\u001b[0;34m(self, user_index, user_indices, game_indices, labels, num_epochs, learning_rate, weight_decay, debug, writer, test_user_indices, test_game_indices, test_scores)\u001b[0m\n\u001b[1;32m    224\u001b[0m         \u001b[38;5;28;01mif\u001b[39;00m \u001b[38;5;28mself\u001b[39m\u001b[38;5;241m.\u001b[39mmlp:\n\u001b[1;32m    225\u001b[0m             \u001b[38;5;28mself\u001b[39m\u001b[38;5;241m.\u001b[39membedding_mlp_user\u001b[38;5;241m.\u001b[39mweight[user_index] \u001b[38;5;241m=\u001b[39m \u001b[38;5;28mself\u001b[39m\u001b[38;5;241m.\u001b[39membedding_mlp_user\u001b[38;5;241m.\u001b[39mweight[user_index] \u001b[38;5;241m-\u001b[39m weight_decay \u001b[38;5;241m*\u001b[39m \u001b[38;5;28mself\u001b[39m\u001b[38;5;241m.\u001b[39membedding_mlp_user(weight_decay_indices)\n\u001b[0;32m--> 226\u001b[0m     \u001b[43moptimizer\u001b[49m\u001b[38;5;241;43m.\u001b[39;49m\u001b[43mstep\u001b[49m\u001b[43m(\u001b[49m\u001b[43m)\u001b[49m\n\u001b[1;32m    227\u001b[0m epoch_loss\u001b[38;5;241m.\u001b[39mappend(loss\u001b[38;5;241m.\u001b[39mitem())\n\u001b[1;32m    229\u001b[0m average_epoch_loss \u001b[38;5;241m=\u001b[39m \u001b[38;5;28msum\u001b[39m((value \u001b[38;5;28;01mfor\u001b[39;00m value \u001b[38;5;129;01min\u001b[39;00m epoch_loss)) \u001b[38;5;241m/\u001b[39m \u001b[38;5;28mlen\u001b[39m(epoch_loss)\n",
      "File \u001b[0;32m~/.pyenv/versions/3.11.3/envs/ml_project_3.11.3/lib/python3.11/site-packages/torch/optim/optimizer.py:385\u001b[0m, in \u001b[0;36mOptimizer.profile_hook_step.<locals>.wrapper\u001b[0;34m(*args, **kwargs)\u001b[0m\n\u001b[1;32m    380\u001b[0m         \u001b[38;5;28;01melse\u001b[39;00m:\n\u001b[1;32m    381\u001b[0m             \u001b[38;5;28;01mraise\u001b[39;00m \u001b[38;5;167;01mRuntimeError\u001b[39;00m(\n\u001b[1;32m    382\u001b[0m                 \u001b[38;5;124mf\u001b[39m\u001b[38;5;124m\"\u001b[39m\u001b[38;5;132;01m{\u001b[39;00mfunc\u001b[38;5;132;01m}\u001b[39;00m\u001b[38;5;124m must return None or a tuple of (new_args, new_kwargs), but got \u001b[39m\u001b[38;5;132;01m{\u001b[39;00mresult\u001b[38;5;132;01m}\u001b[39;00m\u001b[38;5;124m.\u001b[39m\u001b[38;5;124m\"\u001b[39m\n\u001b[1;32m    383\u001b[0m             )\n\u001b[0;32m--> 385\u001b[0m out \u001b[38;5;241m=\u001b[39m \u001b[43mfunc\u001b[49m\u001b[43m(\u001b[49m\u001b[38;5;241;43m*\u001b[39;49m\u001b[43margs\u001b[49m\u001b[43m,\u001b[49m\u001b[43m \u001b[49m\u001b[38;5;241;43m*\u001b[39;49m\u001b[38;5;241;43m*\u001b[39;49m\u001b[43mkwargs\u001b[49m\u001b[43m)\u001b[49m\n\u001b[1;32m    386\u001b[0m \u001b[38;5;28mself\u001b[39m\u001b[38;5;241m.\u001b[39m_optimizer_step_code()\n\u001b[1;32m    388\u001b[0m \u001b[38;5;66;03m# call optimizer step post hooks\u001b[39;00m\n",
      "File \u001b[0;32m~/.pyenv/versions/3.11.3/envs/ml_project_3.11.3/lib/python3.11/site-packages/torch/optim/optimizer.py:76\u001b[0m, in \u001b[0;36m_use_grad_for_differentiable.<locals>._use_grad\u001b[0;34m(self, *args, **kwargs)\u001b[0m\n\u001b[1;32m     74\u001b[0m     torch\u001b[38;5;241m.\u001b[39mset_grad_enabled(\u001b[38;5;28mself\u001b[39m\u001b[38;5;241m.\u001b[39mdefaults[\u001b[38;5;124m'\u001b[39m\u001b[38;5;124mdifferentiable\u001b[39m\u001b[38;5;124m'\u001b[39m])\n\u001b[1;32m     75\u001b[0m     torch\u001b[38;5;241m.\u001b[39m_dynamo\u001b[38;5;241m.\u001b[39mgraph_break()\n\u001b[0;32m---> 76\u001b[0m     ret \u001b[38;5;241m=\u001b[39m \u001b[43mfunc\u001b[49m\u001b[43m(\u001b[49m\u001b[38;5;28;43mself\u001b[39;49m\u001b[43m,\u001b[49m\u001b[43m \u001b[49m\u001b[38;5;241;43m*\u001b[39;49m\u001b[43margs\u001b[49m\u001b[43m,\u001b[49m\u001b[43m \u001b[49m\u001b[38;5;241;43m*\u001b[39;49m\u001b[38;5;241;43m*\u001b[39;49m\u001b[43mkwargs\u001b[49m\u001b[43m)\u001b[49m\n\u001b[1;32m     77\u001b[0m \u001b[38;5;28;01mfinally\u001b[39;00m:\n\u001b[1;32m     78\u001b[0m     torch\u001b[38;5;241m.\u001b[39m_dynamo\u001b[38;5;241m.\u001b[39mgraph_break()\n",
      "File \u001b[0;32m~/.pyenv/versions/3.11.3/envs/ml_project_3.11.3/lib/python3.11/site-packages/torch/optim/adam.py:166\u001b[0m, in \u001b[0;36mAdam.step\u001b[0;34m(self, closure)\u001b[0m\n\u001b[1;32m    155\u001b[0m     beta1, beta2 \u001b[38;5;241m=\u001b[39m group[\u001b[38;5;124m'\u001b[39m\u001b[38;5;124mbetas\u001b[39m\u001b[38;5;124m'\u001b[39m]\n\u001b[1;32m    157\u001b[0m     has_complex \u001b[38;5;241m=\u001b[39m \u001b[38;5;28mself\u001b[39m\u001b[38;5;241m.\u001b[39m_init_group(\n\u001b[1;32m    158\u001b[0m         group,\n\u001b[1;32m    159\u001b[0m         params_with_grad,\n\u001b[0;32m   (...)\u001b[0m\n\u001b[1;32m    163\u001b[0m         max_exp_avg_sqs,\n\u001b[1;32m    164\u001b[0m         state_steps)\n\u001b[0;32m--> 166\u001b[0m     \u001b[43madam\u001b[49m\u001b[43m(\u001b[49m\n\u001b[1;32m    167\u001b[0m \u001b[43m        \u001b[49m\u001b[43mparams_with_grad\u001b[49m\u001b[43m,\u001b[49m\n\u001b[1;32m    168\u001b[0m \u001b[43m        \u001b[49m\u001b[43mgrads\u001b[49m\u001b[43m,\u001b[49m\n\u001b[1;32m    169\u001b[0m \u001b[43m        \u001b[49m\u001b[43mexp_avgs\u001b[49m\u001b[43m,\u001b[49m\n\u001b[1;32m    170\u001b[0m \u001b[43m        \u001b[49m\u001b[43mexp_avg_sqs\u001b[49m\u001b[43m,\u001b[49m\n\u001b[1;32m    171\u001b[0m \u001b[43m        \u001b[49m\u001b[43mmax_exp_avg_sqs\u001b[49m\u001b[43m,\u001b[49m\n\u001b[1;32m    172\u001b[0m \u001b[43m        \u001b[49m\u001b[43mstate_steps\u001b[49m\u001b[43m,\u001b[49m\n\u001b[1;32m    173\u001b[0m \u001b[43m        \u001b[49m\u001b[43mamsgrad\u001b[49m\u001b[38;5;241;43m=\u001b[39;49m\u001b[43mgroup\u001b[49m\u001b[43m[\u001b[49m\u001b[38;5;124;43m'\u001b[39;49m\u001b[38;5;124;43mamsgrad\u001b[39;49m\u001b[38;5;124;43m'\u001b[39;49m\u001b[43m]\u001b[49m\u001b[43m,\u001b[49m\n\u001b[1;32m    174\u001b[0m \u001b[43m        \u001b[49m\u001b[43mhas_complex\u001b[49m\u001b[38;5;241;43m=\u001b[39;49m\u001b[43mhas_complex\u001b[49m\u001b[43m,\u001b[49m\n\u001b[1;32m    175\u001b[0m \u001b[43m        \u001b[49m\u001b[43mbeta1\u001b[49m\u001b[38;5;241;43m=\u001b[39;49m\u001b[43mbeta1\u001b[49m\u001b[43m,\u001b[49m\n\u001b[1;32m    176\u001b[0m \u001b[43m        \u001b[49m\u001b[43mbeta2\u001b[49m\u001b[38;5;241;43m=\u001b[39;49m\u001b[43mbeta2\u001b[49m\u001b[43m,\u001b[49m\n\u001b[1;32m    177\u001b[0m \u001b[43m        \u001b[49m\u001b[43mlr\u001b[49m\u001b[38;5;241;43m=\u001b[39;49m\u001b[43mgroup\u001b[49m\u001b[43m[\u001b[49m\u001b[38;5;124;43m'\u001b[39;49m\u001b[38;5;124;43mlr\u001b[39;49m\u001b[38;5;124;43m'\u001b[39;49m\u001b[43m]\u001b[49m\u001b[43m,\u001b[49m\n\u001b[1;32m    178\u001b[0m \u001b[43m        \u001b[49m\u001b[43mweight_decay\u001b[49m\u001b[38;5;241;43m=\u001b[39;49m\u001b[43mgroup\u001b[49m\u001b[43m[\u001b[49m\u001b[38;5;124;43m'\u001b[39;49m\u001b[38;5;124;43mweight_decay\u001b[39;49m\u001b[38;5;124;43m'\u001b[39;49m\u001b[43m]\u001b[49m\u001b[43m,\u001b[49m\n\u001b[1;32m    179\u001b[0m \u001b[43m        \u001b[49m\u001b[43meps\u001b[49m\u001b[38;5;241;43m=\u001b[39;49m\u001b[43mgroup\u001b[49m\u001b[43m[\u001b[49m\u001b[38;5;124;43m'\u001b[39;49m\u001b[38;5;124;43meps\u001b[39;49m\u001b[38;5;124;43m'\u001b[39;49m\u001b[43m]\u001b[49m\u001b[43m,\u001b[49m\n\u001b[1;32m    180\u001b[0m \u001b[43m        \u001b[49m\u001b[43mmaximize\u001b[49m\u001b[38;5;241;43m=\u001b[39;49m\u001b[43mgroup\u001b[49m\u001b[43m[\u001b[49m\u001b[38;5;124;43m'\u001b[39;49m\u001b[38;5;124;43mmaximize\u001b[39;49m\u001b[38;5;124;43m'\u001b[39;49m\u001b[43m]\u001b[49m\u001b[43m,\u001b[49m\n\u001b[1;32m    181\u001b[0m \u001b[43m        \u001b[49m\u001b[43mforeach\u001b[49m\u001b[38;5;241;43m=\u001b[39;49m\u001b[43mgroup\u001b[49m\u001b[43m[\u001b[49m\u001b[38;5;124;43m'\u001b[39;49m\u001b[38;5;124;43mforeach\u001b[39;49m\u001b[38;5;124;43m'\u001b[39;49m\u001b[43m]\u001b[49m\u001b[43m,\u001b[49m\n\u001b[1;32m    182\u001b[0m \u001b[43m        \u001b[49m\u001b[43mcapturable\u001b[49m\u001b[38;5;241;43m=\u001b[39;49m\u001b[43mgroup\u001b[49m\u001b[43m[\u001b[49m\u001b[38;5;124;43m'\u001b[39;49m\u001b[38;5;124;43mcapturable\u001b[39;49m\u001b[38;5;124;43m'\u001b[39;49m\u001b[43m]\u001b[49m\u001b[43m,\u001b[49m\n\u001b[1;32m    183\u001b[0m \u001b[43m        \u001b[49m\u001b[43mdifferentiable\u001b[49m\u001b[38;5;241;43m=\u001b[39;49m\u001b[43mgroup\u001b[49m\u001b[43m[\u001b[49m\u001b[38;5;124;43m'\u001b[39;49m\u001b[38;5;124;43mdifferentiable\u001b[39;49m\u001b[38;5;124;43m'\u001b[39;49m\u001b[43m]\u001b[49m\u001b[43m,\u001b[49m\n\u001b[1;32m    184\u001b[0m \u001b[43m        \u001b[49m\u001b[43mfused\u001b[49m\u001b[38;5;241;43m=\u001b[39;49m\u001b[43mgroup\u001b[49m\u001b[43m[\u001b[49m\u001b[38;5;124;43m'\u001b[39;49m\u001b[38;5;124;43mfused\u001b[39;49m\u001b[38;5;124;43m'\u001b[39;49m\u001b[43m]\u001b[49m\u001b[43m,\u001b[49m\n\u001b[1;32m    185\u001b[0m \u001b[43m        \u001b[49m\u001b[43mgrad_scale\u001b[49m\u001b[38;5;241;43m=\u001b[39;49m\u001b[38;5;28;43mgetattr\u001b[39;49m\u001b[43m(\u001b[49m\u001b[38;5;28;43mself\u001b[39;49m\u001b[43m,\u001b[49m\u001b[43m \u001b[49m\u001b[38;5;124;43m\"\u001b[39;49m\u001b[38;5;124;43mgrad_scale\u001b[39;49m\u001b[38;5;124;43m\"\u001b[39;49m\u001b[43m,\u001b[49m\u001b[43m \u001b[49m\u001b[38;5;28;43;01mNone\u001b[39;49;00m\u001b[43m)\u001b[49m\u001b[43m,\u001b[49m\n\u001b[1;32m    186\u001b[0m \u001b[43m        \u001b[49m\u001b[43mfound_inf\u001b[49m\u001b[38;5;241;43m=\u001b[39;49m\u001b[38;5;28;43mgetattr\u001b[39;49m\u001b[43m(\u001b[49m\u001b[38;5;28;43mself\u001b[39;49m\u001b[43m,\u001b[49m\u001b[43m \u001b[49m\u001b[38;5;124;43m\"\u001b[39;49m\u001b[38;5;124;43mfound_inf\u001b[39;49m\u001b[38;5;124;43m\"\u001b[39;49m\u001b[43m,\u001b[49m\u001b[43m \u001b[49m\u001b[38;5;28;43;01mNone\u001b[39;49;00m\u001b[43m)\u001b[49m\u001b[43m,\u001b[49m\n\u001b[1;32m    187\u001b[0m \u001b[43m    \u001b[49m\u001b[43m)\u001b[49m\n\u001b[1;32m    189\u001b[0m \u001b[38;5;28;01mreturn\u001b[39;00m loss\n",
      "File \u001b[0;32m~/.pyenv/versions/3.11.3/envs/ml_project_3.11.3/lib/python3.11/site-packages/torch/optim/adam.py:316\u001b[0m, in \u001b[0;36madam\u001b[0;34m(params, grads, exp_avgs, exp_avg_sqs, max_exp_avg_sqs, state_steps, foreach, capturable, differentiable, fused, grad_scale, found_inf, has_complex, amsgrad, beta1, beta2, lr, weight_decay, eps, maximize)\u001b[0m\n\u001b[1;32m    313\u001b[0m \u001b[38;5;28;01melse\u001b[39;00m:\n\u001b[1;32m    314\u001b[0m     func \u001b[38;5;241m=\u001b[39m _single_tensor_adam\n\u001b[0;32m--> 316\u001b[0m \u001b[43mfunc\u001b[49m\u001b[43m(\u001b[49m\u001b[43mparams\u001b[49m\u001b[43m,\u001b[49m\n\u001b[1;32m    317\u001b[0m \u001b[43m     \u001b[49m\u001b[43mgrads\u001b[49m\u001b[43m,\u001b[49m\n\u001b[1;32m    318\u001b[0m \u001b[43m     \u001b[49m\u001b[43mexp_avgs\u001b[49m\u001b[43m,\u001b[49m\n\u001b[1;32m    319\u001b[0m \u001b[43m     \u001b[49m\u001b[43mexp_avg_sqs\u001b[49m\u001b[43m,\u001b[49m\n\u001b[1;32m    320\u001b[0m \u001b[43m     \u001b[49m\u001b[43mmax_exp_avg_sqs\u001b[49m\u001b[43m,\u001b[49m\n\u001b[1;32m    321\u001b[0m \u001b[43m     \u001b[49m\u001b[43mstate_steps\u001b[49m\u001b[43m,\u001b[49m\n\u001b[1;32m    322\u001b[0m \u001b[43m     \u001b[49m\u001b[43mamsgrad\u001b[49m\u001b[38;5;241;43m=\u001b[39;49m\u001b[43mamsgrad\u001b[49m\u001b[43m,\u001b[49m\n\u001b[1;32m    323\u001b[0m \u001b[43m     \u001b[49m\u001b[43mhas_complex\u001b[49m\u001b[38;5;241;43m=\u001b[39;49m\u001b[43mhas_complex\u001b[49m\u001b[43m,\u001b[49m\n\u001b[1;32m    324\u001b[0m \u001b[43m     \u001b[49m\u001b[43mbeta1\u001b[49m\u001b[38;5;241;43m=\u001b[39;49m\u001b[43mbeta1\u001b[49m\u001b[43m,\u001b[49m\n\u001b[1;32m    325\u001b[0m \u001b[43m     \u001b[49m\u001b[43mbeta2\u001b[49m\u001b[38;5;241;43m=\u001b[39;49m\u001b[43mbeta2\u001b[49m\u001b[43m,\u001b[49m\n\u001b[1;32m    326\u001b[0m \u001b[43m     \u001b[49m\u001b[43mlr\u001b[49m\u001b[38;5;241;43m=\u001b[39;49m\u001b[43mlr\u001b[49m\u001b[43m,\u001b[49m\n\u001b[1;32m    327\u001b[0m \u001b[43m     \u001b[49m\u001b[43mweight_decay\u001b[49m\u001b[38;5;241;43m=\u001b[39;49m\u001b[43mweight_decay\u001b[49m\u001b[43m,\u001b[49m\n\u001b[1;32m    328\u001b[0m \u001b[43m     \u001b[49m\u001b[43meps\u001b[49m\u001b[38;5;241;43m=\u001b[39;49m\u001b[43meps\u001b[49m\u001b[43m,\u001b[49m\n\u001b[1;32m    329\u001b[0m \u001b[43m     \u001b[49m\u001b[43mmaximize\u001b[49m\u001b[38;5;241;43m=\u001b[39;49m\u001b[43mmaximize\u001b[49m\u001b[43m,\u001b[49m\n\u001b[1;32m    330\u001b[0m \u001b[43m     \u001b[49m\u001b[43mcapturable\u001b[49m\u001b[38;5;241;43m=\u001b[39;49m\u001b[43mcapturable\u001b[49m\u001b[43m,\u001b[49m\n\u001b[1;32m    331\u001b[0m \u001b[43m     \u001b[49m\u001b[43mdifferentiable\u001b[49m\u001b[38;5;241;43m=\u001b[39;49m\u001b[43mdifferentiable\u001b[49m\u001b[43m,\u001b[49m\n\u001b[1;32m    332\u001b[0m \u001b[43m     \u001b[49m\u001b[43mgrad_scale\u001b[49m\u001b[38;5;241;43m=\u001b[39;49m\u001b[43mgrad_scale\u001b[49m\u001b[43m,\u001b[49m\n\u001b[1;32m    333\u001b[0m \u001b[43m     \u001b[49m\u001b[43mfound_inf\u001b[49m\u001b[38;5;241;43m=\u001b[39;49m\u001b[43mfound_inf\u001b[49m\u001b[43m)\u001b[49m\n",
      "File \u001b[0;32m~/.pyenv/versions/3.11.3/envs/ml_project_3.11.3/lib/python3.11/site-packages/torch/optim/adam.py:439\u001b[0m, in \u001b[0;36m_single_tensor_adam\u001b[0;34m(params, grads, exp_avgs, exp_avg_sqs, max_exp_avg_sqs, state_steps, grad_scale, found_inf, amsgrad, has_complex, beta1, beta2, lr, weight_decay, eps, maximize, capturable, differentiable)\u001b[0m\n\u001b[1;32m    437\u001b[0m         denom \u001b[38;5;241m=\u001b[39m (max_exp_avg_sqs[i]\u001b[38;5;241m.\u001b[39msqrt() \u001b[38;5;241m/\u001b[39m bias_correction2_sqrt)\u001b[38;5;241m.\u001b[39madd_(eps)\n\u001b[1;32m    438\u001b[0m     \u001b[38;5;28;01melse\u001b[39;00m:\n\u001b[0;32m--> 439\u001b[0m         denom \u001b[38;5;241m=\u001b[39m \u001b[43m(\u001b[49m\u001b[43mexp_avg_sq\u001b[49m\u001b[38;5;241;43m.\u001b[39;49m\u001b[43msqrt\u001b[49m\u001b[43m(\u001b[49m\u001b[43m)\u001b[49m\u001b[43m \u001b[49m\u001b[38;5;241;43m/\u001b[39;49m\u001b[43m \u001b[49m\u001b[43mbias_correction2_sqrt\u001b[49m\u001b[43m)\u001b[49m\u001b[38;5;241;43m.\u001b[39;49m\u001b[43madd_\u001b[49m\u001b[43m(\u001b[49m\u001b[43meps\u001b[49m\u001b[43m)\u001b[49m\n\u001b[1;32m    441\u001b[0m     param\u001b[38;5;241m.\u001b[39maddcdiv_(exp_avg, denom, value\u001b[38;5;241m=\u001b[39m\u001b[38;5;241m-\u001b[39mstep_size)\n\u001b[1;32m    443\u001b[0m \u001b[38;5;66;03m# Lastly, switch back to complex view\u001b[39;00m\n",
      "\u001b[0;31mKeyboardInterrupt\u001b[0m: "
     ]
    }
   ],
   "source": [
    "save_file_name = 'evaluation_warm_fine_tune_test_mlp'\n",
    "mlp_initializer = lambda: NCFModel(num_epochs = 40, embedding_size = 50, batch_percent = 0.1, learning_rate = 1e-2, weight_decay=1e-6, mlp_hidden_layer_sizes = [128, 128, 128], seed=0, model_type='mlp', fine_tune_num_epochs=1, fine_tune_learning_rate=1e-1, fine_tune_weight_decay=1e-5, save_file_name=save_file_name, nn_save_name='best')\n",
    "evaluator.reset(mlp_initializer, network_save_file = save_file_name)\n",
    "get_evaluator_metrics(evaluator)\n",
    "evaluator.save_metrics(f'TEMP_{save_file_name}_200ep_1e-2_lr_1e-2_decay_batched_dropout', overwrite=True)\n",
    "print(evaluator.model.name())\n",
    "pprint(evaluator.metrics)\n",
    "print()"
   ]
  },
  {
   "cell_type": "code",
   "execution_count": null,
   "metadata": {},
   "outputs": [
    {
     "name": "stdout",
     "output_type": "stream",
     "text": [
      "Preparing model.\n",
      "Known Game Embeddings:  []\n",
      "Total Learnable Parameters: 5709806\n"
     ]
    },
    {
     "name": "stderr",
     "output_type": "stream",
     "text": [
      "Training: 100%|██████████| 40/40 [18:57<00:00, 28.43s/it]\n"
     ]
    },
    {
     "name": "stdout",
     "output_type": "stream",
     "text": [
      "Done preparing model.\n",
      "Loading model: evaluation_warm_fine_tune_test_ncf\n",
      "Doen loading model. evaluation_warm_fine_tune_test_ncf\n",
      "Getting predictions.\n"
     ]
    },
    {
     "name": "stderr",
     "output_type": "stream",
     "text": [
      "User Predictions: 100%|██████████| 10000/10000 [59:43<00:00,  2.79it/s] \n"
     ]
    },
    {
     "name": "stdout",
     "output_type": "stream",
     "text": [
      "Done getting predictions.\n",
      "Appending dataframe information.\n",
      "Ranking top N.\n",
      "Done getting edge results.\n",
      "neural_collborative_filtering_ncf\n",
      "{'auc_roc': 0.6936174641603697,\n",
      " 'log_positional_error_percentiles_figure': <Figure size 640x480 with 1 Axes>,\n",
      " 'mean_positional_error': 13.984669369429533,\n",
      " 'roc_figure': <Figure size 640x480 with 1 Axes>,\n",
      " 'top_10_hit_percentage': 0.05456,\n",
      " 'top_10_hit_percentage_user_percentiles_figure': <Figure size 640x480 with 1 Axes>,\n",
      " 'top_10_hit_percentage_variance': 0.005725263652636025,\n",
      " 'top_10_recall': nan,\n",
      " 'top_10_recall_user_percentiles_figure': <Figure size 640x480 with 1 Axes>,\n",
      " 'top_10_recall_variance': nan,\n",
      " 'top_50_hit_percentage': 0.030373939252121496,\n",
      " 'top_50_hit_percentage_user_percentiles_figure': <Figure size 640x480 with 1 Axes>,\n",
      " 'top_50_hit_percentage_variance': 0.001342661184842517,\n",
      " 'top_50_recall': nan,\n",
      " 'top_50_recall_user_percentiles_figure': <Figure size 640x480 with 1 Axes>,\n",
      " 'top_50_recall_variance': nan,\n",
      " 'user_rank_auc_roc': 0.6301376608340992,\n",
      " 'user_rank_auc_roc_variance': 1.4020584076721567e-06,\n",
      " 'user_rank_roc_figure': <Figure size 640x480 with 1 Axes>}\n",
      "\n"
     ]
    }
   ],
   "source": [
    "save_file_name = 'evaluation_warm_fine_tune_test_ncf'\n",
    "ncf_initializer = lambda: NCFModel(num_epochs = 40, embedding_size = 25, batch_percent = 0.1, learning_rate = 1e-2, weight_decay=1e-6, mlp_hidden_layer_sizes = [128, 128, 128], seed=0, model_type='ncf', fine_tune_num_epochs=1, fine_tune_learning_rate=1e-1, fine_tune_weight_decay=1e-5, save_file_name=save_file_name, nn_save_name='best')\n",
    "evaluator.reset(ncf_initializer, network_save_file = save_file_name)\n",
    "get_evaluator_metrics(evaluator)\n",
    "evaluator.save_metrics(f'TEMP_{save_file_name}_200ep_1e-2_lr_1e-2_decay_batched_dropout', overwrite=True)\n",
    "print(evaluator.model.name())\n",
    "pprint(evaluator.metrics)\n",
    "print()"
   ]
  },
  {
   "cell_type": "code",
   "execution_count": null,
   "metadata": {},
   "outputs": [],
   "source": []
  }
 ],
 "metadata": {
  "kernelspec": {
   "display_name": "Python 3",
   "language": "python",
   "name": "python3"
  },
  "language_info": {
   "codemirror_mode": {
    "name": "ipython",
    "version": 3
   },
   "file_extension": ".py",
   "mimetype": "text/x-python",
   "name": "python",
   "nbconvert_exporter": "python",
   "pygments_lexer": "ipython3",
   "version": "3.11.3"
  }
 },
 "nbformat": 4,
 "nbformat_minor": 2
}
