{
 "cells": [
  {
   "cell_type": "code",
   "execution_count": 1,
   "metadata": {},
   "outputs": [],
   "source": [
    "import sys\n",
    "import os\n",
    "sys.path.append(os.path.join(os.path.abspath(''), '../'))\n",
    "\n",
    "from evaluation.evaluation_harness import ColdFineTuneEvaluator, include_learnable_users, include_all_users\n",
    "from pprint import pprint\n",
    "\n",
    "from dataset.data_loader import DataLoader, playtime_forever_users_games_edge_scoring_function, LinearNormalizer, GaussianNormalizer, PercentileNormalizer, never_remove_edge, remove_zero_playtime_edge\n",
    "from models.random_model import RandomModel\n",
    "from models.common_neighbors_model import CommonNeighbors\n",
    "from models.popularity_model import GamePopularityModel\n",
    "from models.ncf_model import NCFModel"
   ]
  },
  {
   "cell_type": "code",
   "execution_count": 2,
   "metadata": {},
   "outputs": [],
   "source": [
    "data_loader = DataLoader(cache_local_dataset=True, users_games_edge_scoring_function = playtime_forever_users_games_edge_scoring_function, user_game_edge_embeddings = ['playtime_forever'], score_normalizers = [GaussianNormalizer(1.0, 1.0)])\n",
    "data_loader.load_random_user_train_tune_test_split(train_user_percentage=0.8, test_user_percentage=0.2, fine_tune_edge_percentage=0.8, test_edge_percentage=0.2, seed=0)\n",
    "data_loader.save_data_loader_parameters('test_evaluation_cold_fine_tune_data_loader', overwrite=True)\n",
    "evaluator = ColdFineTuneEvaluator(data_loader, top_N_games_to_eval = 500, num_users_to_eval=10000, user_eval_include_function=include_learnable_users, seed=842, debug=True)"
   ]
  },
  {
   "cell_type": "code",
   "execution_count": 3,
   "metadata": {},
   "outputs": [
    {
     "name": "stdout",
     "output_type": "stream",
     "text": [
      "Loading model: evaluation_cold_fine_tune_test_random_model\n",
      "Doen loading model. evaluation_cold_fine_tune_test_random_model\n",
      "Getting predictions.\n"
     ]
    },
    {
     "name": "stderr",
     "output_type": "stream",
     "text": [
      "User Predictions:   0%|          | 0/10000 [00:00<?, ?it/s]"
     ]
    },
    {
     "name": "stderr",
     "output_type": "stream",
     "text": [
      "User Predictions: 100%|██████████| 10000/10000 [03:53<00:00, 42.86it/s]\n"
     ]
    },
    {
     "name": "stdout",
     "output_type": "stream",
     "text": [
      "Done getting predictions.\n",
      "Appending dataframe information.\n",
      "Ranking top N.\n",
      "Done getting edge results.\n",
      "random\n",
      "{'auc_roc': 0.440659689477917,\n",
      " 'log_positional_error_percentiles_figure': <Figure size 640x480 with 1 Axes>,\n",
      " 'mean_positional_error': 93.04111829974256,\n",
      " 'roc_figure': <Figure size 640x480 with 1 Axes>,\n",
      " 'top_10_hit_percentage': 0.008870967741935484,\n",
      " 'top_10_hit_percentage_user_percentiles_figure': <Figure size 640x480 with 1 Axes>,\n",
      " 'top_10_hit_percentage_variance': 0.0011312874602086903,\n",
      " 'top_10_recall': 0.00031968999757810607,\n",
      " 'top_10_recall_user_percentiles_figure': <Figure size 640x480 with 1 Axes>,\n",
      " 'top_10_recall_variance': 8.74793949699276e-07,\n",
      " 'top_50_hit_percentage': 0.009623655913978495,\n",
      " 'top_50_hit_percentage_user_percentiles_figure': <Figure size 640x480 with 1 Axes>,\n",
      " 'top_50_hit_percentage_variance': 0.0008375378026451814,\n",
      " 'top_50_recall': 0.0017340760474691208,\n",
      " 'top_50_recall_user_percentiles_figure': <Figure size 640x480 with 1 Axes>,\n",
      " 'top_50_recall_variance': 4.772315507563366e-06,\n",
      " 'user_rank_auc_roc': 0.5006187616865567,\n",
      " 'user_rank_auc_roc_variance': 4.78241683538948e-05,\n",
      " 'user_rank_roc_figure': <Figure size 640x480 with 1 Axes>}\n",
      "\n"
     ]
    }
   ],
   "source": [
    "random_model_initializer = lambda: RandomModel()\n",
    "evaluator.reset(random_model_initializer, network_save_file = 'evaluation_cold_fine_tune_test_random_model')\n",
    "evaluator.plot_top_N_recall_percentiles(10)\n",
    "evaluator.plot_log_user_percentile_positional_error()\n",
    "evaluator.compute_mean_positional_error()\n",
    "evaluator.compute_top_N_recall(10)\n",
    "evaluator.plot_roc_curve()\n",
    "evaluator.compute_auc_roc()\n",
    "evaluator.plot_user_rank_roc_curve()\n",
    "evaluator.compute_user_rank_auc_roc()\n",
    "evaluator.plot_top_N_hit_percentage_percentiles(10)\n",
    "evaluator.compute_top_N_hit_percentage(10)\n",
    "evaluator.plot_top_N_hit_percentage_percentiles(50)\n",
    "evaluator.compute_top_N_hit_percentage(50)\n",
    "evaluator.compute_top_N_recall(50)\n",
    "evaluator.plot_top_N_recall_percentiles(50)\n",
    "evaluator.save_metrics('evaluation_cold_fine_tune_test_random_model_learnable_users', overwrite=True)\n",
    "print(evaluator.model.name())\n",
    "pprint(evaluator.metrics)\n",
    "print()"
   ]
  },
  {
   "cell_type": "code",
   "execution_count": 4,
   "metadata": {},
   "outputs": [
    {
     "name": "stdout",
     "output_type": "stream",
     "text": [
      "Loading model: evaluation_cold_fine_tune_test_popularity_model\n",
      "Doen loading model. evaluation_cold_fine_tune_test_popularity_model\n",
      "Getting predictions.\n"
     ]
    },
    {
     "name": "stderr",
     "output_type": "stream",
     "text": [
      "User Predictions:   0%|          | 0/10000 [00:00<?, ?it/s]"
     ]
    },
    {
     "name": "stderr",
     "output_type": "stream",
     "text": [
      "User Predictions: 100%|██████████| 10000/10000 [05:30<00:00, 30.26it/s] \n"
     ]
    },
    {
     "name": "stdout",
     "output_type": "stream",
     "text": [
      "Done getting predictions.\n",
      "Appending dataframe information.\n",
      "Ranking top N.\n",
      "Done getting edge results.\n",
      "game_popularity\n",
      "{'auc_roc': 0.524773386773775,\n",
      " 'log_positional_error_percentiles_figure': <Figure size 640x480 with 1 Axes>,\n",
      " 'mean_positional_error': 80.15028673175806,\n",
      " 'roc_figure': <Figure size 640x480 with 1 Axes>,\n",
      " 'top_10_hit_percentage': 0.3935483870967742,\n",
      " 'top_10_hit_percentage_user_percentiles_figure': <Figure size 640x480 with 1 Axes>,\n",
      " 'top_10_hit_percentage_variance': 0.04609980136873433,\n",
      " 'top_10_recall': 0.014182610801646888,\n",
      " 'top_10_recall_user_percentiles_figure': <Figure size 640x480 with 1 Axes>,\n",
      " 'top_10_recall_variance': 0.00034867677656894106,\n",
      " 'top_50_hit_percentage': 0.24290475166630832,\n",
      " 'top_50_hit_percentage_user_percentiles_figure': <Figure size 640x480 with 1 Axes>,\n",
      " 'top_50_hit_percentage_variance': 0.02127877834190516,\n",
      " 'top_50_recall': 0.04377815451683216,\n",
      " 'top_50_recall_user_percentiles_figure': <Figure size 640x480 with 1 Axes>,\n",
      " 'top_50_recall_variance': 0.002210604361956427,\n",
      " 'user_rank_auc_roc': 0.6152078726314225,\n",
      " 'user_rank_auc_roc_variance': 4.405244645357172e-06,\n",
      " 'user_rank_roc_figure': <Figure size 640x480 with 1 Axes>}\n",
      "\n"
     ]
    }
   ],
   "source": [
    "popularity_model_initializer = lambda: GamePopularityModel()\n",
    "evaluator.reset(popularity_model_initializer, network_save_file = 'evaluation_cold_fine_tune_test_popularity_model')\n",
    "evaluator.plot_top_N_recall_percentiles(10)\n",
    "evaluator.plot_log_user_percentile_positional_error()\n",
    "evaluator.compute_mean_positional_error()\n",
    "evaluator.compute_top_N_recall(10)\n",
    "evaluator.plot_roc_curve()\n",
    "evaluator.compute_auc_roc()\n",
    "evaluator.plot_user_rank_roc_curve()\n",
    "evaluator.compute_user_rank_auc_roc()\n",
    "evaluator.plot_top_N_hit_percentage_percentiles(10)\n",
    "evaluator.compute_top_N_hit_percentage(10)\n",
    "evaluator.plot_top_N_hit_percentage_percentiles(50)\n",
    "evaluator.compute_top_N_hit_percentage(50)\n",
    "evaluator.compute_top_N_recall(50)\n",
    "evaluator.plot_top_N_recall_percentiles(50)\n",
    "evaluator.save_metrics('evaluation_cold_fine_tune_test_popularity_model_learnable_users', overwrite=True)\n",
    "print(evaluator.model.name())\n",
    "pprint(evaluator.metrics)\n",
    "print()"
   ]
  },
  {
   "cell_type": "code",
   "execution_count": 5,
   "metadata": {},
   "outputs": [
    {
     "name": "stdout",
     "output_type": "stream",
     "text": [
      "Loading model: evaluation_cold_fine_tune_test_common_neighbors\n",
      "Doen loading model. evaluation_cold_fine_tune_test_common_neighbors\n",
      "Getting predictions.\n"
     ]
    },
    {
     "name": "stderr",
     "output_type": "stream",
     "text": [
      "User Predictions: 100%|██████████| 10000/10000 [08:43<00:00, 19.10it/s]\n"
     ]
    },
    {
     "name": "stdout",
     "output_type": "stream",
     "text": [
      "Done getting predictions.\n",
      "Appending dataframe information.\n",
      "Ranking top N.\n",
      "Done getting edge results.\n",
      "common_neighbors\n",
      "{'auc_roc': 0.6918851502917143,\n",
      " 'log_positional_error_percentiles_figure': <Figure size 640x480 with 1 Axes>,\n",
      " 'mean_positional_error': 73.52141992832965,\n",
      " 'roc_figure': <Figure size 640x480 with 1 Axes>,\n",
      " 'top_10_hit_percentage': 0.36155913978494625,\n",
      " 'top_10_hit_percentage_user_percentiles_figure': <Figure size 640x480 with 1 Axes>,\n",
      " 'top_10_hit_percentage_variance': 0.04200133288229289,\n",
      " 'top_10_recall': 0.013029789295228869,\n",
      " 'top_10_recall_user_percentiles_figure': <Figure size 640x480 with 1 Axes>,\n",
      " 'top_10_recall_variance': 0.0003263832356064836,\n",
      " 'user_rank_auc_roc': 0.6105256491488027,\n",
      " 'user_rank_auc_roc_variance': 4.010333972548571e-06,\n",
      " 'user_rank_roc_figure': <Figure size 640x480 with 1 Axes>}\n",
      "\n"
     ]
    }
   ],
   "source": [
    "common_neighbors_initializer = lambda: CommonNeighbors()\n",
    "evaluator.reset(common_neighbors_initializer, network_save_file = 'evaluation_cold_fine_tune_test_common_neighbors')\n",
    "evaluator.plot_top_N_recall_percentiles(10)\n",
    "evaluator.plot_log_user_percentile_positional_error()\n",
    "evaluator.compute_mean_positional_error()\n",
    "evaluator.compute_top_N_recall(10)\n",
    "evaluator.plot_roc_curve()\n",
    "evaluator.compute_auc_roc()\n",
    "evaluator.plot_user_rank_roc_curve()\n",
    "evaluator.compute_user_rank_auc_roc()\n",
    "evaluator.plot_top_N_hit_percentage_percentiles(10)\n",
    "evaluator.compute_top_N_hit_percentage(10)\n",
    "evaluator.save_metrics('evaluation_cold_fine_tune_test_common_neighbors_learnable_users', overwrite=True)\n",
    "print(evaluator.model.name())\n",
    "pprint(evaluator.metrics)\n",
    "print()"
   ]
  },
  {
   "cell_type": "code",
   "execution_count": 6,
   "metadata": {},
   "outputs": [
    {
     "name": "stdout",
     "output_type": "stream",
     "text": [
      "Loading model: evaluation_cold_fine_tune_test_cf\n",
      "Doen loading model. evaluation_cold_fine_tune_test_cf\n",
      "Getting predictions.\n"
     ]
    },
    {
     "name": "stderr",
     "output_type": "stream",
     "text": [
      "User Predictions: 100%|██████████| 10000/10000 [15:25<00:00, 10.80it/s]\n"
     ]
    },
    {
     "name": "stdout",
     "output_type": "stream",
     "text": [
      "Done getting predictions.\n",
      "Appending dataframe information.\n",
      "Ranking top N.\n",
      "Done getting edge results.\n",
      "neural_collborative_filtering_cf\n",
      "{'auc_roc': 0.2295984472727328,\n",
      " 'log_positional_error_percentiles_figure': <Figure size 640x480 with 1 Axes>,\n",
      " 'mean_positional_error': 92.56242040271884,\n",
      " 'roc_figure': <Figure size 640x480 with 1 Axes>,\n",
      " 'top_10_hit_percentage': 0.006182795698924731,\n",
      " 'top_10_hit_percentage_user_percentiles_figure': <Figure size 640x480 with 1 Axes>,\n",
      " 'top_10_hit_percentage_variance': 0.0006339864745697117,\n",
      " 'top_10_recall': 0.00022281424073625574,\n",
      " 'top_10_recall_user_percentiles_figure': <Figure size 640x480 with 1 Axes>,\n",
      " 'top_10_recall_variance': 7.088618480670005e-07,\n",
      " 'top_50_hit_percentage': 0.00849462365591398,\n",
      " 'top_50_hit_percentage_user_percentiles_figure': <Figure size 640x480 with 1 Axes>,\n",
      " 'top_50_hit_percentage_variance': 0.0005579788946914083,\n",
      " 'top_50_recall': 0.0015306369581012352,\n",
      " 'top_50_recall_user_percentiles_figure': <Figure size 640x480 with 1 Axes>,\n",
      " 'top_50_recall_variance': 4.533980855417167e-06,\n",
      " 'user_rank_auc_roc': 0.5014373300410797,\n",
      " 'user_rank_auc_roc_variance': 4.8625417269464264e-05,\n",
      " 'user_rank_roc_figure': <Figure size 640x480 with 1 Axes>}\n",
      "\n"
     ]
    }
   ],
   "source": [
    "save_file_name = 'evaluation_cold_fine_tune_test_cf'\n",
    "cf_initializer = lambda: NCFModel(num_epochs = 40, embedding_size = 50, batch_percent = 0.1, learning_rate = 1e-2, weight_decay=1e-6, mlp_hidden_layer_sizes = [], seed=0, model_type='cf', fine_tune_num_epochs=1, fine_tune_learning_rate=1e-1, fine_tune_weight_decay=1e-5, save_file_name=save_file_name, nn_save_name='best')\n",
    "evaluator.reset(cf_initializer, network_save_file = save_file_name)\n",
    "evaluator.plot_top_N_recall_percentiles(10)\n",
    "evaluator.plot_log_user_percentile_positional_error()\n",
    "evaluator.compute_mean_positional_error()\n",
    "evaluator.compute_top_N_recall(10)\n",
    "evaluator.plot_roc_curve()\n",
    "evaluator.compute_auc_roc()\n",
    "evaluator.plot_user_rank_roc_curve()\n",
    "evaluator.compute_user_rank_auc_roc()\n",
    "evaluator.plot_top_N_hit_percentage_percentiles(10)\n",
    "evaluator.compute_top_N_hit_percentage(10)\n",
    "evaluator.plot_top_N_hit_percentage_percentiles(50)\n",
    "evaluator.compute_top_N_hit_percentage(50)\n",
    "evaluator.compute_top_N_recall(50)\n",
    "evaluator.plot_top_N_recall_percentiles(50)\n",
    "evaluator.save_metrics(f'TEMP_{save_file_name}_200ep_1e-2_lr_1e-2_decay_batched_dropout_learnable_users', overwrite=True)\n",
    "print(evaluator.model.name())\n",
    "pprint(evaluator.metrics)\n",
    "print()"
   ]
  },
  {
   "cell_type": "code",
   "execution_count": 7,
   "metadata": {},
   "outputs": [
    {
     "name": "stdout",
     "output_type": "stream",
     "text": [
      "Loading model: evaluation_cold_fine_tune_test_gcf\n",
      "Doen loading model. evaluation_cold_fine_tune_test_gcf\n",
      "Getting predictions.\n"
     ]
    },
    {
     "name": "stderr",
     "output_type": "stream",
     "text": [
      "User Predictions:  59%|█████▊    | 5860/10000 [09:48<11:37,  5.94it/s]"
     ]
    }
   ],
   "source": [
    "save_file_name = 'evaluation_cold_fine_tune_test_gcf'\n",
    "gcf_initializer = lambda: NCFModel(num_epochs = 40, embedding_size = 50, batch_percent = 0.1, learning_rate = 1e-2, weight_decay=1e-6, mlp_hidden_layer_sizes = [], seed=0, model_type='gcf', fine_tune_num_epochs=1, fine_tune_learning_rate=1e-1, fine_tune_weight_decay=1e-5, save_file_name=save_file_name, nn_save_name='best')\n",
    "evaluator.reset(gcf_initializer, network_save_file = save_file_name)\n",
    "evaluator.plot_top_N_recall_percentiles(10)\n",
    "evaluator.plot_log_user_percentile_positional_error()\n",
    "evaluator.compute_mean_positional_error()\n",
    "evaluator.compute_top_N_recall(10)\n",
    "evaluator.plot_roc_curve()\n",
    "evaluator.compute_auc_roc()\n",
    "evaluator.plot_user_rank_roc_curve()\n",
    "evaluator.compute_user_rank_auc_roc()\n",
    "evaluator.plot_top_N_hit_percentage_percentiles(10)\n",
    "evaluator.compute_top_N_hit_percentage(10)\n",
    "evaluator.plot_top_N_hit_percentage_percentiles(50)\n",
    "evaluator.compute_top_N_hit_percentage(50)\n",
    "evaluator.compute_top_N_recall(50)\n",
    "evaluator.plot_top_N_recall_percentiles(50)\n",
    "evaluator.save_metrics(f'TEMP_{save_file_name}_200ep_1e-2_lr_1e-2_decay_batched_dropout_learnable_users', overwrite=True)\n",
    "print(evaluator.model.name())\n",
    "pprint(evaluator.metrics)\n",
    "print()"
   ]
  },
  {
   "cell_type": "code",
   "execution_count": null,
   "metadata": {},
   "outputs": [
    {
     "name": "stdout",
     "output_type": "stream",
     "text": [
      "Loading model: evaluation_cold_fine_tune_test_mlp\n",
      "Doen loading model. evaluation_cold_fine_tune_test_mlp\n",
      "Getting predictions.\n"
     ]
    },
    {
     "name": "stderr",
     "output_type": "stream",
     "text": [
      "User Predictions: 100%|██████████| 2000/2000 [14:50<00:00,  2.25it/s]\n"
     ]
    },
    {
     "name": "stdout",
     "output_type": "stream",
     "text": [
      "Done getting predictions.\n",
      "Appending dataframe information.\n",
      "Ranking top N.\n",
      "Done getting edge results.\n",
      "neural_collborative_filtering_mlp\n",
      "{'auc_roc': 0.7439824493833029,\n",
      " 'log_positional_error_percentiles_figure': <Figure size 640x480 with 1 Axes>,\n",
      " 'mean_positional_error': 21.286315666701356,\n",
      " 'roc_figure': <Figure size 640x480 with 1 Axes>,\n",
      " 'top_10_hit_percentage': 0.0018087855297157622,\n",
      " 'top_10_hit_percentage_user_percentiles_figure': <Figure size 640x480 with 1 Axes>,\n",
      " 'top_10_hit_percentage_variance': 0.0002810386408095109,\n",
      " 'top_10_recall': nan,\n",
      " 'top_10_recall_user_percentiles_figure': <Figure size 640x480 with 1 Axes>,\n",
      " 'top_10_recall_variance': nan,\n",
      " 'top_50_hit_percentage': 0.00248062015503876,\n",
      " 'top_50_hit_percentage_user_percentiles_figure': <Figure size 640x480 with 1 Axes>,\n",
      " 'top_50_hit_percentage_variance': 0.0001654313004578094,\n",
      " 'top_50_recall': nan,\n",
      " 'top_50_recall_user_percentiles_figure': <Figure size 640x480 with 1 Axes>,\n",
      " 'top_50_recall_variance': nan,\n",
      " 'user_rank_auc_roc': 0.4751282140552731,\n",
      " 'user_rank_auc_roc_variance': 0.00016202567758654812,\n",
      " 'user_rank_roc_figure': <Figure size 640x480 with 1 Axes>}\n",
      "\n"
     ]
    }
   ],
   "source": [
    "save_file_name = 'evaluation_cold_fine_tune_test_mlp'\n",
    "mlp_initializer = lambda: NCFModel(num_epochs = 40, embedding_size = 50, batch_percent = 0.1, learning_rate = 1e-2, weight_decay=1e-6, mlp_hidden_layer_sizes = [128, 128, 128], seed=0, model_type='mlp', fine_tune_num_epochs=1, fine_tune_learning_rate=1e-1, fine_tune_weight_decay=1e-5, save_file_name=save_file_name, nn_save_name='best')\n",
    "evaluator.reset(mlp_initializer, network_save_file = save_file_name)\n",
    "evaluator.plot_top_N_recall_percentiles(10)\n",
    "evaluator.plot_log_user_percentile_positional_error()\n",
    "evaluator.compute_mean_positional_error()\n",
    "evaluator.compute_top_N_recall(10)\n",
    "evaluator.plot_roc_curve()\n",
    "evaluator.compute_auc_roc()\n",
    "evaluator.plot_user_rank_roc_curve()\n",
    "evaluator.compute_user_rank_auc_roc()\n",
    "evaluator.plot_top_N_hit_percentage_percentiles(10)\n",
    "evaluator.compute_top_N_hit_percentage(10)\n",
    "evaluator.plot_top_N_hit_percentage_percentiles(50)\n",
    "evaluator.compute_top_N_hit_percentage(50)\n",
    "evaluator.compute_top_N_recall(50)\n",
    "evaluator.plot_top_N_recall_percentiles(50)\n",
    "evaluator.save_metrics(f'TEMP_{save_file_name}_200ep_1e-2_lr_1e-2_decay_batched_dropout_learnable_users', overwrite=True)\n",
    "print(evaluator.model.name())\n",
    "pprint(evaluator.metrics)\n",
    "print()"
   ]
  },
  {
   "cell_type": "code",
   "execution_count": null,
   "metadata": {},
   "outputs": [
    {
     "name": "stdout",
     "output_type": "stream",
     "text": [
      "Loading model: evaluation_cold_fine_tune_test_ncf\n",
      "Doen loading model. evaluation_cold_fine_tune_test_ncf\n",
      "Getting predictions.\n"
     ]
    },
    {
     "name": "stderr",
     "output_type": "stream",
     "text": [
      "User Predictions: 100%|██████████| 2000/2000 [23:18<00:00,  1.43it/s]\n"
     ]
    },
    {
     "name": "stdout",
     "output_type": "stream",
     "text": [
      "Done getting predictions.\n",
      "Appending dataframe information.\n",
      "Ranking top N.\n",
      "Done getting edge results.\n",
      "neural_collborative_filtering_ncf\n",
      "{'auc_roc': 0.5926339856319061,\n",
      " 'log_positional_error_percentiles_figure': <Figure size 640x480 with 1 Axes>,\n",
      " 'mean_positional_error': 20.568894575050212,\n",
      " 'roc_figure': <Figure size 640x480 with 1 Axes>,\n",
      " 'top_10_hit_percentage': 0.002325581395348837,\n",
      " 'top_10_hit_percentage_user_percentiles_figure': <Figure size 640x480 with 1 Axes>,\n",
      " 'top_10_hit_percentage_variance': 0.00022720852092061725,\n",
      " 'top_10_recall': nan,\n",
      " 'top_10_recall_user_percentiles_figure': <Figure size 640x480 with 1 Axes>,\n",
      " 'top_10_recall_variance': nan,\n",
      " 'top_50_hit_percentage': 0.0022222222222222222,\n",
      " 'top_50_hit_percentage_user_percentiles_figure': <Figure size 640x480 with 1 Axes>,\n",
      " 'top_50_hit_percentage_variance': 9.119047208871058e-05,\n",
      " 'top_50_recall': nan,\n",
      " 'top_50_recall_user_percentiles_figure': <Figure size 640x480 with 1 Axes>,\n",
      " 'top_50_recall_variance': nan,\n",
      " 'user_rank_auc_roc': 0.49307202991468607,\n",
      " 'user_rank_auc_roc_variance': 0.00019081839308317318,\n",
      " 'user_rank_roc_figure': <Figure size 640x480 with 1 Axes>}\n",
      "\n"
     ]
    }
   ],
   "source": [
    "save_file_name = 'evaluation_cold_fine_tune_test_ncf'\n",
    "ncf_initializer = lambda: NCFModel(num_epochs = 40, embedding_size = 25, batch_percent = 0.1, learning_rate = 1e-2, weight_decay=1e-6, mlp_hidden_layer_sizes = [128, 128, 128], seed=0, model_type='ncf', fine_tune_num_epochs=1, fine_tune_learning_rate=1e-1, fine_tune_weight_decay=1e-5, save_file_name=save_file_name, nn_save_name='best')\n",
    "evaluator.reset(ncf_initializer, network_save_file = save_file_name)\n",
    "evaluator.plot_top_N_recall_percentiles(10)\n",
    "evaluator.plot_log_user_percentile_positional_error()\n",
    "evaluator.compute_mean_positional_error()\n",
    "evaluator.compute_top_N_recall(10)\n",
    "evaluator.plot_roc_curve()\n",
    "evaluator.compute_auc_roc()\n",
    "evaluator.plot_user_rank_roc_curve()\n",
    "evaluator.compute_user_rank_auc_roc()\n",
    "evaluator.plot_top_N_hit_percentage_percentiles(10)\n",
    "evaluator.compute_top_N_hit_percentage(10)\n",
    "evaluator.plot_top_N_hit_percentage_percentiles(50)\n",
    "evaluator.compute_top_N_hit_percentage(50)\n",
    "evaluator.compute_top_N_recall(50)\n",
    "evaluator.plot_top_N_recall_percentiles(50)\n",
    "evaluator.save_metrics(f'TEMP_{save_file_name}_200ep_1e-2_lr_1e-2_decay_batched_dropout_learnable_users', overwrite=True)\n",
    "print(evaluator.model.name())\n",
    "pprint(evaluator.metrics)\n",
    "print()"
   ]
  },
  {
   "cell_type": "code",
   "execution_count": null,
   "metadata": {},
   "outputs": [],
   "source": []
  }
 ],
 "metadata": {
  "kernelspec": {
   "display_name": "Python 3",
   "language": "python",
   "name": "python3"
  },
  "language_info": {
   "codemirror_mode": {
    "name": "ipython",
    "version": 3
   },
   "file_extension": ".py",
   "mimetype": "text/x-python",
   "name": "python",
   "nbconvert_exporter": "python",
   "pygments_lexer": "ipython3",
   "version": "3.11.3"
  }
 },
 "nbformat": 4,
 "nbformat_minor": 2
}
