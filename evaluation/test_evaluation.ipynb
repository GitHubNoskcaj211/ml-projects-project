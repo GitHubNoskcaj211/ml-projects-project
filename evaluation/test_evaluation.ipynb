{
 "cells": [
  {
   "cell_type": "code",
   "execution_count": 1,
   "metadata": {},
   "outputs": [],
   "source": [
    "import sys\n",
    "import os\n",
    "sys.path.append(os.path.join(os.path.abspath(''), '../'))\n",
    "\n",
    "from evaluation.evaluation_harness import TrainEvaluator\n",
    "from pprint import pprint\n",
    "\n",
    "from dataset.data_loader import DataLoader, playtime_forever_users_games_edge_scoring_function, LinearNormalizer, GaussianNormalizer, PercentileNormalizer, never_remove_edge, remove_zero_playtime_edge\n",
    "from models.random_model import RandomModel\n",
    "from models.common_neighbors_model import CommonNeighbors\n",
    "from models.popularity_model import GamePopularityModel\n",
    "from models.ncf_model import NCFModel"
   ]
  },
  {
   "cell_type": "code",
   "execution_count": 2,
   "metadata": {},
   "outputs": [],
   "source": [
    "data_loader = DataLoader(cache_local_dataset=True, users_games_edge_scoring_function = playtime_forever_users_games_edge_scoring_function, user_game_edge_embeddings = ['playtime_forever'], score_normalizers = [GaussianNormalizer(1.0, 1.0)])\n",
    "data_loader.load_random_edge_train_test_split(train_percentage=0.8, test_percentage=0.2, seed=0)\n",
    "\n",
    "evaluator = TrainEvaluator(data_loader, top_N_games_to_eval = 500, num_users_to_eval=10000, seed=0, debug=True)"
   ]
  },
  {
   "cell_type": "code",
   "execution_count": 4,
   "metadata": {},
   "outputs": [
    {
     "name": "stdout",
     "output_type": "stream",
     "text": [
      "Loading model: evaluation_test_random_model\n",
      "Doen loading model. evaluation_test_random_model\n",
      "Getting predictions.\n"
     ]
    },
    {
     "name": "stderr",
     "output_type": "stream",
     "text": [
      "User Predictions: 100%|██████████| 10000/10000 [03:02<00:00, 54.90it/s]\n"
     ]
    },
    {
     "name": "stdout",
     "output_type": "stream",
     "text": [
      "Done getting predictions.\n",
      "Appending dataframe information.\n",
      "Ranking top N.\n",
      "Done getting edge results.\n",
      "random\n",
      "{'auc_roc': 0.43892371584260326,\n",
      " 'log_positional_error_percentiles_figure': <Figure size 640x480 with 1 Axes>,\n",
      " 'mean_positional_error': 20.88192135711662,\n",
      " 'roc_figure': <Figure size 640x480 with 1 Axes>,\n",
      " 'top_10_recall': 0.0003529251613792315,\n",
      " 'top_10_recall_user_percentiles_figure': <Figure size 640x480 with 1 Axes>,\n",
      " 'user_rank_auc_roc': 0.5003802848169288,\n",
      " 'user_rank_roc_figure': <Figure size 640x480 with 1 Axes>}\n",
      "\n"
     ]
    }
   ],
   "source": [
    "random_model_initializer = lambda: RandomModel()\n",
    "evaluator.reset(random_model_initializer, network_save_file = 'evaluation_test_random_model')\n",
    "evaluator.plot_top_N_recall_percentiles(10)\n",
    "evaluator.plot_log_user_percentile_positional_error()\n",
    "evaluator.compute_mean_positional_error()\n",
    "evaluator.compute_top_N_recall(10)\n",
    "evaluator.plot_roc_curve()\n",
    "evaluator.compute_auc_roc()\n",
    "evaluator.plot_user_rank_roc_curve()\n",
    "evaluator.compute_user_rank_auc_roc()\n",
    "evaluator.plot_top_N_hit_percentage_percentiles(10)\n",
    "evaluator.compute_top_N_hit_percentage(10)\n",
    "evaluator.plot_top_N_hit_percentage_percentiles(50)\n",
    "evaluator.compute_top_N_hit_percentage(50)\n",
    "evaluator.compute_top_N_recall(50)\n",
    "evaluator.plot_top_N_recall_percentiles(50)\n",
    "evaluator.save_metrics('test_random_model', overwrite=True)\n",
    "print(evaluator.model.name())\n",
    "pprint(evaluator.metrics)\n",
    "print()"
   ]
  },
  {
   "cell_type": "code",
   "execution_count": 3,
   "metadata": {},
   "outputs": [
    {
     "name": "stdout",
     "output_type": "stream",
     "text": [
      "Loading model: evaluation_test_popularity_model\n",
      "Doen loading model. evaluation_test_popularity_model\n",
      "Getting predictions.\n"
     ]
    },
    {
     "name": "stderr",
     "output_type": "stream",
     "text": [
      "User Predictions:   0%|          | 0/10000 [00:00<?, ?it/s]"
     ]
    },
    {
     "name": "stderr",
     "output_type": "stream",
     "text": [
      "User Predictions: 100%|██████████| 10000/10000 [01:24<00:00, 117.69it/s]\n"
     ]
    },
    {
     "name": "stdout",
     "output_type": "stream",
     "text": [
      "Done getting predictions.\n",
      "Appending dataframe information.\n",
      "Ranking top N.\n",
      "Done getting edge results.\n",
      "game_popularity\n",
      "{'auc_roc': 0.5515575916825022,\n",
      " 'log_positional_error_percentiles_figure': <Figure size 640x480 with 1 Axes>,\n",
      " 'mean_positional_error': 18.282347335138635,\n",
      " 'roc_figure': <Figure size 640x480 with 1 Axes>,\n",
      " 'top_10_recall': 0.03173301379601262,\n",
      " 'top_10_recall_user_percentiles_figure': <Figure size 640x480 with 1 Axes>,\n",
      " 'user_rank_auc_roc': 0.6601328958203395,\n",
      " 'user_rank_roc_figure': <Figure size 640x480 with 1 Axes>}\n",
      "\n"
     ]
    }
   ],
   "source": [
    "popularity_model_initializer = lambda: GamePopularityModel()\n",
    "evaluator.reset(popularity_model_initializer, network_save_file = 'evaluation_test_popularity_model')\n",
    "evaluator.plot_top_N_recall_percentiles(10)\n",
    "evaluator.plot_log_user_percentile_positional_error()\n",
    "evaluator.compute_mean_positional_error()\n",
    "evaluator.compute_top_N_recall(10)\n",
    "evaluator.plot_roc_curve()\n",
    "evaluator.compute_auc_roc()\n",
    "evaluator.plot_user_rank_roc_curve()\n",
    "evaluator.compute_user_rank_auc_roc()\n",
    "evaluator.plot_top_N_hit_percentage_percentiles(10)\n",
    "evaluator.compute_top_N_hit_percentage(10)\n",
    "evaluator.plot_top_N_hit_percentage_percentiles(50)\n",
    "evaluator.compute_top_N_hit_percentage(50)\n",
    "evaluator.compute_top_N_recall(50)\n",
    "evaluator.plot_top_N_recall_percentiles(50)\n",
    "evaluator.save_metrics('test_popularity_model', overwrite=True)\n",
    "print(evaluator.model.name())\n",
    "pprint(evaluator.metrics)\n",
    "print()"
   ]
  },
  {
   "cell_type": "code",
   "execution_count": 5,
   "metadata": {},
   "outputs": [
    {
     "name": "stdout",
     "output_type": "stream",
     "text": [
      "Loading model: evaluation_test_common_neighbors\n",
      "Doen loading model. evaluation_test_common_neighbors\n",
      "Getting predictions.\n"
     ]
    },
    {
     "name": "stderr",
     "output_type": "stream",
     "text": [
      "User Predictions: 100%|██████████| 10000/10000 [11:49<00:00, 14.09it/s]\n"
     ]
    },
    {
     "name": "stdout",
     "output_type": "stream",
     "text": [
      "Done getting predictions.\n",
      "Appending dataframe information.\n",
      "Ranking top N.\n",
      "Done getting edge results.\n",
      "common_neighbors\n",
      "{'auc_roc': 0.8613416577261556,\n",
      " 'log_positional_error_percentiles_figure': <Figure size 640x480 with 1 Axes>,\n",
      " 'mean_positional_error': 17.23173562413738,\n",
      " 'roc_figure': <Figure size 640x480 with 1 Axes>,\n",
      " 'top_10_recall': 0.029543197199454814,\n",
      " 'top_10_recall_user_percentiles_figure': <Figure size 640x480 with 1 Axes>,\n",
      " 'user_rank_auc_roc': 0.6511261844784793,\n",
      " 'user_rank_roc_figure': <Figure size 640x480 with 1 Axes>}\n",
      "\n"
     ]
    }
   ],
   "source": [
    "common_neighbors_initializer = lambda: CommonNeighbors()\n",
    "evaluator.reset(common_neighbors_initializer, network_save_file = 'evaluation_test_common_neighbors')\n",
    "evaluator.plot_top_N_recall_percentiles(10)\n",
    "evaluator.plot_log_user_percentile_positional_error()\n",
    "evaluator.compute_mean_positional_error()\n",
    "evaluator.compute_top_N_recall(10)\n",
    "evaluator.plot_roc_curve()\n",
    "evaluator.compute_auc_roc()\n",
    "evaluator.plot_user_rank_roc_curve()\n",
    "evaluator.compute_user_rank_auc_roc()\n",
    "evaluator.plot_top_N_hit_percentage_percentiles(10)\n",
    "evaluator.compute_top_N_hit_percentage(10)\n",
    "evaluator.plot_top_N_hit_percentage_percentiles(50)\n",
    "evaluator.compute_top_N_hit_percentage(50)\n",
    "evaluator.compute_top_N_recall(50)\n",
    "evaluator.plot_top_N_recall_percentiles(50)\n",
    "evaluator.save_metrics('test_common_neighbors', overwrite=True)\n",
    "print(evaluator.model.name())\n",
    "pprint(evaluator.metrics)\n",
    "print()"
   ]
  },
  {
   "cell_type": "code",
   "execution_count": 4,
   "metadata": {},
   "outputs": [
    {
     "name": "stdout",
     "output_type": "stream",
     "text": [
      "Preparing model.\n",
      "Known Game Embeddings:  []\n",
      "Known User Embeddings:  []\n",
      "Total Learnable Parameters: 11340200\n"
     ]
    },
    {
     "name": "stderr",
     "output_type": "stream",
     "text": [
      "Training: 100%|██████████| 40/40 [04:18<00:00,  6.46s/it]\n"
     ]
    },
    {
     "name": "stdout",
     "output_type": "stream",
     "text": [
      "Done preparing model.\n",
      "Getting predictions.\n"
     ]
    },
    {
     "name": "stderr",
     "output_type": "stream",
     "text": [
      "User Predictions: 100%|██████████| 10000/10000 [14:57<00:00, 11.14it/s]\n"
     ]
    },
    {
     "name": "stdout",
     "output_type": "stream",
     "text": [
      "Done getting predictions.\n",
      "Appending dataframe information.\n",
      "Ranking top N.\n",
      "Done getting edge results.\n",
      "neural_collborative_filtering_cf\n",
      "{'auc_roc': 0.7340210416150023,\n",
      " 'log_positional_error_percentiles_figure': <Figure size 640x480 with 1 Axes>,\n",
      " 'mean_positional_error': 14.421820158164929,\n",
      " 'roc_figure': <Figure size 640x480 with 1 Axes>,\n",
      " 'top_10_hit_percentage': 0.06012,\n",
      " 'top_10_hit_percentage_user_percentiles_figure': <Figure size 640x480 with 1 Axes>,\n",
      " 'top_10_recall': 0.010103743191485428,\n",
      " 'top_10_recall_user_percentiles_figure': <Figure size 640x480 with 1 Axes>,\n",
      " 'top_50_hit_percentage': 0.02493795012409975,\n",
      " 'top_50_hit_percentage_user_percentiles_figure': <Figure size 640x480 with 1 Axes>,\n",
      " 'top_50_recall': 0.020955351605893513,\n",
      " 'top_50_recall_user_percentiles_figure': <Figure size 640x480 with 1 Axes>,\n",
      " 'user_rank_auc_roc': 0.6114655030547682,\n",
      " 'user_rank_roc_figure': <Figure size 640x480 with 1 Axes>}\n",
      "\n"
     ]
    }
   ],
   "source": [
    "cf_initializer = lambda: NCFModel(num_epochs = 40, embedding_size = 100, batch_percent = 0.1, learning_rate = 1e-2, weight_decay=1e-6, mlp_hidden_layer_sizes = [], seed=0, model_type='cf', fine_tune_num_epochs=1, fine_tune_learning_rate=1e-1, fine_tune_weight_decay=1e-5)\n",
    "evaluator.reset(cf_initializer, network_save_file = 'evaluation_test_cf_low_weight_decay')\n",
    "evaluator.plot_top_N_recall_percentiles(10)\n",
    "evaluator.plot_log_user_percentile_positional_error()\n",
    "evaluator.compute_mean_positional_error()\n",
    "evaluator.compute_top_N_recall(10)\n",
    "evaluator.plot_roc_curve()\n",
    "evaluator.compute_auc_roc()\n",
    "evaluator.plot_user_rank_roc_curve()\n",
    "evaluator.compute_user_rank_auc_roc()\n",
    "evaluator.plot_top_N_hit_percentage_percentiles(10)\n",
    "evaluator.compute_top_N_hit_percentage(10)\n",
    "evaluator.plot_top_N_hit_percentage_percentiles(50)\n",
    "evaluator.compute_top_N_hit_percentage(50)\n",
    "evaluator.compute_top_N_recall(50)\n",
    "evaluator.plot_top_N_recall_percentiles(50)\n",
    "evaluator.save_metrics('test_cf_low_weight_decay', overwrite=True)\n",
    "print(evaluator.model.name())\n",
    "pprint(evaluator.metrics)\n",
    "print()"
   ]
  },
  {
   "cell_type": "code",
   "execution_count": 5,
   "metadata": {},
   "outputs": [
    {
     "name": "stdout",
     "output_type": "stream",
     "text": [
      "Preparing model.\n",
      "Known Game Embeddings:  []\n",
      "Known User Embeddings:  []\n",
      "Total Learnable Parameters: 11340301\n"
     ]
    },
    {
     "name": "stderr",
     "output_type": "stream",
     "text": [
      "Training: 100%|██████████| 40/40 [18:15<00:00, 27.38s/it]\n"
     ]
    },
    {
     "name": "stdout",
     "output_type": "stream",
     "text": [
      "Done preparing model.\n",
      "Getting predictions.\n"
     ]
    },
    {
     "name": "stderr",
     "output_type": "stream",
     "text": [
      "User Predictions: 100%|██████████| 10000/10000 [14:31<00:00, 11.47it/s]\n"
     ]
    },
    {
     "name": "stdout",
     "output_type": "stream",
     "text": [
      "Done getting predictions.\n",
      "Appending dataframe information.\n",
      "Ranking top N.\n",
      "Done getting edge results.\n",
      "neural_collborative_filtering_gcf\n",
      "{'auc_roc': 0.7016251268778072,\n",
      " 'log_positional_error_percentiles_figure': <Figure size 640x480 with 1 Axes>,\n",
      " 'mean_positional_error': 18.614020300150695,\n",
      " 'roc_figure': <Figure size 640x480 with 1 Axes>,\n",
      " 'top_10_hit_percentage': 0.018589814101858983,\n",
      " 'top_10_hit_percentage_user_percentiles_figure': <Figure size 640x480 with 1 Axes>,\n",
      " 'top_10_recall': 0.003124227976209483,\n",
      " 'top_10_recall_user_percentiles_figure': <Figure size 640x480 with 1 Axes>,\n",
      " 'top_50_hit_percentage': 0.011064,\n",
      " 'top_50_hit_percentage_user_percentiles_figure': <Figure size 640x480 with 1 Axes>,\n",
      " 'top_50_recall': 0.0092970571083329,\n",
      " 'top_50_recall_user_percentiles_figure': <Figure size 640x480 with 1 Axes>,\n",
      " 'user_rank_auc_roc': 0.5680052218503666,\n",
      " 'user_rank_roc_figure': <Figure size 640x480 with 1 Axes>}\n",
      "\n"
     ]
    }
   ],
   "source": [
    "gcf_initializer = lambda: NCFModel(num_epochs = 40, embedding_size = 100, batch_percent = 0.1, learning_rate = 1e-3, weight_decay=1e-6, mlp_hidden_layer_sizes = [], seed=0, model_type='gcf', fine_tune_num_epochs=1, fine_tune_learning_rate=1e-1, fine_tune_weight_decay=1e-5)\n",
    "evaluator.reset(gcf_initializer, network_save_file = 'evaluation_test_gcf_low_weight_decay')\n",
    "evaluator.plot_top_N_recall_percentiles(10)\n",
    "evaluator.plot_log_user_percentile_positional_error()\n",
    "evaluator.compute_mean_positional_error()\n",
    "evaluator.compute_top_N_recall(10)\n",
    "evaluator.plot_roc_curve()\n",
    "evaluator.compute_auc_roc()\n",
    "evaluator.plot_user_rank_roc_curve()\n",
    "evaluator.compute_user_rank_auc_roc()\n",
    "evaluator.plot_top_N_hit_percentage_percentiles(10)\n",
    "evaluator.compute_top_N_hit_percentage(10)\n",
    "evaluator.plot_top_N_hit_percentage_percentiles(50)\n",
    "evaluator.compute_top_N_hit_percentage(50)\n",
    "evaluator.compute_top_N_recall(50)\n",
    "evaluator.plot_top_N_recall_percentiles(50)\n",
    "evaluator.save_metrics('test_gcf_low_weight_decay', overwrite=True)\n",
    "print(evaluator.model.name())\n",
    "pprint(evaluator.metrics)\n",
    "print()"
   ]
  },
  {
   "cell_type": "code",
   "execution_count": 6,
   "metadata": {},
   "outputs": [
    {
     "name": "stdout",
     "output_type": "stream",
     "text": [
      "Preparing model.\n",
      "Known Game Embeddings:  []\n",
      "Known User Embeddings:  []\n",
      "Total Learnable Parameters: 11399081\n"
     ]
    },
    {
     "name": "stderr",
     "output_type": "stream",
     "text": [
      "Training: 100%|██████████| 40/40 [54:05<00:00, 81.14s/it] \n"
     ]
    },
    {
     "name": "stdout",
     "output_type": "stream",
     "text": [
      "Done preparing model.\n",
      "Getting predictions.\n"
     ]
    },
    {
     "name": "stderr",
     "output_type": "stream",
     "text": [
      "User Predictions: 100%|██████████| 10000/10000 [12:46<00:00, 13.05it/s]\n"
     ]
    },
    {
     "name": "stdout",
     "output_type": "stream",
     "text": [
      "Done getting predictions.\n",
      "Appending dataframe information.\n",
      "Ranking top N.\n",
      "Done getting edge results.\n",
      "neural_collborative_filtering_mlp\n",
      "{'auc_roc': 0.6683662616649821,\n",
      " 'log_positional_error_percentiles_figure': <Figure size 640x480 with 1 Axes>,\n",
      " 'mean_positional_error': 16.025783472765504,\n",
      " 'roc_figure': <Figure size 640x480 with 1 Axes>,\n",
      " 'top_10_hit_percentage': 0.03668,\n",
      " 'top_10_hit_percentage_user_percentiles_figure': <Figure size 640x480 with 1 Axes>,\n",
      " 'top_10_recall': 0.006164426152090578,\n",
      " 'top_10_recall_user_percentiles_figure': <Figure size 640x480 with 1 Axes>,\n",
      " 'top_50_hit_percentage': 0.011698,\n",
      " 'top_50_hit_percentage_user_percentiles_figure': <Figure size 640x480 with 1 Axes>,\n",
      " 'top_50_recall': 0.009829806042414882,\n",
      " 'top_50_recall_user_percentiles_figure': <Figure size 640x480 with 1 Axes>,\n",
      " 'user_rank_auc_roc': 0.6229606684785438,\n",
      " 'user_rank_roc_figure': <Figure size 640x480 with 1 Axes>}\n",
      "\n"
     ]
    }
   ],
   "source": [
    "mlp_initializer = lambda: NCFModel(num_epochs = 40, embedding_size = 100, batch_percent = 0.1, learning_rate = 1e-3, weight_decay=1e-6, mlp_hidden_layer_sizes = [128, 128, 128], seed=0, model_type='mlp', fine_tune_num_epochs=1, fine_tune_learning_rate=1e-1, fine_tune_weight_decay=1e-5)\n",
    "evaluator.reset(mlp_initializer, network_save_file = 'evaluation_test_mlp_low_weight_decay')\n",
    "evaluator.plot_top_N_recall_percentiles(10)\n",
    "evaluator.plot_log_user_percentile_positional_error()\n",
    "evaluator.compute_mean_positional_error()\n",
    "evaluator.compute_top_N_recall(10)\n",
    "evaluator.plot_roc_curve()\n",
    "evaluator.compute_auc_roc()\n",
    "evaluator.plot_user_rank_roc_curve()\n",
    "evaluator.compute_user_rank_auc_roc()\n",
    "evaluator.plot_top_N_hit_percentage_percentiles(10)\n",
    "evaluator.compute_top_N_hit_percentage(10)\n",
    "evaluator.plot_top_N_hit_percentage_percentiles(50)\n",
    "evaluator.compute_top_N_hit_percentage(50)\n",
    "evaluator.compute_top_N_recall(50)\n",
    "evaluator.plot_top_N_recall_percentiles(50)\n",
    "evaluator.save_metrics('test_mlp_low_weight_decay', overwrite=True)\n",
    "print(evaluator.model.name())\n",
    "pprint(evaluator.metrics)\n",
    "print()"
   ]
  },
  {
   "cell_type": "code",
   "execution_count": 3,
   "metadata": {},
   "outputs": [
    {
     "name": "stdout",
     "output_type": "stream",
     "text": [
      "Preparing model.\n",
      "Known Game Embeddings:  []\n",
      "Known User Embeddings:  []\n",
      "Total Learnable Parameters: 22739381\n"
     ]
    },
    {
     "name": "stderr",
     "output_type": "stream",
     "text": [
      "Training: 100%|██████████| 40/40 [1:01:29<00:00, 92.25s/it] \n"
     ]
    },
    {
     "name": "stdout",
     "output_type": "stream",
     "text": [
      "Done preparing model.\n",
      "Getting predictions.\n"
     ]
    },
    {
     "name": "stderr",
     "output_type": "stream",
     "text": [
      "User Predictions: 100%|██████████| 10000/10000 [17:51<00:00,  9.33it/s] \n"
     ]
    },
    {
     "name": "stdout",
     "output_type": "stream",
     "text": [
      "Done getting predictions.\n",
      "Appending dataframe information.\n",
      "Ranking top N.\n",
      "Done getting edge results.\n",
      "neural_collborative_filtering_ncf\n",
      "{'auc_roc': 0.692817107699023,\n",
      " 'log_positional_error_percentiles_figure': <Figure size 640x480 with 1 Axes>,\n",
      " 'mean_positional_error': 15.973808514978835,\n",
      " 'roc_figure': <Figure size 640x480 with 1 Axes>,\n",
      " 'top_10_hit_percentage': 0.04527,\n",
      " 'top_10_hit_percentage_user_percentiles_figure': <Figure size 640x480 with 1 Axes>,\n",
      " 'top_10_recall': 0.007608058121732291,\n",
      " 'top_10_recall_user_percentiles_figure': <Figure size 640x480 with 1 Axes>,\n",
      " 'top_50_hit_percentage': 0.014183971632056735,\n",
      " 'top_50_hit_percentage_user_percentiles_figure': <Figure size 640x480 with 1 Axes>,\n",
      " 'top_50_recall': 0.011918786878578619,\n",
      " 'top_50_recall_user_percentiles_figure': <Figure size 640x480 with 1 Axes>,\n",
      " 'user_rank_auc_roc': 0.6395964476603843,\n",
      " 'user_rank_roc_figure': <Figure size 640x480 with 1 Axes>}\n",
      "\n"
     ]
    }
   ],
   "source": [
    "ncf_initializer = lambda: NCFModel(num_epochs = 40, embedding_size = 100, batch_percent = 0.1, learning_rate = 1e-3, weight_decay=1e-6, mlp_hidden_layer_sizes = [128, 128, 128], seed=0, model_type='ncf', fine_tune_num_epochs=1, fine_tune_learning_rate=1e-1, fine_tune_weight_decay=1e-5)\n",
    "evaluator.reset(ncf_initializer, network_save_file = 'evaluation_test_ncf_low_weight_decay')\n",
    "evaluator.plot_top_N_recall_percentiles(10)\n",
    "evaluator.plot_log_user_percentile_positional_error()\n",
    "evaluator.compute_mean_positional_error()\n",
    "evaluator.compute_top_N_recall(10)\n",
    "evaluator.plot_roc_curve()\n",
    "evaluator.compute_auc_roc()\n",
    "evaluator.plot_user_rank_roc_curve()\n",
    "evaluator.compute_user_rank_auc_roc()\n",
    "evaluator.plot_top_N_hit_percentage_percentiles(10)\n",
    "evaluator.compute_top_N_hit_percentage(10)\n",
    "evaluator.plot_top_N_hit_percentage_percentiles(50)\n",
    "evaluator.compute_top_N_hit_percentage(50)\n",
    "evaluator.compute_top_N_recall(50)\n",
    "evaluator.plot_top_N_recall_percentiles(50)\n",
    "evaluator.save_metrics('test_ncf_low_weight_decay', overwrite=True)\n",
    "print(evaluator.model.name())\n",
    "pprint(evaluator.metrics)\n",
    "print()"
   ]
  },
  {
   "cell_type": "code",
   "execution_count": null,
   "metadata": {},
   "outputs": [],
   "source": []
  }
 ],
 "metadata": {
  "kernelspec": {
   "display_name": "Python 3",
   "language": "python",
   "name": "python3"
  },
  "language_info": {
   "codemirror_mode": {
    "name": "ipython",
    "version": 3
   },
   "file_extension": ".py",
   "mimetype": "text/x-python",
   "name": "python",
   "nbconvert_exporter": "python",
   "pygments_lexer": "ipython3",
   "version": "3.11.3"
  }
 },
 "nbformat": 4,
 "nbformat_minor": 2
}
