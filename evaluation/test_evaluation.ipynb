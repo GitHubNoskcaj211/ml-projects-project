{
 "cells": [
  {
   "cell_type": "code",
   "execution_count": 1,
   "metadata": {},
   "outputs": [],
   "source": [
    "import sys\n",
    "import os\n",
    "sys.path.append(os.path.join(os.path.abspath(''), '../'))\n",
    "\n",
    "from evaluation.evaluation_harness import TrainEvaluator, include_learnable_users, include_all_users\n",
    "from pprint import pprint\n",
    "\n",
    "from dataset.data_loader import DataLoader, playtime_forever_users_games_edge_scoring_function, LinearNormalizer, GaussianNormalizer, PercentileNormalizer, never_remove_edge, remove_zero_playtime_edge\n",
    "from models.random_model import RandomModel\n",
    "from models.common_neighbors_model import CommonNeighbors\n",
    "from models.popularity_model import GamePopularityModel\n",
    "from models.ncf_model import NCFModel\n",
    "from models.graph_sage_model import GraphSAGE"
   ]
  },
  {
   "cell_type": "code",
   "execution_count": null,
   "metadata": {},
   "outputs": [],
   "source": [
    "def get_evaluator_metrics(evaluator):\n",
    "    evaluator.plot_top_N_recall_percentiles(10)\n",
    "    evaluator.plot_log_user_percentile_positional_error()\n",
    "    evaluator.compute_mean_positional_error()\n",
    "    evaluator.compute_top_N_recall(10)\n",
    "    evaluator.plot_roc_curve()\n",
    "    evaluator.compute_auc_roc()\n",
    "    evaluator.plot_user_rank_roc_curve()\n",
    "    evaluator.compute_user_rank_auc_roc()\n",
    "    evaluator.plot_top_N_hit_percentage_percentiles(10)\n",
    "    evaluator.compute_top_N_hit_percentage(10)\n",
    "    evaluator.plot_top_N_hit_percentage_percentiles(50)\n",
    "    evaluator.compute_top_N_hit_percentage(50)\n",
    "    evaluator.compute_top_N_recall(50)\n",
    "    evaluator.plot_top_N_recall_percentiles(50)"
   ]
  },
  {
   "cell_type": "code",
   "execution_count": 2,
   "metadata": {},
   "outputs": [],
   "source": [
    "data_loader = DataLoader(cache_local_dataset=True, users_games_edge_scoring_function = playtime_forever_users_games_edge_scoring_function, user_game_edge_embeddings = ['playtime_forever'], score_normalizers = [GaussianNormalizer(1.0, 1.0)])\n",
    "data_loader.load_random_edge_train_test_split(train_percentage=0.8, test_percentage=0.2, seed=0)\n",
    "data_loader.save_data_loader_parameters('test_evaluation_data_loader', overwrite=True)\n",
    "evaluator = TrainEvaluator(data_loader, top_N_games_to_eval = 500, num_users_to_eval=10000, user_eval_include_function=include_learnable_users, seed=0, debug=True)"
   ]
  },
  {
   "cell_type": "code",
   "execution_count": 3,
   "metadata": {},
   "outputs": [
    {
     "name": "stdout",
     "output_type": "stream",
     "text": [
      "Loading model: evaluation_test_random_model\n",
      "Doen loading model. evaluation_test_random_model\n",
      "Getting predictions.\n"
     ]
    },
    {
     "name": "stderr",
     "output_type": "stream",
     "text": [
      "User Predictions: 100%|██████████| 10000/10000 [01:09<00:00, 143.64it/s]\n"
     ]
    },
    {
     "name": "stdout",
     "output_type": "stream",
     "text": [
      "Done getting predictions.\n",
      "Appending dataframe information.\n",
      "Ranking top N.\n",
      "Done getting edge results.\n",
      "random\n",
      "{'auc_roc': 0.43810692331704054,\n",
      " 'log_positional_error_percentiles_figure': <Figure size 640x480 with 1 Axes>,\n",
      " 'mean_positional_error': 89.70599649385875,\n",
      " 'roc_figure': <Figure size 640x480 with 1 Axes>,\n",
      " 'top_10_hit_percentage': 0.01022539857064321,\n",
      " 'top_10_hit_percentage_user_percentiles_figure': <Figure size 640x480 with 1 Axes>,\n",
      " 'top_10_hit_percentage_variance': 0.00164374489338948,\n",
      " 'top_10_recall': 0.00037955465587044535,\n",
      " 'top_10_recall_user_percentiles_figure': <Figure size 640x480 with 1 Axes>,\n",
      " 'top_10_recall_variance': 1.3764041825249321e-06,\n",
      " 'top_50_hit_percentage': 0.009587685541506323,\n",
      " 'top_50_hit_percentage_user_percentiles_figure': <Figure size 640x480 with 1 Axes>,\n",
      " 'top_50_hit_percentage_variance': 0.0008307902033865941,\n",
      " 'top_50_recall': 0.001779417526446389,\n",
      " 'top_50_recall_user_percentiles_figure': <Figure size 640x480 with 1 Axes>,\n",
      " 'top_50_recall_variance': 6.0222204212006265e-06,\n",
      " 'user_rank_auc_roc': 0.4999715579958974,\n",
      " 'user_rank_auc_roc_variance': 1.0109454798168322e-05,\n",
      " 'user_rank_roc_figure': <Figure size 640x480 with 1 Axes>}\n",
      "\n"
     ]
    }
   ],
   "source": [
    "random_model_initializer = lambda: RandomModel()\n",
    "evaluator.reset(random_model_initializer, network_save_file = 'evaluation_test_random_model')\n",
    "get_evaluator_metrics(evaluator)\n",
    "evaluator.save_metrics('evaluation_test_random_model_learnable_users', overwrite=True)\n",
    "print(evaluator.model.name())\n",
    "pprint(evaluator.metrics)\n",
    "print()"
   ]
  },
  {
   "cell_type": "code",
   "execution_count": 4,
   "metadata": {},
   "outputs": [
    {
     "name": "stdout",
     "output_type": "stream",
     "text": [
      "Loading model: evaluation_test_popularity_model\n",
      "Doen loading model. evaluation_test_popularity_model\n",
      "Getting predictions.\n"
     ]
    },
    {
     "name": "stderr",
     "output_type": "stream",
     "text": [
      "User Predictions: 100%|██████████| 10000/10000 [00:44<00:00, 222.83it/s]\n"
     ]
    },
    {
     "name": "stdout",
     "output_type": "stream",
     "text": [
      "Done getting predictions.\n",
      "Appending dataframe information.\n",
      "Ranking top N.\n",
      "Done getting edge results.\n",
      "game_popularity\n",
      "{'auc_roc': 0.5292112223438967,\n",
      " 'log_positional_error_percentiles_figure': <Figure size 640x480 with 1 Axes>,\n",
      " 'mean_positional_error': 77.60484166685433,\n",
      " 'roc_figure': <Figure size 640x480 with 1 Axes>,\n",
      " 'top_10_hit_percentage': 0.36140736668499174,\n",
      " 'top_10_hit_percentage_user_percentiles_figure': <Figure size 640x480 with 1 Axes>,\n",
      " 'top_10_hit_percentage_variance': 0.043834623751325956,\n",
      " 'top_10_recall': 0.01341501240694789,\n",
      " 'top_10_recall_user_percentiles_figure': <Figure size 640x480 with 1 Axes>,\n",
      " 'top_10_recall_variance': 0.0003345151887539184,\n",
      " 'top_50_hit_percentage': 0.2273556899395272,\n",
      " 'top_50_hit_percentage_user_percentiles_figure': <Figure size 640x480 with 1 Axes>,\n",
      " 'top_50_hit_percentage_variance': 0.01889079641810728,\n",
      " 'top_50_recall': 0.042195866527360584,\n",
      " 'top_50_recall_user_percentiles_figure': <Figure size 640x480 with 1 Axes>,\n",
      " 'top_50_recall_variance': 0.002041653707415022,\n",
      " 'user_rank_auc_roc': 0.6103410686408776,\n",
      " 'user_rank_auc_roc_variance': 9.240729351824933e-07,\n",
      " 'user_rank_roc_figure': <Figure size 640x480 with 1 Axes>}\n",
      "\n"
     ]
    }
   ],
   "source": [
    "popularity_model_initializer = lambda: GamePopularityModel()\n",
    "evaluator.reset(popularity_model_initializer, network_save_file = 'evaluation_test_popularity_model')\n",
    "get_evaluator_metrics(evaluator)\n",
    "evaluator.save_metrics('evaluation_test_popularity_model_learnable_users', overwrite=True)\n",
    "print(evaluator.model.name())\n",
    "pprint(evaluator.metrics)\n",
    "print()"
   ]
  },
  {
   "cell_type": "code",
   "execution_count": 5,
   "metadata": {},
   "outputs": [
    {
     "name": "stdout",
     "output_type": "stream",
     "text": [
      "Loading model: evaluation_test_common_neighbors\n",
      "Doen loading model. evaluation_test_common_neighbors\n",
      "Getting predictions.\n"
     ]
    },
    {
     "name": "stderr",
     "output_type": "stream",
     "text": [
      "User Predictions: 100%|██████████| 10000/10000 [02:59<00:00, 55.64it/s]\n"
     ]
    },
    {
     "name": "stdout",
     "output_type": "stream",
     "text": [
      "Done getting predictions.\n",
      "Appending dataframe information.\n",
      "Ranking top N.\n",
      "Done getting edge results.\n",
      "common_neighbors\n",
      "{'auc_roc': 0.7480515654732455,\n",
      " 'log_positional_error_percentiles_figure': <Figure size 640x480 with 1 Axes>,\n",
      " 'mean_positional_error': 72.84980013278626,\n",
      " 'roc_figure': <Figure size 640x480 with 1 Axes>,\n",
      " 'top_10_hit_percentage': 0.3377680043980209,\n",
      " 'top_10_hit_percentage_user_percentiles_figure': <Figure size 640x480 with 1 Axes>,\n",
      " 'top_10_hit_percentage_variance': 0.03986768821697541,\n",
      " 'top_10_recall': 0.012537547342301163,\n",
      " 'top_10_recall_user_percentiles_figure': <Figure size 640x480 with 1 Axes>,\n",
      " 'top_10_recall_variance': 0.00029634629979166964,\n",
      " 'top_50_hit_percentage': 0.2412314458493678,\n",
      " 'top_50_hit_percentage_user_percentiles_figure': <Figure size 640x480 with 1 Axes>,\n",
      " 'top_50_hit_percentage_variance': 0.022383336573957517,\n",
      " 'top_50_recall': 0.04477112446127726,\n",
      " 'top_50_recall_user_percentiles_figure': <Figure size 640x480 with 1 Axes>,\n",
      " 'top_50_recall_variance': 0.0020574838711109713,\n",
      " 'user_rank_auc_roc': 0.6052159819066801,\n",
      " 'user_rank_auc_roc_variance': 7.970395938053905e-07,\n",
      " 'user_rank_roc_figure': <Figure size 640x480 with 1 Axes>}\n",
      "\n"
     ]
    }
   ],
   "source": [
    "common_neighbors_initializer = lambda: CommonNeighbors()\n",
    "evaluator.reset(common_neighbors_initializer, network_save_file = 'evaluation_test_common_neighbors')\n",
    "get_evaluator_metrics(evaluator)\n",
    "evaluator.save_metrics('evaluation_test_common_neighbors_learnable_users', overwrite=True)\n",
    "print(evaluator.model.name())\n",
    "pprint(evaluator.metrics)\n",
    "print()"
   ]
  },
  {
   "cell_type": "code",
   "execution_count": 6,
   "metadata": {},
   "outputs": [
    {
     "name": "stdout",
     "output_type": "stream",
     "text": [
      "Loading model: evaluation_test_cf_low_weight_decay_increased_lr_best_model_bugfix\n",
      "Doen loading model. evaluation_test_cf_low_weight_decay_increased_lr_best_model_bugfix\n",
      "Getting predictions.\n"
     ]
    },
    {
     "name": "stderr",
     "output_type": "stream",
     "text": [
      "User Predictions: 100%|██████████| 10000/10000 [06:27<00:00, 25.83it/s]\n"
     ]
    },
    {
     "name": "stdout",
     "output_type": "stream",
     "text": [
      "Done getting predictions.\n",
      "Appending dataframe information.\n",
      "Ranking top N.\n",
      "Done getting edge results.\n",
      "neural_collborative_filtering_cf\n",
      "{'auc_roc': 0.6238204020226044,\n",
      " 'log_positional_error_percentiles_figure': <Figure size 640x480 with 1 Axes>,\n",
      " 'mean_positional_error': 57.508324852765995,\n",
      " 'roc_figure': <Figure size 640x480 with 1 Axes>,\n",
      " 'top_10_hit_percentage': 0.09406267179769104,\n",
      " 'top_10_hit_percentage_user_percentiles_figure': <Figure size 640x480 with 1 Axes>,\n",
      " 'top_10_hit_percentage_variance': 0.010113737344227484,\n",
      " 'top_10_recall': 0.003491494710722215,\n",
      " 'top_10_recall_user_percentiles_figure': <Figure size 640x480 with 1 Axes>,\n",
      " 'top_10_recall_variance': 4.8222673505925964e-05,\n",
      " 'top_50_hit_percentage': 0.04825728422210006,\n",
      " 'top_50_hit_percentage_user_percentiles_figure': <Figure size 640x480 with 1 Axes>,\n",
      " 'top_50_hit_percentage_variance': 0.00242266302597285,\n",
      " 'top_50_recall': 0.008956265508684863,\n",
      " 'top_50_recall_user_percentiles_figure': <Figure size 640x480 with 1 Axes>,\n",
      " 'top_50_recall_variance': 0.00018646468461561171,\n",
      " 'user_rank_auc_roc': 0.5636051176433624,\n",
      " 'user_rank_auc_roc_variance': 3.706754197946842e-06,\n",
      " 'user_rank_roc_figure': <Figure size 640x480 with 1 Axes>}\n",
      "\n"
     ]
    }
   ],
   "source": [
    "save_file_name = 'evaluation_test_cf_low_weight_decay_increased_lr_best_model_bugfix'\n",
    "cf_initializer = lambda: NCFModel(num_epochs = 40, embedding_size = 50, batch_percent = 0.1, learning_rate = 1e-2, weight_decay=1e-6, mlp_hidden_layer_sizes = [], seed=0, model_type='cf', fine_tune_num_epochs=1, fine_tune_learning_rate=1e-1, fine_tune_weight_decay=1e-5, save_file_name=save_file_name, nn_save_name='best')\n",
    "evaluator.reset(cf_initializer, network_save_file = save_file_name)\n",
    "get_evaluator_metrics(evaluator)\n",
    "evaluator.save_metrics(f'{save_file_name}_learnable_users', overwrite=True)\n",
    "print(evaluator.model.name())\n",
    "pprint(evaluator.metrics)\n",
    "print()"
   ]
  },
  {
   "cell_type": "code",
   "execution_count": 7,
   "metadata": {},
   "outputs": [
    {
     "name": "stdout",
     "output_type": "stream",
     "text": [
      "Loading model: evaluation_test_gcf_low_weight_decay_increased_lr_best_model_bugfix\n",
      "Doen loading model. evaluation_test_gcf_low_weight_decay_increased_lr_best_model_bugfix\n",
      "Getting predictions.\n"
     ]
    },
    {
     "name": "stderr",
     "output_type": "stream",
     "text": [
      "User Predictions: 100%|██████████| 10000/10000 [06:20<00:00, 26.31it/s]\n"
     ]
    },
    {
     "name": "stdout",
     "output_type": "stream",
     "text": [
      "Done getting predictions.\n",
      "Appending dataframe information.\n",
      "Ranking top N.\n",
      "Done getting edge results.\n",
      "neural_collborative_filtering_gcf\n",
      "{'auc_roc': 0.7133159810114924,\n",
      " 'log_positional_error_percentiles_figure': <Figure size 640x480 with 1 Axes>,\n",
      " 'mean_positional_error': 60.33040723358727,\n",
      " 'roc_figure': <Figure size 640x480 with 1 Axes>,\n",
      " 'top_10_hit_percentage': 0.1394172622319956,\n",
      " 'top_10_hit_percentage_user_percentiles_figure': <Figure size 640x480 with 1 Axes>,\n",
      " 'top_10_hit_percentage_variance': 0.01800196948593472,\n",
      " 'top_10_recall': 0.005175003264986287,\n",
      " 'top_10_recall_user_percentiles_figure': <Figure size 640x480 with 1 Axes>,\n",
      " 'top_10_recall_variance': 6.38233178002083e-05,\n",
      " 'top_50_hit_percentage': 0.08387025838372732,\n",
      " 'top_50_hit_percentage_user_percentiles_figure': <Figure size 640x480 with 1 Axes>,\n",
      " 'top_50_hit_percentage_variance': 0.007838213383862515,\n",
      " 'top_50_recall': 0.01556582212354708,\n",
      " 'top_50_recall_user_percentiles_figure': <Figure size 640x480 with 1 Axes>,\n",
      " 'top_50_recall_variance': 0.00024470483368104563,\n",
      " 'user_rank_auc_roc': 0.5646307674015464,\n",
      " 'user_rank_auc_roc_variance': 2.152193128338898e-06,\n",
      " 'user_rank_roc_figure': <Figure size 640x480 with 1 Axes>}\n",
      "\n"
     ]
    }
   ],
   "source": [
    "save_file_name = 'evaluation_test_gcf_low_weight_decay_increased_lr_best_model_bugfix'\n",
    "gcf_initializer = lambda: NCFModel(num_epochs = 40, embedding_size = 50, batch_percent = 0.1, learning_rate = 1e-2, weight_decay=1e-6, mlp_hidden_layer_sizes = [], seed=0, model_type='gcf', fine_tune_num_epochs=1, fine_tune_learning_rate=1e-1, fine_tune_weight_decay=1e-5, save_file_name=save_file_name, nn_save_name='best')\n",
    "evaluator.reset(gcf_initializer, network_save_file = save_file_name)\n",
    "get_evaluator_metrics(evaluator)\n",
    "evaluator.save_metrics(f'{save_file_name}_learnable_users', overwrite=True)\n",
    "print(evaluator.model.name())\n",
    "pprint(evaluator.metrics)\n",
    "print()"
   ]
  },
  {
   "cell_type": "code",
   "execution_count": 8,
   "metadata": {},
   "outputs": [
    {
     "name": "stdout",
     "output_type": "stream",
     "text": [
      "Loading model: evaluation_test_mlp_low_weight_decay_increased_lr_best_model_bugfix\n",
      "Doen loading model. evaluation_test_mlp_low_weight_decay_increased_lr_best_model_bugfix\n",
      "Getting predictions.\n"
     ]
    },
    {
     "name": "stderr",
     "output_type": "stream",
     "text": [
      "User Predictions: 100%|██████████| 10000/10000 [06:34<00:00, 25.32it/s]\n"
     ]
    },
    {
     "name": "stdout",
     "output_type": "stream",
     "text": [
      "Done getting predictions.\n",
      "Appending dataframe information.\n",
      "Ranking top N.\n",
      "Done getting edge results.\n",
      "neural_collborative_filtering_mlp\n",
      "{'auc_roc': 0.5957500798915274,\n",
      " 'log_positional_error_percentiles_figure': <Figure size 640x480 with 1 Axes>,\n",
      " 'mean_positional_error': 55.424050392386036,\n",
      " 'roc_figure': <Figure size 640x480 with 1 Axes>,\n",
      " 'top_10_hit_percentage': 0.06476085761407367,\n",
      " 'top_10_hit_percentage_user_percentiles_figure': <Figure size 640x480 with 1 Axes>,\n",
      " 'top_10_hit_percentage_variance': 0.006295657250570246,\n",
      " 'top_10_recall': 0.002403846153846154,\n",
      " 'top_10_recall_user_percentiles_figure': <Figure size 640x480 with 1 Axes>,\n",
      " 'top_10_recall_variance': 2.7174206776484547e-05,\n",
      " 'top_50_hit_percentage': 0.04690489279824079,\n",
      " 'top_50_hit_percentage_user_percentiles_figure': <Figure size 640x480 with 1 Axes>,\n",
      " 'top_50_hit_percentage_variance': 0.0019239763749211846,\n",
      " 'top_50_recall': 0.008705269687867312,\n",
      " 'top_50_recall_user_percentiles_figure': <Figure size 640x480 with 1 Axes>,\n",
      " 'top_50_recall_variance': 0.00020163379677273305,\n",
      " 'user_rank_auc_roc': 0.5658686625359851,\n",
      " 'user_rank_auc_roc_variance': 3.170817898140826e-06,\n",
      " 'user_rank_roc_figure': <Figure size 640x480 with 1 Axes>}\n",
      "\n"
     ]
    }
   ],
   "source": [
    "save_file_name = 'evaluation_test_mlp_low_weight_decay_increased_lr_best_model_bugfix'\n",
    "mlp_initializer = lambda: NCFModel(num_epochs = 40, embedding_size = 50, batch_percent = 0.1, learning_rate = 1e-2, weight_decay=1e-6, mlp_hidden_layer_sizes = [128, 128, 128], seed=0, model_type='mlp', fine_tune_num_epochs=1, fine_tune_learning_rate=1e-1, fine_tune_weight_decay=1e-5, save_file_name=save_file_name, nn_save_name='best')\n",
    "evaluator.reset(mlp_initializer, network_save_file = save_file_name)\n",
    "get_evaluator_metrics(evaluator)\n",
    "evaluator.save_metrics(f'{save_file_name}_learnable_users', overwrite=True)\n",
    "print(evaluator.model.name())\n",
    "pprint(evaluator.metrics)\n",
    "print()"
   ]
  },
  {
   "cell_type": "code",
   "execution_count": 9,
   "metadata": {},
   "outputs": [
    {
     "name": "stdout",
     "output_type": "stream",
     "text": [
      "Loading model: evaluation_test_ncf_low_weight_decay_increased_lr_best_model_bugfix\n",
      "Doen loading model. evaluation_test_ncf_low_weight_decay_increased_lr_best_model_bugfix\n",
      "Getting predictions.\n"
     ]
    },
    {
     "name": "stderr",
     "output_type": "stream",
     "text": [
      "User Predictions: 100%|██████████| 10000/10000 [06:52<00:00, 24.24it/s]\n"
     ]
    },
    {
     "name": "stdout",
     "output_type": "stream",
     "text": [
      "Done getting predictions.\n",
      "Appending dataframe information.\n",
      "Ranking top N.\n",
      "Done getting edge results.\n",
      "neural_collborative_filtering_ncf\n",
      "{'auc_roc': 0.5833818248975059,\n",
      " 'log_positional_error_percentiles_figure': <Figure size 640x480 with 1 Axes>,\n",
      " 'mean_positional_error': 54.31967769856091,\n",
      " 'roc_figure': <Figure size 640x480 with 1 Axes>,\n",
      " 'top_10_hit_percentage': 0.06432105552501374,\n",
      " 'top_10_hit_percentage_user_percentiles_figure': <Figure size 640x480 with 1 Axes>,\n",
      " 'top_10_hit_percentage_variance': 0.006506370060791373,\n",
      " 'top_10_recall': 0.002387521222410866,\n",
      " 'top_10_recall_user_percentiles_figure': <Figure size 640x480 with 1 Axes>,\n",
      " 'top_10_recall_variance': 2.8831103648955452e-05,\n",
      " 'top_50_hit_percentage': 0.04697086311159978,\n",
      " 'top_50_hit_percentage_user_percentiles_figure': <Figure size 640x480 with 1 Axes>,\n",
      " 'top_50_hit_percentage_variance': 0.002063359385889306,\n",
      " 'top_50_recall': 0.008717513386443778,\n",
      " 'top_50_recall_user_percentiles_figure': <Figure size 640x480 with 1 Axes>,\n",
      " 'top_50_recall_variance': 0.00020080019642530145,\n",
      " 'user_rank_auc_roc': 0.5592772510360762,\n",
      " 'user_rank_auc_roc_variance': 2.8747781955847473e-06,\n",
      " 'user_rank_roc_figure': <Figure size 640x480 with 1 Axes>}\n",
      "\n"
     ]
    }
   ],
   "source": [
    "save_file_name = 'evaluation_test_ncf_low_weight_decay_increased_lr_best_model_bugfix'\n",
    "ncf_initializer = lambda: NCFModel(num_epochs = 40, embedding_size = 25, batch_percent = 0.1, learning_rate = 1e-2, weight_decay=1e-6, mlp_hidden_layer_sizes = [128, 128, 128], seed=0, model_type='ncf', fine_tune_num_epochs=1, fine_tune_learning_rate=1e-1, fine_tune_weight_decay=1e-5, save_file_name=save_file_name, nn_save_name='best')\n",
    "evaluator.reset(ncf_initializer, network_save_file = save_file_name)\n",
    "get_evaluator_metrics(evaluator)\n",
    "evaluator.save_metrics(f'{save_file_name}_learnable_users', overwrite=True)\n",
    "print(evaluator.model.name())\n",
    "pprint(evaluator.metrics)\n",
    "print()"
   ]
  },
  {
   "cell_type": "code",
   "execution_count": null,
   "metadata": {},
   "outputs": [],
   "source": [
    "save_file_name = 'evaluation_test_graphsage'\n",
    "graphsage_initializer = lambda: GraphSAGE(\n",
    "    hidden_channels=[32, 64],  \n",
    "    out_channels=16,\n",
    "    num_epochs=20,\n",
    "    learning_rate=0.01,\n",
    "    regularization=0.05,\n",
    ")\n",
    "evaluator.reset(graphsage_initializer, network_save_file = save_file_name)\n",
    "get_evaluator_metrics(evaluator)\n",
    "evaluator.save_metrics(save_file_name, overwrite=True)\n",
    "print(evaluator.model.name())\n",
    "pprint(evaluator.metrics)\n",
    "print()"
   ]
  },
  {
   "cell_type": "code",
   "execution_count": null,
   "metadata": {},
   "outputs": [],
   "source": []
  }
 ],
 "metadata": {
  "kernelspec": {
   "display_name": "Python 3",
   "language": "python",
   "name": "python3"
  },
  "language_info": {
   "codemirror_mode": {
    "name": "ipython",
    "version": 3
   },
   "file_extension": ".py",
   "mimetype": "text/x-python",
   "name": "python",
   "nbconvert_exporter": "python",
   "pygments_lexer": "ipython3",
   "version": "3.11.3"
  }
 },
 "nbformat": 4,
 "nbformat_minor": 2
}
