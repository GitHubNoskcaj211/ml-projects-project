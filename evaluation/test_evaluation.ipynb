{
 "cells": [
  {
   "cell_type": "code",
   "execution_count": 1,
   "metadata": {},
   "outputs": [],
   "source": [
    "import sys\n",
    "import os\n",
    "sys.path.append(os.path.join(os.path.abspath(''), '../'))\n",
    "\n",
    "from evaluation.evaluation_harness import TrainEvaluator\n",
    "from pprint import pprint\n",
    "\n",
    "from dataset.data_loader import DataLoader, playtime_forever_users_games_edge_scoring_function, LinearNormalizer, GaussianNormalizer, PercentileNormalizer, never_remove_edge, remove_zero_playtime_edge\n",
    "from models.random_model import RandomModel\n",
    "from models.common_neighbors_model import CommonNeighbors\n",
    "from models.popularity_model import GamePopularityModel\n",
    "from models.ncf_model import NCFModel"
   ]
  },
  {
   "cell_type": "code",
   "execution_count": 2,
   "metadata": {},
   "outputs": [],
   "source": [
    "data_loader = DataLoader(cache_local_dataset=True, users_games_edge_scoring_function = playtime_forever_users_games_edge_scoring_function, user_game_edge_embeddings = ['playtime_forever'], score_normalizers = [GaussianNormalizer(1.0, 1.0)])\n",
    "data_loader.load_random_edge_train_test_split(train_percentage=0.8, test_percentage=0.2, seed=0)\n",
    "\n",
    "evaluator = TrainEvaluator(data_loader, top_N_games_to_eval = 500, num_users_to_eval=10000, seed=0, debug=True)"
   ]
  },
  {
   "cell_type": "code",
   "execution_count": 3,
   "metadata": {},
   "outputs": [
    {
     "name": "stdout",
     "output_type": "stream",
     "text": [
      "Loading model: evaluation_test_random_model\n",
      "Doen loading model. evaluation_test_random_model\n",
      "Getting predictions.\n"
     ]
    },
    {
     "name": "stderr",
     "output_type": "stream",
     "text": [
      "User Predictions: 100%|██████████| 10000/10000 [02:50<00:00, 58.65it/s]\n"
     ]
    },
    {
     "name": "stdout",
     "output_type": "stream",
     "text": [
      "Done getting predictions.\n",
      "Appending dataframe information.\n",
      "Ranking top N.\n",
      "Constructing missed edge dataframe.\n",
      "all test edges: (595027, 6)\n",
      "missed test edges: (585025, 13)\n",
      "Ranking missed.\n",
      "Done getting edge results.\n",
      "random\n",
      "{'auc_roc': 0.43892371584260326,\n",
      " 'log_positional_error_percentiles_figure': <Figure size 640x480 with 1 Axes>,\n",
      " 'mean_positional_error': 20.96001299483005,\n",
      " 'roc_figure': <Figure size 640x480 with 1 Axes>,\n",
      " 'top_10_recall': 0.0003529251613792315,\n",
      " 'top_10_recall_user_percentiles_figure': <Figure size 640x480 with 1 Axes>,\n",
      " 'user_based_auc_roc': 0.49990812338859086,\n",
      " 'user_based_roc_figure': <Figure size 640x480 with 1 Axes>}\n",
      "\n"
     ]
    }
   ],
   "source": [
    "random_model_initializer = lambda: RandomModel()\n",
    "evaluator.reset(random_model_initializer, network_save_file = 'evaluation_test_random_model')\n",
    "evaluator.plot_top_N_recall_percentiles(10)\n",
    "evaluator.plot_log_user_percentile_positional_error()\n",
    "evaluator.compute_mean_positional_error()\n",
    "evaluator.compute_top_N_recall(10)\n",
    "evaluator.plot_roc_curve()\n",
    "evaluator.compute_auc_roc()\n",
    "evaluator.plot_user_based_roc_curve()\n",
    "evaluator.compute_user_based_auc_roc()\n",
    "evaluator.save_metrics('test_random_model', overwrite=True)\n",
    "print(evaluator.model.name())\n",
    "pprint(evaluator.metrics)\n",
    "print()"
   ]
  },
  {
   "cell_type": "code",
   "execution_count": 4,
   "metadata": {},
   "outputs": [
    {
     "name": "stdout",
     "output_type": "stream",
     "text": [
      "Loading model: evaluation_test_popularity_model\n",
      "Doen loading model. evaluation_test_popularity_model\n",
      "Getting predictions.\n"
     ]
    },
    {
     "name": "stderr",
     "output_type": "stream",
     "text": [
      "User Predictions: 100%|██████████| 10000/10000 [01:20<00:00, 123.54it/s]\n"
     ]
    },
    {
     "name": "stdout",
     "output_type": "stream",
     "text": [
      "Done getting predictions.\n",
      "Appending dataframe information.\n",
      "Ranking top N.\n",
      "Constructing missed edge dataframe.\n",
      "all test edges: (595027, 6)\n",
      "missed test edges: (427171, 13)\n",
      "Ranking missed.\n",
      "Done getting edge results.\n",
      "game_popularity\n",
      "{'auc_roc': 0.5516188837728797,\n",
      " 'log_positional_error_percentiles_figure': <Figure size 640x480 with 1 Axes>,\n",
      " 'mean_positional_error': 18.301942615089626,\n",
      " 'roc_figure': <Figure size 640x480 with 1 Axes>,\n",
      " 'top_10_recall': 0.03173301379601262,\n",
      " 'top_10_recall_user_percentiles_figure': <Figure size 640x480 with 1 Axes>,\n",
      " 'user_based_auc_roc': 0.6596504232912779,\n",
      " 'user_based_roc_figure': <Figure size 640x480 with 1 Axes>}\n",
      "\n"
     ]
    }
   ],
   "source": [
    "popularity_model_initializer = lambda: GamePopularityModel()\n",
    "evaluator.reset(popularity_model_initializer, network_save_file = 'evaluation_test_popularity_model')\n",
    "evaluator.plot_top_N_recall_percentiles(10)\n",
    "evaluator.plot_log_user_percentile_positional_error()\n",
    "evaluator.compute_mean_positional_error()\n",
    "evaluator.compute_top_N_recall(10)\n",
    "evaluator.plot_roc_curve()\n",
    "evaluator.compute_auc_roc()\n",
    "evaluator.plot_user_based_roc_curve()\n",
    "evaluator.compute_user_based_auc_roc()\n",
    "evaluator.save_metrics('test_popularity_model', overwrite=True)\n",
    "print(evaluator.model.name())\n",
    "pprint(evaluator.metrics)\n",
    "print()"
   ]
  },
  {
   "cell_type": "code",
   "execution_count": 5,
   "metadata": {},
   "outputs": [
    {
     "name": "stdout",
     "output_type": "stream",
     "text": [
      "Loading model: evaluation_test_common_neighbors\n",
      "Doen loading model. evaluation_test_common_neighbors\n",
      "Getting predictions.\n"
     ]
    },
    {
     "name": "stderr",
     "output_type": "stream",
     "text": [
      "User Predictions:  31%|███       | 3098/10000 [03:36<07:58, 14.42it/s]"
     ]
    }
   ],
   "source": [
    "common_neighbors_initializer = lambda: CommonNeighbors()\n",
    "evaluator.reset(common_neighbors_initializer, network_save_file = 'evaluation_test_common_neighbors')\n",
    "evaluator.plot_top_N_recall_percentiles(10)\n",
    "evaluator.plot_log_user_percentile_positional_error()\n",
    "evaluator.compute_mean_positional_error()\n",
    "evaluator.compute_top_N_recall(10)\n",
    "evaluator.plot_roc_curve()\n",
    "evaluator.compute_auc_roc()\n",
    "evaluator.plot_user_based_roc_curve()\n",
    "evaluator.compute_user_based_auc_roc()\n",
    "evaluator.save_metrics('test_common_neighbors', overwrite=True)\n",
    "print(evaluator.model.name())\n",
    "pprint(evaluator.metrics)\n",
    "print()"
   ]
  },
  {
   "cell_type": "code",
   "execution_count": null,
   "metadata": {},
   "outputs": [],
   "source": [
    "cf_initializer = lambda: NCFModel(num_epochs = 40, embedding_size = 100, batch_percent = 0.1, learning_rate = 1e-2, weight_decay=1e-3, mlp_hidden_layer_sizes = [], seed=0, model_type='cf', fine_tune_num_epochs=1, fine_tune_learning_rate=1e-1, fine_tune_weight_decay=1e-5)\n",
    "evaluator.reset(cf_initializer, network_save_file = 'evaluation_test_cf')\n",
    "evaluator.plot_top_N_recall_percentiles(10)\n",
    "evaluator.plot_log_user_percentile_positional_error()\n",
    "evaluator.compute_mean_positional_error()\n",
    "evaluator.compute_top_N_recall(10)\n",
    "evaluator.plot_roc_curve()\n",
    "evaluator.compute_auc_roc()\n",
    "evaluator.plot_user_based_roc_curve()\n",
    "evaluator.compute_user_based_auc_roc()\n",
    "evaluator.save_metrics('test_cf', overwrite=True)\n",
    "print(evaluator.model.name())\n",
    "pprint(evaluator.metrics)\n",
    "print()"
   ]
  },
  {
   "cell_type": "code",
   "execution_count": null,
   "metadata": {},
   "outputs": [],
   "source": [
    "gcf_initializer = lambda: NCFModel(num_epochs = 40, embedding_size = 100, batch_percent = 0.1, learning_rate = 1e-3, mlp_hidden_layer_sizes = [], seed=0, model_type='gcf', fine_tune_num_epochs=1, fine_tune_learning_rate=1e-1, fine_tune_weight_decay=1e-5)\n",
    "evaluator.reset(gcf_initializer, network_save_file = 'evaluation_test_gcf')\n",
    "evaluator.plot_top_N_recall_percentiles(10)\n",
    "evaluator.plot_log_user_percentile_positional_error()\n",
    "evaluator.compute_mean_positional_error()\n",
    "evaluator.compute_top_N_recall(10)\n",
    "evaluator.plot_roc_curve()\n",
    "evaluator.compute_auc_roc()\n",
    "evaluator.plot_user_based_roc_curve()\n",
    "evaluator.compute_user_based_auc_roc()\n",
    "evaluator.save_metrics('test_gcf', overwrite=True)\n",
    "print(evaluator.model.name())\n",
    "pprint(evaluator.metrics)\n",
    "print()"
   ]
  },
  {
   "cell_type": "code",
   "execution_count": null,
   "metadata": {},
   "outputs": [],
   "source": [
    "mlp_initializer = lambda: NCFModel(num_epochs = 40, embedding_size = 100, batch_percent = 0.1, learning_rate = 1e-3, weight_decay=1e-3, mlp_hidden_layer_sizes = [128, 128, 128], seed=0, model_type='mlp', fine_tune_num_epochs=1, fine_tune_learning_rate=1e-1, fine_tune_weight_decay=1e-5)\n",
    "evaluator.reset(mlp_initializer, network_save_file = 'evaluation_test_mlp')\n",
    "evaluator.plot_top_N_recall_percentiles(10)\n",
    "evaluator.plot_log_user_percentile_positional_error()\n",
    "evaluator.compute_mean_positional_error()\n",
    "evaluator.compute_top_N_recall(10)\n",
    "evaluator.plot_roc_curve()\n",
    "evaluator.compute_auc_roc()\n",
    "evaluator.plot_user_based_roc_curve()\n",
    "evaluator.compute_user_based_auc_roc()\n",
    "evaluator.save_metrics('test_mlp', overwrite=True)\n",
    "print(evaluator.model.name())\n",
    "pprint(evaluator.metrics)\n",
    "print()"
   ]
  },
  {
   "cell_type": "code",
   "execution_count": null,
   "metadata": {},
   "outputs": [],
   "source": [
    "ncf_initializer = lambda: NCFModel(num_epochs = 40, embedding_size = 100, batch_percent = 0.1, learning_rate = 1e-3, weight_decay=1e-3, mlp_hidden_layer_sizes = [128, 128, 128], seed=0, model_type='ncf', fine_tune_num_epochs=1, fine_tune_learning_rate=1e-1, fine_tune_weight_decay=1e-5)\n",
    "evaluator.reset(ncf_initializer, network_save_file = 'evaluation_test_ncf')\n",
    "evaluator.plot_top_N_recall_percentiles(10)\n",
    "evaluator.plot_log_user_percentile_positional_error()\n",
    "evaluator.compute_mean_positional_error()\n",
    "evaluator.compute_top_N_recall(10)\n",
    "evaluator.plot_roc_curve()\n",
    "evaluator.compute_auc_roc()\n",
    "evaluator.plot_user_based_roc_curve()\n",
    "evaluator.compute_user_based_auc_roc()\n",
    "evaluator.save_metrics('test_ncf', overwrite=True)\n",
    "print(evaluator.model.name())\n",
    "pprint(evaluator.metrics)\n",
    "print()"
   ]
  },
  {
   "cell_type": "code",
   "execution_count": null,
   "metadata": {},
   "outputs": [],
   "source": []
  }
 ],
 "metadata": {
  "kernelspec": {
   "display_name": "Python 3",
   "language": "python",
   "name": "python3"
  },
  "language_info": {
   "codemirror_mode": {
    "name": "ipython",
    "version": 3
   },
   "file_extension": ".py",
   "mimetype": "text/x-python",
   "name": "python",
   "nbconvert_exporter": "python",
   "pygments_lexer": "ipython3",
   "version": "3.11.3"
  }
 },
 "nbformat": 4,
 "nbformat_minor": 2
}
