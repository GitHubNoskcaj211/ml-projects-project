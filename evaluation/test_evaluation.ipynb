{
 "cells": [
  {
   "cell_type": "code",
   "execution_count": 1,
   "metadata": {},
   "outputs": [],
   "source": [
    "from evaluation import Evaluator\n",
    "from pprint import pprint\n",
    "\n",
    "import sys\n",
    "sys.path.append(\"../dataset\")\n",
    "sys.path.append(\"../models\")\n",
    "from data_loader import DataLoader\n",
    "from random_model import RandomModel\n",
    "from common_neighbors_model import CommonNeighborsModel\n",
    "from popularity_model import GamePopularityModel\n"
   ]
  },
  {
   "cell_type": "code",
   "execution_count": 2,
   "metadata": {},
   "outputs": [],
   "source": [
    "evaluator = Evaluator()\n",
    "\n",
    "data_loader = DataLoader()\n",
    "network = data_loader.get_full_network()\n",
    "data_loader.load_random_train_test_network(network=network, train_percentage=0.9, test_percentage=0.1, seed=0)\n",
    "\n",
    "random_model = RandomModel()\n",
    "random_model.set_data_loader(data_loader)\n",
    "random_model.train()\n",
    "\n",
    "common_neighbors_model = CommonNeighborsModel()\n",
    "common_neighbors_model.set_data_loader(data_loader)\n",
    "common_neighbors_model.train()\n",
    "\n",
    "popularity_model = GamePopularityModel()\n",
    "popularity_model.set_data_loader(data_loader)\n",
    "popularity_model.train()\n"
   ]
  },
  {
   "cell_type": "code",
   "execution_count": 3,
   "metadata": {},
   "outputs": [
    {
     "name": "stdout",
     "output_type": "stream",
     "text": [
      "random\n",
      "{'top_10_hit_percentage_at_25_percentile': 0.0,\n",
      " 'top_10_hit_percentage_at_50_percentile': 0.0,\n",
      " 'top_10_hit_percentage_at_75_percentile': 0.0,\n",
      " 'top_4000_hit_percentage_at_25_percentile': 0.9,\n",
      " 'top_4000_hit_percentage_at_50_percentile': 1.0,\n",
      " 'top_4000_hit_percentage_at_75_percentile': 1.0,\n",
      " 'top_50_hit_percentage_at_25_percentile': 0.0,\n",
      " 'top_50_hit_percentage_at_50_percentile': 0.0,\n",
      " 'top_50_hit_percentage_at_75_percentile': 0.0}\n",
      "\n"
     ]
    }
   ],
   "source": [
    "evaluator.reset_metrics()\n",
    "evaluator.predict_for_all_users(data_loader, random_model)\n",
    "evaluator.compute_top_N_hit_percentage_at_user_percentile(10, 75)\n",
    "evaluator.compute_top_N_hit_percentage_at_user_percentile(10, 50)\n",
    "evaluator.compute_top_N_hit_percentage_at_user_percentile(10, 25)\n",
    "evaluator.compute_top_N_hit_percentage_at_user_percentile(50, 75)\n",
    "evaluator.compute_top_N_hit_percentage_at_user_percentile(50, 50)\n",
    "evaluator.compute_top_N_hit_percentage_at_user_percentile(50, 25)\n",
    "evaluator.compute_top_N_hit_percentage_at_user_percentile(4000, 75)\n",
    "evaluator.compute_top_N_hit_percentage_at_user_percentile(4000, 50)\n",
    "evaluator.compute_top_N_hit_percentage_at_user_percentile(4000, 25)\n",
    "print(random_model.name())\n",
    "pprint(evaluator.metrics)\n",
    "print()"
   ]
  },
  {
   "cell_type": "code",
   "execution_count": 4,
   "metadata": {},
   "outputs": [
    {
     "name": "stdout",
     "output_type": "stream",
     "text": [
      "common_neighbors\n",
      "{'top_10_hit_percentage_at_25_percentile': 0.0,\n",
      " 'top_10_hit_percentage_at_50_percentile': 0.16666666666666666,\n",
      " 'top_10_hit_percentage_at_75_percentile': 0.5,\n",
      " 'top_50_hit_percentage_at_25_percentile': 0.2,\n",
      " 'top_50_hit_percentage_at_50_percentile': 0.5,\n",
      " 'top_50_hit_percentage_at_75_percentile': 1.0}\n",
      "\n"
     ]
    }
   ],
   "source": [
    "evaluator.reset_metrics()\n",
    "evaluator.predict_for_all_users(data_loader, common_neighbors_model)\n",
    "evaluator.compute_top_N_hit_percentage_at_user_percentile(10, 75)\n",
    "evaluator.compute_top_N_hit_percentage_at_user_percentile(10, 50)\n",
    "evaluator.compute_top_N_hit_percentage_at_user_percentile(10, 25)\n",
    "evaluator.compute_top_N_hit_percentage_at_user_percentile(50, 75)\n",
    "evaluator.compute_top_N_hit_percentage_at_user_percentile(50, 50)\n",
    "evaluator.compute_top_N_hit_percentage_at_user_percentile(50, 25)\n",
    "print(common_neighbors_model.name())\n",
    "pprint(evaluator.metrics)\n",
    "print()"
   ]
  },
  {
   "cell_type": "code",
   "execution_count": 5,
   "metadata": {},
   "outputs": [
    {
     "name": "stdout",
     "output_type": "stream",
     "text": [
      "game_popularity\n",
      "{'top_10_hit_percentage_at_25_percentile': 0.0,\n",
      " 'top_10_hit_percentage_at_50_percentile': 0.14285714285714285,\n",
      " 'top_10_hit_percentage_at_75_percentile': 0.5,\n",
      " 'top_50_hit_percentage_at_25_percentile': 0.14285714285714285,\n",
      " 'top_50_hit_percentage_at_50_percentile': 0.5,\n",
      " 'top_50_hit_percentage_at_75_percentile': 1.0}\n",
      "\n"
     ]
    }
   ],
   "source": [
    "evaluator.reset_metrics()\n",
    "evaluator.predict_for_all_users(data_loader, popularity_model)\n",
    "evaluator.compute_top_N_hit_percentage_at_user_percentile(10, 75)\n",
    "evaluator.compute_top_N_hit_percentage_at_user_percentile(10, 50)\n",
    "evaluator.compute_top_N_hit_percentage_at_user_percentile(10, 25)\n",
    "evaluator.compute_top_N_hit_percentage_at_user_percentile(50, 75)\n",
    "evaluator.compute_top_N_hit_percentage_at_user_percentile(50, 50)\n",
    "evaluator.compute_top_N_hit_percentage_at_user_percentile(50, 25)\n",
    "print(popularity_model.name())\n",
    "pprint(evaluator.metrics)\n",
    "print()"
   ]
  }
 ],
 "metadata": {
  "kernelspec": {
   "display_name": "Python 3",
   "language": "python",
   "name": "python3"
  },
  "language_info": {
   "codemirror_mode": {
    "name": "ipython",
    "version": 3
   },
   "file_extension": ".py",
   "mimetype": "text/x-python",
   "name": "python",
   "nbconvert_exporter": "python",
   "pygments_lexer": "ipython3",
   "version": "3.11.6"
  }
 },
 "nbformat": 4,
 "nbformat_minor": 2
}
