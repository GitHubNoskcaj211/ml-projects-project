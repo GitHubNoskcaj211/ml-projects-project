{
 "cells": [
  {
   "cell_type": "code",
   "execution_count": 1,
   "metadata": {},
   "outputs": [],
   "source": [
    "from data_loader import DataLoader, FriendEdgeEncoding"
   ]
  },
  {
   "cell_type": "code",
   "execution_count": 2,
   "metadata": {},
   "outputs": [],
   "source": [
    "test_data_loader = DataLoader()\n",
    "test_data_loader.load_random_train_test_network()\n",
    "test_data_loader.load_stratified_user_degree_train_test_network()\n",
    "test_data_loader.load_stratified_user_train_test_network()\n",
    "\n"
   ]
  },
  {
   "cell_type": "code",
   "execution_count": 3,
   "metadata": {},
   "outputs": [
    {
     "name": "stdout",
     "output_type": "stream",
     "text": [
      "Num edges:  39544\n",
      "Num nodes:  9481\n",
      "[(76561197963485711, 10, {'example_sum_user_id_game_id_playtime_forever': 76561197963485721}), (76561197963485711, 20, {'example_sum_user_id_game_id_playtime_forever': 76561197963485731}), (76561197963485711, 30, {'example_sum_user_id_game_id_playtime_forever': 76561197963485741}), (76561197963485711, 40, {'example_sum_user_id_game_id_playtime_forever': 76561197963485751}), (76561197963485711, 50, {'example_sum_user_id_game_id_playtime_forever': 76561197963485761}), (76561197963485711, 60, {'example_sum_user_id_game_id_playtime_forever': 76561197963485771}), (76561197963485711, 70, {'example_sum_user_id_game_id_playtime_forever': 76561197963485781}), (76561197963485711, 130, {'example_sum_user_id_game_id_playtime_forever': 76561197963485841}), (76561197963485711, 2990, {'example_sum_user_id_game_id_playtime_forever': 76561197963488701}), (76561197963485711, 550, {'example_sum_user_id_game_id_playtime_forever': 76561197963486261})]\n",
      "[(76561199605560768, 1692250, {'example_sum_user_id_game_id_playtime_forever': 76561199607253018}), (76561199605560768, 1846380, {'example_sum_user_id_game_id_playtime_forever': 76561199607407148}), (76561199605560768, 1922560, {'example_sum_user_id_game_id_playtime_forever': 76561199607483328}), (76561199605560768, 1938010, {'example_sum_user_id_game_id_playtime_forever': 76561199607498778}), (76561199605560768, 1238810, {'example_sum_user_id_game_id_playtime_forever': 76561199606799578}), (76561199605560768, 1222670, {'example_sum_user_id_game_id_playtime_forever': 76561199606783438}), (76561199605560768, 1693980, {'example_sum_user_id_game_id_playtime_forever': 76561199607254758}), (76561199605560768, 1282690, {'example_sum_user_id_game_id_playtime_forever': 76561199606843458}), (76561199606826386, 2073850, {'example_sum_user_id_game_id_playtime_forever': 76561199608900293}), (76561199608347696, 730, {'example_sum_user_id_game_id_playtime_forever': 76561199608348720})]\n",
      "[(76561197960952452, {'node_type': <NodeType.USER: 1>}), (76561197963485711, {'node_type': <NodeType.USER: 1>}), (76561197964100381, {'node_type': <NodeType.USER: 1>}), (76561197964597360, {'node_type': <NodeType.USER: 1>}), (76561197965052201, {'node_type': <NodeType.USER: 1>}), (76561197997470647, {'node_type': <NodeType.USER: 1>}), (76561198007129923, {'node_type': <NodeType.USER: 1>}), (76561198009514123, {'node_type': <NodeType.USER: 1>}), (76561198025903278, {'node_type': <NodeType.USER: 1>}), (76561198028895994, {'node_type': <NodeType.USER: 1>})]\n",
      "[(996770, {'node_type': <NodeType.GAME: 0>, 'game_name': 'Moving Out'}), (997010, {'node_type': <NodeType.GAME: 0>, 'game_name': 'Police Simulator: Patrol Officers'}), (997070, {'node_type': <NodeType.GAME: 0>, 'game_name': \"Marvel's Avengers - The Definitive Edition\"}), (998740, {'node_type': <NodeType.GAME: 0>, 'game_name': 'Ring of Pain'}), (998930, {'node_type': <NodeType.GAME: 0>, 'game_name': 'Seek Girl'}), (998940, {'node_type': <NodeType.GAME: 0>, 'game_name': '隐形守护者 The Invisible Guardian'}), (99900, {'node_type': <NodeType.GAME: 0>, 'game_name': 'Spiral Knights'}), (99910, {'node_type': <NodeType.GAME: 0>, 'game_name': 'Puzzle Pirates'}), (999730, {'node_type': <NodeType.GAME: 0>, 'game_name': 'Secret Neighbor Beta'}), (999860, {'node_type': <NodeType.GAME: 0>, 'game_name': 'Enemy On Board'})]\n"
     ]
    }
   ],
   "source": [
    "test_data_loader = DataLoader(friendship_edge_encoding=FriendEdgeEncoding.NONE, user_embeddings = [], game_embeddings = ['name'], user_game_edge_embeddings = ['example_sum_user_id_game_id_playtime_forever'], friend_friend_edge_embeddings = [])\n",
    "network = test_data_loader.get_full_network()\n",
    "print('Num edges: ', len(network.edges))\n",
    "print('Num nodes: ', len(network.nodes))\n",
    "print(list(network.edges(data=True))[:10])\n",
    "print(list(network.edges(data=True))[-10:])\n",
    "print(list(network.nodes(data=True))[:10])\n",
    "print(list(network.nodes(data=True))[-10:])"
   ]
  },
  {
   "cell_type": "code",
   "execution_count": 4,
   "metadata": {},
   "outputs": [
    {
     "name": "stdout",
     "output_type": "stream",
     "text": [
      "Num edges:  45550\n",
      "Num nodes:  9481\n",
      "[(76561197963485711, 10, {'example_sum_user_id_game_id_playtime_forever': 76561197963485721}), (76561197963485711, 20, {'example_sum_user_id_game_id_playtime_forever': 76561197963485731}), (76561197963485711, 30, {'example_sum_user_id_game_id_playtime_forever': 76561197963485741}), (76561197963485711, 40, {'example_sum_user_id_game_id_playtime_forever': 76561197963485751}), (76561197963485711, 50, {'example_sum_user_id_game_id_playtime_forever': 76561197963485761}), (76561197963485711, 60, {'example_sum_user_id_game_id_playtime_forever': 76561197963485771}), (76561197963485711, 70, {'example_sum_user_id_game_id_playtime_forever': 76561197963485781}), (76561197963485711, 130, {'example_sum_user_id_game_id_playtime_forever': 76561197963485841}), (76561197963485711, 2990, {'example_sum_user_id_game_id_playtime_forever': 76561197963488701}), (76561197963485711, 550, {'example_sum_user_id_game_id_playtime_forever': 76561197963486261})]\n",
      "[(76561199605560768, 1238810, {'example_sum_user_id_game_id_playtime_forever': 76561199606799578}), (76561199605560768, 1222670, {'example_sum_user_id_game_id_playtime_forever': 76561199606783438}), (76561199605560768, 1693980, {'example_sum_user_id_game_id_playtime_forever': 76561199607254758}), (76561199605560768, 1282690, {'example_sum_user_id_game_id_playtime_forever': 76561199606843458}), (76561199605560768, 76561199606688678, {}), (76561199605560768, 76561199606826386, {}), (76561199605987089, 76561199606445378, {}), (76561199606472807, 76561199615490246, {}), (76561199606826386, 2073850, {'example_sum_user_id_game_id_playtime_forever': 76561199608900293}), (76561199608347696, 730, {'example_sum_user_id_game_id_playtime_forever': 76561199608348720})]\n",
      "[(76561197960952452, {'node_type': <NodeType.USER: 1>}), (76561197963485711, {'node_type': <NodeType.USER: 1>}), (76561197964100381, {'node_type': <NodeType.USER: 1>}), (76561197964597360, {'node_type': <NodeType.USER: 1>}), (76561197965052201, {'node_type': <NodeType.USER: 1>}), (76561197997470647, {'node_type': <NodeType.USER: 1>}), (76561198007129923, {'node_type': <NodeType.USER: 1>}), (76561198009514123, {'node_type': <NodeType.USER: 1>}), (76561198025903278, {'node_type': <NodeType.USER: 1>}), (76561198028895994, {'node_type': <NodeType.USER: 1>})]\n",
      "[(996770, {'node_type': <NodeType.GAME: 0>, 'game_name': 'Moving Out'}), (997010, {'node_type': <NodeType.GAME: 0>, 'game_name': 'Police Simulator: Patrol Officers'}), (997070, {'node_type': <NodeType.GAME: 0>, 'game_name': \"Marvel's Avengers - The Definitive Edition\"}), (998740, {'node_type': <NodeType.GAME: 0>, 'game_name': 'Ring of Pain'}), (998930, {'node_type': <NodeType.GAME: 0>, 'game_name': 'Seek Girl'}), (998940, {'node_type': <NodeType.GAME: 0>, 'game_name': '隐形守护者 The Invisible Guardian'}), (99900, {'node_type': <NodeType.GAME: 0>, 'game_name': 'Spiral Knights'}), (99910, {'node_type': <NodeType.GAME: 0>, 'game_name': 'Puzzle Pirates'}), (999730, {'node_type': <NodeType.GAME: 0>, 'game_name': 'Secret Neighbor Beta'}), (999860, {'node_type': <NodeType.GAME: 0>, 'game_name': 'Enemy On Board'})]\n"
     ]
    }
   ],
   "source": [
    "test_data_loader = DataLoader(friendship_edge_encoding=FriendEdgeEncoding.BETWEEN_USERS, user_embeddings = [], game_embeddings = ['name'], user_game_edge_embeddings = ['example_sum_user_id_game_id_playtime_forever'], friend_friend_edge_embeddings = [])\n",
    "network = test_data_loader.get_full_network()\n",
    "print('Num edges: ', len(network.edges))\n",
    "print('Num nodes: ', len(network.nodes))\n",
    "print(list(network.edges(data=True))[:10])\n",
    "print(list(network.edges(data=True))[-10:])\n",
    "print(list(network.nodes(data=True))[:10])\n",
    "print(list(network.nodes(data=True))[-10:])"
   ]
  },
  {
   "cell_type": "code",
   "execution_count": 5,
   "metadata": {},
   "outputs": [
    {
     "name": "stdout",
     "output_type": "stream",
     "text": [
      "Num edges:  60800\n",
      "Num nodes:  24450\n",
      "[(76561197963485711, 10, {'example_sum_user_id_game_id_playtime_forever': 76561197963485721}), (76561197963485711, 20, {'example_sum_user_id_game_id_playtime_forever': 76561197963485731}), (76561197963485711, 30, {'example_sum_user_id_game_id_playtime_forever': 76561197963485741}), (76561197963485711, 40, {'example_sum_user_id_game_id_playtime_forever': 76561197963485751}), (76561197963485711, 50, {'example_sum_user_id_game_id_playtime_forever': 76561197963485761}), (76561197963485711, 60, {'example_sum_user_id_game_id_playtime_forever': 76561197963485771}), (76561197963485711, 70, {'example_sum_user_id_game_id_playtime_forever': 76561197963485781}), (76561197963485711, 130, {'example_sum_user_id_game_id_playtime_forever': 76561197963485841}), (76561197963485711, 2990, {'example_sum_user_id_game_id_playtime_forever': 76561197963488701}), (76561197963485711, 550, {'example_sum_user_id_game_id_playtime_forever': 76561197963486261})]\n",
      "[(76561199605560768, 1238810, {'example_sum_user_id_game_id_playtime_forever': 76561199606799578}), (76561199605560768, 1222670, {'example_sum_user_id_game_id_playtime_forever': 76561199606783438}), (76561199605560768, 1693980, {'example_sum_user_id_game_id_playtime_forever': 76561199607254758}), (76561199605560768, 1282690, {'example_sum_user_id_game_id_playtime_forever': 76561199606843458}), (76561199605560768, 76561199606688678, {}), (76561199605560768, 76561199606826386, {}), (76561199605987089, 76561199606445378, {}), (76561199606472807, 76561199615490246, {}), (76561199606826386, 2073850, {'example_sum_user_id_game_id_playtime_forever': 76561199608900293}), (76561199608347696, 730, {'example_sum_user_id_game_id_playtime_forever': 76561199608348720})]\n",
      "[(76561197960952452, {'node_type': <NodeType.USER: 1>}), (76561197963485711, {'node_type': <NodeType.USER: 1>}), (76561197964100381, {'node_type': <NodeType.USER: 1>}), (76561197964597360, {'node_type': <NodeType.USER: 1>}), (76561197965052201, {'node_type': <NodeType.USER: 1>}), (76561197997470647, {'node_type': <NodeType.USER: 1>}), (76561198007129923, {'node_type': <NodeType.USER: 1>}), (76561198009514123, {'node_type': <NodeType.USER: 1>}), (76561198025903278, {'node_type': <NodeType.USER: 1>}), (76561198028895994, {'node_type': <NodeType.USER: 1>})]\n",
      "[(76561199547077977, {'node_type': <NodeType.UNDEFINED_USER: 2>}), (76561199552466930, {'node_type': <NodeType.UNDEFINED_USER: 2>}), (76561199554532852, {'node_type': <NodeType.UNDEFINED_USER: 2>}), (76561199556819831, {'node_type': <NodeType.UNDEFINED_USER: 2>}), (76561199560367013, {'node_type': <NodeType.UNDEFINED_USER: 2>}), (76561199561241883, {'node_type': <NodeType.UNDEFINED_USER: 2>}), (76561199563588850, {'node_type': <NodeType.UNDEFINED_USER: 2>}), (76561199564107654, {'node_type': <NodeType.UNDEFINED_USER: 2>}), (76561199565981489, {'node_type': <NodeType.UNDEFINED_USER: 2>}), (76561199568874225, {'node_type': <NodeType.UNDEFINED_USER: 2>})]\n"
     ]
    }
   ],
   "source": [
    "test_data_loader = DataLoader(friendship_edge_encoding=FriendEdgeEncoding.ALL_FRIENDSHIPS, user_embeddings = [], game_embeddings = ['name'], user_game_edge_embeddings = ['example_sum_user_id_game_id_playtime_forever'], friend_friend_edge_embeddings = [])\n",
    "network = test_data_loader.get_full_network()\n",
    "print('Num edges: ', len(network.edges))\n",
    "print('Num nodes: ', len(network.nodes))\n",
    "print(list(network.edges(data=True))[:10])\n",
    "print(list(network.edges(data=True))[-10:])\n",
    "print(list(network.nodes(data=True))[:10])\n",
    "print(list(network.nodes(data=True))[-10:])"
   ]
  }
 ],
 "metadata": {
  "kernelspec": {
   "display_name": "Python 3",
   "language": "python",
   "name": "python3"
  },
  "language_info": {
   "codemirror_mode": {
    "name": "ipython",
    "version": 3
   },
   "file_extension": ".py",
   "mimetype": "text/x-python",
   "name": "python",
   "nbconvert_exporter": "python",
   "pygments_lexer": "ipython3",
   "version": "3.11.6"
  }
 },
 "nbformat": 4,
 "nbformat_minor": 2
}
