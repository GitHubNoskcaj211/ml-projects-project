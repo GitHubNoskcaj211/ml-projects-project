{
 "cells": [
  {
   "cell_type": "code",
   "execution_count": 1,
   "metadata": {},
   "outputs": [],
   "source": [
    "import sys\n",
    "import os\n",
    "sys.path.append(os.path.join(os.path.abspath(''), '../'))\n",
    "\n",
    "from dataset.data_loader import DataLoader, FriendEdgeEncoding, NodeType, playtime_forever_edge_scoring_function, LinearNormalizer, GaussianNormalizer, PercentileNormalizer, print_game_edges_for_user, never_remove_edge, remove_zero_playtime_edge\n",
    "from matplotlib import pyplot as plt\n",
    "import networkx as nx"
   ]
  },
  {
   "cell_type": "code",
   "execution_count": 2,
   "metadata": {},
   "outputs": [
    {
     "name": "stdout",
     "output_type": "stream",
     "text": [
      "                user_id  game_id  playtime_2weeks  playtime_forever\n",
      "0     76561198090678973    29800                0                65\n",
      "1     76561198090678973     4000                0               178\n",
      "2     76561198090678973    17470                0               243\n",
      "3     76561198090678973    17390                0               246\n",
      "4     76561198090678973     2590                0                 0\n",
      "...                 ...      ...              ...               ...\n",
      "1399  76561198090678973  1712840                0                 0\n",
      "1400  76561198090678973      630                0                21\n",
      "1401  76561198090678973   489630                0                 0\n",
      "1402  76561198090678973   249050                0                 0\n",
      "1403  76561198090678973      570                0                60\n",
      "\n",
      "[1404 rows x 4 columns]\n"
     ]
    }
   ],
   "source": [
    "test_data_loader = DataLoader()\n",
    "test_data_loader.get_data_for_user(76561198090678973)"
   ]
  },
  {
   "cell_type": "code",
   "execution_count": 2,
   "metadata": {},
   "outputs": [],
   "source": [
    "# Testing the different normalization functions\n",
    "user = 76561198166465514\n",
    "\n",
    "test_data_loader = DataLoader(score_normalizers = [LinearNormalizer(0.0, 1.0)])\n",
    "network = test_data_loader.get_full_network()\n",
    "print('Constant with linear norm applied')\n",
    "print_game_edges_for_user(network, user)\n",
    "print()\n",
    "\n",
    "test_data_loader = DataLoader(friendship_edge_encoding=FriendEdgeEncoding.NONE, edge_scoring_function = playtime_forever_edge_scoring_function, score_normalizers = [], user_game_edge_embeddings = ['playtime_forever'])\n",
    "network = test_data_loader.get_full_network()\n",
    "print('No norm')\n",
    "print_game_edges_for_user(network, user)\n",
    "print()\n",
    "\n",
    "test_data_loader = DataLoader(friendship_edge_encoding=FriendEdgeEncoding.NONE, edge_scoring_function = playtime_forever_edge_scoring_function, score_normalizers = [LinearNormalizer(0.0, 1.0)], user_game_edge_embeddings = ['playtime_forever'])\n",
    "network = test_data_loader.get_full_network()\n",
    "print('Linear norm')\n",
    "print_game_edges_for_user(network, user)\n",
    "print()\n",
    "\n",
    "test_data_loader = DataLoader(friendship_edge_encoding=FriendEdgeEncoding.NONE, edge_scoring_function = playtime_forever_edge_scoring_function, score_normalizers = [GaussianNormalizer(1.0, 1.0)], user_game_edge_embeddings = ['playtime_forever'])\n",
    "network = test_data_loader.get_full_network()\n",
    "print('Gaussian norm')\n",
    "print_game_edges_for_user(network, user)\n",
    "print()\n",
    "\n",
    "test_data_loader = DataLoader(friendship_edge_encoding=FriendEdgeEncoding.NONE, edge_scoring_function = playtime_forever_edge_scoring_function, score_normalizers = [PercentileNormalizer()], user_game_edge_embeddings = ['playtime_forever'])\n",
    "network = test_data_loader.get_full_network()\n",
    "print('Percentile norm')\n",
    "print_game_edges_for_user(network, user)\n",
    "print()\n",
    "\n",
    "test_data_loader = DataLoader(friendship_edge_encoding=FriendEdgeEncoding.NONE, edge_scoring_function = playtime_forever_edge_scoring_function, score_normalizers = [LinearNormalizer(0.0, 1.0), GaussianNormalizer(1.0, 1.0)], user_game_edge_embeddings = ['playtime_forever'])\n",
    "network = test_data_loader.get_full_network()\n",
    "print('Linear then gaussian')\n",
    "print_game_edges_for_user(network, user)\n",
    "print()\n",
    "\n",
    "test_data_loader = DataLoader(friendship_edge_encoding=FriendEdgeEncoding.NONE, edge_scoring_function = playtime_forever_edge_scoring_function, score_normalizers = [PercentileNormalizer(), GaussianNormalizer(1.0, 1.0)], user_game_edge_embeddings = ['playtime_forever'])\n",
    "network = test_data_loader.get_full_network()\n",
    "print('percentile then gaussian')\n",
    "print_game_edges_for_user(network, user)\n",
    "print()"
   ]
  },
  {
   "cell_type": "code",
   "execution_count": null,
   "metadata": {},
   "outputs": [],
   "source": [
    "# Testing splits\n",
    "test_data_loader = DataLoader()\n",
    "train_network, test_network = test_data_loader.load_random_train_test_network()\n",
    "train_network, test_network = test_data_loader.load_stratified_user_degree_train_test_network()\n",
    "train_network, test_network = test_data_loader.load_stratified_user_train_test_network()"
   ]
  },
  {
   "cell_type": "code",
   "execution_count": null,
   "metadata": {},
   "outputs": [],
   "source": [
    "# Testing friendship encoding\n",
    "test_data_loader = DataLoader(friendship_edge_encoding=FriendEdgeEncoding.NONE, edge_scoring_function = (lambda edge_data: edge_data['playtime_forever']), score_normalizers = [], user_embeddings = [], game_embeddings = ['name'], user_game_edge_embeddings = ['playtime_forever'], friend_friend_edge_embeddings = [])\n",
    "network = test_data_loader.get_full_network()\n",
    "print('Num edges: ', len(network.edges))\n",
    "print('Num nodes: ', len(network.nodes))\n",
    "print(list(network.edges(data=True))[:10])\n",
    "print(list(network.edges(data=True))[-10:])\n",
    "print(list(network.nodes(data=True))[:10])\n",
    "print(list(network.nodes(data=True))[-10:])\n",
    "\n",
    "test_data_loader = DataLoader(friendship_edge_encoding=FriendEdgeEncoding.ALL_FRIENDSHIPS, score_normalizers = [], user_embeddings = [], game_embeddings = [], user_game_edge_embeddings = ['example_sum_user_id_game_id_playtime_forever'], friend_friend_edge_embeddings = [])\n",
    "network = test_data_loader.get_full_network()\n",
    "print('Num edges: ', len(network.edges))\n",
    "print('Num nodes: ', len(network.nodes))\n",
    "print(list(network.edges(data=True))[:10])\n",
    "print(list(network.edges(data=True))[-10:])\n",
    "print(list(network.nodes(data=True))[:10])\n",
    "print(list(network.nodes(data=True))[-10:])\n",
    "\n",
    "test_data_loader = DataLoader(friendship_edge_encoding = FriendEdgeEncoding.BETWEEN_USERS, edge_scoring_function = playtime_forever_edge_scoring_function, user_game_edge_embeddings = ['playtime_forever'], score_normalizers = [GaussianNormalizer(1.0, 1.0)])\n",
    "network = test_data_loader.get_full_network()\n",
    "train_network, test_network = test_data_loader.load_stratified_user_train_test_network(network=network, train_percentage=0.8, test_percentage=0.2, seed=0)\n",
    "print('Num edges: ', len(network.edges))\n",
    "print('Num nodes: ', len(network.nodes))\n",
    "print(list(network.edges(data=True))[:10])\n",
    "print(list(network.edges(data=True))[-10:])\n",
    "print(list(network.nodes(data=True))[:10])\n",
    "print(list(network.nodes(data=True))[-10:])\n",
    "\n",
    "# selected_nodes = [node for node in network.nodes() if network.degree(node) > 1]\n",
    "# subgraph = network.subgraph(selected_nodes)\n",
    "# nx.draw(subgraph, node_size=5)\n",
    "# plt.show()"
   ]
  },
  {
   "cell_type": "code",
   "execution_count": null,
   "metadata": {},
   "outputs": [],
   "source": [
    "# Printing out game node degrees\n",
    "test_data_loader = DataLoader(game_embeddings = ['name'])\n",
    "network = test_data_loader.get_full_network()\n",
    "degrees = [(game, degree) for game, degree in network.degree()]\n",
    "degrees = [g for g in network.degree() if g[0] < 1999220]\n",
    "degrees = sorted(degrees, key=lambda g: g[1], reverse=True)\n",
    "out = [(network.nodes(data=True)[game]['name'], degree) for game, degree in degrees]\n",
    "for x in out:\n",
    "    print(x)"
   ]
  },
  {
   "cell_type": "code",
   "execution_count": null,
   "metadata": {},
   "outputs": [],
   "source": [
    "# Printing out user node degrees\n",
    "test_data_loader = DataLoader()\n",
    "network = test_data_loader.get_full_network()\n",
    "degrees = [(user, degree) for user, degree in network.degree()]\n",
    "degrees = [g for g in network.degree() if g[0] > 10000000000000000]\n",
    "degrees = sorted(degrees, key=lambda g: g[1], reverse=True)\n",
    "out = [(user, degree) for user, degree in degrees]\n",
    "for x in out:\n",
    "    print(x)"
   ]
  },
  {
   "cell_type": "code",
   "execution_count": null,
   "metadata": {},
   "outputs": [],
   "source": [
    "# Testing for the game embeddings\n",
    "test_data_loader = DataLoader(game_embeddings = ['name', 'numReviews', 'avgReviewScore', 'price', 'genres', 'tags', 'numFollowers'])\n",
    "network = test_data_loader.get_full_network()\n",
    "\n",
    "print(list(network.edges(data=True))[:10])\n",
    "print(list(network.edges(data=True))[-10:])\n",
    "print(list(network.nodes(data=True))[:10])\n",
    "print(list(network.nodes(data=True))[-10:])"
   ]
  },
  {
   "cell_type": "code",
   "execution_count": null,
   "metadata": {},
   "outputs": [],
   "source": [
    "# Print games df sorted by a field column\n",
    "print(test_data_loader.games_df.sort_values(by='numReviews', ascending=False).head(20)[['name', 'numReviews']])"
   ]
  },
  {
   "cell_type": "code",
   "execution_count": null,
   "metadata": {},
   "outputs": [],
   "source": [
    "# Testing loading one snowball\n",
    "print('All snowballs all users.')\n",
    "test_data_loader = DataLoader(snowballs_ids = [], num_users_to_load_per_snowball=None)\n",
    "network = test_data_loader.get_full_network()\n",
    "print('Num edges: ', len(network.edges))\n",
    "print('Num nodes: ', len(network.nodes))\n",
    "\n",
    "print('1 snowball all users.')\n",
    "test_data_loader = DataLoader(snowballs_ids = ['76561198166465514'], num_users_to_load_per_snowball=None)\n",
    "network = test_data_loader.get_full_network()\n",
    "print('Num edges: ', len(network.edges))\n",
    "print('Num nodes: ', len(network.nodes))\n",
    "\n",
    "print('all snowballs 100 users per snowball.')\n",
    "test_data_loader = DataLoader(snowballs_ids = [], num_users_to_load_per_snowball=100)\n",
    "network = test_data_loader.get_full_network()\n",
    "print('Num edges: ', len(network.edges))\n",
    "print('Num nodes: ', len(network.nodes))"
   ]
  },
  {
   "cell_type": "code",
   "execution_count": null,
   "metadata": {},
   "outputs": [],
   "source": [
    "# Testing removing 0 playtime edges\n",
    "print('No removing edges.')\n",
    "test_data_loader = DataLoader(remove_edge_function = never_remove_edge)\n",
    "network = test_data_loader.get_full_network()\n",
    "print('Num edges: ', len(network.edges))\n",
    "print('Num nodes: ', len(network.nodes))\n",
    "\n",
    "print('Removing 0 playtime edges.')\n",
    "test_data_loader = DataLoader(remove_edge_function = remove_zero_playtime_edge, user_game_edge_embeddings = ['playtime_forever'])\n",
    "network = test_data_loader.get_full_network()\n",
    "print('Num edges: ', len(network.edges))\n",
    "print('Num nodes: ', len(network.nodes))"
   ]
  },
  {
   "cell_type": "code",
   "execution_count": null,
   "metadata": {},
   "outputs": [],
   "source": [
    "# Scoring a user with no edges.\n",
    "data_loader = DataLoader(edge_scoring_function = playtime_forever_edge_scoring_function, user_game_edge_embeddings = ['playtime_forever'], score_normalizers = [GaussianNormalizer(1.0, 1.0)], remove_edge_function = remove_zero_playtime_edge, num_users_to_load_per_snowball = None)\n",
    "network = data_loader.get_full_network()\n",
    "print_game_edges_for_user(network, 76561199369782592)"
   ]
  },
  {
   "cell_type": "code",
   "execution_count": null,
   "metadata": {},
   "outputs": [],
   "source": []
  }
 ],
 "metadata": {
  "kernelspec": {
   "display_name": "Python 3",
   "language": "python",
   "name": "python3"
  },
  "language_info": {
   "codemirror_mode": {
    "name": "ipython",
    "version": 3
   },
   "file_extension": ".py",
   "mimetype": "text/x-python",
   "name": "python",
   "nbconvert_exporter": "python",
   "pygments_lexer": "ipython3",
   "version": "3.11.3"
  }
 },
 "nbformat": 4,
 "nbformat_minor": 2
}
