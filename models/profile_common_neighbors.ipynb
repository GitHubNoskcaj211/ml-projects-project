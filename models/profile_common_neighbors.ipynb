{
 "cells": [
  {
   "cell_type": "code",
   "execution_count": 1,
   "metadata": {},
   "outputs": [],
   "source": [
    "# %run -i 'profile_model.py' -m common_neighbors_storage_predict_efficient -f test_common_neighbors_storage_predict_efficient"
   ]
  },
  {
   "cell_type": "markdown",
   "metadata": {},
   "source": [
    "Current Memory Usage: 37.104 GB\n",
    "Peak Memory Usage: 49.180 GB\n",
    "Elapsed:  257.73311050000484 seconds"
   ]
  },
  {
   "cell_type": "code",
   "execution_count": 2,
   "metadata": {},
   "outputs": [],
   "source": [
    "# %run -i 'profile_model.py' -m common_neighbors_load_predict_efficient -f test_common_neighbors_load_predict_efficient"
   ]
  },
  {
   "cell_type": "markdown",
   "metadata": {},
   "source": [
    "Current Memory Usage: 12.778 GB\n",
    "Peak Memory Usage: 12.781 GB\n",
    "Elapsed:  41.54955837500165 seconds"
   ]
  },
  {
   "cell_type": "code",
   "execution_count": 3,
   "metadata": {},
   "outputs": [],
   "source": [
    "# %run -i 'profile_model.py' -m common_neighbors_storage_memory_efficient -f test_common_neighbors_storage_memory_efficient"
   ]
  },
  {
   "cell_type": "markdown",
   "metadata": {},
   "source": [
    "Current Memory Usage: 751.258 MB\n",
    "Peak Memory Usage: 803.592 MB\n",
    "Elapsed:  37.67388108299929 seconds"
   ]
  }
 ],
 "metadata": {
  "kernelspec": {
   "display_name": "ml_project_3.11.3",
   "language": "python",
   "name": "python3"
  },
  "language_info": {
   "codemirror_mode": {
    "name": "ipython",
    "version": 3
   },
   "file_extension": ".py",
   "mimetype": "text/x-python",
   "name": "python",
   "nbconvert_exporter": "python",
   "pygments_lexer": "ipython3",
   "version": "3.11.3"
  }
 },
 "nbformat": 4,
 "nbformat_minor": 2
}
