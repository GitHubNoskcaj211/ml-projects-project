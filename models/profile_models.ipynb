{
 "cells": [
  {
   "cell_type": "code",
   "execution_count": 1,
   "metadata": {},
   "outputs": [],
   "source": [
    "import sys\n",
    "import os\n",
    "sys.path.append(os.path.join(os.path.abspath(''), '../'))"
   ]
  },
  {
   "cell_type": "code",
   "execution_count": 2,
   "metadata": {},
   "outputs": [
    {
     "name": "stdout",
     "output_type": "stream",
     "text": [
      "Importing\n",
      "Initializing Data Loader\n",
      "Loading Model\n",
      "Fine Tuning\n",
      "Recommending\n",
      "\n",
      "Current Memory Usage: 172.605 MB\n",
      "Peak Memory Usage: 189.888 MB\n",
      "Elapsed:  10.297759625129402 seconds\n"
     ]
    }
   ],
   "source": [
    "%run -i 'profile_model.py' -m random -f evaluation_test_random_model -d test_evaluation_data_loader"
   ]
  },
  {
   "cell_type": "code",
   "execution_count": 3,
   "metadata": {},
   "outputs": [
    {
     "name": "stdout",
     "output_type": "stream",
     "text": [
      "Importing\n",
      "Initializing Data Loader\n",
      "Loading Model\n",
      "Fine Tuning\n",
      "Recommending\n",
      "\n",
      "Current Memory Usage: 7.691 MB\n",
      "Peak Memory Usage: 12.964 MB\n",
      "Elapsed:  0.7638017078861594 seconds\n"
     ]
    }
   ],
   "source": [
    "%run -i 'profile_model.py' -m game_popularity -f evaluation_test_popularity_model -d test_evaluation_data_loader"
   ]
  },
  {
   "cell_type": "code",
   "execution_count": 6,
   "metadata": {},
   "outputs": [
    {
     "name": "stdout",
     "output_type": "stream",
     "text": [
      "Importing\n",
      "Initializing Data Loader\n",
      "Loading Model\n",
      "Fine Tuning\n",
      "test\n",
      "Recommending\n",
      "\n",
      "Current Memory Usage: 505.107 MB\n",
      "Peak Memory Usage: 1.744 GB\n",
      "Elapsed:  1.9101480001118034 seconds\n"
     ]
    }
   ],
   "source": [
    "%run -i 'profile_model.py' -m common_neighbors -f evaluation_test_common_neighbors -d test_evaluation_data_loader"
   ]
  },
  {
   "cell_type": "code",
   "execution_count": null,
   "metadata": {},
   "outputs": [
    {
     "name": "stdout",
     "output_type": "stream",
     "text": [
      "Importing\n",
      "Initializing Data Loader\n",
      "Loading Model\n",
      "Fine Tuning\n",
      "Recommending\n",
      "\n",
      "Current Memory Usage: 58.308 MB\n",
      "Peak Memory Usage: 95.002 MB\n",
      "Elapsed:  5.683713124948554 seconds\n"
     ]
    }
   ],
   "source": [
    "%run -i 'profile_model.py' -m ncf -f evaluation_test_cf_model_low_weight_decay_increased_lr -d test_evaluation_data_loader"
   ]
  },
  {
   "cell_type": "code",
   "execution_count": null,
   "metadata": {},
   "outputs": [
    {
     "name": "stdout",
     "output_type": "stream",
     "text": [
      "Importing\n",
      "Initializing Data Loader\n",
      "Loading Model\n",
      "Fine Tuning\n",
      "Recommending\n",
      "\n",
      "Current Memory Usage: 16.728 MB\n",
      "Peak Memory Usage: 53.424 MB\n",
      "Elapsed:  2.7195492920000106 seconds\n"
     ]
    }
   ],
   "source": [
    "%run -i 'profile_model.py' -m ncf -f evaluation_test_gcf_model_low_weight_decay_increased_lr -d test_evaluation_data_loader"
   ]
  },
  {
   "cell_type": "code",
   "execution_count": null,
   "metadata": {},
   "outputs": [
    {
     "name": "stdout",
     "output_type": "stream",
     "text": [
      "Importing\n",
      "Initializing Data Loader\n",
      "Loading Model\n",
      "Fine Tuning\n",
      "Recommending\n",
      "\n",
      "Current Memory Usage: 16.595 MB\n",
      "Peak Memory Usage: 53.293 MB\n",
      "Elapsed:  2.5485775000415742 seconds\n"
     ]
    }
   ],
   "source": [
    "%run -i 'profile_model.py' -m ncf -f evaluation_test_mlp_model_low_weight_decay_increased_lr -d test_evaluation_data_loader"
   ]
  },
  {
   "cell_type": "code",
   "execution_count": null,
   "metadata": {},
   "outputs": [
    {
     "name": "stdout",
     "output_type": "stream",
     "text": [
      "Importing\n",
      "Initializing Data Loader\n",
      "Loading Model\n",
      "Fine Tuning\n",
      "Recommending\n",
      "\n",
      "Current Memory Usage: 16.606 MB\n",
      "Peak Memory Usage: 53.322 MB\n",
      "Elapsed:  3.235993165988475 seconds\n"
     ]
    }
   ],
   "source": [
    "%run -i 'profile_model.py' -m ncf -f evaluation_test_ncf_model_low_weight_decay_increased_lr -d test_evaluation_data_loader"
   ]
  },
  {
   "cell_type": "code",
   "execution_count": null,
   "metadata": {},
   "outputs": [],
   "source": []
  }
 ],
 "metadata": {
  "kernelspec": {
   "display_name": "ml_project_3.11.3",
   "language": "python",
   "name": "python3"
  },
  "language_info": {
   "codemirror_mode": {
    "name": "ipython",
    "version": 3
   },
   "file_extension": ".py",
   "mimetype": "text/x-python",
   "name": "python",
   "nbconvert_exporter": "python",
   "pygments_lexer": "ipython3",
   "version": "3.11.3"
  }
 },
 "nbformat": 4,
 "nbformat_minor": 2
}
