{
 "cells": [
  {
   "cell_type": "code",
   "execution_count": 1,
   "metadata": {},
   "outputs": [],
   "source": [
    "import sys\n",
    "import os\n",
    "sys.path.append(os.path.join(os.path.abspath(''), '../'))"
   ]
  },
  {
   "cell_type": "code",
   "execution_count": 2,
   "metadata": {},
   "outputs": [],
   "source": [
    "# %run -i 'profile_model.py' -m common_neighbors_storage_predict_efficient -f test_common_neighbors_storage_predict_efficient"
   ]
  },
  {
   "cell_type": "markdown",
   "metadata": {},
   "source": [
    "Current Memory Usage: 36.544 GB\n",
    "Peak Memory Usage: 48.619 GB\n",
    "Elapsed:  229.64309212499938 seconds"
   ]
  },
  {
   "cell_type": "code",
   "execution_count": 3,
   "metadata": {},
   "outputs": [],
   "source": [
    "# %run -i 'profile_model.py' -m common_neighbors_load_predict_efficient -f test_common_neighbors_load_predict_efficient"
   ]
  },
  {
   "cell_type": "markdown",
   "metadata": {},
   "source": [
    "Current Memory Usage: 12.218 GB\n",
    "Peak Memory Usage: 12.221 GB\n",
    "Elapsed:  16.40883549999853 seconds"
   ]
  },
  {
   "cell_type": "code",
   "execution_count": 4,
   "metadata": {},
   "outputs": [
    {
     "name": "stdout",
     "output_type": "stream",
     "text": [
      "Importing\n",
      "Initializing Data Loader\n",
      "Loading Model\n",
      "Recommending\n",
      "\n",
      "Current Memory Usage: 533.435 MB\n",
      "Peak Memory Usage: 536.974 MB\n",
      "Elapsed:  11.3174513749982 seconds\n"
     ]
    }
   ],
   "source": [
    "%run -i 'profile_model.py' -m common_neighbors_storage_memory_efficient -f test_common_neighbors_storage_memory_efficient"
   ]
  },
  {
   "cell_type": "markdown",
   "metadata": {},
   "source": [
    "Current Memory Usage: 533.435 MB\n",
    "Peak Memory Usage: 536.974 MB\n",
    "Elapsed:  11.3174513749982 seconds"
   ]
  },
  {
   "cell_type": "code",
   "execution_count": 5,
   "metadata": {},
   "outputs": [
    {
     "name": "stdout",
     "output_type": "stream",
     "text": [
      "Importing\n",
      "Initializing Data Loader\n",
      "Loading Model\n",
      "Recommending\n",
      "\n",
      "Current Memory Usage: 7.637 MB\n",
      "Peak Memory Usage: 12.913 MB\n",
      "Elapsed:  0.8319688750052592 seconds\n"
     ]
    }
   ],
   "source": [
    "%run -i 'profile_model.py' -m game_popularity -f test_popularity_model"
   ]
  },
  {
   "cell_type": "markdown",
   "metadata": {},
   "source": [
    "Current Memory Usage: 7.637 MB\n",
    "Peak Memory Usage: 12.913 MB\n",
    "Elapsed:  0.8319688750052592 seconds"
   ]
  },
  {
   "cell_type": "markdown",
   "metadata": {},
   "source": []
  }
 ],
 "metadata": {
  "kernelspec": {
   "display_name": "ml_project_3.11.3",
   "language": "python",
   "name": "python3"
  },
  "language_info": {
   "codemirror_mode": {
    "name": "ipython",
    "version": 3
   },
   "file_extension": ".py",
   "mimetype": "text/x-python",
   "name": "python",
   "nbconvert_exporter": "python",
   "pygments_lexer": "ipython3",
   "version": "3.11.3"
  }
 },
 "nbformat": 4,
 "nbformat_minor": 2
}
