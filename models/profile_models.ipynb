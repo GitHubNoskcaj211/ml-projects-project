{
 "cells": [
  {
   "cell_type": "code",
   "execution_count": 1,
   "metadata": {},
   "outputs": [],
   "source": [
    "import sys\n",
    "import os\n",
    "sys.path.append(os.path.join(os.path.abspath(''), '../'))"
   ]
  },
  {
   "cell_type": "code",
   "execution_count": 2,
   "metadata": {},
   "outputs": [
    {
     "name": "stdout",
     "output_type": "stream",
     "text": [
      "Importing\n",
      "Initializing Data Loader\n",
      "Loading Model\n",
      "Fine Tuning\n",
      "Recommending\n",
      "\n",
      "Current Memory Usage: 147.759 MB\n",
      "Peak Memory Usage: 151.465 MB\n",
      "Elapsed:  15.935886958031915 seconds\n"
     ]
    }
   ],
   "source": [
    "%run -i 'profile_model.py' -m random -f test_random_model -d test_random_model_data_loader"
   ]
  },
  {
   "cell_type": "code",
   "execution_count": 3,
   "metadata": {},
   "outputs": [
    {
     "name": "stdout",
     "output_type": "stream",
     "text": [
      "Importing\n",
      "Initializing Data Loader\n",
      "Loading Model\n",
      "Fine Tuning\n",
      "Recommending\n",
      "\n",
      "Current Memory Usage: 7.685 MB\n",
      "Peak Memory Usage: 12.967 MB\n",
      "Elapsed:  2.823354791966267 seconds\n"
     ]
    }
   ],
   "source": [
    "%run -i 'profile_model.py' -m game_popularity -f test_popularity_model -d test_popularity_model_data_loader"
   ]
  },
  {
   "cell_type": "code",
   "execution_count": 4,
   "metadata": {},
   "outputs": [
    {
     "name": "stdout",
     "output_type": "stream",
     "text": [
      "Importing\n",
      "Initializing Data Loader\n",
      "Loading Model\n",
      "Fine Tuning\n",
      "Recommending\n",
      "\n",
      "Current Memory Usage: 542.046 MB\n",
      "Peak Memory Usage: 1.936 GB\n",
      "Elapsed:  4.89230312500149 seconds\n"
     ]
    }
   ],
   "source": [
    "%run -i 'profile_model.py' -m common_neighbors -f test_common_neighbors_default -d test_common_neighbors_default_data_loader"
   ]
  },
  {
   "cell_type": "code",
   "execution_count": 5,
   "metadata": {},
   "outputs": [
    {
     "name": "stdout",
     "output_type": "stream",
     "text": [
      "Importing\n",
      "Initializing Data Loader\n",
      "Loading Model\n",
      "Fine Tuning\n",
      "Recommending\n",
      "\n",
      "Current Memory Usage: 542.041 MB\n",
      "Peak Memory Usage: 1.936 GB\n",
      "Elapsed:  4.553283542045392 seconds\n"
     ]
    }
   ],
   "source": [
    "%run -i 'profile_model.py' -m common_neighbors -f test_common_neighbors_playtime_scored_gaussian_normalized -d test_common_neighbors_playtime_scored_gaussian_normalized_data_loader"
   ]
  },
  {
   "cell_type": "code",
   "execution_count": 6,
   "metadata": {},
   "outputs": [
    {
     "name": "stdout",
     "output_type": "stream",
     "text": [
      "Importing\n",
      "Initializing Data Loader\n",
      "Loading Model\n",
      "Fine Tuning\n",
      "Recommending\n",
      "\n",
      "Current Memory Usage: 58.200 MB\n",
      "Peak Memory Usage: 66.271 MB\n",
      "Elapsed:  6.762985249981284 seconds\n"
     ]
    }
   ],
   "source": [
    "%run -i 'profile_model.py' -m ncf -f test_cf_model -d test_ncf_data_loader"
   ]
  },
  {
   "cell_type": "code",
   "execution_count": 7,
   "metadata": {},
   "outputs": [
    {
     "name": "stdout",
     "output_type": "stream",
     "text": [
      "Importing\n",
      "Initializing Data Loader\n",
      "Loading Model\n",
      "Fine Tuning\n",
      "Recommending\n",
      "\n",
      "Current Memory Usage: 16.724 MB\n",
      "Peak Memory Usage: 24.685 MB\n",
      "Elapsed:  3.3620267920196056 seconds\n"
     ]
    }
   ],
   "source": [
    "%run -i 'profile_model.py' -m ncf -f test_gcf_model -d test_ncf_data_loader"
   ]
  },
  {
   "cell_type": "code",
   "execution_count": 8,
   "metadata": {},
   "outputs": [
    {
     "name": "stdout",
     "output_type": "stream",
     "text": [
      "Importing\n",
      "Initializing Data Loader\n",
      "Loading Model\n",
      "Fine Tuning\n",
      "Recommending\n",
      "\n",
      "Current Memory Usage: 16.595 MB\n",
      "Peak Memory Usage: 24.556 MB\n",
      "Elapsed:  3.6487562499241903 seconds\n"
     ]
    }
   ],
   "source": [
    "%run -i 'profile_model.py' -m ncf -f test_mlp_model -d test_ncf_data_loader"
   ]
  },
  {
   "cell_type": "code",
   "execution_count": 9,
   "metadata": {},
   "outputs": [
    {
     "name": "stdout",
     "output_type": "stream",
     "text": [
      "Importing\n",
      "Initializing Data Loader\n",
      "Loading Model\n",
      "Fine Tuning\n",
      "Recommending\n",
      "\n",
      "Current Memory Usage: 16.599 MB\n",
      "Peak Memory Usage: 24.560 MB\n",
      "Elapsed:  4.153074541944079 seconds\n"
     ]
    }
   ],
   "source": [
    "%run -i 'profile_model.py' -m ncf -f test_ncf_model -d test_ncf_data_loader"
   ]
  },
  {
   "cell_type": "code",
   "execution_count": null,
   "metadata": {},
   "outputs": [],
   "source": []
  }
 ],
 "metadata": {
  "kernelspec": {
   "display_name": "ml_project_3.11.3",
   "language": "python",
   "name": "python3"
  },
  "language_info": {
   "codemirror_mode": {
    "name": "ipython",
    "version": 3
   },
   "file_extension": ".py",
   "mimetype": "text/x-python",
   "name": "python",
   "nbconvert_exporter": "python",
   "pygments_lexer": "ipython3",
   "version": "3.11.3"
  }
 },
 "nbformat": 4,
 "nbformat_minor": 2
}
