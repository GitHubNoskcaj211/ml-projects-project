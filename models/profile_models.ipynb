{
 "cells": [
  {
   "cell_type": "code",
   "execution_count": 1,
   "metadata": {},
   "outputs": [],
   "source": [
    "import sys\n",
    "import os\n",
    "sys.path.append(os.path.join(os.path.abspath(''), '../'))"
   ]
  },
  {
   "cell_type": "code",
   "execution_count": 2,
   "metadata": {},
   "outputs": [
    {
     "name": "stdout",
     "output_type": "stream",
     "text": [
      "Importing\n",
      "Initializing Data Loader\n",
      "Loading Model\n",
      "Fine Tuning\n"
     ]
    },
    {
     "ename": "AttributeError",
     "evalue": "'NoneType' object has no attribute 'users_games_ref'",
     "output_type": "error",
     "traceback": [
      "\u001b[0;31m---------------------------------------------------------------------------\u001b[0m",
      "\u001b[0;31mAttributeError\u001b[0m                            Traceback (most recent call last)",
      "File \u001b[0;32m~/Desktop/Classes/2024 Spring/ML Projects/ml-projects-project/models/profile_model.py:45\u001b[0m\n\u001b[1;32m     43\u001b[0m model\u001b[38;5;241m.\u001b[39mload(file_name)\n\u001b[1;32m     44\u001b[0m \u001b[38;5;28mprint\u001b[39m(\u001b[38;5;124m'\u001b[39m\u001b[38;5;124mFine Tuning\u001b[39m\u001b[38;5;124m'\u001b[39m)\n\u001b[0;32m---> 45\u001b[0m \u001b[43mmodel\u001b[49m\u001b[38;5;241;43m.\u001b[39;49m\u001b[43mfine_tune\u001b[49m\u001b[43m(\u001b[49m\u001b[43mtest_user_id\u001b[49m\u001b[43m)\u001b[49m\n\u001b[1;32m     46\u001b[0m \u001b[38;5;28mprint\u001b[39m(\u001b[38;5;124m'\u001b[39m\u001b[38;5;124mRecommending\u001b[39m\u001b[38;5;124m'\u001b[39m)\n\u001b[1;32m     47\u001b[0m preds \u001b[38;5;241m=\u001b[39m model\u001b[38;5;241m.\u001b[39mrecommend_n_games_for_user(test_user_id, N)\n",
      "File \u001b[0;32m~/Desktop/Classes/2024 Spring/ML Projects/ml-projects-project/models/../models/base_model.py:51\u001b[0m, in \u001b[0;36mBaseGameRecommendationModel.fine_tune\u001b[0;34m(self, user_id)\u001b[0m\n\u001b[1;32m     50\u001b[0m \u001b[38;5;28;01mdef\u001b[39;00m \u001b[38;5;21mfine_tune\u001b[39m(\u001b[38;5;28mself\u001b[39m, user_id):\n\u001b[0;32m---> 51\u001b[0m     user_games_df \u001b[38;5;241m=\u001b[39m \u001b[38;5;28;43mself\u001b[39;49m\u001b[38;5;241;43m.\u001b[39;49m\u001b[43mdata_loader\u001b[49m\u001b[38;5;241;43m.\u001b[39;49m\u001b[43mget_users_games_df_for_user\u001b[49m\u001b[43m(\u001b[49m\u001b[43muser_id\u001b[49m\u001b[43m,\u001b[49m\u001b[43m \u001b[49m\u001b[43mpreprocess\u001b[49m\u001b[38;5;241;43m=\u001b[39;49m\u001b[38;5;28;43;01mTrue\u001b[39;49;00m\u001b[43m)\u001b[49m\n\u001b[1;32m     52\u001b[0m     interactions_df \u001b[38;5;241m=\u001b[39m \u001b[38;5;28mself\u001b[39m\u001b[38;5;241m.\u001b[39mdata_loader\u001b[38;5;241m.\u001b[39mget_interactions_df_for_user(user_id, preprocess\u001b[38;5;241m=\u001b[39m\u001b[38;5;28;01mTrue\u001b[39;00m)\n\u001b[1;32m     53\u001b[0m     \u001b[38;5;66;03m# Get all then filter to do score normalization on all data but only do modifications on external data.\u001b[39;00m\n",
      "File \u001b[0;32m~/Desktop/Classes/2024 Spring/ML Projects/ml-projects-project/models/../dataset/data_loader.py:200\u001b[0m, in \u001b[0;36mDataLoader.get_users_games_df_for_user\u001b[0;34m(self, user_id, get_local, get_external_database, preprocess)\u001b[0m\n\u001b[1;32m    197\u001b[0m         df \u001b[38;5;241m=\u001b[39m pd\u001b[38;5;241m.\u001b[39mconcat([df, new_df])\n\u001b[1;32m    199\u001b[0m \u001b[38;5;28;01mif\u001b[39;00m \u001b[38;5;28mself\u001b[39m\u001b[38;5;241m.\u001b[39mget_external_database \u001b[38;5;129;01mand\u001b[39;00m get_external_database:\n\u001b[0;32m--> 200\u001b[0m     db_data \u001b[38;5;241m=\u001b[39m \u001b[38;5;28;43mself\u001b[39;49m\u001b[38;5;241;43m.\u001b[39;49m\u001b[43mapp\u001b[49m\u001b[38;5;241;43m.\u001b[39;49m\u001b[43musers_games_ref\u001b[49m\u001b[38;5;241m.\u001b[39mdocument(\u001b[38;5;28mstr\u001b[39m(user_id))\u001b[38;5;241m.\u001b[39mget()\n\u001b[1;32m    201\u001b[0m     \u001b[38;5;28;01mif\u001b[39;00m db_data\u001b[38;5;241m.\u001b[39mexists:\n\u001b[1;32m    202\u001b[0m         db_data \u001b[38;5;241m=\u001b[39m db_data\u001b[38;5;241m.\u001b[39mto_dict()[\u001b[38;5;124m\"\u001b[39m\u001b[38;5;124mgames\u001b[39m\u001b[38;5;124m\"\u001b[39m]\n",
      "\u001b[0;31mAttributeError\u001b[0m: 'NoneType' object has no attribute 'users_games_ref'"
     ]
    }
   ],
   "source": [
    "%run -i 'profile_model.py' -m common_neighbors -f test_common_neighbors_default"
   ]
  },
  {
   "cell_type": "markdown",
   "metadata": {},
   "source": [
    "Current Memory Usage: 533.435 MB\n",
    "Peak Memory Usage: 536.974 MB\n",
    "Elapsed:  11.3174513749982 seconds"
   ]
  },
  {
   "cell_type": "code",
   "execution_count": null,
   "metadata": {},
   "outputs": [
    {
     "name": "stdout",
     "output_type": "stream",
     "text": [
      "Importing\n",
      "Initializing Data Loader\n",
      "Loading Model\n",
      "Fine Tuning\n"
     ]
    },
    {
     "ename": "AttributeError",
     "evalue": "'NoneType' object has no attribute 'users_games_ref'",
     "output_type": "error",
     "traceback": [
      "\u001b[0;31m---------------------------------------------------------------------------\u001b[0m",
      "\u001b[0;31mAttributeError\u001b[0m                            Traceback (most recent call last)",
      "File \u001b[0;32m~/Desktop/Classes/2024 Spring/ML Projects/ml-projects-project/models/profile_model.py:45\u001b[0m\n\u001b[1;32m     43\u001b[0m model\u001b[38;5;241m.\u001b[39mload(file_name)\n\u001b[1;32m     44\u001b[0m \u001b[38;5;28mprint\u001b[39m(\u001b[38;5;124m'\u001b[39m\u001b[38;5;124mFine Tuning\u001b[39m\u001b[38;5;124m'\u001b[39m)\n\u001b[0;32m---> 45\u001b[0m \u001b[43mmodel\u001b[49m\u001b[38;5;241;43m.\u001b[39;49m\u001b[43mfine_tune\u001b[49m\u001b[43m(\u001b[49m\u001b[43mtest_user_id\u001b[49m\u001b[43m)\u001b[49m\n\u001b[1;32m     46\u001b[0m \u001b[38;5;28mprint\u001b[39m(\u001b[38;5;124m'\u001b[39m\u001b[38;5;124mRecommending\u001b[39m\u001b[38;5;124m'\u001b[39m)\n\u001b[1;32m     47\u001b[0m preds \u001b[38;5;241m=\u001b[39m model\u001b[38;5;241m.\u001b[39mrecommend_n_games_for_user(test_user_id, N)\n",
      "File \u001b[0;32m~/Desktop/Classes/2024 Spring/ML Projects/ml-projects-project/models/../models/base_model.py:51\u001b[0m, in \u001b[0;36mBaseGameRecommendationModel.fine_tune\u001b[0;34m(self, user_id)\u001b[0m\n\u001b[1;32m     50\u001b[0m \u001b[38;5;28;01mdef\u001b[39;00m \u001b[38;5;21mfine_tune\u001b[39m(\u001b[38;5;28mself\u001b[39m, user_id):\n\u001b[0;32m---> 51\u001b[0m     user_games_df \u001b[38;5;241m=\u001b[39m \u001b[38;5;28;43mself\u001b[39;49m\u001b[38;5;241;43m.\u001b[39;49m\u001b[43mdata_loader\u001b[49m\u001b[38;5;241;43m.\u001b[39;49m\u001b[43mget_users_games_df_for_user\u001b[49m\u001b[43m(\u001b[49m\u001b[43muser_id\u001b[49m\u001b[43m,\u001b[49m\u001b[43m \u001b[49m\u001b[43mpreprocess\u001b[49m\u001b[38;5;241;43m=\u001b[39;49m\u001b[38;5;28;43;01mTrue\u001b[39;49;00m\u001b[43m)\u001b[49m\n\u001b[1;32m     52\u001b[0m     interactions_df \u001b[38;5;241m=\u001b[39m \u001b[38;5;28mself\u001b[39m\u001b[38;5;241m.\u001b[39mdata_loader\u001b[38;5;241m.\u001b[39mget_interactions_df_for_user(user_id, preprocess\u001b[38;5;241m=\u001b[39m\u001b[38;5;28;01mTrue\u001b[39;00m)\n\u001b[1;32m     53\u001b[0m     \u001b[38;5;66;03m# Get all then filter to do score normalization on all data but only do modifications on external data.\u001b[39;00m\n",
      "File \u001b[0;32m~/Desktop/Classes/2024 Spring/ML Projects/ml-projects-project/models/../dataset/data_loader.py:200\u001b[0m, in \u001b[0;36mDataLoader.get_users_games_df_for_user\u001b[0;34m(self, user_id, get_local, get_external_database, preprocess)\u001b[0m\n\u001b[1;32m    197\u001b[0m         df \u001b[38;5;241m=\u001b[39m pd\u001b[38;5;241m.\u001b[39mconcat([df, new_df])\n\u001b[1;32m    199\u001b[0m \u001b[38;5;28;01mif\u001b[39;00m \u001b[38;5;28mself\u001b[39m\u001b[38;5;241m.\u001b[39mget_external_database \u001b[38;5;129;01mand\u001b[39;00m get_external_database:\n\u001b[0;32m--> 200\u001b[0m     db_data \u001b[38;5;241m=\u001b[39m \u001b[38;5;28;43mself\u001b[39;49m\u001b[38;5;241;43m.\u001b[39;49m\u001b[43mapp\u001b[49m\u001b[38;5;241;43m.\u001b[39;49m\u001b[43musers_games_ref\u001b[49m\u001b[38;5;241m.\u001b[39mdocument(\u001b[38;5;28mstr\u001b[39m(user_id))\u001b[38;5;241m.\u001b[39mget()\n\u001b[1;32m    201\u001b[0m     \u001b[38;5;28;01mif\u001b[39;00m db_data\u001b[38;5;241m.\u001b[39mexists:\n\u001b[1;32m    202\u001b[0m         db_data \u001b[38;5;241m=\u001b[39m db_data\u001b[38;5;241m.\u001b[39mto_dict()[\u001b[38;5;124m\"\u001b[39m\u001b[38;5;124mgames\u001b[39m\u001b[38;5;124m\"\u001b[39m]\n",
      "\u001b[0;31mAttributeError\u001b[0m: 'NoneType' object has no attribute 'users_games_ref'"
     ]
    }
   ],
   "source": [
    "%run -i 'profile_model.py' -m game_popularity -f test_popularity_model"
   ]
  },
  {
   "cell_type": "markdown",
   "metadata": {},
   "source": [
    "Current Memory Usage: 7.637 MB\n",
    "Peak Memory Usage: 12.913 MB\n",
    "Elapsed:  0.8319688750052592 seconds"
   ]
  },
  {
   "cell_type": "markdown",
   "metadata": {},
   "source": []
  }
 ],
 "metadata": {
  "kernelspec": {
   "display_name": "ml_project_3.11.3",
   "language": "python",
   "name": "python3"
  },
  "language_info": {
   "codemirror_mode": {
    "name": "ipython",
    "version": 3
   },
   "file_extension": ".py",
   "mimetype": "text/x-python",
   "name": "python",
   "nbconvert_exporter": "python",
   "pygments_lexer": "ipython3",
   "version": "3.11.3"
  }
 },
 "nbformat": 4,
 "nbformat_minor": 2
}
