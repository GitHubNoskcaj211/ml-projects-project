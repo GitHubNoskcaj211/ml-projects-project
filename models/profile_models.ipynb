{
 "cells": [
  {
   "cell_type": "code",
   "execution_count": 1,
   "metadata": {},
   "outputs": [],
   "source": [
    "import sys\n",
    "import os\n",
    "sys.path.append(os.path.join(os.path.abspath(''), '../'))"
   ]
  },
  {
   "cell_type": "code",
   "execution_count": 10,
   "metadata": {},
   "outputs": [
    {
     "name": "stdout",
     "output_type": "stream",
     "text": [
      "Importing\n",
      "Initializing Data Loader\n",
      "Loading Model\n",
      "Fine Tuning\n",
      "Recommending\n",
      "\n",
      "Current Memory Usage: 9.545 MB\n",
      "Peak Memory Usage: 13.141 MB\n",
      "Elapsed:  2.5223954590037465 seconds\n"
     ]
    }
   ],
   "source": [
    "%run -i 'profile_model.py' -m random -f test_random_model -d test_random_model_data_loader"
   ]
  },
  {
   "cell_type": "code",
   "execution_count": 3,
   "metadata": {},
   "outputs": [
    {
     "name": "stdout",
     "output_type": "stream",
     "text": [
      "Importing\n",
      "Initializing Data Loader\n",
      "Loading Model\n",
      "Fine Tuning\n",
      "Recommending\n",
      "\n",
      "Current Memory Usage: 7.683 MB\n",
      "Peak Memory Usage: 12.967 MB\n",
      "Elapsed:  2.6903797920094803 seconds\n"
     ]
    }
   ],
   "source": [
    "%run -i 'profile_model.py' -m game_popularity -f test_popularity_model -d test_popularity_model_data_loader"
   ]
  },
  {
   "cell_type": "code",
   "execution_count": 4,
   "metadata": {},
   "outputs": [
    {
     "name": "stdout",
     "output_type": "stream",
     "text": [
      "Importing\n",
      "Initializing Data Loader\n",
      "Loading Model\n",
      "Fine Tuning\n",
      "Recommending\n",
      "\n",
      "Current Memory Usage: 542.043 MB\n",
      "Peak Memory Usage: 1.936 GB\n",
      "Elapsed:  4.0072175830136985 seconds\n"
     ]
    }
   ],
   "source": [
    "%run -i 'profile_model.py' -m common_neighbors -f test_common_neighbors_default -d test_common_neighbors_default_data_loader"
   ]
  },
  {
   "cell_type": "code",
   "execution_count": 5,
   "metadata": {},
   "outputs": [
    {
     "name": "stdout",
     "output_type": "stream",
     "text": [
      "Importing\n",
      "Initializing Data Loader\n",
      "Loading Model\n",
      "Fine Tuning\n",
      "Recommending\n",
      "\n",
      "Current Memory Usage: 542.040 MB\n",
      "Peak Memory Usage: 1.936 GB\n",
      "Elapsed:  4.113981208996847 seconds\n"
     ]
    }
   ],
   "source": [
    "%run -i 'profile_model.py' -m common_neighbors -f test_common_neighbors_playtime_scored_gaussian_normalized -d test_common_neighbors_playtime_scored_gaussian_normalized_data_loader"
   ]
  },
  {
   "cell_type": "code",
   "execution_count": 6,
   "metadata": {},
   "outputs": [
    {
     "name": "stdout",
     "output_type": "stream",
     "text": [
      "Importing\n",
      "Initializing Data Loader\n",
      "Loading Model\n",
      "Fine Tuning\n",
      "Recommending\n",
      "\n",
      "Current Memory Usage: 58.199 MB\n",
      "Peak Memory Usage: 66.274 MB\n",
      "Elapsed:  6.829169083037414 seconds\n"
     ]
    }
   ],
   "source": [
    "%run -i 'profile_model.py' -m ncf -f test_cf_model -d test_ncf_data_loader"
   ]
  },
  {
   "cell_type": "code",
   "execution_count": 7,
   "metadata": {},
   "outputs": [
    {
     "name": "stdout",
     "output_type": "stream",
     "text": [
      "Importing\n",
      "Initializing Data Loader\n",
      "Loading Model\n",
      "Fine Tuning\n",
      "Recommending\n",
      "\n",
      "Current Memory Usage: 16.721 MB\n",
      "Peak Memory Usage: 24.686 MB\n",
      "Elapsed:  3.2824166250647977 seconds\n"
     ]
    }
   ],
   "source": [
    "%run -i 'profile_model.py' -m ncf -f test_gcf_model -d test_ncf_data_loader"
   ]
  },
  {
   "cell_type": "code",
   "execution_count": 8,
   "metadata": {},
   "outputs": [
    {
     "name": "stdout",
     "output_type": "stream",
     "text": [
      "Importing\n",
      "Initializing Data Loader\n",
      "Loading Model\n",
      "Fine Tuning\n",
      "Recommending\n",
      "\n",
      "Current Memory Usage: 16.594 MB\n",
      "Peak Memory Usage: 24.559 MB\n",
      "Elapsed:  3.2169621660141274 seconds\n"
     ]
    }
   ],
   "source": [
    "%run -i 'profile_model.py' -m ncf -f test_mlp_model -d test_ncf_data_loader"
   ]
  },
  {
   "cell_type": "code",
   "execution_count": 9,
   "metadata": {},
   "outputs": [
    {
     "name": "stdout",
     "output_type": "stream",
     "text": [
      "Importing\n",
      "Initializing Data Loader\n",
      "Loading Model\n",
      "Fine Tuning\n",
      "Recommending\n",
      "\n",
      "Current Memory Usage: 16.596 MB\n",
      "Peak Memory Usage: 24.561 MB\n",
      "Elapsed:  3.780619457946159 seconds\n"
     ]
    }
   ],
   "source": [
    "%run -i 'profile_model.py' -m ncf -f test_ncf_model -d test_ncf_data_loader"
   ]
  },
  {
   "cell_type": "code",
   "execution_count": null,
   "metadata": {},
   "outputs": [],
   "source": []
  }
 ],
 "metadata": {
  "kernelspec": {
   "display_name": "ml_project_3.11.3",
   "language": "python",
   "name": "python3"
  },
  "language_info": {
   "codemirror_mode": {
    "name": "ipython",
    "version": 3
   },
   "file_extension": ".py",
   "mimetype": "text/x-python",
   "name": "python",
   "nbconvert_exporter": "python",
   "pygments_lexer": "ipython3",
   "version": "3.11.3"
  }
 },
 "nbformat": 4,
 "nbformat_minor": 2
}
