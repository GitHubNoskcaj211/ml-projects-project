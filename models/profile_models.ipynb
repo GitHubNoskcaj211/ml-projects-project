{
 "cells": [
  {
   "cell_type": "code",
   "execution_count": 1,
   "metadata": {},
   "outputs": [],
   "source": [
    "import sys\n",
    "import os\n",
    "sys.path.append(os.path.join(os.path.abspath(''), '../'))"
   ]
  },
  {
   "cell_type": "code",
   "execution_count": 10,
   "metadata": {},
   "outputs": [
    {
     "name": "stdout",
     "output_type": "stream",
     "text": [
      "Importing\n",
      "Initializing Data Loader\n",
      "Loading Model\n",
      "Fine Tuning\n",
      "Recommending\n",
      "\n",
      "Current Memory Usage: 9.556 MB\n",
      "Peak Memory Usage: 46.251 MB\n",
      "Elapsed:  1.610110333072953 seconds\n"
     ]
    }
   ],
   "source": [
    "%run -i 'profile_model.py' -m random -f test_random_model -d test_random_model_data_loader"
   ]
  },
  {
   "cell_type": "code",
   "execution_count": 3,
   "metadata": {},
   "outputs": [
    {
     "name": "stdout",
     "output_type": "stream",
     "text": [
      "Importing\n",
      "Initializing Data Loader\n",
      "Loading Model\n",
      "Fine Tuning\n",
      "Recommending\n",
      "\n",
      "Current Memory Usage: 7.694 MB\n",
      "Peak Memory Usage: 44.388 MB\n",
      "Elapsed:  1.5636098749237135 seconds\n"
     ]
    }
   ],
   "source": [
    "%run -i 'profile_model.py' -m game_popularity -f test_popularity_model -d test_popularity_model_data_loader"
   ]
  },
  {
   "cell_type": "code",
   "execution_count": 4,
   "metadata": {},
   "outputs": [
    {
     "name": "stdout",
     "output_type": "stream",
     "text": [
      "Importing\n",
      "Initializing Data Loader\n",
      "Loading Model\n",
      "Fine Tuning\n",
      "Recommending\n",
      "\n",
      "Current Memory Usage: 542.054 MB\n",
      "Peak Memory Usage: 1.936 GB\n",
      "Elapsed:  3.36265716701746 seconds\n"
     ]
    }
   ],
   "source": [
    "%run -i 'profile_model.py' -m common_neighbors -f test_common_neighbors_default -d test_common_neighbors_default_data_loader"
   ]
  },
  {
   "cell_type": "code",
   "execution_count": 5,
   "metadata": {},
   "outputs": [
    {
     "name": "stdout",
     "output_type": "stream",
     "text": [
      "Importing\n",
      "Initializing Data Loader\n",
      "Loading Model\n",
      "Fine Tuning\n",
      "Recommending\n",
      "\n",
      "Current Memory Usage: 542.052 MB\n",
      "Peak Memory Usage: 1.936 GB\n",
      "Elapsed:  3.446851999964565 seconds\n"
     ]
    }
   ],
   "source": [
    "%run -i 'profile_model.py' -m common_neighbors -f test_common_neighbors_playtime_scored_gaussian_normalized -d test_common_neighbors_playtime_scored_gaussian_normalized_data_loader"
   ]
  },
  {
   "cell_type": "code",
   "execution_count": 6,
   "metadata": {},
   "outputs": [
    {
     "name": "stdout",
     "output_type": "stream",
     "text": [
      "Importing\n",
      "Initializing Data Loader\n",
      "Loading Model\n",
      "Fine Tuning\n",
      "Recommending\n",
      "\n",
      "Current Memory Usage: 58.302 MB\n",
      "Peak Memory Usage: 94.993 MB\n",
      "Elapsed:  5.770677582942881 seconds\n"
     ]
    }
   ],
   "source": [
    "%run -i 'profile_model.py' -m ncf -f test_cf_model -d test_ncf_data_loader"
   ]
  },
  {
   "cell_type": "code",
   "execution_count": 7,
   "metadata": {},
   "outputs": [
    {
     "name": "stdout",
     "output_type": "stream",
     "text": [
      "Importing\n",
      "Initializing Data Loader\n",
      "Loading Model\n",
      "Fine Tuning\n",
      "Recommending\n",
      "\n",
      "Current Memory Usage: 16.734 MB\n",
      "Peak Memory Usage: 53.427 MB\n",
      "Elapsed:  2.7262848330428824 seconds\n"
     ]
    }
   ],
   "source": [
    "%run -i 'profile_model.py' -m ncf -f test_gcf_model -d test_ncf_data_loader"
   ]
  },
  {
   "cell_type": "code",
   "execution_count": 8,
   "metadata": {},
   "outputs": [
    {
     "name": "stdout",
     "output_type": "stream",
     "text": [
      "Importing\n",
      "Initializing Data Loader\n",
      "Loading Model\n",
      "Fine Tuning\n",
      "Recommending\n",
      "\n",
      "Current Memory Usage: 16.604 MB\n",
      "Peak Memory Usage: 53.300 MB\n",
      "Elapsed:  2.4875846670474857 seconds\n"
     ]
    }
   ],
   "source": [
    "%run -i 'profile_model.py' -m ncf -f test_mlp_model -d test_ncf_data_loader"
   ]
  },
  {
   "cell_type": "code",
   "execution_count": 9,
   "metadata": {},
   "outputs": [
    {
     "name": "stdout",
     "output_type": "stream",
     "text": [
      "Importing\n",
      "Initializing Data Loader\n",
      "Loading Model\n",
      "Fine Tuning\n",
      "Recommending\n",
      "\n",
      "Current Memory Usage: 16.610 MB\n",
      "Peak Memory Usage: 53.324 MB\n",
      "Elapsed:  3.216183834010735 seconds\n"
     ]
    }
   ],
   "source": [
    "%run -i 'profile_model.py' -m ncf -f test_ncf_model -d test_ncf_data_loader"
   ]
  },
  {
   "cell_type": "code",
   "execution_count": null,
   "metadata": {},
   "outputs": [],
   "source": []
  }
 ],
 "metadata": {
  "kernelspec": {
   "display_name": "ml_project_3.11.3",
   "language": "python",
   "name": "python3"
  },
  "language_info": {
   "codemirror_mode": {
    "name": "ipython",
    "version": 3
   },
   "file_extension": ".py",
   "mimetype": "text/x-python",
   "name": "python",
   "nbconvert_exporter": "python",
   "pygments_lexer": "ipython3",
   "version": "3.11.3"
  }
 },
 "nbformat": 4,
 "nbformat_minor": 2
}
