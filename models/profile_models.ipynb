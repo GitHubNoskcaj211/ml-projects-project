{
 "cells": [
  {
   "cell_type": "code",
   "execution_count": 1,
   "metadata": {},
   "outputs": [],
   "source": [
    "import sys\n",
    "import os\n",
    "sys.path.append(os.path.join(os.path.abspath(''), '../'))"
   ]
  },
  {
   "cell_type": "code",
   "execution_count": 2,
   "metadata": {},
   "outputs": [
    {
     "name": "stdout",
     "output_type": "stream",
     "text": [
      "Importing\n",
      "Initializing Data Loader\n",
      "Loading Model\n",
      "Fine Tuning\n",
      "Fine Tuning Again\n",
      "Recommending\n",
      "\n",
      "Current Memory Usage: 172.607 MB\n",
      "Peak Memory Usage: 189.880 MB\n",
      "Elapsed:  10.469199166167527 seconds\n"
     ]
    }
   ],
   "source": [
    "%run -i 'profile_model.py' -m random -f evaluation_test_random_model -d test_evaluation_data_loader"
   ]
  },
  {
   "cell_type": "code",
   "execution_count": 3,
   "metadata": {},
   "outputs": [
    {
     "name": "stdout",
     "output_type": "stream",
     "text": [
      "Importing\n",
      "Initializing Data Loader\n",
      "Loading Model\n",
      "Fine Tuning\n",
      "Fine Tuning Again\n",
      "Recommending\n",
      "\n",
      "Current Memory Usage: 7.696 MB\n",
      "Peak Memory Usage: 12.964 MB\n",
      "Elapsed:  1.182705458952114 seconds\n"
     ]
    }
   ],
   "source": [
    "%run -i 'profile_model.py' -m game_popularity -f evaluation_test_popularity_model -d test_evaluation_data_loader"
   ]
  },
  {
   "cell_type": "code",
   "execution_count": 4,
   "metadata": {},
   "outputs": [
    {
     "name": "stdout",
     "output_type": "stream",
     "text": [
      "Importing\n",
      "Initializing Data Loader\n",
      "Loading Model\n",
      "Fine Tuning\n",
      "Fine Tuning Again\n",
      "Recommending\n",
      "\n",
      "Current Memory Usage: 484.022 MB\n",
      "Peak Memory Usage: 1.723 GB\n",
      "Elapsed:  1.871046874905005 seconds\n"
     ]
    }
   ],
   "source": [
    "%run -i 'profile_model.py' -m common_neighbors -f evaluation_test_common_neighbors -d test_evaluation_data_loader"
   ]
  },
  {
   "cell_type": "code",
   "execution_count": 5,
   "metadata": {},
   "outputs": [
    {
     "name": "stdout",
     "output_type": "stream",
     "text": [
      "Importing\n",
      "Initializing Data Loader\n",
      "Loading Model\n",
      "Fine Tuning\n",
      "Fine Tuning Again\n",
      "Recommending\n",
      "\n",
      "Current Memory Usage: 58.256 MB\n",
      "Peak Memory Usage: 64.198 MB\n",
      "Elapsed:  3.6190009580459446 seconds\n"
     ]
    }
   ],
   "source": [
    "%run -i 'profile_model.py' -m ncf -f evaluation_test_cf_low_weight_decay_increased_lr -d test_evaluation_data_loader"
   ]
  },
  {
   "cell_type": "code",
   "execution_count": 6,
   "metadata": {},
   "outputs": [
    {
     "name": "stdout",
     "output_type": "stream",
     "text": [
      "Importing\n",
      "Initializing Data Loader\n",
      "Loading Model\n",
      "Fine Tuning\n",
      "Fine Tuning Again\n",
      "Recommending\n",
      "\n",
      "Current Memory Usage: 16.738 MB\n",
      "Peak Memory Usage: 20.866 MB\n",
      "Elapsed:  1.6440626250114292 seconds\n"
     ]
    }
   ],
   "source": [
    "%run -i 'profile_model.py' -m ncf -f evaluation_test_gcf_low_weight_decay_increased_lr -d test_evaluation_data_loader"
   ]
  },
  {
   "cell_type": "code",
   "execution_count": 7,
   "metadata": {},
   "outputs": [
    {
     "name": "stdout",
     "output_type": "stream",
     "text": [
      "Importing\n",
      "Initializing Data Loader\n",
      "Loading Model\n",
      "Fine Tuning\n",
      "Fine Tuning Again\n",
      "Recommending\n",
      "\n",
      "Current Memory Usage: 16.609 MB\n",
      "Peak Memory Usage: 20.738 MB\n",
      "Elapsed:  1.651126999873668 seconds\n"
     ]
    }
   ],
   "source": [
    "%run -i 'profile_model.py' -m ncf -f evaluation_test_mlp_low_weight_decay_increased_lr -d test_evaluation_data_loader"
   ]
  },
  {
   "cell_type": "code",
   "execution_count": 8,
   "metadata": {},
   "outputs": [
    {
     "name": "stdout",
     "output_type": "stream",
     "text": [
      "Importing\n",
      "Initializing Data Loader\n",
      "Loading Model\n",
      "Fine Tuning\n",
      "Fine Tuning Again\n",
      "Recommending\n",
      "\n",
      "Current Memory Usage: 16.621 MB\n",
      "Peak Memory Usage: 20.749 MB\n",
      "Elapsed:  1.6150536250788718 seconds\n"
     ]
    }
   ],
   "source": [
    "%run -i 'profile_model.py' -m ncf -f evaluation_test_ncf_low_weight_decay_increased_lr -d test_evaluation_data_loader"
   ]
  },
  {
   "cell_type": "code",
   "execution_count": null,
   "metadata": {},
   "outputs": [],
   "source": []
  }
 ],
 "metadata": {
  "kernelspec": {
   "display_name": "ml_project_3.11.3",
   "language": "python",
   "name": "python3"
  },
  "language_info": {
   "codemirror_mode": {
    "name": "ipython",
    "version": 3
   },
   "file_extension": ".py",
   "mimetype": "text/x-python",
   "name": "python",
   "nbconvert_exporter": "python",
   "pygments_lexer": "ipython3",
   "version": "3.11.3"
  }
 },
 "nbformat": 4,
 "nbformat_minor": 2
}
