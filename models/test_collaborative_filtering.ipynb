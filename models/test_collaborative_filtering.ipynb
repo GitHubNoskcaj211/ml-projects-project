{
 "cells": [
  {
   "cell_type": "code",
   "execution_count": 1,
   "metadata": {},
   "outputs": [
    {
     "name": "stdout",
     "output_type": "stream",
     "text": [
      "['/Users/jackson/Desktop/Classes/2024 Spring/ML Projects/ml-projects-project/models', '/Users/jackson/.pyenv/versions/3.11.3/lib/python311.zip', '/Users/jackson/.pyenv/versions/3.11.3/lib/python3.11', '/Users/jackson/.pyenv/versions/3.11.3/lib/python3.11/lib-dynload', '', '/Users/jackson/.pyenv/versions/3.11.3/envs/ml_project_3.11.3/lib/python3.11/site-packages', '/Users/jackson/Desktop/Classes/2024 Spring/ML Projects/ml-projects-project/models/../']\n"
     ]
    }
   ],
   "source": [
    "import sys\n",
    "import os\n",
    "sys.path.append(os.path.join(os.path.abspath(''), '../'))\n",
    "\n",
    "from models.collaborative_filtering_model import CollaborativeFiltering\n",
    "from pprint import pprint\n",
    "from dataset.data_loader import DataLoader, playtime_forever_edge_scoring_function, LinearNormalizer, GaussianNormalizer, PercentileNormalizer"
   ]
  },
  {
   "cell_type": "code",
   "execution_count": null,
   "metadata": {},
   "outputs": [],
   "source": [
    "# data_loader = DataLoader()\n",
    "data_loader = DataLoader(edge_scoring_function = playtime_forever_edge_scoring_function, user_game_edge_embeddings = ['playtime_forever'], score_normalizers = [GaussianNormalizer(1.0, 1.0)])\n",
    "# data_loader = DataLoader(edge_scoring_function = playtime_forever_edge_scoring_function, score_normalizers = [GaussianNormalizer(2.0, 1.0)], game_embeddings = ['name', 'genres'], user_game_edge_embeddings = ['playtime_forever'])\n",
    "network = data_loader.get_full_network()\n",
    "train_network, test_network = data_loader.load_random_train_test_network(network=network, train_percentage=0.8, test_percentage=0.2, seed=0)"
   ]
  },
  {
   "cell_type": "code",
   "execution_count": null,
   "metadata": {},
   "outputs": [
    {
     "name": "stdout",
     "output_type": "stream",
     "text": [
      "Total Learnable Parameters: 9706500\n",
      "Known Game Embeddings:  []\n",
      "Known User Embeddings:  []\n"
     ]
    },
    {
     "name": "stderr",
     "output_type": "stream",
     "text": [
      "100%|██████████| 100/100 [13:46<00:00,  8.26s/it]\n"
     ]
    },
    {
     "data": {
      "image/png": "[encoded data removed]",
      "text/plain": [
       "<Figure size 640x480 with 1 Axes>"
      ]
     },
     "metadata": {},
     "output_type": "display_data"
    }
   ],
   "source": [
    "model = CollaborativeFiltering(num_epochs = 100, num_user_embedding = 500, num_game_embedding = 500, learning_rate = 0.5, regularization = 0.00)\n",
    "model.set_data_loader(data_loader)\n",
    "model.train(train_network, debug=True)\n",
    "model.save('test_collaborative_filtering', overwrite=True)"
   ]
  },
  {
   "cell_type": "code",
   "execution_count": null,
   "metadata": {},
   "outputs": [
    {
     "name": "stdout",
     "output_type": "stream",
     "text": [
      "[(1418630, {'score': 1.8884303833991325}),\n",
      " (252490, {'score': 1.8363503796428216}),\n",
      " (271590, {'score': 1.405729175762871}),\n",
      " (1462040, {'score': 1.196849500592415}),\n",
      " (221100, {'score': 1.1564759659838577}),\n",
      " (582010, {'score': 1.155639132274188}),\n",
      " (250900, {'score': 1.1297066001324882}),\n",
      " (1811260, {'score': 1.1105952040976554}),\n",
      " (1245620, {'score': 1.0805570386621013}),\n",
      " (646570, {'score': 1.0461247695038005})]\n",
      "[(2162810, {'score': 0.18971300865836613}),\n",
      " (677300, {'score': 0.18960016469817564}),\n",
      " (2395680, {'score': 0.18933595802848072}),\n",
      " (294680, {'score': 0.1890525514497729}),\n",
      " (1738520, {'score': 0.1888321845249951}),\n",
      " (1667700, {'score': 0.18786857489030953}),\n",
      " (314220, {'score': 0.1873541011326665}),\n",
      " (1444480, {'score': 0.18301606070346388}),\n",
      " (1107300, {'score': 0.18226697413861231}),\n",
      " (1294060, {'score': 0.18225591984416317})]\n",
      "[(1418630, {'score': 2.541533137630719}),\n",
      " (252490, {'score': 2.407679956009375}),\n",
      " (271590, {'score': 1.7292432103528037}),\n",
      " (1462040, {'score': 1.6312943908914792}),\n",
      " (582010, {'score': 1.5738631294733574}),\n",
      " (221100, {'score': 1.5730543599851858}),\n",
      " (250900, {'score': 1.5476961469811914}),\n",
      " (1811260, {'score': 1.5124931767372272}),\n",
      " (1245620, {'score': 1.4693752128524213}),\n",
      " (394360, {'score': 1.3893528880440433})]\n",
      "[(294680, {'score': 0.2625366779886027}),\n",
      " (1365010, {'score': 0.26243260035781657}),\n",
      " (678820, {'score': 0.26117217395387593}),\n",
      " (681110, {'score': 0.26018718090709414}),\n",
      " (1557410, {'score': 0.2601760198286892}),\n",
      " (1107300, {'score': 0.2587802288969407}),\n",
      " (1729410, {'score': 0.25833458484030225}),\n",
      " (2162520, {'score': 0.2555905414201094}),\n",
      " (1444480, {'score': 0.25524395439777753}),\n",
      " (1294060, {'score': 0.25498924400064077})]\n"
     ]
    }
   ],
   "source": [
    "pprint(model.score_and_predict_n_games_for_user(76561199583716145)[:10])\n",
    "pprint(model.score_and_predict_n_games_for_user(76561199583716145)[-10:])\n",
    "pprint(model.score_and_predict_n_games_for_user(76561199600587957)[:10])\n",
    "pprint(model.score_and_predict_n_games_for_user(76561199600587957)[-10:])"
   ]
  },
  {
   "cell_type": "code",
   "execution_count": null,
   "metadata": {},
   "outputs": [
    {
     "ename": "KeyError",
     "evalue": "'seed    '",
     "output_type": "error",
     "traceback": [
      "\u001b[0;31m---------------------------------------------------------------------------\u001b[0m",
      "\u001b[0;31mKeyError\u001b[0m                                  Traceback (most recent call last)",
      "Cell \u001b[0;32mIn[5], line 3\u001b[0m\n\u001b[1;32m      1\u001b[0m second_common_neighbors_model \u001b[38;5;241m=\u001b[39m CollaborativeFiltering(num_epochs \u001b[38;5;241m=\u001b[39m \u001b[38;5;241m20\u001b[39m, num_user_embedding \u001b[38;5;241m=\u001b[39m \u001b[38;5;241m50\u001b[39m, num_game_embedding \u001b[38;5;241m=\u001b[39m \u001b[38;5;241m50\u001b[39m, learning_rate \u001b[38;5;241m=\u001b[39m \u001b[38;5;241m0.01\u001b[39m, regularization \u001b[38;5;241m=\u001b[39m \u001b[38;5;241m0.05\u001b[39m)\n\u001b[1;32m      2\u001b[0m second_common_neighbors_model\u001b[38;5;241m.\u001b[39mset_data_loader(data_loader)\n\u001b[0;32m----> 3\u001b[0m \u001b[43msecond_common_neighbors_model\u001b[49m\u001b[38;5;241;43m.\u001b[39;49m\u001b[43mload\u001b[49m\u001b[43m(\u001b[49m\u001b[38;5;124;43m'\u001b[39;49m\u001b[38;5;124;43mtest_collaborative_filtering\u001b[39;49m\u001b[38;5;124;43m'\u001b[39;49m\u001b[43m)\u001b[49m\n",
      "File \u001b[0;32m~/Desktop/Classes/2024 Spring/ML Projects/ml-projects-project/models/collaborative_filtering_model.py:146\u001b[0m, in \u001b[0;36mCollaborativeFiltering.load\u001b[0;34m(self, file_name)\u001b[0m\n\u001b[1;32m    144\u001b[0m \u001b[38;5;28mself\u001b[39m\u001b[38;5;241m.\u001b[39muser_embeddings \u001b[38;5;241m=\u001b[39m loaded_obj[\u001b[38;5;124m'\u001b[39m\u001b[38;5;124muser_embeddings\u001b[39m\u001b[38;5;124m'\u001b[39m]\n\u001b[1;32m    145\u001b[0m \u001b[38;5;28mself\u001b[39m\u001b[38;5;241m.\u001b[39mgame_embeddings \u001b[38;5;241m=\u001b[39m loaded_obj[\u001b[38;5;124m'\u001b[39m\u001b[38;5;124mgame_embeddings\u001b[39m\u001b[38;5;124m'\u001b[39m]\n\u001b[0;32m--> 146\u001b[0m \u001b[38;5;28mself\u001b[39m\u001b[38;5;241m.\u001b[39mseed \u001b[38;5;241m=\u001b[39m \u001b[43mloaded_obj\u001b[49m\u001b[43m[\u001b[49m\u001b[38;5;124;43m'\u001b[39;49m\u001b[38;5;124;43mseed    \u001b[39;49m\u001b[38;5;124;43m'\u001b[39;49m\u001b[43m]\u001b[49m\n",
      "\u001b[0;31mKeyError\u001b[0m: 'seed    '"
     ]
    }
   ],
   "source": [
    "# second_common_neighbors_model = CollaborativeFiltering(num_epochs = 20, num_user_embedding = 50, num_game_embedding = 50, learning_rate = 0.01, regularization = 0.05)\n",
    "# second_common_neighbors_model.set_data_loader(data_loader)\n",
    "# second_common_neighbors_model.load('test_collaborative_filtering')"
   ]
  },
  {
   "cell_type": "code",
   "execution_count": null,
   "metadata": {},
   "outputs": [],
   "source": []
  }
 ],
 "metadata": {
  "kernelspec": {
   "display_name": "Python 3",
   "language": "python",
   "name": "python3"
  },
  "language_info": {
   "codemirror_mode": {
    "name": "ipython",
    "version": 3
   },
   "file_extension": ".py",
   "mimetype": "text/x-python",
   "name": "python",
   "nbconvert_exporter": "python",
   "pygments_lexer": "ipython3",
   "version": "3.11.3"
  }
 },
 "nbformat": 4,
 "nbformat_minor": 2
}
