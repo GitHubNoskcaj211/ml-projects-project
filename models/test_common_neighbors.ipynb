{
 "cells": [
  {
   "cell_type": "code",
   "execution_count": 1,
   "metadata": {},
   "outputs": [],
   "source": [
    "from common_neighbors_model import CommonNeighborsModel\n",
    "\n",
    "import sys\n",
    "sys.path.append(\"../dataset\")\n",
    "from data_loader import DataLoader"
   ]
  },
  {
   "cell_type": "code",
   "execution_count": 2,
   "metadata": {},
   "outputs": [],
   "source": [
    "data_loader = DataLoader()\n",
    "network = data_loader.get_full_network()\n",
    "data_loader.load_random_train_test_network(network=network, train_percentage=0.9, test_percentage=0.1, seed=0)"
   ]
  },
  {
   "cell_type": "code",
   "execution_count": 3,
   "metadata": {},
   "outputs": [],
   "source": [
    "model = CommonNeighborsModel()\n",
    "model.set_data_loader(data_loader)\n",
    "model.train()\n",
    "model.save('test_common_neighbors', overwrite=True)"
   ]
  },
  {
   "cell_type": "code",
   "execution_count": 4,
   "metadata": {},
   "outputs": [],
   "source": [
    "second_common_neighbors_model = CommonNeighborsModel()\n",
    "second_common_neighbors_model.set_data_loader(data_loader)\n",
    "second_common_neighbors_model.load('test_common_neighbors')"
   ]
  },
  {
   "cell_type": "code",
   "execution_count": 5,
   "metadata": {},
   "outputs": [
    {
     "ename": "NetworkXError",
     "evalue": "The node 76561199583716145 is not in the graph.",
     "output_type": "error",
     "traceback": [
      "\u001b[0;31m---------------------------------------------------------------------------\u001b[0m",
      "\u001b[0;31mKeyError\u001b[0m                                  Traceback (most recent call last)",
      "File \u001b[0;32m~/.pyenv/versions/3.11.3/envs/ml_project_3.11.3/lib/python3.11/site-packages/networkx/classes/graph.py:1354\u001b[0m, in \u001b[0;36mGraph.neighbors\u001b[0;34m(self, n)\u001b[0m\n\u001b[1;32m   1353\u001b[0m \u001b[38;5;28;01mtry\u001b[39;00m:\n\u001b[0;32m-> 1354\u001b[0m     \u001b[38;5;28;01mreturn\u001b[39;00m \u001b[38;5;28miter\u001b[39m(\u001b[38;5;28;43mself\u001b[39;49m\u001b[38;5;241;43m.\u001b[39;49m\u001b[43m_adj\u001b[49m\u001b[43m[\u001b[49m\u001b[43mn\u001b[49m\u001b[43m]\u001b[49m)\n\u001b[1;32m   1355\u001b[0m \u001b[38;5;28;01mexcept\u001b[39;00m \u001b[38;5;167;01mKeyError\u001b[39;00m \u001b[38;5;28;01mas\u001b[39;00m err:\n",
      "\u001b[0;31mKeyError\u001b[0m: 76561199583716145",
      "\nThe above exception was the direct cause of the following exception:\n",
      "\u001b[0;31mNetworkXError\u001b[0m                             Traceback (most recent call last)",
      "Cell \u001b[0;32mIn[5], line 1\u001b[0m\n\u001b[0;32m----> 1\u001b[0m \u001b[43msecond_common_neighbors_model\u001b[49m\u001b[38;5;241;43m.\u001b[39;49m\u001b[43mscore_and_predict_n_games_for_user\u001b[49m\u001b[43m(\u001b[49m\u001b[38;5;241;43m76561199583716145\u001b[39;49m\u001b[43m)\u001b[49m\n",
      "File \u001b[0;32m~/Desktop/Classes/2024 Spring/ML Projects/ml-projects-project/models/common_neighbors_model.py:32\u001b[0m, in \u001b[0;36mCommonNeighborsModel.score_and_predict_n_games_for_user\u001b[0;34m(self, user, N, should_sort)\u001b[0m\n\u001b[1;32m     31\u001b[0m \u001b[38;5;28;01mdef\u001b[39;00m \u001b[38;5;21mscore_and_predict_n_games_for_user\u001b[39m(\u001b[38;5;28mself\u001b[39m, user, N\u001b[38;5;241m=\u001b[39m\u001b[38;5;28;01mNone\u001b[39;00m, should_sort\u001b[38;5;241m=\u001b[39m\u001b[38;5;28;01mTrue\u001b[39;00m):\n\u001b[0;32m---> 32\u001b[0m     root_node_neighbors \u001b[38;5;241m=\u001b[39m \u001b[38;5;28mlist\u001b[39m(\u001b[38;5;28;43mself\u001b[39;49m\u001b[38;5;241;43m.\u001b[39;49m\u001b[43mdata_loader\u001b[49m\u001b[38;5;241;43m.\u001b[39;49m\u001b[43mtrain_network\u001b[49m\u001b[38;5;241;43m.\u001b[39;49m\u001b[43mneighbors\u001b[49m\u001b[43m(\u001b[49m\u001b[43muser\u001b[49m\u001b[43m)\u001b[49m)\n\u001b[1;32m     33\u001b[0m     scores \u001b[38;5;241m=\u001b[39m [(game, \u001b[38;5;28mself\u001b[39m\u001b[38;5;241m.\u001b[39mscores[\u001b[38;5;28mself\u001b[39m\u001b[38;5;241m.\u001b[39mnode_to_index[user], \u001b[38;5;28mself\u001b[39m\u001b[38;5;241m.\u001b[39mnode_to_index[game]]) \u001b[38;5;28;01mfor\u001b[39;00m game \u001b[38;5;129;01min\u001b[39;00m \u001b[38;5;28mself\u001b[39m\u001b[38;5;241m.\u001b[39mgame_nodes \u001b[38;5;28;01mif\u001b[39;00m game \u001b[38;5;129;01mnot\u001b[39;00m \u001b[38;5;129;01min\u001b[39;00m root_node_neighbors]\n\u001b[1;32m     34\u001b[0m     \u001b[38;5;28;01mreturn\u001b[39;00m \u001b[38;5;28mself\u001b[39m\u001b[38;5;241m.\u001b[39mselect_scores(scores, N, should_sort)\n",
      "File \u001b[0;32m~/.pyenv/versions/3.11.3/envs/ml_project_3.11.3/lib/python3.11/site-packages/networkx/classes/graph.py:1356\u001b[0m, in \u001b[0;36mGraph.neighbors\u001b[0;34m(self, n)\u001b[0m\n\u001b[1;32m   1354\u001b[0m     \u001b[38;5;28;01mreturn\u001b[39;00m \u001b[38;5;28miter\u001b[39m(\u001b[38;5;28mself\u001b[39m\u001b[38;5;241m.\u001b[39m_adj[n])\n\u001b[1;32m   1355\u001b[0m \u001b[38;5;28;01mexcept\u001b[39;00m \u001b[38;5;167;01mKeyError\u001b[39;00m \u001b[38;5;28;01mas\u001b[39;00m err:\n\u001b[0;32m-> 1356\u001b[0m     \u001b[38;5;28;01mraise\u001b[39;00m NetworkXError(\u001b[38;5;124mf\u001b[39m\u001b[38;5;124m\"\u001b[39m\u001b[38;5;124mThe node \u001b[39m\u001b[38;5;132;01m{\u001b[39;00mn\u001b[38;5;132;01m}\u001b[39;00m\u001b[38;5;124m is not in the graph.\u001b[39m\u001b[38;5;124m\"\u001b[39m) \u001b[38;5;28;01mfrom\u001b[39;00m \u001b[38;5;21;01merr\u001b[39;00m\n",
      "\u001b[0;31mNetworkXError\u001b[0m: The node 76561199583716145 is not in the graph."
     ]
    }
   ],
   "source": [
    "second_common_neighbors_model.score_and_predict_n_games_for_user(76561199583716145)\n"
   ]
  },
  {
   "cell_type": "code",
   "execution_count": null,
   "metadata": {},
   "outputs": [],
   "source": []
  }
 ],
 "metadata": {
  "kernelspec": {
   "display_name": "Python 3",
   "language": "python",
   "name": "python3"
  },
  "language_info": {
   "codemirror_mode": {
    "name": "ipython",
    "version": 3
   },
   "file_extension": ".py",
   "mimetype": "text/x-python",
   "name": "python",
   "nbconvert_exporter": "python",
   "pygments_lexer": "ipython3",
   "version": "3.11.3"
  }
 },
 "nbformat": 4,
 "nbformat_minor": 2
}
