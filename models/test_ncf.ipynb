{
 "cells": [
  {
   "cell_type": "code",
   "execution_count": 1,
   "metadata": {},
   "outputs": [],
   "source": [
    "import sys\n",
    "import os\n",
    "sys.path.append(os.path.join(os.path.abspath(''), '../'))\n",
    "from pprint import pprint\n",
    "from dataset.data_loader import DataLoader, playtime_forever_users_games_edge_scoring_function, LinearNormalizer, GaussianNormalizer, PercentileNormalizer\n",
    "from utils.utils import get_game_name_and_scores\n",
    "\n",
    "from models.ncf_model import NCFModel"
   ]
  },
  {
   "cell_type": "code",
   "execution_count": 5,
   "metadata": {},
   "outputs": [
    {
     "name": "stdout",
     "output_type": "stream",
     "text": [
      "Before 0.5744286179542542\n"
     ]
    },
    {
     "data": {
      "text/html": [
       "<div>\n",
       "<style scoped>\n",
       "    .dataframe tbody tr th:only-of-type {\n",
       "        vertical-align: middle;\n",
       "    }\n",
       "\n",
       "    .dataframe tbody tr th {\n",
       "        vertical-align: top;\n",
       "    }\n",
       "\n",
       "    .dataframe thead th {\n",
       "        text-align: right;\n",
       "    }\n",
       "</style>\n",
       "<table border=\"1\" class=\"dataframe\">\n",
       "  <thead>\n",
       "    <tr style=\"text-align: right;\">\n",
       "      <th></th>\n",
       "      <th>id</th>\n",
       "      <th>name</th>\n",
       "      <th>score</th>\n",
       "    </tr>\n",
       "  </thead>\n",
       "  <tbody>\n",
       "    <tr>\n",
       "      <th>0</th>\n",
       "      <td>252490</td>\n",
       "      <td>Rust</td>\n",
       "      <td>0.245462</td>\n",
       "    </tr>\n",
       "    <tr>\n",
       "      <th>1</th>\n",
       "      <td>381210</td>\n",
       "      <td>Dead by Daylight</td>\n",
       "      <td>0.244838</td>\n",
       "    </tr>\n",
       "    <tr>\n",
       "      <th>2</th>\n",
       "      <td>1245620</td>\n",
       "      <td>ELDEN RING</td>\n",
       "      <td>0.244776</td>\n",
       "    </tr>\n",
       "    <tr>\n",
       "      <th>3</th>\n",
       "      <td>1086940</td>\n",
       "      <td>Baldur's Gate 3</td>\n",
       "      <td>0.244089</td>\n",
       "    </tr>\n",
       "    <tr>\n",
       "      <th>4</th>\n",
       "      <td>346110</td>\n",
       "      <td>ARK: Survival Evolved</td>\n",
       "      <td>0.243998</td>\n",
       "    </tr>\n",
       "    <tr>\n",
       "      <th>5</th>\n",
       "      <td>1172470</td>\n",
       "      <td>Apex Legends™</td>\n",
       "      <td>0.243977</td>\n",
       "    </tr>\n",
       "    <tr>\n",
       "      <th>6</th>\n",
       "      <td>227300</td>\n",
       "      <td>Euro Truck Simulator 2</td>\n",
       "      <td>0.243538</td>\n",
       "    </tr>\n",
       "    <tr>\n",
       "      <th>7</th>\n",
       "      <td>739630</td>\n",
       "      <td>Phasmophobia</td>\n",
       "      <td>0.243359</td>\n",
       "    </tr>\n",
       "    <tr>\n",
       "      <th>8</th>\n",
       "      <td>548430</td>\n",
       "      <td>Deep Rock Galactic</td>\n",
       "      <td>0.243312</td>\n",
       "    </tr>\n",
       "    <tr>\n",
       "      <th>9</th>\n",
       "      <td>1174180</td>\n",
       "      <td>Red Dead Redemption 2</td>\n",
       "      <td>0.243194</td>\n",
       "    </tr>\n",
       "  </tbody>\n",
       "</table>\n",
       "</div>"
      ],
      "text/plain": [
       "        id                    name     score\n",
       "0   252490                    Rust  0.245462\n",
       "1   381210        Dead by Daylight  0.244838\n",
       "2  1245620              ELDEN RING  0.244776\n",
       "3  1086940         Baldur's Gate 3  0.244089\n",
       "4   346110   ARK: Survival Evolved  0.243998\n",
       "5  1172470           Apex Legends™  0.243977\n",
       "6   227300  Euro Truck Simulator 2  0.243538\n",
       "7   739630            Phasmophobia  0.243359\n",
       "8   548430      Deep Rock Galactic  0.243312\n",
       "9  1174180   Red Dead Redemption 2  0.243194"
      ]
     },
     "metadata": {},
     "output_type": "display_data"
    },
    {
     "data": {
      "text/html": [
       "<div>\n",
       "<style scoped>\n",
       "    .dataframe tbody tr th:only-of-type {\n",
       "        vertical-align: middle;\n",
       "    }\n",
       "\n",
       "    .dataframe tbody tr th {\n",
       "        vertical-align: top;\n",
       "    }\n",
       "\n",
       "    .dataframe thead th {\n",
       "        text-align: right;\n",
       "    }\n",
       "</style>\n",
       "<table border=\"1\" class=\"dataframe\">\n",
       "  <thead>\n",
       "    <tr style=\"text-align: right;\">\n",
       "      <th></th>\n",
       "      <th>id</th>\n",
       "      <th>name</th>\n",
       "      <th>score</th>\n",
       "    </tr>\n",
       "  </thead>\n",
       "  <tbody>\n",
       "    <tr>\n",
       "      <th>0</th>\n",
       "      <td>1550270</td>\n",
       "      <td>Togges</td>\n",
       "      <td>0.237742</td>\n",
       "    </tr>\n",
       "    <tr>\n",
       "      <th>1</th>\n",
       "      <td>1226000</td>\n",
       "      <td>Nations At War Digital Core Game</td>\n",
       "      <td>0.237726</td>\n",
       "    </tr>\n",
       "    <tr>\n",
       "      <th>2</th>\n",
       "      <td>1276610</td>\n",
       "      <td>My Cute Roommate</td>\n",
       "      <td>0.237723</td>\n",
       "    </tr>\n",
       "    <tr>\n",
       "      <th>3</th>\n",
       "      <td>1882280</td>\n",
       "      <td>Forgotten Realms: The Archives - Collection Two</td>\n",
       "      <td>0.237718</td>\n",
       "    </tr>\n",
       "    <tr>\n",
       "      <th>4</th>\n",
       "      <td>1597730</td>\n",
       "      <td>Dogs Organized Neatly</td>\n",
       "      <td>0.237667</td>\n",
       "    </tr>\n",
       "    <tr>\n",
       "      <th>5</th>\n",
       "      <td>705250</td>\n",
       "      <td>Cross Set Infinity</td>\n",
       "      <td>0.237656</td>\n",
       "    </tr>\n",
       "    <tr>\n",
       "      <th>6</th>\n",
       "      <td>1067350</td>\n",
       "      <td>Sophie's Dice</td>\n",
       "      <td>0.237624</td>\n",
       "    </tr>\n",
       "    <tr>\n",
       "      <th>7</th>\n",
       "      <td>2090150</td>\n",
       "      <td>Furry Sex: Poker 🃏♥️</td>\n",
       "      <td>0.237623</td>\n",
       "    </tr>\n",
       "    <tr>\n",
       "      <th>8</th>\n",
       "      <td>1643180</td>\n",
       "      <td>Artist Life Simulator</td>\n",
       "      <td>0.237572</td>\n",
       "    </tr>\n",
       "    <tr>\n",
       "      <th>9</th>\n",
       "      <td>777650</td>\n",
       "      <td>Yet Another Research Dog</td>\n",
       "      <td>0.237517</td>\n",
       "    </tr>\n",
       "  </tbody>\n",
       "</table>\n",
       "</div>"
      ],
      "text/plain": [
       "        id                                             name     score\n",
       "0  1550270                                           Togges  0.237742\n",
       "1  1226000                 Nations At War Digital Core Game  0.237726\n",
       "2  1276610                                 My Cute Roommate  0.237723\n",
       "3  1882280  Forgotten Realms: The Archives - Collection Two  0.237718\n",
       "4  1597730                            Dogs Organized Neatly  0.237667\n",
       "5   705250                               Cross Set Infinity  0.237656\n",
       "6  1067350                                    Sophie's Dice  0.237624\n",
       "7  2090150                             Furry Sex: Poker 🃏♥️  0.237623\n",
       "8  1643180                            Artist Life Simulator  0.237572\n",
       "9   777650                         Yet Another Research Dog  0.237517"
      ]
     },
     "metadata": {},
     "output_type": "display_data"
    },
    {
     "name": "stdout",
     "output_type": "stream",
     "text": [
      "After 0.5744286179542542\n",
      "Fine Tuned User Output\n",
      "0.8793486952781677\n"
     ]
    },
    {
     "data": {
      "text/html": [
       "<div>\n",
       "<style scoped>\n",
       "    .dataframe tbody tr th:only-of-type {\n",
       "        vertical-align: middle;\n",
       "    }\n",
       "\n",
       "    .dataframe tbody tr th {\n",
       "        vertical-align: top;\n",
       "    }\n",
       "\n",
       "    .dataframe thead th {\n",
       "        text-align: right;\n",
       "    }\n",
       "</style>\n",
       "<table border=\"1\" class=\"dataframe\">\n",
       "  <thead>\n",
       "    <tr style=\"text-align: right;\">\n",
       "      <th></th>\n",
       "      <th>id</th>\n",
       "      <th>name</th>\n",
       "      <th>score</th>\n",
       "    </tr>\n",
       "  </thead>\n",
       "  <tbody>\n",
       "    <tr>\n",
       "      <th>0</th>\n",
       "      <td>1617480</td>\n",
       "      <td>Fight Party</td>\n",
       "      <td>0.927530</td>\n",
       "    </tr>\n",
       "    <tr>\n",
       "      <th>1</th>\n",
       "      <td>582010</td>\n",
       "      <td>Monster Hunter: World</td>\n",
       "      <td>0.882542</td>\n",
       "    </tr>\n",
       "    <tr>\n",
       "      <th>2</th>\n",
       "      <td>619740</td>\n",
       "      <td>The Inevitability</td>\n",
       "      <td>0.849841</td>\n",
       "    </tr>\n",
       "    <tr>\n",
       "      <th>3</th>\n",
       "      <td>415300</td>\n",
       "      <td>Monster Monpiece</td>\n",
       "      <td>0.844483</td>\n",
       "    </tr>\n",
       "    <tr>\n",
       "      <th>4</th>\n",
       "      <td>940980</td>\n",
       "      <td>Phantasmat: The Dread of Oakville Collector's ...</td>\n",
       "      <td>0.829312</td>\n",
       "    </tr>\n",
       "    <tr>\n",
       "      <th>5</th>\n",
       "      <td>407980</td>\n",
       "      <td>Sakura Beach 2</td>\n",
       "      <td>0.824071</td>\n",
       "    </tr>\n",
       "    <tr>\n",
       "      <th>6</th>\n",
       "      <td>657040</td>\n",
       "      <td>The Myth Seekers: The Legacy of Vulcan</td>\n",
       "      <td>0.820042</td>\n",
       "    </tr>\n",
       "    <tr>\n",
       "      <th>7</th>\n",
       "      <td>552900</td>\n",
       "      <td>Fields XY</td>\n",
       "      <td>0.816118</td>\n",
       "    </tr>\n",
       "    <tr>\n",
       "      <th>8</th>\n",
       "      <td>200710</td>\n",
       "      <td>Torchlight II</td>\n",
       "      <td>0.815980</td>\n",
       "    </tr>\n",
       "    <tr>\n",
       "      <th>9</th>\n",
       "      <td>222940</td>\n",
       "      <td>THE KING OF FIGHTERS XIII STEAM EDITION</td>\n",
       "      <td>0.811059</td>\n",
       "    </tr>\n",
       "  </tbody>\n",
       "</table>\n",
       "</div>"
      ],
      "text/plain": [
       "        id                                               name     score\n",
       "0  1617480                                        Fight Party  0.927530\n",
       "1   582010                              Monster Hunter: World  0.882542\n",
       "2   619740                                  The Inevitability  0.849841\n",
       "3   415300                                   Monster Monpiece  0.844483\n",
       "4   940980  Phantasmat: The Dread of Oakville Collector's ...  0.829312\n",
       "5   407980                                     Sakura Beach 2  0.824071\n",
       "6   657040             The Myth Seekers: The Legacy of Vulcan  0.820042\n",
       "7   552900                                          Fields XY  0.816118\n",
       "8   200710                                      Torchlight II  0.815980\n",
       "9   222940            THE KING OF FIGHTERS XIII STEAM EDITION  0.811059"
      ]
     },
     "metadata": {},
     "output_type": "display_data"
    },
    {
     "data": {
      "text/html": [
       "<div>\n",
       "<style scoped>\n",
       "    .dataframe tbody tr th:only-of-type {\n",
       "        vertical-align: middle;\n",
       "    }\n",
       "\n",
       "    .dataframe tbody tr th {\n",
       "        vertical-align: top;\n",
       "    }\n",
       "\n",
       "    .dataframe thead th {\n",
       "        text-align: right;\n",
       "    }\n",
       "</style>\n",
       "<table border=\"1\" class=\"dataframe\">\n",
       "  <thead>\n",
       "    <tr style=\"text-align: right;\">\n",
       "      <th></th>\n",
       "      <th>id</th>\n",
       "      <th>name</th>\n",
       "      <th>score</th>\n",
       "    </tr>\n",
       "  </thead>\n",
       "  <tbody>\n",
       "    <tr>\n",
       "      <th>0</th>\n",
       "      <td>1332450</td>\n",
       "      <td>Open The Gates!</td>\n",
       "      <td>0.355562</td>\n",
       "    </tr>\n",
       "    <tr>\n",
       "      <th>1</th>\n",
       "      <td>1258460</td>\n",
       "      <td>Escape First 3</td>\n",
       "      <td>0.355469</td>\n",
       "    </tr>\n",
       "    <tr>\n",
       "      <th>2</th>\n",
       "      <td>1641060</td>\n",
       "      <td>Castles &amp; Catapults</td>\n",
       "      <td>0.354220</td>\n",
       "    </tr>\n",
       "    <tr>\n",
       "      <th>3</th>\n",
       "      <td>1246250</td>\n",
       "      <td>An Airport for Aliens Currently Run by Dogs</td>\n",
       "      <td>0.353008</td>\n",
       "    </tr>\n",
       "    <tr>\n",
       "      <th>4</th>\n",
       "      <td>418260</td>\n",
       "      <td>Gumball Drift</td>\n",
       "      <td>0.349316</td>\n",
       "    </tr>\n",
       "    <tr>\n",
       "      <th>5</th>\n",
       "      <td>1838820</td>\n",
       "      <td>Life of a Space Force Captain</td>\n",
       "      <td>0.348215</td>\n",
       "    </tr>\n",
       "    <tr>\n",
       "      <th>6</th>\n",
       "      <td>395960</td>\n",
       "      <td>عالم أريب</td>\n",
       "      <td>0.343080</td>\n",
       "    </tr>\n",
       "    <tr>\n",
       "      <th>7</th>\n",
       "      <td>575690</td>\n",
       "      <td>PARKAN: THE IMPERIAL CHRONICLES</td>\n",
       "      <td>0.339020</td>\n",
       "    </tr>\n",
       "    <tr>\n",
       "      <th>8</th>\n",
       "      <td>778860</td>\n",
       "      <td>Animals Memory: Insect</td>\n",
       "      <td>0.336209</td>\n",
       "    </tr>\n",
       "    <tr>\n",
       "      <th>9</th>\n",
       "      <td>693800</td>\n",
       "      <td>Loco Parentis / 孤女咒怨</td>\n",
       "      <td>0.328324</td>\n",
       "    </tr>\n",
       "  </tbody>\n",
       "</table>\n",
       "</div>"
      ],
      "text/plain": [
       "        id                                         name     score\n",
       "0  1332450                              Open The Gates!  0.355562\n",
       "1  1258460                               Escape First 3  0.355469\n",
       "2  1641060                          Castles & Catapults  0.354220\n",
       "3  1246250  An Airport for Aliens Currently Run by Dogs  0.353008\n",
       "4   418260                                Gumball Drift  0.349316\n",
       "5  1838820                Life of a Space Force Captain  0.348215\n",
       "6   395960                                    عالم أريب  0.343080\n",
       "7   575690              PARKAN: THE IMPERIAL CHRONICLES  0.339020\n",
       "8   778860                       Animals Memory: Insect  0.336209\n",
       "9   693800                         Loco Parentis / 孤女咒怨  0.328324"
      ]
     },
     "metadata": {},
     "output_type": "display_data"
    },
    {
     "data": {
      "image/png": "[encoded data removed]",
      "text/plain": [
       "<Figure size 640x480 with 1 Axes>"
      ]
     },
     "metadata": {},
     "output_type": "display_data"
    }
   ],
   "source": [
    "# Test Fine Tuning\n",
    "# data_loader = DataLoader.load_from_file('test_ncf_data_loader', use_published_models_path=True, load_live_data_loader=True)\n",
    "data_loader = DataLoader.load_from_file('test_evaluation_data_loader_embed_all_except_tags', use_published_models_path=False, load_live_data_loader=True)\n",
    "model = NCFModel()\n",
    "# model.load('evaluation_test_ncf_low_weight_decay', load_published_model=True)\n",
    "model.load('evaluation_test_gcf_embed_all_except_tags', load_published_model=False)\n",
    "model.new_seed(None)\n",
    "model.fine_tune_num_epochs = 40\n",
    "model.fine_tune_weight_decay = 1e-6#1e-3\n",
    "model.fine_tune_learning_rate = 1e-2\n",
    "model.set_data_loader(data_loader)\n",
    "user_to_fine_tune = 76561198103368250 # 76561198166465514 # 76561198835352289 #  #  #  # \n",
    "print('Before', model.get_score_between_user_and_game(76561198880605436, 367520))\n",
    "model.ncf.add_new_user()\n",
    "model.user_to_index[user_to_fine_tune] = len(model.user_nodes)\n",
    "model.user_nodes.append(user_to_fine_tune)\n",
    "display(get_game_name_and_scores(data_loader, model.score_and_predict_n_games_for_user(user_to_fine_tune)[:10]))\n",
    "display(get_game_name_and_scores(data_loader, model.score_and_predict_n_games_for_user(user_to_fine_tune)[-10:]))\n",
    "model.fine_tune(user_to_fine_tune)\n",
    "print('After', model.get_score_between_user_and_game(76561198880605436, 367520))\n",
    "print('Fine Tuned User Output')\n",
    "print(model.get_score_between_user_and_game(user_to_fine_tune, 367520))\n",
    "display(get_game_name_and_scores(data_loader, model.score_and_predict_n_games_for_user(user_to_fine_tune)[:10]))\n",
    "display(get_game_name_and_scores(data_loader, model.score_and_predict_n_games_for_user(user_to_fine_tune)[-10:]))"
   ]
  },
  {
   "cell_type": "code",
   "execution_count": 2,
   "metadata": {},
   "outputs": [],
   "source": [
    "data_loader = DataLoader(cache_local_dataset=True, users_games_edge_scoring_function = playtime_forever_users_games_edge_scoring_function, score_normalizers = [GaussianNormalizer(1.0, 1.0)], user_game_edge_embeddings = ['playtime_forever'], game_embeddings=['name'])\n",
    "data_loader.load_random_edge_train_test_split(train_percentage=0.9, test_percentage=0.1, seed=0)\n",
    "data_loader.save_data_loader_parameters('test_ncf_data_loader', overwrite=True)"
   ]
  },
  {
   "cell_type": "code",
   "execution_count": 4,
   "metadata": {},
   "outputs": [
    {
     "name": "stdout",
     "output_type": "stream",
     "text": [
      "Known Game Embeddings:  []\n",
      "Known User Embeddings:  []\n",
      "Total Learnable Parameters: 11340200\n"
     ]
    },
    {
     "name": "stderr",
     "output_type": "stream",
     "text": [
      "Training: 100%|██████████| 40/40 [04:42<00:00,  7.05s/it]\n"
     ]
    },
    {
     "name": "stdout",
     "output_type": "stream",
     "text": [
      "0.2611604928970337\n",
      "0.602492094039917\n",
      "[0.2611604928970337, 0.602492094039917]\n"
     ]
    },
    {
     "data": {
      "text/html": [
       "<div>\n",
       "<style scoped>\n",
       "    .dataframe tbody tr th:only-of-type {\n",
       "        vertical-align: middle;\n",
       "    }\n",
       "\n",
       "    .dataframe tbody tr th {\n",
       "        vertical-align: top;\n",
       "    }\n",
       "\n",
       "    .dataframe thead th {\n",
       "        text-align: right;\n",
       "    }\n",
       "</style>\n",
       "<table border=\"1\" class=\"dataframe\">\n",
       "  <thead>\n",
       "    <tr style=\"text-align: right;\">\n",
       "      <th></th>\n",
       "      <th>id</th>\n",
       "      <th>name</th>\n",
       "      <th>score</th>\n",
       "    </tr>\n",
       "  </thead>\n",
       "  <tbody>\n",
       "    <tr>\n",
       "      <th>0</th>\n",
       "      <td>730</td>\n",
       "      <td>Counter-Strike 2</td>\n",
       "      <td>1.333981</td>\n",
       "    </tr>\n",
       "    <tr>\n",
       "      <th>1</th>\n",
       "      <td>255300</td>\n",
       "      <td>Journey of a Roach</td>\n",
       "      <td>1.166889</td>\n",
       "    </tr>\n",
       "    <tr>\n",
       "      <th>2</th>\n",
       "      <td>807870</td>\n",
       "      <td>Survival Planet</td>\n",
       "      <td>0.935102</td>\n",
       "    </tr>\n",
       "    <tr>\n",
       "      <th>3</th>\n",
       "      <td>547750</td>\n",
       "      <td>Endless Night - Alpha</td>\n",
       "      <td>0.881796</td>\n",
       "    </tr>\n",
       "    <tr>\n",
       "      <th>4</th>\n",
       "      <td>1102930</td>\n",
       "      <td>KoboldKare</td>\n",
       "      <td>0.873163</td>\n",
       "    </tr>\n",
       "    <tr>\n",
       "      <th>5</th>\n",
       "      <td>385230</td>\n",
       "      <td>Ninjahtic</td>\n",
       "      <td>0.783991</td>\n",
       "    </tr>\n",
       "    <tr>\n",
       "      <th>6</th>\n",
       "      <td>289820</td>\n",
       "      <td>Dracula 2: The Last Sanctuary</td>\n",
       "      <td>0.770226</td>\n",
       "    </tr>\n",
       "    <tr>\n",
       "      <th>7</th>\n",
       "      <td>346040</td>\n",
       "      <td>Joe's Diner</td>\n",
       "      <td>0.758548</td>\n",
       "    </tr>\n",
       "    <tr>\n",
       "      <th>8</th>\n",
       "      <td>413420</td>\n",
       "      <td>Danganronpa 2: Goodbye Despair</td>\n",
       "      <td>0.758197</td>\n",
       "    </tr>\n",
       "    <tr>\n",
       "      <th>9</th>\n",
       "      <td>1363430</td>\n",
       "      <td>Propagation VR</td>\n",
       "      <td>0.749979</td>\n",
       "    </tr>\n",
       "  </tbody>\n",
       "</table>\n",
       "</div>"
      ],
      "text/plain": [
       "        id                            name     score\n",
       "0      730                Counter-Strike 2  1.333981\n",
       "1   255300              Journey of a Roach  1.166889\n",
       "2   807870                 Survival Planet  0.935102\n",
       "3   547750           Endless Night - Alpha  0.881796\n",
       "4  1102930                      KoboldKare  0.873163\n",
       "5   385230                       Ninjahtic  0.783991\n",
       "6   289820   Dracula 2: The Last Sanctuary  0.770226\n",
       "7   346040                     Joe's Diner  0.758548\n",
       "8   413420  Danganronpa 2: Goodbye Despair  0.758197\n",
       "9  1363430                  Propagation VR  0.749979"
      ]
     },
     "metadata": {},
     "output_type": "display_data"
    },
    {
     "data": {
      "text/html": [
       "<div>\n",
       "<style scoped>\n",
       "    .dataframe tbody tr th:only-of-type {\n",
       "        vertical-align: middle;\n",
       "    }\n",
       "\n",
       "    .dataframe tbody tr th {\n",
       "        vertical-align: top;\n",
       "    }\n",
       "\n",
       "    .dataframe thead th {\n",
       "        text-align: right;\n",
       "    }\n",
       "</style>\n",
       "<table border=\"1\" class=\"dataframe\">\n",
       "  <thead>\n",
       "    <tr style=\"text-align: right;\">\n",
       "      <th></th>\n",
       "      <th>id</th>\n",
       "      <th>name</th>\n",
       "      <th>score</th>\n",
       "    </tr>\n",
       "  </thead>\n",
       "  <tbody>\n",
       "    <tr>\n",
       "      <th>0</th>\n",
       "      <td>968550</td>\n",
       "      <td>Tinytopia</td>\n",
       "      <td>-0.491004</td>\n",
       "    </tr>\n",
       "    <tr>\n",
       "      <th>1</th>\n",
       "      <td>418190</td>\n",
       "      <td>Helen's Mysterious Castle</td>\n",
       "      <td>-0.493230</td>\n",
       "    </tr>\n",
       "    <tr>\n",
       "      <th>2</th>\n",
       "      <td>679300</td>\n",
       "      <td>PATHOS</td>\n",
       "      <td>-0.503005</td>\n",
       "    </tr>\n",
       "    <tr>\n",
       "      <th>3</th>\n",
       "      <td>367050</td>\n",
       "      <td>Vindicator: Uprising</td>\n",
       "      <td>-0.509307</td>\n",
       "    </tr>\n",
       "    <tr>\n",
       "      <th>4</th>\n",
       "      <td>881560</td>\n",
       "      <td>How To Date A Magical Girl!</td>\n",
       "      <td>-0.515865</td>\n",
       "    </tr>\n",
       "    <tr>\n",
       "      <th>5</th>\n",
       "      <td>465750</td>\n",
       "      <td>Tank Battle: North Africa</td>\n",
       "      <td>-0.523329</td>\n",
       "    </tr>\n",
       "    <tr>\n",
       "      <th>6</th>\n",
       "      <td>682290</td>\n",
       "      <td>Zeus' Battlegrounds</td>\n",
       "      <td>-0.528777</td>\n",
       "    </tr>\n",
       "    <tr>\n",
       "      <th>7</th>\n",
       "      <td>589530</td>\n",
       "      <td>Hakuoki: Kyoto Winds</td>\n",
       "      <td>-0.586434</td>\n",
       "    </tr>\n",
       "    <tr>\n",
       "      <th>8</th>\n",
       "      <td>874390</td>\n",
       "      <td>The Battle of Polytopia</td>\n",
       "      <td>-0.833708</td>\n",
       "    </tr>\n",
       "    <tr>\n",
       "      <th>9</th>\n",
       "      <td>849680</td>\n",
       "      <td>TimeTekker</td>\n",
       "      <td>-0.899658</td>\n",
       "    </tr>\n",
       "  </tbody>\n",
       "</table>\n",
       "</div>"
      ],
      "text/plain": [
       "       id                         name     score\n",
       "0  968550                    Tinytopia -0.491004\n",
       "1  418190    Helen's Mysterious Castle -0.493230\n",
       "2  679300                       PATHOS -0.503005\n",
       "3  367050         Vindicator: Uprising -0.509307\n",
       "4  881560  How To Date A Magical Girl! -0.515865\n",
       "5  465750    Tank Battle: North Africa -0.523329\n",
       "6  682290          Zeus' Battlegrounds -0.528777\n",
       "7  589530         Hakuoki: Kyoto Winds -0.586434\n",
       "8  874390      The Battle of Polytopia -0.833708\n",
       "9  849680                   TimeTekker -0.899658"
      ]
     },
     "metadata": {},
     "output_type": "display_data"
    },
    {
     "name": "stdout",
     "output_type": "stream",
     "text": [
      "Test Loss 0.1535312533378601\n"
     ]
    },
    {
     "data": {
      "image/png": "[encoded data removed]",
      "text/plain": [
       "<Figure size 640x480 with 1 Axes>"
      ]
     },
     "metadata": {},
     "output_type": "display_data"
    }
   ],
   "source": [
    "# base collaborative filter test\n",
    "cf_model = NCFModel(num_epochs = 40, embedding_size = 100, batch_percent = 0.1, learning_rate = 1e-2, weight_decay=1e-6, mlp_hidden_layer_sizes = [], seed=0, model_type='cf', fine_tune_num_epochs=40, fine_tune_learning_rate=1e-1, fine_tune_weight_decay=1e-6)\n",
    "cf_model.set_data_loader(data_loader)\n",
    "cf_model.train(debug=True)\n",
    "cf_model.save('test_cf_model', overwrite=True)\n",
    "print(cf_model.get_score_between_user_and_game(76561198835352289, 967050))\n",
    "print(cf_model.get_score_between_user_and_game(76561198835352289, 578080))\n",
    "print(cf_model.get_scores_between_users_and_games([76561198835352289, 76561198835352289], [967050, 578080]))\n",
    "display(get_game_name_and_scores(data_loader, cf_model.score_and_predict_n_games_for_user(76561198835352289)[:10]))\n",
    "display(get_game_name_and_scores(data_loader, cf_model.score_and_predict_n_games_for_user(76561198835352289)[-10:]))\n",
    "print('Test Loss', cf_model.test_loss())"
   ]
  },
  {
   "cell_type": "code",
   "execution_count": 3,
   "metadata": {},
   "outputs": [
    {
     "name": "stdout",
     "output_type": "stream",
     "text": [
      "Known Game Embeddings:  []\n",
      "Known User Embeddings:  []\n",
      "Total Learnable Parameters: 11340301\n"
     ]
    },
    {
     "name": "stderr",
     "output_type": "stream",
     "text": [
      "Training: 100%|██████████| 40/40 [14:34<00:00, 21.86s/it]\n"
     ]
    },
    {
     "name": "stdout",
     "output_type": "stream",
     "text": [
      "0.70597327\n",
      "[(229480, 1.346836), (492600, 1.2492095), (2229350, 1.2368684), (1281190, 1.2354189), (1842610, 1.2267547), (388900, 1.2261814), (737380, 1.219301), (842510, 1.2147899), (328310, 1.2034427), (360970, 1.1956581)]\n",
      "[(208200, 0.43849725), (678800, 0.4368711), (645630, 0.42987695), (1727270, 0.42860356), (1736840, 0.4244921), (2588590, 0.4144491), (358260, 0.4087724), (378070, 0.3923778), (630080, 0.39132765), (375930, 0.3867215)]\n",
      "Test Loss 0.2547321915626526\n"
     ]
    },
    {
     "data": {
      "image/png": "[encoded data removed]",
      "text/plain": [
       "<Figure size 640x480 with 1 Axes>"
      ]
     },
     "metadata": {},
     "output_type": "display_data"
    }
   ],
   "source": [
    "# generalized collaborative filter test\n",
    "gcf_model = NCFModel(num_epochs = 40, embedding_size = 100, batch_percent = 0.1, learning_rate = 1e-3, weight_decay=1e-6, mlp_hidden_layer_sizes = [], seed=0, model_type='gcf', fine_tune_num_epochs=40, fine_tune_learning_rate=1e-1, fine_tune_weight_decay=1e-6)\n",
    "gcf_model.set_data_loader(data_loader)\n",
    "gcf_model.train(debug=True)\n",
    "gcf_model.save('test_gcf_model', overwrite=True)\n",
    "print(gcf_model.get_score_between_user_and_game(76561198835352289, 967050))\n",
    "print(gcf_model.get_score_between_user_and_game(76561198835352289, 578080))\n",
    "print(gcf_model.get_scores_between_users_and_games([76561198835352289, 76561198835352289], [967050, 578080]))\n",
    "display(get_game_name_and_scores(data_loader, gcf_model.score_and_predict_n_games_for_user(76561198835352289)[:10]))\n",
    "display(get_game_name_and_scores(data_loader, gcf_model.score_and_predict_n_games_for_user(76561198835352289)[-10:]))\n",
    "print('Test Loss', gcf_model.test_loss())"
   ]
  },
  {
   "cell_type": "code",
   "execution_count": 4,
   "metadata": {},
   "outputs": [
    {
     "name": "stdout",
     "output_type": "stream",
     "text": [
      "Known Game Embeddings:  []\n",
      "Known User Embeddings:  []\n",
      "Total Learnable Parameters: 11399081\n"
     ]
    },
    {
     "name": "stderr",
     "output_type": "stream",
     "text": [
      "Training: 100%|██████████| 40/40 [40:32<00:00, 60.80s/it]\n"
     ]
    },
    {
     "name": "stdout",
     "output_type": "stream",
     "text": [
      "0.8340055\n",
      "[(615490, 1.0547082), (1337590, 1.0247288), (2388430, 1.0163636), (592570, 1.014163), (713500, 1.013082), (1091500, 1.0128273), (798170, 1.0113983), (531140, 1.0089062), (1820740, 1.0051131), (2375190, 1.0038261)]\n",
      "[(709560, 0.8038294), (459840, 0.80380493), (787620, 0.8030879), (424840, 0.8017356), (288610, 0.8014674), (542410, 0.80118245), (1001270, 0.8003447), (588980, 0.7985176), (439700, 0.7918845), (407530, 0.7849404)]\n",
      "Test Loss 0.1930522322654724\n"
     ]
    },
    {
     "data": {
      "image/png": "[encoded data removed]",
      "text/plain": [
       "<Figure size 640x480 with 1 Axes>"
      ]
     },
     "metadata": {},
     "output_type": "display_data"
    }
   ],
   "source": [
    "# mlp test\n",
    "mlp_model = NCFModel(num_epochs = 40, embedding_size = 100, batch_percent = 0.1, learning_rate = 1e-3, weight_decay=1e-6, mlp_hidden_layer_sizes = [128, 128, 128], seed=0, model_type='mlp', fine_tune_num_epochs=40, fine_tune_learning_rate=1e-1, fine_tune_weight_decay=1e-6)\n",
    "mlp_model.set_data_loader(data_loader)\n",
    "mlp_model.train(debug=True)\n",
    "mlp_model.save('test_mlp_model', overwrite=True)\n",
    "print(mlp_model.get_score_between_user_and_game(76561198835352289, 967050))\n",
    "print(mlp_model.get_score_between_user_and_game(76561198835352289, 578080))\n",
    "print(mlp_model.get_scores_between_users_and_games([76561198835352289, 76561198835352289], [967050, 578080]))\n",
    "display(get_game_name_and_scores(data_loader, mlp_model.score_and_predict_n_games_for_user(76561198835352289)[:10]))\n",
    "display(get_game_name_and_scores(data_loader, mlp_model.score_and_predict_n_games_for_user(76561198835352289)[-10:]))\n",
    "print('Test Loss', mlp_model.test_loss())"
   ]
  },
  {
   "cell_type": "code",
   "execution_count": 5,
   "metadata": {},
   "outputs": [
    {
     "name": "stdout",
     "output_type": "stream",
     "text": [
      "Known Game Embeddings:  []\n",
      "Known User Embeddings:  []\n",
      "Total Learnable Parameters: 22739381\n"
     ]
    },
    {
     "name": "stderr",
     "output_type": "stream",
     "text": [
      "Training: 100%|██████████| 40/40 [1:26:00<00:00, 129.00s/it]\n"
     ]
    },
    {
     "name": "stdout",
     "output_type": "stream",
     "text": [
      "0.82280076\n",
      "[(2146180, 1.2310467), (921780, 1.2092412), (418190, 1.2010572), (815030, 1.1907902), (204030, 1.1545674), (1955800, 1.1476262), (1451720, 1.1156657), (552350, 1.11445), (652600, 1.1111959), (469920, 1.103363)]\n",
      "[(235070, 0.79751), (250520, 0.7974302), (976030, 0.7972898), (97110, 0.7966955), (428210, 0.79652715), (516430, 0.7959233), (1094730, 0.792199), (2096820, 0.7911787), (466240, 0.7910533), (407530, 0.7898907)]\n",
      "Test Loss 0.18954771757125854\n"
     ]
    },
    {
     "data": {
      "image/png": "[encoded data removed]",
      "text/plain": [
       "<Figure size 640x480 with 1 Axes>"
      ]
     },
     "metadata": {},
     "output_type": "display_data"
    }
   ],
   "source": [
    "# ncf test\n",
    "ncf_model = NCFModel(num_epochs = 40, embedding_size = 100, batch_percent = 0.1, learning_rate = 1e-3, weight_decay=1e-6, mlp_hidden_layer_sizes = [128, 128, 128], seed=0, model_type='ncf', fine_tune_num_epochs=40, fine_tune_learning_rate=1e-1, fine_tune_weight_decay=1e-6)\n",
    "ncf_model.set_data_loader(data_loader)\n",
    "ncf_model.train(debug=True)\n",
    "ncf_model.save('test_ncf_model', overwrite=True)\n",
    "print(ncf_model.get_score_between_user_and_game(76561198835352289, 967050))\n",
    "print(ncf_model.get_score_between_user_and_game(76561198835352289, 578080))\n",
    "print(ncf_model.get_scores_between_users_and_games([76561198835352289, 76561198835352289], [967050, 578080]))\n",
    "display(get_game_name_and_scores(data_loader, ncf_model.score_and_predict_n_games_for_user(76561198835352289)[:10]))\n",
    "display(get_game_name_and_scores(data_loader, ncf_model.score_and_predict_n_games_for_user(76561198835352289)[-10:]))\n",
    "print('Test Loss', ncf_model.test_loss())"
   ]
  },
  {
   "cell_type": "code",
   "execution_count": 4,
   "metadata": {},
   "outputs": [
    {
     "ename": "RuntimeError",
     "evalue": "Error(s) in loading state_dict for NCF:\n\tMissing key(s) in state_dict: \"embedding_gcf_known_game.weight\", \"embedding_gcf_user_for_known_game.weight\". \n\tUnexpected key(s) in state_dict: \"embedding_mlp_user.weight\", \"embedding_mlp_game.weight\", \"mlp_layers.0.weight\", \"mlp_layers.0.bias\", \"mlp_layers.2.weight\", \"mlp_layers.2.bias\", \"mlp_layers.4.weight\", \"mlp_layers.4.bias\", \"ncf_fc.weight\", \"ncf_fc.bias\". ",
     "output_type": "error",
     "traceback": [
      "\u001b[0;31m---------------------------------------------------------------------------\u001b[0m",
      "\u001b[0;31mRuntimeError\u001b[0m                              Traceback (most recent call last)",
      "Cell \u001b[0;32mIn[4], line 3\u001b[0m\n\u001b[1;32m      1\u001b[0m \u001b[38;5;66;03m# data_loader = DataLoader.load_from_file('test_evaluation_data_loader_embed_all_except_tags', use_published_models_path=False, load_live_data_loader=True)\u001b[39;00m\n\u001b[1;32m      2\u001b[0m model \u001b[38;5;241m=\u001b[39m NCFModel()\n\u001b[0;32m----> 3\u001b[0m \u001b[43mmodel\u001b[49m\u001b[38;5;241;43m.\u001b[39;49m\u001b[43mload\u001b[49m\u001b[43m(\u001b[49m\u001b[38;5;124;43m'\u001b[39;49m\u001b[38;5;124;43mevaluation_test_ncf_low_weight_decay\u001b[39;49m\u001b[38;5;124;43m'\u001b[39;49m\u001b[43m,\u001b[49m\u001b[43m \u001b[49m\u001b[43mload_published_model\u001b[49m\u001b[38;5;241;43m=\u001b[39;49m\u001b[38;5;28;43;01mFalse\u001b[39;49;00m\u001b[43m)\u001b[49m\n\u001b[1;32m      4\u001b[0m model\u001b[38;5;241m.\u001b[39mset_data_loader(data_loader)\n",
      "File \u001b[0;32m~/Desktop/Classes/2024 Spring/ML Projects/ml-projects-project/models/../models/base_model.py:107\u001b[0m, in \u001b[0;36mBaseGameRecommendationModel.load\u001b[0;34m(self, file_name, load_published_model)\u001b[0m\n\u001b[1;32m    105\u001b[0m \u001b[38;5;28;01mdef\u001b[39;00m \u001b[38;5;21mload\u001b[39m(\u001b[38;5;28mself\u001b[39m, file_name, load_published_model\u001b[38;5;241m=\u001b[39m\u001b[38;5;28;01mFalse\u001b[39;00m):\n\u001b[1;32m    106\u001b[0m     folder_path \u001b[38;5;241m=\u001b[39m PUBLISHED_MODELS_PATH \u001b[38;5;28;01mif\u001b[39;00m load_published_model \u001b[38;5;28;01melse\u001b[39;00m SAVED_MODELS_PATH\n\u001b[0;32m--> 107\u001b[0m     \u001b[38;5;28;43mself\u001b[39;49m\u001b[38;5;241;43m.\u001b[39;49m\u001b[43m_load\u001b[49m\u001b[43m(\u001b[49m\u001b[43mfolder_path\u001b[49m\u001b[43m,\u001b[49m\u001b[43m \u001b[49m\u001b[43mfile_name\u001b[49m\u001b[43m)\u001b[49m\n",
      "File \u001b[0;32m~/Desktop/Classes/2024 Spring/ML Projects/ml-projects-project/models/../models/ncf_model.py:167\u001b[0m, in \u001b[0;36mNCFModel._load\u001b[0;34m(self, folder_path, file_name)\u001b[0m\n\u001b[1;32m    165\u001b[0m     \u001b[38;5;28mself\u001b[39m\u001b[38;5;241m.\u001b[39mfine_tune_weight_decay \u001b[38;5;241m=\u001b[39m loaded_obj[\u001b[38;5;124m'\u001b[39m\u001b[38;5;124mfine_tune_weight_decay\u001b[39m\u001b[38;5;124m'\u001b[39m]\n\u001b[1;32m    166\u001b[0m \u001b[38;5;28mself\u001b[39m\u001b[38;5;241m.\u001b[39mncf \u001b[38;5;241m=\u001b[39m NCF(\u001b[38;5;28mself\u001b[39m\u001b[38;5;241m.\u001b[39mnum_users, \u001b[38;5;28mself\u001b[39m\u001b[38;5;241m.\u001b[39mnum_games, \u001b[38;5;28mself\u001b[39m\u001b[38;5;241m.\u001b[39mmodel_type, \u001b[38;5;28mself\u001b[39m\u001b[38;5;241m.\u001b[39membedding_size, \u001b[38;5;28mself\u001b[39m\u001b[38;5;241m.\u001b[39mknown_game_embeddings_df, \u001b[38;5;28mself\u001b[39m\u001b[38;5;241m.\u001b[39mmlp_hidden_layer_sizes, \u001b[38;5;28mself\u001b[39m\u001b[38;5;241m.\u001b[39mnum_epochs, \u001b[38;5;28mself\u001b[39m\u001b[38;5;241m.\u001b[39mbatch_percent, \u001b[38;5;28mself\u001b[39m\u001b[38;5;241m.\u001b[39mlearning_rate, \u001b[38;5;28mself\u001b[39m\u001b[38;5;241m.\u001b[39mweight_decay, \u001b[38;5;28mself\u001b[39m\u001b[38;5;241m.\u001b[39mseed)\n\u001b[0;32m--> 167\u001b[0m \u001b[38;5;28;43mself\u001b[39;49m\u001b[38;5;241;43m.\u001b[39;49m\u001b[43mncf\u001b[49m\u001b[38;5;241;43m.\u001b[39;49m\u001b[43mload\u001b[49m\u001b[43m(\u001b[49m\u001b[43mfolder_path\u001b[49m\u001b[43m,\u001b[49m\u001b[43m \u001b[49m\u001b[43mfile_name\u001b[49m\u001b[43m)\u001b[49m\n",
      "File \u001b[0;32m~/Desktop/Classes/2024 Spring/ML Projects/ml-projects-project/models/../models/ncf_singlenode.py:207\u001b[0m, in \u001b[0;36mNCF.load\u001b[0;34m(self, folder_path, file_name)\u001b[0m\n\u001b[1;32m    206\u001b[0m \u001b[38;5;28;01mdef\u001b[39;00m \u001b[38;5;21mload\u001b[39m(\u001b[38;5;28mself\u001b[39m, folder_path, file_name):\n\u001b[0;32m--> 207\u001b[0m     \u001b[38;5;28;43mself\u001b[39;49m\u001b[38;5;241;43m.\u001b[39;49m\u001b[43mload_state_dict\u001b[49m\u001b[43m(\u001b[49m\u001b[43mtorch\u001b[49m\u001b[38;5;241;43m.\u001b[39;49m\u001b[43mload\u001b[49m\u001b[43m(\u001b[49m\u001b[43mos\u001b[49m\u001b[38;5;241;43m.\u001b[39;49m\u001b[43mpath\u001b[49m\u001b[38;5;241;43m.\u001b[39;49m\u001b[43mjoin\u001b[49m\u001b[43m(\u001b[49m\u001b[43mfolder_path\u001b[49m\u001b[43m,\u001b[49m\u001b[43m \u001b[49m\u001b[43mSAVED_NN_PATH\u001b[49m\u001b[43m,\u001b[49m\u001b[43m \u001b[49m\u001b[43mfile_name\u001b[49m\u001b[43m \u001b[49m\u001b[38;5;241;43m+\u001b[39;49m\u001b[43m \u001b[49m\u001b[38;5;124;43m'\u001b[39;49m\u001b[38;5;124;43m.pth\u001b[39;49m\u001b[38;5;124;43m'\u001b[39;49m\u001b[43m)\u001b[49m\u001b[43m)\u001b[49m\u001b[43m)\u001b[49m\n",
      "File \u001b[0;32m~/.pyenv/versions/3.11.3/envs/ml_project_3.11.3/lib/python3.11/site-packages/torch/nn/modules/module.py:2153\u001b[0m, in \u001b[0;36mModule.load_state_dict\u001b[0;34m(self, state_dict, strict, assign)\u001b[0m\n\u001b[1;32m   2148\u001b[0m         error_msgs\u001b[38;5;241m.\u001b[39minsert(\n\u001b[1;32m   2149\u001b[0m             \u001b[38;5;241m0\u001b[39m, \u001b[38;5;124m'\u001b[39m\u001b[38;5;124mMissing key(s) in state_dict: \u001b[39m\u001b[38;5;132;01m{}\u001b[39;00m\u001b[38;5;124m. \u001b[39m\u001b[38;5;124m'\u001b[39m\u001b[38;5;241m.\u001b[39mformat(\n\u001b[1;32m   2150\u001b[0m                 \u001b[38;5;124m'\u001b[39m\u001b[38;5;124m, \u001b[39m\u001b[38;5;124m'\u001b[39m\u001b[38;5;241m.\u001b[39mjoin(\u001b[38;5;124mf\u001b[39m\u001b[38;5;124m'\u001b[39m\u001b[38;5;124m\"\u001b[39m\u001b[38;5;132;01m{\u001b[39;00mk\u001b[38;5;132;01m}\u001b[39;00m\u001b[38;5;124m\"\u001b[39m\u001b[38;5;124m'\u001b[39m \u001b[38;5;28;01mfor\u001b[39;00m k \u001b[38;5;129;01min\u001b[39;00m missing_keys)))\n\u001b[1;32m   2152\u001b[0m \u001b[38;5;28;01mif\u001b[39;00m \u001b[38;5;28mlen\u001b[39m(error_msgs) \u001b[38;5;241m>\u001b[39m \u001b[38;5;241m0\u001b[39m:\n\u001b[0;32m-> 2153\u001b[0m     \u001b[38;5;28;01mraise\u001b[39;00m \u001b[38;5;167;01mRuntimeError\u001b[39;00m(\u001b[38;5;124m'\u001b[39m\u001b[38;5;124mError(s) in loading state_dict for \u001b[39m\u001b[38;5;132;01m{}\u001b[39;00m\u001b[38;5;124m:\u001b[39m\u001b[38;5;130;01m\\n\u001b[39;00m\u001b[38;5;130;01m\\t\u001b[39;00m\u001b[38;5;132;01m{}\u001b[39;00m\u001b[38;5;124m'\u001b[39m\u001b[38;5;241m.\u001b[39mformat(\n\u001b[1;32m   2154\u001b[0m                        \u001b[38;5;28mself\u001b[39m\u001b[38;5;241m.\u001b[39m\u001b[38;5;18m__class__\u001b[39m\u001b[38;5;241m.\u001b[39m\u001b[38;5;18m__name__\u001b[39m, \u001b[38;5;124m\"\u001b[39m\u001b[38;5;130;01m\\n\u001b[39;00m\u001b[38;5;130;01m\\t\u001b[39;00m\u001b[38;5;124m\"\u001b[39m\u001b[38;5;241m.\u001b[39mjoin(error_msgs)))\n\u001b[1;32m   2155\u001b[0m \u001b[38;5;28;01mreturn\u001b[39;00m _IncompatibleKeys(missing_keys, unexpected_keys)\n",
      "\u001b[0;31mRuntimeError\u001b[0m: Error(s) in loading state_dict for NCF:\n\tMissing key(s) in state_dict: \"embedding_gcf_known_game.weight\", \"embedding_gcf_user_for_known_game.weight\". \n\tUnexpected key(s) in state_dict: \"embedding_mlp_user.weight\", \"embedding_mlp_game.weight\", \"mlp_layers.0.weight\", \"mlp_layers.0.bias\", \"mlp_layers.2.weight\", \"mlp_layers.2.bias\", \"mlp_layers.4.weight\", \"mlp_layers.4.bias\", \"ncf_fc.weight\", \"ncf_fc.bias\". "
     ]
    }
   ],
   "source": [
    "# data_loader = DataLoader.load_from_file('test_evaluation_data_loader_embed_all_except_tags', use_published_models_path=False, load_live_data_loader=True)\n",
    "model = NCFModel()\n",
    "model.load('evaluation_test_cf_low_weight_decay', load_published_model=False)\n",
    "model.set_data_loader(data_loader)"
   ]
  },
  {
   "cell_type": "code",
   "execution_count": null,
   "metadata": {},
   "outputs": [
    {
     "ename": "AttributeError",
     "evalue": "'NCFModel' object has no attribute 'ncf'",
     "output_type": "error",
     "traceback": [
      "\u001b[0;31m---------------------------------------------------------------------------\u001b[0m",
      "\u001b[0;31mAttributeError\u001b[0m                            Traceback (most recent call last)",
      "Cell \u001b[0;32mIn[10], line 5\u001b[0m\n\u001b[1;32m      1\u001b[0m \u001b[38;5;66;03m# test_user = 76561199048589805 # Only 1 game\u001b[39;00m\n\u001b[1;32m      2\u001b[0m \u001b[38;5;66;03m# test_user = 76561198835352289 # Only 4 games\u001b[39;00m\n\u001b[1;32m      3\u001b[0m \u001b[38;5;66;03m# test_user = 76561198880605436 # ~20 games\u001b[39;00m\n\u001b[1;32m      4\u001b[0m test_user \u001b[38;5;241m=\u001b[39m \u001b[38;5;241m76561199040442492\u001b[39m \u001b[38;5;66;03m# ~400 games\u001b[39;00m\n\u001b[0;32m----> 5\u001b[0m display(get_game_name_and_scores(data_loader, \u001b[43mmodel\u001b[49m\u001b[38;5;241;43m.\u001b[39;49m\u001b[43mscore_and_predict_n_games_for_user\u001b[49m\u001b[43m(\u001b[49m\u001b[43mtest_user\u001b[49m\u001b[43m)\u001b[49m[:\u001b[38;5;241m10\u001b[39m]))\n\u001b[1;32m      6\u001b[0m display(get_game_name_and_scores(data_loader, model\u001b[38;5;241m.\u001b[39mscore_and_predict_n_games_for_user(test_user)[\u001b[38;5;241m-\u001b[39m\u001b[38;5;241m10\u001b[39m:]))\n",
      "File \u001b[0;32m~/Desktop/Classes/2024 Spring/ML Projects/ml-projects-project/models/../models/ncf_model.py:113\u001b[0m, in \u001b[0;36mNCFModel.score_and_predict_n_games_for_user\u001b[0;34m(self, user, N, should_sort, games_to_include)\u001b[0m\n\u001b[1;32m    111\u001b[0m user_ii \u001b[38;5;241m=\u001b[39m \u001b[38;5;28mself\u001b[39m\u001b[38;5;241m.\u001b[39muser_to_index[user]\n\u001b[1;32m    112\u001b[0m game_indices \u001b[38;5;241m=\u001b[39m [\u001b[38;5;28mself\u001b[39m\u001b[38;5;241m.\u001b[39mgame_to_index[game] \u001b[38;5;28;01mfor\u001b[39;00m game \u001b[38;5;129;01min\u001b[39;00m \u001b[38;5;28mself\u001b[39m\u001b[38;5;241m.\u001b[39mgame_nodes \u001b[38;5;28;01mif\u001b[39;00m game \u001b[38;5;129;01mnot\u001b[39;00m \u001b[38;5;129;01min\u001b[39;00m games_to_filter_out]\n\u001b[0;32m--> 113\u001b[0m output \u001b[38;5;241m=\u001b[39m \u001b[38;5;28;43mself\u001b[39;49m\u001b[38;5;241;43m.\u001b[39;49m\u001b[43mncf\u001b[49m\u001b[38;5;241m.\u001b[39mpredict(torch\u001b[38;5;241m.\u001b[39mtensor([user_ii] \u001b[38;5;241m*\u001b[39m \u001b[38;5;28mlen\u001b[39m(game_indices)), torch\u001b[38;5;241m.\u001b[39mtensor(game_indices))\n\u001b[1;32m    114\u001b[0m scores \u001b[38;5;241m=\u001b[39m [(\u001b[38;5;28mself\u001b[39m\u001b[38;5;241m.\u001b[39mgame_nodes[game_ii], game_score) \u001b[38;5;28;01mfor\u001b[39;00m game_ii, game_score \u001b[38;5;129;01min\u001b[39;00m \u001b[38;5;28mzip\u001b[39m(game_indices, output)]\n\u001b[1;32m    115\u001b[0m \u001b[38;5;28;01mreturn\u001b[39;00m \u001b[38;5;28mself\u001b[39m\u001b[38;5;241m.\u001b[39mselect_scores(scores, N, should_sort, games_to_include\u001b[38;5;241m=\u001b[39mgames_to_include)\n",
      "\u001b[0;31mAttributeError\u001b[0m: 'NCFModel' object has no attribute 'ncf'"
     ]
    }
   ],
   "source": [
    "# test_user = 76561199048589805 # Only 1 game\n",
    "# test_user = 76561198835352289 # Only 4 games\n",
    "# test_user = 76561198880605436 # ~20 games\n",
    "test_user = 76561199040442492 # ~400 games\n",
    "display(get_game_name_and_scores(data_loader, model.score_and_predict_n_games_for_user(test_user)[:10]))\n",
    "display(get_game_name_and_scores(data_loader, model.score_and_predict_n_games_for_user(test_user)[-10:]))"
   ]
  },
  {
   "cell_type": "code",
   "execution_count": null,
   "metadata": {},
   "outputs": [],
   "source": []
  }
 ],
 "metadata": {
  "kernelspec": {
   "display_name": "ml_project",
   "language": "python",
   "name": "python3"
  },
  "language_info": {
   "codemirror_mode": {
    "name": "ipython",
    "version": 3
   },
   "file_extension": ".py",
   "mimetype": "text/x-python",
   "name": "python",
   "nbconvert_exporter": "python",
   "pygments_lexer": "ipython3",
   "version": "3.11.3"
  }
 },
 "nbformat": 4,
 "nbformat_minor": 2
}
