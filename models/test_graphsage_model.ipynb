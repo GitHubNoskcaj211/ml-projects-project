{
 "cells": [
  {
   "cell_type": "code",
   "execution_count": 1,
   "metadata": {},
   "outputs": [],
   "source": [
    "%load_ext autoreload\n",
    "%autoreload 2\n",
    "\n",
    "import sys\n",
    "import os\n",
    "sys.path.append(os.path.join(os.path.abspath(''), '../'))\n",
    "\n",
    "from models.graph_sage_model import GraphSAGE\n",
    "from pprint import pprint\n",
    "from dataset.data_loader import DataLoader, playtime_forever_users_games_edge_scoring_function\n",
    "\n",
    "import networkx as nx\n",
    "from torch_geometric.data import Data\n",
    "import torch\n",
    "from torch_geometric.nn import SAGEConv\n",
    "import pickle\n",
    "from utils.utils import get_game_name_and_scores"
   ]
  },
  {
   "cell_type": "code",
   "execution_count": 2,
   "metadata": {},
   "outputs": [],
   "source": [
    "%reload_ext autoreload"
   ]
  },
  {
   "cell_type": "markdown",
   "metadata": {},
   "source": []
  },
  {
   "cell_type": "code",
   "execution_count": 3,
   "metadata": {},
   "outputs": [],
   "source": [
    "data_loader = DataLoader(num_users_to_load_per_snowball=100, users_games_edge_scoring_function=playtime_forever_users_games_edge_scoring_function,\n",
    "    user_game_edge_embeddings=['playtime_forever'],\n",
    "    cache_local_dataset=True, game_embeddings=['name'])\n",
    "data_loader.load_random_edge_train_test_split(train_percentage=0.9, test_percentage=0.1, seed=0)\n"
   ]
  },
  {
   "cell_type": "code",
   "execution_count": 4,
   "metadata": {},
   "outputs": [
    {
     "name": "stdout",
     "output_type": "stream",
     "text": [
      "data type: <class 'torch_geometric.data.data.Data'>\n",
      "Has attribute 'x': True\n",
      "Has attribute 'edge_index': True\n"
     ]
    },
    {
     "name": "stderr",
     "output_type": "stream",
     "text": [
      "Training:   5%|▌         | 1/20 [00:00<00:02,  7.58it/s]"
     ]
    },
    {
     "name": "stdout",
     "output_type": "stream",
     "text": [
      "Epoch 1, Loss: 6354808.5\n"
     ]
    },
    {
     "name": "stderr",
     "output_type": "stream",
     "text": [
      "Training:  15%|█▌        | 3/20 [00:00<00:01, 11.99it/s]"
     ]
    },
    {
     "name": "stdout",
     "output_type": "stream",
     "text": [
      "Epoch 2, Loss: 3892047.0\n",
      "Epoch 3, Loss: 2110431.0\n",
      "Epoch 4, Loss: 1279763.625\n"
     ]
    },
    {
     "name": "stderr",
     "output_type": "stream",
     "text": [
      "Training:  25%|██▌       | 5/20 [00:00<00:01, 13.39it/s]"
     ]
    },
    {
     "name": "stdout",
     "output_type": "stream",
     "text": [
      "Epoch 5, Loss: 777057.25\n"
     ]
    },
    {
     "name": "stderr",
     "output_type": "stream",
     "text": [
      "Training:  35%|███▌      | 7/20 [00:00<00:00, 13.83it/s]"
     ]
    },
    {
     "name": "stdout",
     "output_type": "stream",
     "text": [
      "Epoch 6, Loss: 485317.96875\n",
      "Epoch 7, Loss: 342603.4375\n"
     ]
    },
    {
     "name": "stderr",
     "output_type": "stream",
     "text": [
      "Training:  45%|████▌     | 9/20 [00:00<00:00, 14.32it/s]"
     ]
    },
    {
     "name": "stdout",
     "output_type": "stream",
     "text": [
      "Epoch 8, Loss: 262241.46875\n",
      "Epoch 9, Loss: 207443.8125\n"
     ]
    },
    {
     "name": "stderr",
     "output_type": "stream",
     "text": [
      "Training:  55%|█████▌    | 11/20 [00:00<00:00, 14.69it/s]"
     ]
    },
    {
     "name": "stdout",
     "output_type": "stream",
     "text": [
      "Epoch 10, Loss: 162197.859375\n",
      "Epoch 11, Loss: 102988.953125\n"
     ]
    },
    {
     "name": "stderr",
     "output_type": "stream",
     "text": [
      "Training:  65%|██████▌   | 13/20 [00:00<00:00, 14.75it/s]"
     ]
    },
    {
     "name": "stdout",
     "output_type": "stream",
     "text": [
      "Epoch 12, Loss: 100367.8828125\n",
      "Epoch 13, Loss: 48763.77734375\n",
      "Epoch 14, Loss: 42175.265625\n",
      "Epoch 15, Loss: 40194.2734375\n"
     ]
    },
    {
     "name": "stderr",
     "output_type": "stream",
     "text": [
      "Training:  85%|████████▌ | 17/20 [00:01<00:00, 14.86it/s]"
     ]
    },
    {
     "name": "stdout",
     "output_type": "stream",
     "text": [
      "Epoch 16, Loss: 35703.01953125\n",
      "Epoch 17, Loss: 31627.6875\n"
     ]
    },
    {
     "name": "stderr",
     "output_type": "stream",
     "text": [
      "Training:  95%|█████████▌| 19/20 [00:01<00:00, 14.87it/s]"
     ]
    },
    {
     "name": "stdout",
     "output_type": "stream",
     "text": [
      "Epoch 18, Loss: 30302.974609375\n",
      "Epoch 19, Loss: 32548.53515625\n"
     ]
    },
    {
     "name": "stderr",
     "output_type": "stream",
     "text": [
      "Training: 100%|██████████| 20/20 [00:01<00:00, 14.25it/s]"
     ]
    },
    {
     "name": "stdout",
     "output_type": "stream",
     "text": [
      "Epoch 20, Loss: 28311.337890625\n"
     ]
    },
    {
     "name": "stderr",
     "output_type": "stream",
     "text": [
      "\n"
     ]
    }
   ],
   "source": [
    "model = GraphSAGE(\n",
    "    hidden_channels=[32, 64],  \n",
    "    out_channels=16,\n",
    "    num_epochs=20,\n",
    "    learning_rate=0.01,\n",
    "    regularization=0.05,\n",
    ")\n",
    "model.set_data_loader(data_loader)\n",
    "model.train(debug=True)"
   ]
  },
  {
   "cell_type": "markdown",
   "metadata": {},
   "source": [
    "data type: <class 'torch_geometric.data.data.Data'>\n",
    "Has attribute 'x': True\n",
    "Has attribute 'edge_index': True\n",
    "Training:   5%|▌         | 1/20 [00:00<00:02,  6.99it/s]\n",
    "Epoch 1, Loss: 18047834.0\n",
    "Training:  15%|█▌        | 3/20 [00:00<00:01, 11.37it/s]\n",
    "Epoch 2, Loss: 4815518.5\n",
    "Epoch 3, Loss: 5071389.5\n",
    "Epoch 4, Loss: 3201092.75\n",
    "Training:  35%|███▌      | 7/20 [00:00<00:00, 13.71it/s]\n",
    "Epoch 5, Loss: 1596401.0\n",
    "Epoch 6, Loss: 841058.0625\n",
    "Epoch 7, Loss: 620717.75\n",
    "Epoch 8, Loss: 638641.875\n",
    "Training:  55%|█████▌    | 11/20 [00:00<00:00, 14.52it/s]\n",
    "Epoch 9, Loss: 659672.5625\n",
    "Epoch 10, Loss: 588424.0625\n",
    "Epoch 11, Loss: 474537.8125\n",
    "Epoch 12, Loss: 350486.40625\n",
    "Training:  65%|██████▌   | 13/20 [00:00<00:00, 14.71it/s]\n",
    "Epoch 13, Loss: 252027.6875\n",
    "Epoch 14, Loss: 181133.03125\n",
    "Epoch 15, Loss: 132815.53125\n",
    "Training:  85%|████████▌ | 17/20 [00:01<00:00, 14.71it/s]\n",
    "Epoch 16, Loss: 104779.5625\n",
    "Epoch 17, Loss: 87343.40625\n",
    "Epoch 18, Loss: 76035.265625\n",
    "Training: 100%|██████████| 20/20 [00:01<00:00, 14.09it/s]\n",
    "Epoch 19, Loss: 64829.96484375\n",
    "Epoch 20, Loss: 54301.30859375"
   ]
  },
  {
   "cell_type": "code",
   "execution_count": 5,
   "metadata": {},
   "outputs": [],
   "source": [
    "# # Assuming 'data' is your PyTorch Geometric Data object\n",
    "# score = model.get_score_between_user_and_game(730, 76561199045179546, data)\n",
    "# print(score)"
   ]
  },
  {
   "cell_type": "code",
   "execution_count": 6,
   "metadata": {},
   "outputs": [
    {
     "data": {
      "text/html": [
       "<div>\n",
       "<style scoped>\n",
       "    .dataframe tbody tr th:only-of-type {\n",
       "        vertical-align: middle;\n",
       "    }\n",
       "\n",
       "    .dataframe tbody tr th {\n",
       "        vertical-align: top;\n",
       "    }\n",
       "\n",
       "    .dataframe thead th {\n",
       "        text-align: right;\n",
       "    }\n",
       "</style>\n",
       "<table border=\"1\" class=\"dataframe\">\n",
       "  <thead>\n",
       "    <tr style=\"text-align: right;\">\n",
       "      <th></th>\n",
       "      <th>id</th>\n",
       "      <th>name</th>\n",
       "      <th>score</th>\n",
       "    </tr>\n",
       "  </thead>\n",
       "  <tbody>\n",
       "    <tr>\n",
       "      <th>0</th>\n",
       "      <td>393200</td>\n",
       "      <td>Bad Rats Show</td>\n",
       "      <td>120380.390625</td>\n",
       "    </tr>\n",
       "    <tr>\n",
       "      <th>1</th>\n",
       "      <td>654990</td>\n",
       "      <td>Dude Simulator</td>\n",
       "      <td>120001.710938</td>\n",
       "    </tr>\n",
       "    <tr>\n",
       "      <th>2</th>\n",
       "      <td>655250</td>\n",
       "      <td>Insectophobia : Episode 1</td>\n",
       "      <td>119987.375000</td>\n",
       "    </tr>\n",
       "    <tr>\n",
       "      <th>3</th>\n",
       "      <td>523660</td>\n",
       "      <td>HYPERCHARGE: Unboxed</td>\n",
       "      <td>119652.554688</td>\n",
       "    </tr>\n",
       "    <tr>\n",
       "      <th>4</th>\n",
       "      <td>392780</td>\n",
       "      <td>Mondrian - Abstraction in Beauty</td>\n",
       "      <td>119605.234375</td>\n",
       "    </tr>\n",
       "    <tr>\n",
       "      <th>5</th>\n",
       "      <td>654820</td>\n",
       "      <td>Akin Vol 2</td>\n",
       "      <td>119574.937500</td>\n",
       "    </tr>\n",
       "    <tr>\n",
       "      <th>6</th>\n",
       "      <td>261740</td>\n",
       "      <td>Humans Must Answer</td>\n",
       "      <td>119316.179688</td>\n",
       "    </tr>\n",
       "    <tr>\n",
       "      <th>7</th>\n",
       "      <td>392120</td>\n",
       "      <td>City Z</td>\n",
       "      <td>119104.226562</td>\n",
       "    </tr>\n",
       "    <tr>\n",
       "      <th>8</th>\n",
       "      <td>392000</td>\n",
       "      <td>TRON RUN/r</td>\n",
       "      <td>118547.328125</td>\n",
       "    </tr>\n",
       "    <tr>\n",
       "      <th>9</th>\n",
       "      <td>391410</td>\n",
       "      <td>Rock, the Tree Hugger</td>\n",
       "      <td>118397.578125</td>\n",
       "    </tr>\n",
       "  </tbody>\n",
       "</table>\n",
       "</div>"
      ],
      "text/plain": [
       "       id                              name          score\n",
       "0  393200                     Bad Rats Show  120380.390625\n",
       "1  654990                    Dude Simulator  120001.710938\n",
       "2  655250         Insectophobia : Episode 1  119987.375000\n",
       "3  523660              HYPERCHARGE: Unboxed  119652.554688\n",
       "4  392780  Mondrian - Abstraction in Beauty  119605.234375\n",
       "5  654820                        Akin Vol 2  119574.937500\n",
       "6  261740                Humans Must Answer  119316.179688\n",
       "7  392120                            City Z  119104.226562\n",
       "8  392000                        TRON RUN/r  118547.328125\n",
       "9  391410             Rock, the Tree Hugger  118397.578125"
      ]
     },
     "metadata": {},
     "output_type": "display_data"
    }
   ],
   "source": [
    "display(get_game_name_and_scores(data_loader, model.score_and_predict_n_games_for_user(76561198835352289)[:10]))\n"
   ]
  },
  {
   "cell_type": "markdown",
   "metadata": {},
   "source": []
  },
  {
   "cell_type": "code",
   "execution_count": null,
   "metadata": {},
   "outputs": [],
   "source": []
  }
 ],
 "metadata": {
  "kernelspec": {
   "display_name": "Python 3",
   "language": "python",
   "name": "python3"
  },
  "language_info": {
   "codemirror_mode": {
    "name": "ipython",
    "version": 3
   },
   "file_extension": ".py",
   "mimetype": "text/x-python",
   "name": "python",
   "nbconvert_exporter": "python",
   "pygments_lexer": "ipython3",
   "version": "3.11.3"
  }
 },
 "nbformat": 4,
 "nbformat_minor": 2
}
