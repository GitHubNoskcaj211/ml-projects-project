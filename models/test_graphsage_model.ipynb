{
 "cells": [
  {
   "cell_type": "code",
   "execution_count": 3,
   "metadata": {},
   "outputs": [
    {
     "name": "stdout",
     "output_type": "stream",
     "text": [
      "The autoreload extension is already loaded. To reload it, use:\n",
      "  %reload_ext autoreload\n"
     ]
    },
    {
     "name": "stderr",
     "output_type": "stream",
     "text": [
      "c:\\Users\\Jeffrey\\AppData\\Local\\Programs\\Python\\Python312\\Lib\\site-packages\\tqdm\\auto.py:21: TqdmWarning: IProgress not found. Please update jupyter and ipywidgets. See https://ipywidgets.readthedocs.io/en/stable/user_install.html\n",
      "  from .autonotebook import tqdm as notebook_tqdm\n"
     ]
    }
   ],
   "source": [
    "%load_ext autoreload\n",
    "%autoreload 2\n",
    "\n",
    "import sys\n",
    "import os\n",
    "sys.path.append(os.path.join(os.path.abspath(''), '../'))\n",
    "\n",
    "from models.graph_sage_model import GraphSAGE\n",
    "from pprint import pprint\n",
    "from dataset.data_loader import DataLoader, playtime_forever_users_games_edge_scoring_function\n",
    "\n",
    "import networkx as nx\n",
    "from torch_geometric.data import Data\n",
    "import torch\n",
    "from torch_geometric.nn import SAGEConv\n",
    "import pickle\n",
    "from utils.utils import get_game_name_and_scores"
   ]
  },
  {
   "cell_type": "code",
   "execution_count": 4,
   "metadata": {},
   "outputs": [],
   "source": [
    "%reload_ext autoreload"
   ]
  },
  {
   "cell_type": "markdown",
   "metadata": {},
   "source": []
  },
  {
   "cell_type": "code",
   "execution_count": 5,
   "metadata": {},
   "outputs": [],
   "source": [
    "data_loader = DataLoader(\n",
    "    users_games_edge_scoring_function=playtime_forever_users_games_edge_scoring_function,\n",
    "    user_game_edge_embeddings=['playtime_forever'],\n",
    "    cache_local_dataset=True)\n",
    "data_loader.load_random_edge_train_test_split(train_percentage=0.9, test_percentage=0.1, seed=0)\n"
   ]
  },
  {
   "cell_type": "code",
   "execution_count": null,
   "metadata": {},
   "outputs": [],
   "source": [
    "# data_loader.save_data_loader_parameters('test_graphsage_default_data_loader', overwrite=True)\n",
    "print(data_loader.users_games_df)"
   ]
  },
  {
   "cell_type": "code",
   "execution_count": null,
   "metadata": {},
   "outputs": [],
   "source": [
    "# # Making NetworkX Graph\n",
    "\n",
    "# G = nx.Graph()\n",
    "# for index, row in data_loader.users_games_df.iterrows():\n",
    "#     G.add_node(row['user_id'], node_type='user')\n",
    "#     G.add_node(row['game_id'], node_type='game')\n",
    "#     G.add_edge(row['user_id'], row['game_id'], playtime=row['playtime_forever'])"
   ]
  },
  {
   "cell_type": "code",
   "execution_count": null,
   "metadata": {},
   "outputs": [],
   "source": [
    "# import pickle\n",
    "# nx.write_gpickle(G, '/content/drive/MyDrive/my_graph.gpickle')\n",
    "\n",
    "# with open('my_graph.pkl', 'wb') as f:\n",
    "#     pickle.dump(G, f)"
   ]
  },
  {
   "cell_type": "code",
   "execution_count": 6,
   "metadata": {},
   "outputs": [
    {
     "data": {
      "text/plain": [
       "<networkx.classes.graph.Graph at 0x1dcc2715250>"
      ]
     },
     "execution_count": 6,
     "metadata": {},
     "output_type": "execute_result"
    }
   ],
   "source": [
    "with open('my_graph.pkl', 'rb') as f:\n",
    "    loaded_G = pickle.load(f)\n",
    "\n",
    "# print(nx.is_isomorphic(G, loaded_G))\n",
    "loaded_G"
   ]
  },
  {
   "cell_type": "code",
   "execution_count": null,
   "metadata": {},
   "outputs": [],
   "source": [
    "len(list(loaded_G.edges))"
   ]
  },
  {
   "cell_type": "code",
   "execution_count": 7,
   "metadata": {},
   "outputs": [],
   "source": [
    "edges = list(loaded_G.edges())[:1000]  \n",
    "user_ids = list(set([edge[0] for edge in edges]))\n",
    "game_ids = list(set([edge[1] for edge in edges]))"
   ]
  },
  {
   "cell_type": "code",
   "execution_count": null,
   "metadata": {},
   "outputs": [],
   "source": [
    "# node_ids = list(set(user_ids + game_ids))\n",
    "# print(\"Total unique nodes:\", len(node_ids))\n",
    "# print(\"User IDs in node_ids:\", all(user_id in node_ids for user_id in user_ids))\n"
   ]
  },
  {
   "cell_type": "code",
   "execution_count": 8,
   "metadata": {},
   "outputs": [],
   "source": [
    "# Combine user and game IDs into a single list of unique node IDs\n",
    "node_ids = list(set(user_ids + game_ids))\n",
    "\n",
    "# Create the edge index data using the combined node IDs\n",
    "edge_index_data = [(node_ids.index(edge[0]), node_ids.index(edge[1])) for edge in edges]\n",
    "\n",
    "# Convert the edge index list to a tensor\n",
    "edge_index = torch.tensor(edge_index_data, dtype=torch.long).t().contiguous()\n",
    "\n",
    "# Create the feature matrix x with a feature for each node in the combined list\n",
    "x = torch.arange(len(node_ids), dtype=torch.float).view(-1, 1)\n",
    "\n",
    "# Create the PyTorch Geometric Data object\n",
    "data = Data(x=x, edge_index=edge_index)\n",
    "\n"
   ]
  },
  {
   "cell_type": "code",
   "execution_count": null,
   "metadata": {},
   "outputs": [],
   "source": [
    "user_ids"
   ]
  },
  {
   "cell_type": "markdown",
   "metadata": {},
   "source": []
  },
  {
   "cell_type": "code",
   "execution_count": null,
   "metadata": {},
   "outputs": [],
   "source": [
    "# edge_index = torch.tensor(data_loader.users_games_df[['user_id', 'game_id']].values.T, dtype=torch.long)\n",
    "# num_nodes = max(data_loader.users_games_df['user_id'].max(), data_loader.users_games_df['game_id'].max()) + 1\n",
    "# num_features = 10 \n",
    "# x = torch.rand((num_nodes, num_features), dtype=torch.float)\n",
    "\n",
    "# data = Data(x=x, edge_index=edge_index)\n"
   ]
  },
  {
   "cell_type": "code",
   "execution_count": 15,
   "metadata": {},
   "outputs": [
    {
     "name": "stdout",
     "output_type": "stream",
     "text": [
      "data type: <class 'torch_geometric.data.data.Data'>\n",
      "Has attribute 'x': True\n",
      "Has attribute 'edge_index': True\n",
      "Input x shape: torch.Size([1001, 1])\n",
      "Input edge_index shape: torch.Size([2, 1000])\n",
      "Shape after layer 0: torch.Size([1001, 32])\n",
      "Shape after layer 1: torch.Size([1001, 64])\n",
      "Output shape: torch.Size([1001, 16])\n",
      "Epoch 1, Loss: 2896.034912109375\n",
      "Input x shape: torch.Size([1001, 1])\n",
      "Input edge_index shape: torch.Size([2, 1000])\n",
      "Shape after layer 0: torch.Size([1001, 32])\n",
      "Shape after layer 1: torch.Size([1001, 64])\n",
      "Output shape: torch.Size([1001, 16])\n",
      "Epoch 2, Loss: 1045.2039794921875\n",
      "Input x shape: torch.Size([1001, 1])\n",
      "Input edge_index shape: torch.Size([2, 1000])\n",
      "Shape after layer 0: torch.Size([1001, 32])\n",
      "Shape after layer 1: torch.Size([1001, 64])\n",
      "Output shape: torch.Size([1001, 16])\n",
      "Epoch 3, Loss: 981.011962890625\n",
      "Input x shape: torch.Size([1001, 1])\n",
      "Input edge_index shape: torch.Size([2, 1000])\n",
      "Shape after layer 0: torch.Size([1001, 32])\n",
      "Shape after layer 1: torch.Size([1001, 64])\n",
      "Output shape: torch.Size([1001, 16])\n",
      "Epoch 4, Loss: 473.6402282714844\n",
      "Input x shape: torch.Size([1001, 1])\n",
      "Input edge_index shape: torch.Size([2, 1000])\n",
      "Shape after layer 0: torch.Size([1001, 32])\n",
      "Shape after layer 1: torch.Size([1001, 64])\n",
      "Output shape: torch.Size([1001, 16])\n",
      "Epoch 5, Loss: 227.6798553466797\n",
      "Input x shape: torch.Size([1001, 1])\n",
      "Input edge_index shape: torch.Size([2, 1000])\n",
      "Shape after layer 0: torch.Size([1001, 32])\n",
      "Shape after layer 1: torch.Size([1001, 64])\n",
      "Output shape: torch.Size([1001, 16])\n",
      "Epoch 6, Loss: 202.72116088867188\n",
      "Input x shape: torch.Size([1001, 1])\n",
      "Input edge_index shape: torch.Size([2, 1000])\n",
      "Shape after layer 0: torch.Size([1001, 32])\n",
      "Shape after layer 1: torch.Size([1001, 64])\n",
      "Output shape: torch.Size([1001, 16])\n",
      "Epoch 7, Loss: 211.13197326660156\n",
      "Input x shape: torch.Size([1001, 1])\n",
      "Input edge_index shape: torch.Size([2, 1000])\n",
      "Shape after layer 0: torch.Size([1001, 32])\n",
      "Shape after layer 1: torch.Size([1001, 64])\n",
      "Output shape: torch.Size([1001, 16])\n",
      "Epoch 8, Loss: 179.2031707763672\n",
      "Input x shape: torch.Size([1001, 1])\n",
      "Input edge_index shape: torch.Size([2, 1000])\n",
      "Shape after layer 0: torch.Size([1001, 32])\n",
      "Shape after layer 1: torch.Size([1001, 64])\n",
      "Output shape: torch.Size([1001, 16])\n",
      "Epoch 9, Loss: 134.41043090820312\n",
      "Input x shape: torch.Size([1001, 1])\n",
      "Input edge_index shape: torch.Size([2, 1000])\n",
      "Shape after layer 0: torch.Size([1001, 32])\n",
      "Shape after layer 1: torch.Size([1001, 64])\n",
      "Output shape: torch.Size([1001, 16])\n",
      "Epoch 10, Loss: 93.94463348388672\n",
      "Input x shape: torch.Size([1001, 1])\n",
      "Input edge_index shape: torch.Size([2, 1000])\n",
      "Shape after layer 0: torch.Size([1001, 32])\n",
      "Shape after layer 1: torch.Size([1001, 64])\n",
      "Output shape: torch.Size([1001, 16])\n",
      "Epoch 11, Loss: 63.71488571166992\n",
      "Input x shape: torch.Size([1001, 1])\n",
      "Input edge_index shape: torch.Size([2, 1000])\n",
      "Shape after layer 0: torch.Size([1001, 32])\n",
      "Shape after layer 1: torch.Size([1001, 64])\n",
      "Output shape: torch.Size([1001, 16])\n",
      "Epoch 12, Loss: 46.071529388427734\n",
      "Input x shape: torch.Size([1001, 1])\n",
      "Input edge_index shape: torch.Size([2, 1000])\n",
      "Shape after layer 0: torch.Size([1001, 32])\n",
      "Shape after layer 1: torch.Size([1001, 64])\n",
      "Output shape: torch.Size([1001, 16])\n",
      "Epoch 13, Loss: 35.44075012207031\n",
      "Input x shape: torch.Size([1001, 1])\n",
      "Input edge_index shape: torch.Size([2, 1000])\n",
      "Shape after layer 0: torch.Size([1001, 32])\n",
      "Shape after layer 1: torch.Size([1001, 64])\n",
      "Output shape: torch.Size([1001, 16])\n",
      "Epoch 14, Loss: 27.874723434448242\n",
      "Input x shape: torch.Size([1001, 1])\n",
      "Input edge_index shape: torch.Size([2, 1000])\n",
      "Shape after layer 0: torch.Size([1001, 32])\n",
      "Shape after layer 1: torch.Size([1001, 64])\n",
      "Output shape: torch.Size([1001, 16])\n",
      "Epoch 15, Loss: 22.456857681274414\n",
      "Input x shape: torch.Size([1001, 1])\n",
      "Input edge_index shape: torch.Size([2, 1000])\n",
      "Shape after layer 0: torch.Size([1001, 32])\n",
      "Shape after layer 1: torch.Size([1001, 64])\n",
      "Output shape: torch.Size([1001, 16])\n",
      "Epoch 16, Loss: 16.6068172454834\n",
      "Input x shape: torch.Size([1001, 1])\n",
      "Input edge_index shape: torch.Size([2, 1000])\n",
      "Shape after layer 0: torch.Size([1001, 32])\n",
      "Shape after layer 1: torch.Size([1001, 64])\n",
      "Output shape: torch.Size([1001, 16])\n",
      "Epoch 17, Loss: 12.149792671203613\n",
      "Input x shape: torch.Size([1001, 1])\n",
      "Input edge_index shape: torch.Size([2, 1000])\n",
      "Shape after layer 0: torch.Size([1001, 32])\n",
      "Shape after layer 1: torch.Size([1001, 64])\n",
      "Output shape: torch.Size([1001, 16])\n",
      "Epoch 18, Loss: 8.930527687072754\n",
      "Input x shape: torch.Size([1001, 1])\n",
      "Input edge_index shape: torch.Size([2, 1000])\n",
      "Shape after layer 0: torch.Size([1001, 32])\n",
      "Shape after layer 1: torch.Size([1001, 64])\n",
      "Output shape: torch.Size([1001, 16])\n",
      "Epoch 19, Loss: 6.561235427856445\n",
      "Input x shape: torch.Size([1001, 1])\n",
      "Input edge_index shape: torch.Size([2, 1000])\n",
      "Shape after layer 0: torch.Size([1001, 32])\n",
      "Shape after layer 1: torch.Size([1001, 64])\n",
      "Output shape: torch.Size([1001, 16])\n",
      "Epoch 20, Loss: 4.802882671356201\n"
     ]
    }
   ],
   "source": [
    "model = GraphSAGE(\n",
    "    in_channels=data.x.size(1),\n",
    "    hidden_channels=[32, 64],  \n",
    "    out_channels=16,\n",
    "    num_epochs=20,\n",
    "    learning_rate=0.01,\n",
    "    regularization=0.05,\n",
    ")\n",
    "\n",
    "# user_ids = data_loader.users_games_df['user_id'].unique().tolist()\n",
    "# game_ids = data_loader.users_games_df['game_id'].unique().tolist()\n",
    "\n",
    "model.train(data, user_ids, game_ids, debug=True)"
   ]
  },
  {
   "cell_type": "code",
   "execution_count": null,
   "metadata": {},
   "outputs": [],
   "source": [
    "print(data)"
   ]
  },
  {
   "cell_type": "markdown",
   "metadata": {},
   "source": []
  },
  {
   "cell_type": "code",
   "execution_count": null,
   "metadata": {},
   "outputs": [],
   "source": [
    "# Assuming 'data' is your PyTorch Geometric Data object\n",
    "score = model.get_score_between_user_and_game(730, 76561199045179546, data)\n",
    "print(score)"
   ]
  },
  {
   "cell_type": "code",
   "execution_count": 16,
   "metadata": {},
   "outputs": [
    {
     "name": "stdout",
     "output_type": "stream",
     "text": [
      "Input x shape: torch.Size([1001, 1])\n",
      "Input edge_index shape: torch.Size([2, 1000])\n",
      "Shape after layer 0: torch.Size([1001, 32])\n",
      "Shape after layer 1: torch.Size([1001, 64])\n",
      "Output shape: torch.Size([1001, 16])\n",
      "[(1172470, 10.265390396118164), (76561199197087868, 6.271185874938965), (76561199040442492, 6.239022731781006), (76561199508379772, 6.214553356170654), (76561198873487488, 6.181817531585693), (76561198368774268, 6.157919883728027), (76561199030186110, 6.124604225158691), (76561198172729467, 6.101285934448242), (76561198371721346, 6.067393779754639), (76561198805241978, 6.044651508331299)]\n"
     ]
    }
   ],
   "source": [
    "top_10_games = model.score_and_predict_n_games_for_user(76561198835352289, N=10)\n",
    "print(top_10_games)\n"
   ]
  },
  {
   "cell_type": "code",
   "execution_count": null,
   "metadata": {},
   "outputs": [],
   "source": []
  }
 ],
 "metadata": {
  "kernelspec": {
   "display_name": "Python 3",
   "language": "python",
   "name": "python3"
  },
  "language_info": {
   "codemirror_mode": {
    "name": "ipython",
    "version": 3
   },
   "file_extension": ".py",
   "mimetype": "text/x-python",
   "name": "python",
   "nbconvert_exporter": "python",
   "pygments_lexer": "ipython3",
   "version": "3.12.2"
  }
 },
 "nbformat": 4,
 "nbformat_minor": 2
}
