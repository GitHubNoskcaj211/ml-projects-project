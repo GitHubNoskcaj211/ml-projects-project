{
 "cells": [
  {
   "cell_type": "code",
   "execution_count": 60,
   "metadata": {},
   "outputs": [
    {
     "name": "stdout",
     "output_type": "stream",
     "text": [
      "The autoreload extension is already loaded. To reload it, use:\n",
      "  %reload_ext autoreload\n"
     ]
    }
   ],
   "source": [
    "%load_ext autoreload\n",
    "%autoreload 2\n",
    "\n",
    "import sys\n",
    "import os\n",
    "sys.path.append(os.path.join(os.path.abspath(''), '../'))\n",
    "\n",
    "from models.graph_sage_model import GraphSAGE\n",
    "from pprint import pprint\n",
    "from dataset.data_loader import DataLoader, playtime_forever_users_games_edge_scoring_function\n",
    "\n",
    "import networkx as nx\n",
    "from torch_geometric.data import Data\n",
    "import torch\n",
    "from torch_geometric.nn import SAGEConv\n",
    "import pickle\n",
    "from utils.utils import get_game_name_and_scores"
   ]
  },
  {
   "cell_type": "code",
   "execution_count": 69,
   "metadata": {},
   "outputs": [],
   "source": [
    "%reload_ext autoreload"
   ]
  },
  {
   "cell_type": "markdown",
   "metadata": {},
   "source": []
  },
  {
   "cell_type": "code",
   "execution_count": 3,
   "metadata": {},
   "outputs": [],
   "source": [
    "data_loader = DataLoader(num_users_to_load_per_snowball=100, users_games_edge_scoring_function=playtime_forever_users_games_edge_scoring_function,\n",
    "    user_game_edge_embeddings=['playtime_forever'],\n",
    "    cache_local_dataset=True, game_embeddings=['name'])\n",
    "data_loader.load_random_edge_train_test_split(train_percentage=0.9, test_percentage=0.1, seed=0)\n"
   ]
  },
  {
   "cell_type": "code",
   "execution_count": 63,
   "metadata": {},
   "outputs": [],
   "source": [
    "model = GraphSAGE(\n",
    "    hidden_channels=[32, 64],  \n",
    "    out_channels=16,\n",
    ")\n",
    "model.set_data_loader(data_loader)\n",
    "model.new_seed(123)"
   ]
  },
  {
   "cell_type": "code",
   "execution_count": 83,
   "metadata": {},
   "outputs": [
    {
     "name": "stderr",
     "output_type": "stream",
     "text": [
      "Training:  42%|████▏     | 42/100 [00:05<00:07,  7.40it/s]"
     ]
    },
    {
     "name": "stdout",
     "output_type": "stream",
     "text": [
      "Stopping early at epoch 43 epochs with minimal loss improvement.\n"
     ]
    },
    {
     "name": "stderr",
     "output_type": "stream",
     "text": [
      "\n"
     ]
    }
   ],
   "source": [
    "model.train(debug=False)"
   ]
  },
  {
   "cell_type": "code",
   "execution_count": 49,
   "metadata": {},
   "outputs": [],
   "source": [
    "# # Assuming 'data' is your PyTorch Geometric Data object\n",
    "# score = model.get_score_between_user_and_game(730, 76561199045179546, data)\n",
    "# print(score)"
   ]
  },
  {
   "cell_type": "code",
   "execution_count": 84,
   "metadata": {},
   "outputs": [
    {
     "data": {
      "text/html": [
       "<div>\n",
       "<style scoped>\n",
       "    .dataframe tbody tr th:only-of-type {\n",
       "        vertical-align: middle;\n",
       "    }\n",
       "\n",
       "    .dataframe tbody tr th {\n",
       "        vertical-align: top;\n",
       "    }\n",
       "\n",
       "    .dataframe thead th {\n",
       "        text-align: right;\n",
       "    }\n",
       "</style>\n",
       "<table border=\"1\" class=\"dataframe\">\n",
       "  <thead>\n",
       "    <tr style=\"text-align: right;\">\n",
       "      <th></th>\n",
       "      <th>id</th>\n",
       "      <th>name</th>\n",
       "      <th>score</th>\n",
       "    </tr>\n",
       "  </thead>\n",
       "  <tbody>\n",
       "    <tr>\n",
       "      <th>0</th>\n",
       "      <td>655360</td>\n",
       "      <td>Aftermath Y2K</td>\n",
       "      <td>0.140033</td>\n",
       "    </tr>\n",
       "    <tr>\n",
       "      <th>1</th>\n",
       "      <td>655380</td>\n",
       "      <td>Dig Dog</td>\n",
       "      <td>0.130901</td>\n",
       "    </tr>\n",
       "    <tr>\n",
       "      <th>2</th>\n",
       "      <td>2097180</td>\n",
       "      <td>OxU</td>\n",
       "      <td>0.130765</td>\n",
       "    </tr>\n",
       "    <tr>\n",
       "      <th>3</th>\n",
       "      <td>786470</td>\n",
       "      <td>Border closure 边境封闭</td>\n",
       "      <td>0.130421</td>\n",
       "    </tr>\n",
       "    <tr>\n",
       "      <th>4</th>\n",
       "      <td>655370</td>\n",
       "      <td>Train Bandit</td>\n",
       "      <td>0.130105</td>\n",
       "    </tr>\n",
       "    <tr>\n",
       "      <th>5</th>\n",
       "      <td>262190</td>\n",
       "      <td>Zombeer</td>\n",
       "      <td>0.130078</td>\n",
       "    </tr>\n",
       "    <tr>\n",
       "      <th>6</th>\n",
       "      <td>1966130</td>\n",
       "      <td>Strategic Command: American Civil War</td>\n",
       "      <td>0.129564</td>\n",
       "    </tr>\n",
       "    <tr>\n",
       "      <th>7</th>\n",
       "      <td>655420</td>\n",
       "      <td>Simple RTS</td>\n",
       "      <td>0.129050</td>\n",
       "    </tr>\n",
       "    <tr>\n",
       "      <th>8</th>\n",
       "      <td>524350</td>\n",
       "      <td>TileDynasty FPS Arena</td>\n",
       "      <td>0.128879</td>\n",
       "    </tr>\n",
       "    <tr>\n",
       "      <th>9</th>\n",
       "      <td>655430</td>\n",
       "      <td>Tiger Hunt</td>\n",
       "      <td>0.128365</td>\n",
       "    </tr>\n",
       "    <tr>\n",
       "      <th>10</th>\n",
       "      <td>393290</td>\n",
       "      <td>Motorhead</td>\n",
       "      <td>0.128194</td>\n",
       "    </tr>\n",
       "    <tr>\n",
       "      <th>11</th>\n",
       "      <td>786510</td>\n",
       "      <td>Oracle of Forgotten Testament</td>\n",
       "      <td>0.128022</td>\n",
       "    </tr>\n",
       "    <tr>\n",
       "      <th>12</th>\n",
       "      <td>2097230</td>\n",
       "      <td>Turnip Boy Robs a Bank</td>\n",
       "      <td>0.127851</td>\n",
       "    </tr>\n",
       "    <tr>\n",
       "      <th>13</th>\n",
       "      <td>655440</td>\n",
       "      <td>Panzer Killer</td>\n",
       "      <td>0.127509</td>\n",
       "    </tr>\n",
       "    <tr>\n",
       "      <th>14</th>\n",
       "      <td>862300</td>\n",
       "      <td>ROS</td>\n",
       "      <td>0.126936</td>\n",
       "    </tr>\n",
       "    <tr>\n",
       "      <th>15</th>\n",
       "      <td>663300</td>\n",
       "      <td>Enlightenment</td>\n",
       "      <td>0.126936</td>\n",
       "    </tr>\n",
       "    <tr>\n",
       "      <th>16</th>\n",
       "      <td>1081450</td>\n",
       "      <td>Criminal Dissidia</td>\n",
       "      <td>0.126936</td>\n",
       "    </tr>\n",
       "    <tr>\n",
       "      <th>17</th>\n",
       "      <td>570980</td>\n",
       "      <td>Tale of Fallen Dragons</td>\n",
       "      <td>0.126936</td>\n",
       "    </tr>\n",
       "    <tr>\n",
       "      <th>18</th>\n",
       "      <td>538100</td>\n",
       "      <td>Feel The Snow</td>\n",
       "      <td>0.126936</td>\n",
       "    </tr>\n",
       "    <tr>\n",
       "      <th>19</th>\n",
       "      <td>559910</td>\n",
       "      <td>Terroir</td>\n",
       "      <td>0.126936</td>\n",
       "    </tr>\n",
       "  </tbody>\n",
       "</table>\n",
       "</div>"
      ],
      "text/plain": [
       "         id                                   name     score\n",
       "0    655360                          Aftermath Y2K  0.140033\n",
       "1    655380                                Dig Dog  0.130901\n",
       "2   2097180                                    OxU  0.130765\n",
       "3    786470                    Border closure 边境封闭  0.130421\n",
       "4    655370                           Train Bandit  0.130105\n",
       "5    262190                                Zombeer  0.130078\n",
       "6   1966130  Strategic Command: American Civil War  0.129564\n",
       "7    655420                             Simple RTS  0.129050\n",
       "8    524350                  TileDynasty FPS Arena  0.128879\n",
       "9    655430                             Tiger Hunt  0.128365\n",
       "10   393290                              Motorhead  0.128194\n",
       "11   786510          Oracle of Forgotten Testament  0.128022\n",
       "12  2097230                 Turnip Boy Robs a Bank  0.127851\n",
       "13   655440                          Panzer Killer  0.127509\n",
       "14   862300                                    ROS  0.126936\n",
       "15   663300                          Enlightenment  0.126936\n",
       "16  1081450                      Criminal Dissidia  0.126936\n",
       "17   570980                 Tale of Fallen Dragons  0.126936\n",
       "18   538100                          Feel The Snow  0.126936\n",
       "19   559910                                Terroir  0.126936"
      ]
     },
     "metadata": {},
     "output_type": "display_data"
    }
   ],
   "source": [
    "display(get_game_name_and_scores(data_loader, model.score_and_predict_n_games_for_user(76561198835352289)[:20]))"
   ]
  },
  {
   "cell_type": "code",
   "execution_count": null,
   "metadata": {},
   "outputs": [],
   "source": []
  },
  {
   "cell_type": "code",
   "execution_count": null,
   "metadata": {},
   "outputs": [],
   "source": []
  }
 ],
 "metadata": {
  "kernelspec": {
   "display_name": "Python 3",
   "language": "python",
   "name": "python3"
  },
  "language_info": {
   "codemirror_mode": {
    "name": "ipython",
    "version": 3
   },
   "file_extension": ".py",
   "mimetype": "text/x-python",
   "name": "python",
   "nbconvert_exporter": "python",
   "pygments_lexer": "ipython3",
   "version": "3.12.2"
  }
 },
 "nbformat": 4,
 "nbformat_minor": 2
}
