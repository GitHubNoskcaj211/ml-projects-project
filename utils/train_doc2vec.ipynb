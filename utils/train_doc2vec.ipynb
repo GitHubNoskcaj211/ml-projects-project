{
 "cells": [
  {
   "cell_type": "code",
   "execution_count": 1,
   "metadata": {},
   "outputs": [
    {
     "name": "stderr",
     "output_type": "stream",
     "text": [
      "C:\\Users\\Jeffrey\\AppData\\Local\\Temp\\ipykernel_17260\\1333719079.py:5: DeprecationWarning: \n",
      "Pyarrow will become a required dependency of pandas in the next major release of pandas (pandas 3.0),\n",
      "(to allow more performant data types, such as the Arrow string type, and better interoperability with other libraries)\n",
      "but was not found to be installed on your system.\n",
      "If this would cause problems for you,\n",
      "please provide us feedback at https://github.com/pandas-dev/pandas/issues/54466\n",
      "        \n",
      "  import pandas as pd\n"
     ]
    }
   ],
   "source": [
    "from pprint import pprint\n",
    "\n",
    "import sys\n",
    "import os\n",
    "import pandas as pd\n",
    "# from dotenv import load_dotenv\n",
    "import csv\n",
    "\n",
    "from gensim.models.doc2vec import Doc2Vec, TaggedDocument\n",
    "from gensim.utils import simple_preprocess\n",
    "import numpy as np"
   ]
  },
  {
   "cell_type": "code",
   "execution_count": 2,
   "metadata": {},
   "outputs": [
    {
     "name": "stdout",
     "output_type": "stream",
     "text": [
      "                 user_id  game_id  playtime_2weeks  playtime_forever\n",
      "0      76561197962641822       10              NaN                 0\n",
      "1      76561197962641822       20              NaN                 0\n",
      "2      76561197962641822       30              NaN                 0\n",
      "3      76561197962641822       40              NaN                 0\n",
      "4      76561197962641822       50              NaN                 0\n",
      "...                  ...      ...              ...               ...\n",
      "33773  76561199615987653      730           3302.0              3985\n",
      "33774  76561199622123452      730           1820.0              1820\n",
      "33775  76561199625697401     3590            976.0               976\n",
      "33776  76561199625697401  1966720            443.0               443\n",
      "33777  76561199625697401  1721470             17.0                17\n",
      "\n",
      "[33778 rows x 4 columns]\n"
     ]
    }
   ],
   "source": [
    "CURRENT_DIR = os.getcwd()\n",
    "\n",
    "DATA_ROOT_DIR = os.path.abspath(os.path.join(CURRENT_DIR, \"..\", \"dataset\", \"data_files\"))\n",
    "USER_GAMES_FILENAME = os.path.join(DATA_ROOT_DIR, \"users_games.csv\")\n",
    "\n",
    "df = pd.read_csv(USER_GAMES_FILENAME)\n",
    "\n",
    "pprint(df)"
   ]
  },
  {
   "cell_type": "code",
   "execution_count": 3,
   "metadata": {},
   "outputs": [],
   "source": [
    "# Creates model from an array of phrases\n",
    "def createDoc2VecModel(phrases):\n",
    "    tagged_phrases = [TaggedDocument(words=simple_preprocess(phrase), tags=[i]) for i, phrase in enumerate(phrases)]\n",
    "\n",
    "    model = Doc2Vec(vector_size=100, window=2, min_count=1, workers=4, epochs=20)\n",
    "    model.build_vocab(tagged_phrases)\n",
    "    model.train(tagged_phrases, total_examples=model.corpus_count, epochs=model.epochs)\n",
    "\n",
    "    return model\n",
    "\n",
    "# Function predicts from a given model and phrase\n",
    "def predict_from_model(model, phrase):\n",
    "    words = simple_preprocess(phrase)\n",
    "    vector = model.infer_vector(words)\n",
    "\n",
    "    return vector\n",
    "\n",
    "\n"
   ]
  },
  {
   "cell_type": "code",
   "execution_count": 4,
   "metadata": {},
   "outputs": [
    {
     "name": "stdout",
     "output_type": "stream",
     "text": [
      "array([-4.2955405e-03, -1.2566516e-03, -1.1358461e-03,  2.8091623e-03,\n",
      "        4.8042769e-03, -3.4050839e-03, -1.5851003e-03, -7.8252732e-04,\n",
      "        1.1932040e-03,  2.6794416e-03,  3.5121440e-05, -3.1282031e-03,\n",
      "        8.9966477e-04, -1.0092604e-03, -6.0295017e-04,  1.1950815e-03,\n",
      "        7.7892182e-04, -1.8898797e-03, -3.9974065e-03, -2.1094640e-03,\n",
      "        3.8106078e-03, -2.0799476e-03, -2.3410097e-03,  3.5194522e-03,\n",
      "        5.1934959e-04,  4.8315711e-03, -2.3233932e-03, -2.2570926e-03,\n",
      "        1.7017705e-03,  1.4264066e-03,  2.4114465e-03,  3.0330783e-03,\n",
      "       -2.3996213e-03, -1.4328749e-04,  2.5727593e-03, -3.3479286e-03,\n",
      "       -3.4885108e-04,  2.9519193e-03, -4.2942776e-03, -2.4941396e-03,\n",
      "        1.4284265e-03, -5.3469482e-04,  2.2629797e-04,  2.0546687e-03,\n",
      "       -2.4133262e-03,  1.7350203e-03,  4.1870181e-03,  3.6002554e-03,\n",
      "       -9.9216367e-04,  3.7687409e-03, -4.3176180e-03,  4.5567439e-03,\n",
      "        4.9991454e-03,  1.6506905e-03,  9.6107903e-04,  1.6420037e-03,\n",
      "       -5.6740700e-04,  3.3765179e-03, -2.6594894e-03,  4.2232471e-03,\n",
      "        2.8581424e-03, -1.8432641e-03,  3.4065486e-04,  2.6738460e-03,\n",
      "       -2.3292312e-03, -3.8847537e-03, -2.8990061e-04,  3.9713143e-04,\n",
      "       -2.6090099e-03, -7.4035884e-04,  2.9977770e-03, -4.4530211e-03,\n",
      "       -1.9338519e-04, -4.1516311e-03, -7.8703283e-04, -1.5357694e-03,\n",
      "        3.4535206e-03, -3.2629329e-03,  3.1452638e-03, -6.1774044e-04,\n",
      "       -1.9111345e-03, -4.4301986e-03, -1.7898813e-03, -8.9879305e-04,\n",
      "        2.6710755e-03, -1.2109980e-03,  4.3252702e-03, -4.0577254e-03,\n",
      "       -3.3308004e-03,  4.1410471e-03,  1.8283933e-03, -4.5973500e-03,\n",
      "       -2.0426926e-03,  2.8036565e-03, -2.2199354e-03,  1.0210276e-04,\n",
      "       -2.3559215e-03, -1.0709250e-03,  6.9038989e-04,  4.5833327e-03],\n",
      "      dtype=float32)\n"
     ]
    }
   ],
   "source": [
    "SAVE_FILE_NAME = \"test1\"\n",
    "\n",
    "\n",
    "# Training Data for now\n",
    "phrases = [\n",
    "    \"This is true\",\n",
    "    \"This is false\",\n",
    "    \"Another phrase here\",\n",
    "    \"Yet another phrase\"\n",
    "]\n",
    "\n",
    "# Test data for now\n",
    "p1 = \"A new phrase\"\n",
    "\n",
    "train_model = createDoc2VecModel(phrases)\n",
    "new_vector = predict_from_model(train_model, p1)\n",
    "\n",
    "pprint(new_vector)\n",
    "\n",
    "train_model.save(f\"{SAVE_FILE_NAME}\")\n"
   ]
  },
  {
   "cell_type": "code",
   "execution_count": null,
   "metadata": {},
   "outputs": [],
   "source": [
    "#### Testing with BERT\n",
    "\n",
    "from transformers import BertTokenizer, BertModel\n",
    "import torch\n",
    "\n",
    "def generate_bert_embeddings(descriptions, model_name='bert-base-uncased'):\n",
    "    \"\"\"\n",
    "    Generate BERT embeddings for a list of game descriptions.\n",
    "\n",
    "    Args:\n",
    "    descriptions (list): List of game descriptions (strings).\n",
    "    model_name (str): Name of the pre-trained BERT model to use.\n",
    "\n",
    "    Returns:\n",
    "    embeddings (list): List of BERT embeddings for each description.\n",
    "    \"\"\"\n",
    "\n",
    "    tokenizer = BertTokenizer.from_pretrained(model_name)\n",
    "    model = BertModel.from_pretrained(model_name)\n",
    "\n",
    "    embeddings = []\n",
    "    for description in descriptions:\n",
    "        tokens = tokenizer.tokenize(description)\n",
    "        input_ids = tokenizer.convert_tokens_to_ids(tokens)\n",
    "        input_tensor = torch.tensor([input_ids])\n",
    "\n",
    "        with torch.no_grad():\n",
    "            outputs = model(input_tensor)\n",
    "            embeddings.append(outputs[0][:, 0, :].numpy())\n",
    "\n",
    "    return embeddings\n",
    "\n",
    "\n",
    "game_descriptions = [\n",
    "    \"At its core, Minecraft is a game where players place blocks and go on adventures. This includes anything from crafting simple items like containers or weapons, to building structures like houses, castles, and cities, or even making complex mechanical devices, all within the game's world.\",\n",
    "    \"Terraria is a 2D sandbox game with gameplay that revolves around exploration, building, crafting, combat, survival, and mining, playable in both single-player and multiplayer modes. The game has a 2D sprite tile-based graphical style reminiscent of the 16-bit sprites found on the Super NES.\",\n",
    "    \"At its core, Roblox is a gaming platform that allows you to play dozens of user-created games or create games through Roblox Studio. From role-playing games to rhythm titles and shooters, the platform is a toy box of experiences for all ages.\",\n",
    "    \"League of Legends is a team-based strategy game where two teams of five powerful champions face off to destroy the other's base. Choose from over 140 champions to make epic plays, secure kills, and take down towers as you battle your way to victory.\",\n",
    "]\n",
    "\n",
    "embeddings = generate_bert_embeddings(game_descriptions)\n",
    "\n",
    "for i in range(len(game_descriptions)):\n",
    "    print(embeddings[i])\n"
   ]
  }
 ],
 "metadata": {
  "kernelspec": {
   "display_name": "Python 3",
   "language": "python",
   "name": "python3"
  },
  "language_info": {
   "codemirror_mode": {
    "name": "ipython",
    "version": 3
   },
   "file_extension": ".py",
   "mimetype": "text/x-python",
   "name": "python",
   "nbconvert_exporter": "python",
   "pygments_lexer": "ipython3",
   "version": "3.12.2"
  }
 },
 "nbformat": 4,
 "nbformat_minor": 2
}
