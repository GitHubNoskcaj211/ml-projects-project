{
 "cells": [
  {
   "cell_type": "code",
   "execution_count": 1,
   "metadata": {},
   "outputs": [
    {
     "name": "stderr",
     "output_type": "stream",
     "text": [
      "C:\\Users\\Jeffrey\\AppData\\Local\\Temp\\ipykernel_23768\\1333719079.py:5: DeprecationWarning: \n",
      "Pyarrow will become a required dependency of pandas in the next major release of pandas (pandas 3.0),\n",
      "(to allow more performant data types, such as the Arrow string type, and better interoperability with other libraries)\n",
      "but was not found to be installed on your system.\n",
      "If this would cause problems for you,\n",
      "please provide us feedback at https://github.com/pandas-dev/pandas/issues/54466\n",
      "        \n",
      "  import pandas as pd\n"
     ]
    }
   ],
   "source": [
    "from pprint import pprint\n",
    "\n",
    "import sys\n",
    "import os\n",
    "import pandas as pd\n",
    "# from dotenv import load_dotenv\n",
    "import csv\n",
    "\n",
    "from gensim.models.doc2vec import Doc2Vec, TaggedDocument\n",
    "from gensim.utils import simple_preprocess\n",
    "import numpy as np"
   ]
  },
  {
   "cell_type": "code",
   "execution_count": 2,
   "metadata": {},
   "outputs": [
    {
     "name": "stdout",
     "output_type": "stream",
     "text": [
      "                 user_id  game_id  playtime_2weeks  playtime_forever\n",
      "0      76561197962641822       10              NaN                 0\n",
      "1      76561197962641822       20              NaN                 0\n",
      "2      76561197962641822       30              NaN                 0\n",
      "3      76561197962641822       40              NaN                 0\n",
      "4      76561197962641822       50              NaN                 0\n",
      "...                  ...      ...              ...               ...\n",
      "33773  76561199615987653      730           3302.0              3985\n",
      "33774  76561199622123452      730           1820.0              1820\n",
      "33775  76561199625697401     3590            976.0               976\n",
      "33776  76561199625697401  1966720            443.0               443\n",
      "33777  76561199625697401  1721470             17.0                17\n",
      "\n",
      "[33778 rows x 4 columns]\n"
     ]
    }
   ],
   "source": [
    "CURRENT_DIR = os.getcwd()\n",
    "\n",
    "DATA_ROOT_DIR = os.path.abspath(os.path.join(CURRENT_DIR, \"..\", \"dataset\", \"data_files\"))\n",
    "USER_GAMES_FILENAME = os.path.join(DATA_ROOT_DIR, \"users_games.csv\")\n",
    "\n",
    "df = pd.read_csv(USER_GAMES_FILENAME)\n",
    "\n",
    "pprint(df)"
   ]
  },
  {
   "cell_type": "code",
   "execution_count": 3,
   "metadata": {},
   "outputs": [],
   "source": [
    "# Creates model from an array of phrases\n",
    "def createDoc2VecModel(phrases):\n",
    "    tagged_phrases = [TaggedDocument(words=simple_preprocess(phrase), tags=[i]) for i, phrase in enumerate(phrases)]\n",
    "\n",
    "    model = Doc2Vec(vector_size=100, window=2, min_count=1, workers=4, epochs=20)\n",
    "    model.build_vocab(tagged_phrases)\n",
    "    model.train(tagged_phrases, total_examples=model.corpus_count, epochs=model.epochs)\n",
    "\n",
    "    return model\n",
    "\n",
    "# Function predicts from a given model and phrase\n",
    "def predict_from_model(model, phrase):\n",
    "    words = simple_preprocess(phrase)\n",
    "    vector = model.infer_vector(words)\n",
    "\n",
    "    return vector\n",
    "\n",
    "\n"
   ]
  },
  {
   "cell_type": "code",
   "execution_count": 4,
   "metadata": {},
   "outputs": [
    {
     "name": "stdout",
     "output_type": "stream",
     "text": [
      "array([ 0.00485734, -0.00276227,  0.00498454,  0.00025802,  0.00332456,\n",
      "       -0.00172008, -0.0021381 ,  0.00274478, -0.00174672,  0.00336556,\n",
      "       -0.00438887,  0.00419236,  0.00482308, -0.00175918,  0.00133059,\n",
      "        0.00474097, -0.0022495 ,  0.00147214,  0.00199189,  0.00015044,\n",
      "        0.0033116 ,  0.00395688,  0.00381812,  0.00034643,  0.00067904,\n",
      "        0.00108616,  0.00221621, -0.00384008, -0.00126196,  0.00259026,\n",
      "        0.00176151,  0.00396385,  0.00065929,  0.00430007, -0.00439349,\n",
      "        0.00493642, -0.00476743,  0.00494333, -0.00451056, -0.00335615,\n",
      "        0.00035468, -0.00031224, -0.00268762,  0.0002627 , -0.0037834 ,\n",
      "       -0.00415431,  0.00373667,  0.00452212, -0.00054107,  0.0046086 ,\n",
      "       -0.00383992,  0.00401965, -0.00036801,  0.00261782,  0.00476794,\n",
      "        0.00324471, -0.00162591, -0.00021468, -0.00403976,  0.00124021,\n",
      "        0.00096194,  0.0025501 ,  0.00191706, -0.00063637,  0.00108182,\n",
      "       -0.00289187,  0.00209754,  0.00312685, -0.00400469, -0.00026449,\n",
      "       -0.00346346,  0.00016685,  0.00333302, -0.00418848,  0.00233177,\n",
      "        0.00434234,  0.0037179 , -0.003319  , -0.00404008,  0.00479342,\n",
      "        0.00460877,  0.00274398, -0.00407627, -0.00229243,  0.00221921,\n",
      "       -0.00354917, -0.00289195,  0.00261747,  0.00451469,  0.00313561,\n",
      "       -0.00358667,  0.00476435,  0.00461811,  0.00431521,  0.00423927,\n",
      "       -0.00349317, -0.00390058,  0.00139205, -0.00319264, -0.00229135],\n",
      "      dtype=float32)\n"
     ]
    }
   ],
   "source": [
    "SAVE_FILE_NAME = \"test1\"\n",
    "\n",
    "\n",
    "# Training Data for now\n",
    "phrases = [\n",
    "    \"This is true\",\n",
    "    \"This is false\",\n",
    "    \"Another phrase here\",\n",
    "    \"Yet another phrase\"\n",
    "]\n",
    "\n",
    "# Test data for now\n",
    "p1 = \"A new phrase\"\n",
    "\n",
    "train_model = createDoc2VecModel(phrases)\n",
    "new_vector = predict_from_model(train_model, p1)\n",
    "\n",
    "pprint(new_vector)\n",
    "\n",
    "train_model.save(f\"{SAVE_FILE_NAME}\")\n"
   ]
  },
  {
   "cell_type": "code",
   "execution_count": 28,
   "metadata": {},
   "outputs": [
    {
     "name": "stdout",
     "output_type": "stream",
     "text": [
      "(1, 768) \n",
      "\n",
      "(1, 768) \n",
      "\n",
      "(1, 768) \n",
      "\n",
      "(1, 768) \n",
      "\n",
      "(1, 768) \n",
      "\n"
     ]
    }
   ],
   "source": [
    "#### Testing with BERT\n",
    "\n",
    "from transformers import BertTokenizer, BertModel\n",
    "import torch\n",
    "\n",
    "def generate_bert_embeddings(descriptions, model_name='bert-base-uncased'):\n",
    "    \"\"\"\n",
    "    Generate BERT embeddings for a list of game descriptions.\n",
    "\n",
    "    Args:\n",
    "    descriptions (list): List of game descriptions (strings).\n",
    "    model_name (str): Name of the pre-trained BERT model to use.\n",
    "\n",
    "    Returns:\n",
    "    embeddings (list): List of BERT embeddings for each description.\n",
    "    \"\"\"\n",
    "\n",
    "    tokenizer = BertTokenizer.from_pretrained(model_name)\n",
    "    model = BertModel.from_pretrained(model_name)\n",
    "\n",
    "    embeddings = []\n",
    "    for description in descriptions:\n",
    "        tokens = tokenizer.tokenize(description)\n",
    "        input_ids = tokenizer.convert_tokens_to_ids(tokens)\n",
    "        input_tensor = torch.tensor([input_ids])        # Pytorch tensor dtype\n",
    "\n",
    "        with torch.no_grad():\n",
    "            outputs = model(input_tensor)\n",
    "            embeddings.append(outputs[0][:, 0, :].numpy())\n",
    "            print(outputs[0][:, 0, :].numpy().shape, \"\\n\")\n",
    "\n",
    "    return embeddings\n",
    "\n",
    "\n",
    "\n",
    "\n",
    "\n",
    "game_descriptions = [\n",
    "    \"At its core, Minecraft is a game where players place blocks and go on adventures. This includes anything from crafting simple items like containers or weapons, to building structures like houses, castles, and cities, or even making complex mechanical devices, all within the game's world.\",\n",
    "    \"Terraria is a 2D sandbox game with gameplay that revolves around exploration, building, crafting, combat, survival, and mining, playable in both single-player and multiplayer modes. The game has a 2D sprite tile-based graphical style reminiscent of the 16-bit sprites found on the Super NES.\",\n",
    "    \"At its core, Roblox is a gaming platform that allows you to play dozens of user-created games or create games through Roblox Studio. From role-playing games to rhythm titles and shooters, the platform is a toy box of experiences for all ages.\",\n",
    "    \"League of Legends is a team-based strategy game where two teams of five powerful champions face off to destroy the other's base. Choose from over 140 champions to make epic plays, secure kills, and take down towers as you battle your way to victory.\",\n",
    "    '''\n",
    "Minecraft is a game made up of blocks, creatures, and community. You can survive the night or build a work of art – the choice is all yours. But if the thought of exploring a vast new world all on your own feels overwhelming, then fear not! Let’s explore what Minecraft is all about!\n",
    "\n",
    "WHAT IS THE GOAL OF MINECRAFT?\n",
    "Minecraft has no set goal and can be played however you’d like! This is why it’s sometimes called a “sandbox game” – there are lots of things for you to do, and lots of ways that you can play. If you like being creative, then you can use the blocks to build things from your imagination. If you’re feeling brave, you can explore the world and face daring challenges. Blocks can be broken, crafted, placed to reshape the landscape, or used to build fantastical creations. \n",
    "\n",
    "Creatures can be battled or befriended, depending on how you play. The world of Minecraft allows for epic adventures, quiet meditations, and everything in between. You can even share your creations with other players, or play in community worlds!\n",
    "\n",
    "Learn more about crafting, one of Minecraft’s basic features, in this guide. '''\n",
    "]\n",
    "\n",
    "embeddings = generate_bert_embeddings(game_descriptions)\n",
    "\n",
    "# for i in range(len(game_descriptions)):\n",
    "#     print(embeddings[i], '\\n')\n"
   ]
  },
  {
   "cell_type": "code",
   "execution_count": null,
   "metadata": {},
   "outputs": [],
   "source": []
  }
 ],
 "metadata": {
  "kernelspec": {
   "display_name": "Python 3",
   "language": "python",
   "name": "python3"
  },
  "language_info": {
   "codemirror_mode": {
    "name": "ipython",
    "version": 3
   },
   "file_extension": ".py",
   "mimetype": "text/x-python",
   "name": "python",
   "nbconvert_exporter": "python",
   "pygments_lexer": "ipython3",
   "version": "3.12.2"
  }
 },
 "nbformat": 4,
 "nbformat_minor": 2
}
